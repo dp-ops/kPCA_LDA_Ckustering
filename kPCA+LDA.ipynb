{
 "cells": [
  {
   "cell_type": "markdown",
   "metadata": {},
   "source": [
    "# Mnist"
   ]
  },
  {
   "cell_type": "markdown",
   "metadata": {},
   "source": [
    "### load data and test accuracy of nearest neighbor and kmeans"
   ]
  },
  {
   "cell_type": "code",
   "execution_count": 1,
   "metadata": {},
   "outputs": [],
   "source": [
    "def normal(X_mini):\n",
    "    #dedomeno oti einai gray scale eikones, max(xi)=255, min(xi)=0\n",
    "    X_norm = 2*(X_mini/255) - 1\n",
    "    return X_norm"
   ]
  },
  {
   "cell_type": "code",
   "execution_count": 2,
   "metadata": {},
   "outputs": [
    {
     "name": "stdout",
     "output_type": "stream",
     "text": [
      "torch.Size([6000, 784]) torch.Size([6000])\n",
      "torch.Size([1000, 784]) torch.Size([1000])\n"
     ]
    }
   ],
   "source": [
    "import scipy.io\n",
    "import numpy as np\n",
    "import torch\n",
    "\n",
    "mat_data = scipy.io.loadmat(\"C:\\\\Users\\\\dimos\\\\PyProjecks\\\\Project_SVMs\\\\mnist_all.mat\")\n",
    "\n",
    "def load_data_mini(mat_data, key_prefix, L):\n",
    "    data = []\n",
    "    labels = []\n",
    "    for i in range(10):\n",
    "        digit_data = mat_data[f'{key_prefix}{i}']\n",
    "        num_samples = min(L, digit_data.shape[0])\n",
    "        sampled_data = digit_data[:num_samples]\n",
    "        sampled_labels = np.full(num_samples, i)\n",
    "        data.append(sampled_data)\n",
    "        labels.append(sampled_labels)\n",
    "    return np.vstack(data), np.hstack(labels)\n",
    "\n",
    "X_mini, y_mini = load_data_mini(mat_data, 'train', 600)\n",
    "X_test, y_test = load_data_mini(mat_data, 'test', 100)\n",
    "X_mini = normal(X_mini)\n",
    "X_test = normal(X_test)\n",
    "X_m_t = torch.tensor(X_mini)\n",
    "y_m_t = torch.tensor(y_mini)\n",
    "X_test_t = torch.tensor(X_test)\n",
    "y_test_t = torch.tensor(y_test)\n",
    "y_m_t = y_m_t.to(torch.int32)\n",
    "y_test_t = y_test_t.to(torch.int32)\n",
    "print(X_m_t.shape, y_m_t.shape)\n",
    "print(X_test_t.shape, y_test_t.shape)"
   ]
  },
  {
   "cell_type": "markdown",
   "metadata": {},
   "source": [
    "Nearest Neighbor"
   ]
  },
  {
   "cell_type": "code",
   "execution_count": 3,
   "metadata": {},
   "outputs": [
    {
     "name": "stdout",
     "output_type": "stream",
     "text": [
      "Accuracy: 77.00%\n"
     ]
    }
   ],
   "source": [
    "from sklearn.metrics import accuracy_score\n",
    "from utils_ import _models\n",
    "\n",
    "NC = _models.NearestCentroid()\n",
    "NC.fit(X_m_t, y_m_t)\n",
    "# Predict the labels for the test set \n",
    "y_pred = NC.predict(X_test_t)\n",
    "accuracy = accuracy_score(y_test_t.numpy(), y_pred.numpy()) \n",
    "print(f\"Accuracy: {accuracy * 100:.2f}%\")"
   ]
  },
  {
   "cell_type": "markdown",
   "metadata": {},
   "source": [
    "Kmeans"
   ]
  },
  {
   "cell_type": "code",
   "execution_count": 4,
   "metadata": {},
   "outputs": [
    {
     "name": "stdout",
     "output_type": "stream",
     "text": [
      "The best accuracy is 91.70% with n_neighbors = 5\n"
     ]
    }
   ],
   "source": [
    "from sklearn.neighbors import KNeighborsClassifier as KNN\n",
    "\n",
    "acc_KNN = []\n",
    "\n",
    "for k in range(1,30):\n",
    "    knn = KNN(n_neighbors=k, n_jobs=-1)\n",
    "\n",
    "    knn.fit(X_mini, y_mini)\n",
    "    score = knn.score(X_test, y_test)\n",
    "\n",
    "    acc_KNN.append(score)\n",
    "\n",
    "best_acc = max(acc_KNN)\n",
    "best_k = acc_KNN.index(best_acc)\n",
    "best_k_value = range(1,30)[best_k]\n",
    "\n",
    "print(f'The best accuracy is {best_acc*100:.2f}% with n_neighbors = {best_k_value}')"
   ]
  },
  {
   "cell_type": "markdown",
   "metadata": {},
   "source": [
    "### kernel PCA"
   ]
  },
  {
   "cell_type": "markdown",
   "metadata": {},
   "source": [
    "### linear"
   ]
  },
  {
   "cell_type": "code",
   "execution_count": 6,
   "metadata": {},
   "outputs": [
    {
     "name": "stdout",
     "output_type": "stream",
     "text": [
      " \n",
      " ---- STARTING custom KPCA ---- \n"
     ]
    },
    {
     "name": "stderr",
     "output_type": "stream",
     "text": [
      "c:\\Users\\dimos\\PyProjecks\\KPCA_LDA_v2\\utils_\\_kPCA.py:122: RuntimeWarning: Negative or near-zero eigenvalues encountered and removed: tensor([-1.9437e-01, -1.2911e-02, -1.2530e-02,  ..., -5.4617e-06,\n",
      "        -3.0066e-06, -1.2677e-06])\n",
      "  warnings.warn(\n"
     ]
    },
    {
     "name": "stdout",
     "output_type": "stream",
     "text": [
      "The shape of train after xkpca  torch.Size([6000, 784])\n",
      "The shape of test after xkpca  torch.Size([1000, 784])\n",
      "---- KPCA took  20330  ms----\n"
     ]
    }
   ],
   "source": [
    "from utils_ import _kPCA\n",
    "import time \n",
    "\n",
    "startKpca = int(round(time.time() * 1000))\n",
    "\n",
    "print(\" \")\n",
    "print(\" ---- STARTING custom KPCA ---- \")\n",
    "\n",
    "kpca = _kPCA.KPCA(n_components=784, kernel_type='linear')#, gamma=a\n",
    "kpca.fit(X_m_t)\n",
    "X_kpca = kpca.transform(X_m_t)\n",
    "X_test_kpca = kpca.transform(X_test_t)\n",
    "\n",
    "print(\"The shape of train after xkpca \", X_kpca.shape )\n",
    "print(\"The shape of test after xkpca \", X_test_kpca.shape )\n",
    "\n",
    "# stop the kpca timer\n",
    "endKpca = int(round(time.time() * 1000))\n",
    "\n",
    "print(\"---- KPCA took \", (endKpca-startKpca), \" ms----\")"
   ]
  },
  {
   "cell_type": "code",
   "execution_count": 7,
   "metadata": {},
   "outputs": [],
   "source": [
    "explained_variance = kpca.explained_var  \n",
    "explained_variance_ratio = explained_variance / torch.sum(explained_variance)"
   ]
  },
  {
   "cell_type": "code",
   "execution_count": 8,
   "metadata": {},
   "outputs": [
    {
     "data": {
      "image/png": "[encoded data removed]",
      "text/plain": [
       "<Figure size 640x480 with 1 Axes>"
      ]
     },
     "metadata": {},
     "output_type": "display_data"
    },
    {
     "data": {
      "text/plain": [
       "None"
      ]
     },
     "metadata": {},
     "output_type": "display_data"
    }
   ],
   "source": [
    "import seaborn as sns\n",
    "import matplotlib.pyplot as plt\n",
    "\n",
    "sns.set_theme(style='whitegrid')\n",
    "plt.plot(np.cumsum(explained_variance_ratio.numpy()))\n",
    "plt.title('Kernel: Linear', fontsize=16)\n",
    "plt.xlabel('num of components')\n",
    "plt.ylabel('cumulative explained variance')\n",
    "display(plt.show())"
   ]
  },
  {
   "cell_type": "code",
   "execution_count": 10,
   "metadata": {},
   "outputs": [
    {
     "data": {
      "text/html": [
       "<div>\n",
       "<style scoped>\n",
       "    .dataframe tbody tr th:only-of-type {\n",
       "        vertical-align: middle;\n",
       "    }\n",
       "\n",
       "    .dataframe tbody tr th {\n",
       "        vertical-align: top;\n",
       "    }\n",
       "\n",
       "    .dataframe thead th {\n",
       "        text-align: right;\n",
       "    }\n",
       "</style>\n",
       "<table border=\"1\" class=\"dataframe\">\n",
       "  <thead>\n",
       "    <tr style=\"text-align: right;\">\n",
       "      <th></th>\n",
       "      <th>cumsum_explained_var</th>\n",
       "      <th>explainde_var_ratio</th>\n",
       "    </tr>\n",
       "  </thead>\n",
       "  <tbody>\n",
       "    <tr>\n",
       "      <th>0</th>\n",
       "      <td>0.098449</td>\n",
       "      <td>0.098449</td>\n",
       "    </tr>\n",
       "    <tr>\n",
       "      <th>1</th>\n",
       "      <td>0.169712</td>\n",
       "      <td>0.071263</td>\n",
       "    </tr>\n",
       "    <tr>\n",
       "      <th>2</th>\n",
       "      <td>0.232559</td>\n",
       "      <td>0.062847</td>\n",
       "    </tr>\n",
       "    <tr>\n",
       "      <th>3</th>\n",
       "      <td>0.287591</td>\n",
       "      <td>0.055032</td>\n",
       "    </tr>\n",
       "    <tr>\n",
       "      <th>4</th>\n",
       "      <td>0.335831</td>\n",
       "      <td>0.048240</td>\n",
       "    </tr>\n",
       "    <tr>\n",
       "      <th>...</th>\n",
       "      <td>...</td>\n",
       "      <td>...</td>\n",
       "    </tr>\n",
       "    <tr>\n",
       "      <th>144</th>\n",
       "      <td>0.948346</td>\n",
       "      <td>0.000491</td>\n",
       "    </tr>\n",
       "    <tr>\n",
       "      <th>145</th>\n",
       "      <td>0.948832</td>\n",
       "      <td>0.000486</td>\n",
       "    </tr>\n",
       "    <tr>\n",
       "      <th>146</th>\n",
       "      <td>0.949298</td>\n",
       "      <td>0.000466</td>\n",
       "    </tr>\n",
       "    <tr>\n",
       "      <th>147</th>\n",
       "      <td>0.949761</td>\n",
       "      <td>0.000463</td>\n",
       "    </tr>\n",
       "    <tr>\n",
       "      <th>148</th>\n",
       "      <td>0.950218</td>\n",
       "      <td>0.000457</td>\n",
       "    </tr>\n",
       "  </tbody>\n",
       "</table>\n",
       "<p>149 rows × 2 columns</p>\n",
       "</div>"
      ],
      "text/plain": [
       "     cumsum_explained_var  explainde_var_ratio\n",
       "0                0.098449             0.098449\n",
       "1                0.169712             0.071263\n",
       "2                0.232559             0.062847\n",
       "3                0.287591             0.055032\n",
       "4                0.335831             0.048240\n",
       "..                    ...                  ...\n",
       "144              0.948346             0.000491\n",
       "145              0.948832             0.000486\n",
       "146              0.949298             0.000466\n",
       "147              0.949761             0.000463\n",
       "148              0.950218             0.000457\n",
       "\n",
       "[149 rows x 2 columns]"
      ]
     },
     "metadata": {},
     "output_type": "display_data"
    }
   ],
   "source": [
    "import pandas as pd\n",
    "\n",
    "evr = explained_variance_ratio.numpy()\n",
    "crv = np.cumsum(explained_variance_ratio.numpy())\n",
    "kpca_df  = pd.DataFrame()\n",
    "kpca_df['cumsum_explained_var'] = crv\n",
    "kpca_df['explainde_var_ratio'] = evr\n",
    "display(kpca_df.head(149))"
   ]
  },
  {
   "cell_type": "markdown",
   "metadata": {},
   "source": [
    "n_componenets = 149, διατήρηση πληροφορίας μεγαλύτερη του 95%"
   ]
  },
  {
   "cell_type": "code",
   "execution_count": 11,
   "metadata": {},
   "outputs": [
    {
     "name": "stdout",
     "output_type": "stream",
     "text": [
      "Indexes where cumsum_explained_var > 0.99: [322, 323, 324, 325, 326, 327, 328, 329, 330, 331, 332, 333, 334, 335, 336, 337, 338, 339, 340, 341, 342, 343, 344, 345, 346, 347, 348, 349, 350, 351, 352, 353, 354, 355, 356, 357, 358, 359, 360, 361, 362, 363, 364, 365, 366, 367, 368, 369, 370, 371, 372, 373, 374, 375, 376, 377, 378, 379, 380, 381, 382, 383, 384, 385, 386, 387, 388, 389, 390, 391, 392, 393, 394, 395, 396, 397, 398, 399, 400, 401, 402, 403, 404, 405, 406, 407, 408, 409, 410, 411, 412, 413, 414, 415, 416, 417, 418, 419, 420, 421, 422, 423, 424, 425, 426, 427, 428, 429, 430, 431, 432, 433, 434, 435, 436, 437, 438, 439, 440, 441, 442, 443, 444, 445, 446, 447, 448, 449, 450, 451, 452, 453, 454, 455, 456, 457, 458, 459, 460, 461, 462, 463, 464, 465, 466, 467, 468, 469, 470, 471, 472, 473, 474, 475, 476, 477, 478, 479, 480, 481, 482, 483, 484, 485, 486, 487, 488, 489, 490, 491, 492, 493, 494, 495, 496, 497, 498, 499, 500, 501, 502, 503, 504, 505, 506, 507, 508, 509, 510, 511, 512, 513, 514, 515, 516, 517, 518, 519, 520, 521, 522, 523, 524, 525, 526, 527, 528, 529, 530, 531, 532, 533, 534, 535, 536, 537, 538, 539, 540, 541, 542, 543, 544, 545, 546, 547, 548, 549, 550, 551, 552, 553, 554, 555, 556, 557, 558, 559, 560, 561, 562, 563, 564, 565, 566, 567, 568, 569, 570, 571, 572, 573, 574, 575, 576, 577, 578, 579, 580, 581, 582, 583, 584, 585, 586, 587, 588, 589, 590, 591, 592, 593, 594, 595, 596, 597, 598, 599, 600, 601, 602, 603, 604, 605, 606, 607, 608, 609, 610, 611, 612, 613, 614, 615, 616, 617, 618, 619, 620, 621, 622, 623, 624, 625, 626, 627, 628, 629, 630, 631, 632, 633, 634, 635, 636, 637, 638, 639, 640, 641, 642, 643, 644, 645, 646, 647, 648, 649, 650, 651, 652, 653, 654, 655, 656, 657, 658, 659, 660, 661, 662, 663, 664, 665, 666, 667, 668, 669, 670, 671, 672, 673, 674, 675, 676, 677, 678, 679, 680, 681, 682, 683, 684, 685, 686, 687, 688, 689, 690, 691, 692, 693, 694, 695, 696, 697, 698, 699, 700, 701, 702, 703, 704, 705, 706, 707, 708, 709, 710, 711, 712, 713, 714, 715, 716, 717, 718, 719, 720, 721, 722, 723, 724, 725, 726, 727, 728, 729, 730, 731, 732, 733, 734, 735, 736, 737, 738, 739, 740, 741, 742, 743, 744, 745, 746, 747, 748, 749, 750, 751, 752, 753, 754, 755, 756, 757, 758, 759, 760, 761, 762, 763, 764, 765, 766, 767, 768, 769, 770, 771, 772, 773, 774, 775, 776, 777, 778, 779, 780, 781, 782, 783]\n"
     ]
    }
   ],
   "source": [
    "# Get the indexes where cumsum_explained_var > 0.99\n",
    "indexes = kpca_df[kpca_df['cumsum_explained_var'] > 0.99].index.tolist()\n",
    "\n",
    "print(\"Indexes where cumsum_explained_var > 0.99:\", indexes)"
   ]
  },
  {
   "cell_type": "markdown",
   "metadata": {},
   "source": [
    "n_componenets = 322, διατήρηση πληροφορίας μεγαλύτερη του 99%"
   ]
  },
  {
   "cell_type": "markdown",
   "metadata": {},
   "source": [
    "NC and kmean for 95% information preservation"
   ]
  },
  {
   "cell_type": "code",
   "execution_count": 23,
   "metadata": {},
   "outputs": [
    {
     "name": "stdout",
     "output_type": "stream",
     "text": [
      " \n",
      " ---- STARTING custom KPCA ---- \n"
     ]
    },
    {
     "name": "stderr",
     "output_type": "stream",
     "text": [
      "c:\\Users\\dimos\\PyProjecks\\KPCA_LDA_v2\\utils_\\_kPCA2.py:133: RuntimeWarning: Negative or near-zero eigenvalues encountered and removed: tensor([-1.9437e-01, -1.2911e-02, -1.2530e-02,  ..., -5.4617e-06,\n",
      "        -3.0066e-06, -1.2677e-06])\n",
      "  warnings.warn(\n"
     ]
    },
    {
     "name": "stdout",
     "output_type": "stream",
     "text": [
      "The shape of train after xkpca  torch.Size([6000, 148])\n",
      "The shape of test after xkpca  torch.Size([1000, 148])\n",
      "---- KPCA took  17457  ms----\n"
     ]
    }
   ],
   "source": [
    "from utils_ import _kPCA\n",
    "import time \n",
    "\n",
    "startKpca = int(round(time.time() * 1000))\n",
    "\n",
    "print(\" \")\n",
    "print(\" ---- STARTING custom KPCA ---- \")\n",
    "\n",
    "kpca = _kPCA.KPCA(n_components=148, kernel_type='linear')\n",
    "kpca.fit(X_m_t)\n",
    "X_kpca = kpca.transform(X_m_t)\n",
    "X_test_kpca = kpca.transform(X_test_t)\n",
    "\n",
    "print(\"The shape of train after xkpca \", X_kpca.shape )\n",
    "print(\"The shape of test after xkpca \", X_test_kpca.shape )\n",
    "\n",
    "# stop the kpca timer\n",
    "endKpca = int(round(time.time() * 1000))\n",
    "\n",
    "print(\"---- KPCA took \", (endKpca-startKpca), \" ms----\")"
   ]
  },
  {
   "cell_type": "code",
   "execution_count": 24,
   "metadata": {},
   "outputs": [
    {
     "name": "stdout",
     "output_type": "stream",
     "text": [
      "Accuracy: 78.30%\n"
     ]
    }
   ],
   "source": [
    "from sklearn.metrics import accuracy_score\n",
    "from utils_ import _models\n",
    "\n",
    "NC = _models.NearestCentroid()\n",
    "NC.fit(X_kpca, y_m_t)\n",
    "# Predict the labels for the test set \n",
    "y_pred = NC.predict(X_test_kpca)\n",
    "accuracy = accuracy_score(y_test_t.numpy(), y_pred.numpy()) \n",
    "print(f\"Accuracy: {accuracy * 100:.2f}%\")"
   ]
  },
  {
   "cell_type": "code",
   "execution_count": 25,
   "metadata": {},
   "outputs": [
    {
     "name": "stdout",
     "output_type": "stream",
     "text": [
      "The best accuracy is 92.00% with n_neighbors = 5\n"
     ]
    }
   ],
   "source": [
    "from sklearn.neighbors import KNeighborsClassifier as KNN\n",
    "\n",
    "acc_KNN = []\n",
    "\n",
    "for k in range(1,30):\n",
    "    knn = KNN(n_neighbors=k, n_jobs=-1)\n",
    "\n",
    "    knn.fit(X_kpca.numpy(), y_mini)\n",
    "    score = knn.score(X_test_kpca.numpy(), y_test)\n",
    "\n",
    "    acc_KNN.append(score)\n",
    "\n",
    "best_acc = max(acc_KNN)\n",
    "best_k = acc_KNN.index(best_acc)\n",
    "best_k_value = range(1,30)[best_k]\n",
    "\n",
    "print(f'The best accuracy is {best_acc*100:.2f}% with n_neighbors = {best_k_value}')"
   ]
  },
  {
   "cell_type": "markdown",
   "metadata": {},
   "source": [
    "NC and kmean for 99% information preservation"
   ]
  },
  {
   "cell_type": "code",
   "execution_count": 15,
   "metadata": {},
   "outputs": [
    {
     "name": "stdout",
     "output_type": "stream",
     "text": [
      " \n",
      " ---- STARTING custom KPCA ---- \n"
     ]
    },
    {
     "name": "stderr",
     "output_type": "stream",
     "text": [
      "c:\\Users\\dimos\\PyProjecks\\KPCA_LDA_v2\\utils_\\_kPCA2.py:133: RuntimeWarning: Negative or near-zero eigenvalues encountered and removed: tensor([-1.9437e-01, -1.2911e-02, -1.2530e-02,  ..., -5.4617e-06,\n",
      "        -3.0066e-06, -1.2677e-06])\n",
      "  warnings.warn(\n"
     ]
    },
    {
     "name": "stdout",
     "output_type": "stream",
     "text": [
      "The shape of train after xkpca  torch.Size([6000, 322])\n",
      "The shape of test after xkpca  torch.Size([1000, 322])\n",
      "---- KPCA took  16879  ms----\n"
     ]
    }
   ],
   "source": [
    "from KPCA_LDA_v2.utils_ import _kPCA\n",
    "import time \n",
    "\n",
    "startKpca = int(round(time.time() * 1000))\n",
    "\n",
    "print(\" \")\n",
    "print(\" ---- STARTING custom KPCA ---- \")\n",
    "\n",
    "kpca = _kPCA.KPCA(n_components=322, kernel_type='linear')#, gamma=a\n",
    "kpca.fit(X_m_t)\n",
    "X_kpca = kpca.transform(X_m_t)\n",
    "X_test_kpca = kpca.transform(X_test_t)\n",
    "\n",
    "print(\"The shape of train after xkpca \", X_kpca.shape )\n",
    "print(\"The shape of test after xkpca \", X_test_kpca.shape )\n",
    "\n",
    "# stop the kpca timer\n",
    "endKpca = int(round(time.time() * 1000))\n",
    "\n",
    "print(\"---- KPCA took \", (endKpca-startKpca), \" ms----\")"
   ]
  },
  {
   "cell_type": "code",
   "execution_count": 16,
   "metadata": {},
   "outputs": [
    {
     "name": "stdout",
     "output_type": "stream",
     "text": [
      "Accuracy: 78.40%\n"
     ]
    }
   ],
   "source": [
    "from sklearn.metrics import accuracy_score\n",
    "from utils_ import _models\n",
    "\n",
    "NC = _models.NearestCentroid()\n",
    "NC.fit(X_kpca, y_m_t)\n",
    "# Predict the labels for the test set \n",
    "y_pred = NC.predict(X_test_kpca)\n",
    "accuracy = accuracy_score(y_test_t.numpy(), y_pred.numpy()) \n",
    "print(f\"Accuracy: {accuracy * 100:.2f}%\")"
   ]
  },
  {
   "cell_type": "code",
   "execution_count": 17,
   "metadata": {},
   "outputs": [
    {
     "name": "stdout",
     "output_type": "stream",
     "text": [
      "The best accuracy is 91.80% with n_neighbors = 6\n"
     ]
    }
   ],
   "source": [
    "from sklearn.neighbors import KNeighborsClassifier as KNN\n",
    "\n",
    "acc_KNN = []\n",
    "\n",
    "for k in range(1,30):\n",
    "    knn = KNN(n_neighbors=k, n_jobs=-1)\n",
    "\n",
    "    knn.fit(X_kpca.numpy(), y_mini)\n",
    "    score = knn.score(X_test_kpca.numpy(), y_test)\n",
    "\n",
    "    acc_KNN.append(score)\n",
    "\n",
    "best_acc = max(acc_KNN)\n",
    "best_k = acc_KNN.index(best_acc)\n",
    "best_k_value = range(1,30)[best_k]\n",
    "\n",
    "print(f'The best accuracy is {best_acc*100:.2f}% with n_neighbors = {best_k_value}')"
   ]
  },
  {
   "cell_type": "markdown",
   "metadata": {},
   "source": [
    "### kPCA+LDA"
   ]
  },
  {
   "cell_type": "markdown",
   "metadata": {},
   "source": [
    "95%"
   ]
  },
  {
   "cell_type": "code",
   "execution_count": 26,
   "metadata": {},
   "outputs": [
    {
     "name": "stderr",
     "output_type": "stream",
     "text": [
      "c:\\Users\\dimos\\PyProjecks\\KPCA_LDA_v2\\utils_\\_lda.py:145: RuntimeWarning: Negative eigenvalues encountered and removed: tensor([-4.5860e+00, -3.4839e+00, -2.8635e+00, -1.8143e+00, -1.3208e+00,\n",
      "        -1.2678e+00, -9.0809e-01, -5.3442e-01, -4.2725e-01, -2.3653e-01,\n",
      "        -1.6156e-01, -1.4425e-01, -1.2582e-01, -1.1199e-01, -1.0667e-01,\n",
      "        -9.3705e-02, -7.7067e-02, -6.2455e-02, -5.9227e-02, -5.6207e-02,\n",
      "        -4.9032e-02, -4.4379e-02, -4.0775e-02, -3.2344e-02, -3.2250e-02,\n",
      "        -2.9478e-02, -2.6883e-02, -2.4792e-02, -2.1905e-02, -1.9140e-02,\n",
      "        -1.8553e-02, -1.7546e-02, -1.4896e-02, -1.4319e-02, -1.2990e-02,\n",
      "        -1.2476e-02, -1.1399e-02, -9.9762e-03, -9.0990e-03, -8.4775e-03,\n",
      "        -8.1028e-03, -7.7825e-03, -7.4834e-03, -7.4269e-03, -6.7489e-03,\n",
      "        -5.9906e-03, -5.3459e-03, -5.2800e-03, -4.9631e-03, -4.7662e-03,\n",
      "        -4.3168e-03, -4.0384e-03, -3.7246e-03, -3.6314e-03, -3.4292e-03,\n",
      "        -3.1222e-03, -2.9636e-03, -2.8979e-03, -2.6575e-03, -2.6133e-03,\n",
      "        -2.5203e-03, -2.5005e-03, -2.3790e-03, -2.2813e-03, -2.2475e-03,\n",
      "        -2.1185e-03, -1.9659e-03, -1.9131e-03, -1.8013e-03, -1.7093e-03,\n",
      "        -1.5824e-03, -1.5192e-03, -1.4517e-03, -1.4245e-03, -1.3948e-03,\n",
      "        -1.3135e-03, -1.2958e-03, -1.2481e-03, -1.1827e-03, -1.1292e-03,\n",
      "        -1.0567e-03, -1.0397e-03, -9.7224e-04, -9.1540e-04, -9.0280e-04,\n",
      "        -8.4104e-04, -7.8073e-04, -7.6908e-04, -7.3278e-04, -7.1016e-04,\n",
      "        -7.0552e-04, -6.9126e-04, -6.0512e-04, -5.9673e-04, -5.8548e-04,\n",
      "        -5.5878e-04, -5.3119e-04, -5.1479e-04, -5.1284e-04, -4.8717e-04,\n",
      "        -4.6723e-04, -4.4002e-04, -4.3290e-04, -4.1971e-04, -3.9966e-04,\n",
      "        -3.6044e-04, -3.5255e-04, -3.4189e-04, -3.1687e-04, -3.1156e-04,\n",
      "        -3.0016e-04, -2.9255e-04, -2.8415e-04, -2.6963e-04, -2.5287e-04,\n",
      "        -2.3184e-04, -2.2475e-04, -2.2037e-04, -2.0760e-04, -2.0569e-04,\n",
      "        -1.8765e-04, -1.8362e-04, -1.6946e-04, -1.6382e-04, -1.5466e-04,\n",
      "        -1.4626e-04, -1.4431e-04, -1.3117e-04, -1.2051e-04, -1.1231e-04,\n",
      "        -1.0243e-04, -9.9130e-05, -9.0569e-05, -8.8586e-05, -7.7224e-05,\n",
      "        -7.3080e-05, -7.2477e-05, -6.2085e-05, -4.9281e-05])\n",
      "  warnings.warn(f\"Negative eigenvalues encountered and removed: {eigenvalues[eigenvalues < 0]}\", RuntimeWarning)\n"
     ]
    },
    {
     "data": {
      "text/plain": [
       "torch.Size([6000, 9])"
      ]
     },
     "execution_count": 26,
     "metadata": {},
     "output_type": "execute_result"
    }
   ],
   "source": [
    "from utils_ import _lda as lda\n",
    "\n",
    "LDA = lda.LDA()\n",
    "LDA.fit(X_kpca, y_m_t)\n",
    "X_lda = LDA.transform(X_kpca)\n",
    "X_test_lda = LDA.transform(X_test_kpca)\n",
    "X_lda.shape"
   ]
  },
  {
   "cell_type": "code",
   "execution_count": 27,
   "metadata": {},
   "outputs": [
    {
     "name": "stdout",
     "output_type": "stream",
     "text": [
      "Accuracy: 82.90%\n"
     ]
    }
   ],
   "source": [
    "from utils_ import _models\n",
    "from sklearn.metrics import accuracy_score\n",
    "\n",
    "NC = _models.NearestCentroid()\n",
    "NC.fit(X_lda, y_m_t)\n",
    "\n",
    "# Predict the labels for the test set \n",
    "y_pred = NC.predict(X_test_lda)\n",
    "accuracy = accuracy_score(y_test, y_pred.numpy()) \n",
    "print(f\"Accuracy: {accuracy * 100:.2f}%\")"
   ]
  },
  {
   "cell_type": "code",
   "execution_count": 28,
   "metadata": {},
   "outputs": [
    {
     "name": "stdout",
     "output_type": "stream",
     "text": [
      "The best accuracy is 89.60% with n_neighbors = 8\n"
     ]
    }
   ],
   "source": [
    "from sklearn.neighbors import KNeighborsClassifier as KNN\n",
    "\n",
    "acc_KNN = []\n",
    "\n",
    "for k in range(1,30):\n",
    "    knn = KNN(n_neighbors=k, n_jobs=-1)\n",
    "\n",
    "    knn.fit(X_lda.numpy(), y_mini)\n",
    "    score = knn.score(X_test_lda.numpy(), y_test)\n",
    "\n",
    "    acc_KNN.append(score)\n",
    "\n",
    "best_acc = max(acc_KNN)\n",
    "best_k = acc_KNN.index(best_acc)\n",
    "best_k_value = range(1,30)[best_k]\n",
    "\n",
    "print(f'The best accuracy is {best_acc*100:.2f}% with n_neighbors = {best_k_value}')"
   ]
  },
  {
   "cell_type": "markdown",
   "metadata": {},
   "source": [
    "99%"
   ]
  },
  {
   "cell_type": "code",
   "execution_count": 20,
   "metadata": {},
   "outputs": [
    {
     "name": "stderr",
     "output_type": "stream",
     "text": [
      "c:\\Users\\dimos\\PyProjecks\\KPCA_LDA_v2\\utils_\\_lda.py:145: RuntimeWarning: Negative eigenvalues encountered and removed: tensor([-9.2379e+00, -6.9966e+00, -5.9057e+00, -3.4418e+00, -3.0500e+00,\n",
      "        -2.8544e+00, -2.0166e+00, -1.3238e+00, -1.0779e+00, -3.8912e-01,\n",
      "        -2.2354e-01, -2.0945e-01, -1.9145e-01, -1.5220e-01, -1.3436e-01,\n",
      "        -1.1987e-01, -1.0080e-01, -9.4583e-02, -8.3653e-02, -7.9018e-02,\n",
      "        -6.8866e-02, -6.8512e-02, -5.6499e-02, -5.1026e-02, -4.6934e-02,\n",
      "        -4.2715e-02, -3.9455e-02, -3.8161e-02, -3.4555e-02, -3.3081e-02,\n",
      "        -3.1507e-02, -2.8482e-02, -2.4823e-02, -2.4504e-02, -2.1368e-02,\n",
      "        -2.1158e-02, -1.8593e-02, -1.7736e-02, -1.5974e-02, -1.5577e-02,\n",
      "        -1.4761e-02, -1.4072e-02, -1.3144e-02, -1.1934e-02, -1.1651e-02,\n",
      "        -1.1021e-02, -1.0225e-02, -9.9048e-03, -9.2378e-03, -8.8619e-03,\n",
      "        -8.1308e-03, -7.8513e-03, -7.4570e-03, -6.9683e-03, -6.8959e-03,\n",
      "        -6.5841e-03, -6.3588e-03, -5.7302e-03, -5.5679e-03, -5.2376e-03,\n",
      "        -5.0634e-03, -4.9944e-03, -4.5644e-03, -4.3023e-03, -4.1480e-03,\n",
      "        -4.0433e-03, -3.8557e-03, -3.6774e-03, -3.4513e-03, -3.2822e-03,\n",
      "        -3.1898e-03, -3.1283e-03, -3.0394e-03, -2.9181e-03, -2.8626e-03,\n",
      "        -2.8051e-03, -2.7046e-03, -2.6793e-03, -2.5851e-03, -2.5212e-03,\n",
      "        -2.4294e-03, -2.3637e-03, -2.3279e-03, -2.1701e-03, -2.1533e-03,\n",
      "        -2.0470e-03, -2.0317e-03, -1.9911e-03, -1.8185e-03, -1.7661e-03,\n",
      "        -1.6844e-03, -1.6146e-03, -1.6041e-03, -1.5716e-03, -1.5388e-03,\n",
      "        -1.5104e-03, -1.4415e-03, -1.3788e-03, -1.3354e-03, -1.3156e-03,\n",
      "        -1.2868e-03, -1.2440e-03, -1.2265e-03, -1.1846e-03, -1.1153e-03,\n",
      "        -1.1139e-03, -1.0363e-03, -1.0225e-03, -9.8951e-04, -9.7570e-04,\n",
      "        -9.7400e-04, -9.1450e-04, -9.0053e-04, -8.8682e-04, -8.5574e-04,\n",
      "        -8.1800e-04, -7.8429e-04, -7.7346e-04, -7.5964e-04, -7.4593e-04,\n",
      "        -7.3455e-04, -7.3281e-04, -7.1151e-04, -6.8970e-04, -6.7277e-04,\n",
      "        -6.4597e-04, -6.3409e-04, -6.2143e-04, -6.0035e-04, -5.9610e-04,\n",
      "        -5.7934e-04, -5.6646e-04, -5.5354e-04, -5.4906e-04, -5.4119e-04,\n",
      "        -5.1981e-04, -5.1115e-04, -5.0310e-04, -4.8577e-04, -4.8028e-04,\n",
      "        -4.6510e-04, -4.6085e-04, -4.4990e-04, -4.3607e-04, -4.0864e-04,\n",
      "        -4.0791e-04, -3.9563e-04, -3.8126e-04, -3.6832e-04, -3.6723e-04,\n",
      "        -3.5521e-04, -3.5226e-04, -3.4213e-04, -3.3373e-04, -3.3190e-04,\n",
      "        -3.2473e-04, -3.1391e-04, -3.1284e-04, -3.1149e-04, -3.0374e-04,\n",
      "        -2.9480e-04, -2.8864e-04, -2.7485e-04, -2.6700e-04, -2.6619e-04,\n",
      "        -2.5583e-04, -2.5388e-04, -2.4214e-04, -2.4063e-04, -2.3815e-04,\n",
      "        -2.3361e-04, -2.3135e-04, -2.2611e-04, -2.2383e-04, -2.2199e-04,\n",
      "        -2.1984e-04, -2.1582e-04, -2.0228e-04, -2.0058e-04, -1.9785e-04,\n",
      "        -1.9057e-04, -1.8966e-04, -1.8663e-04, -1.7921e-04, -1.7750e-04,\n",
      "        -1.7696e-04, -1.7264e-04, -1.6753e-04, -1.5822e-04, -1.5556e-04,\n",
      "        -1.5340e-04, -1.5139e-04, -1.5003e-04, -1.4638e-04, -1.4189e-04,\n",
      "        -1.3625e-04, -1.3567e-04, -1.3163e-04, -1.3005e-04, -1.2915e-04,\n",
      "        -1.2700e-04, -1.2253e-04, -1.2075e-04, -1.1368e-04, -1.1342e-04,\n",
      "        -1.1340e-04, -1.1269e-04, -1.0936e-04, -1.0739e-04, -1.0643e-04,\n",
      "        -1.0493e-04, -9.9376e-05, -9.8383e-05, -9.7212e-05, -9.5819e-05,\n",
      "        -9.5279e-05, -9.3059e-05, -9.1984e-05, -8.7924e-05, -8.7121e-05,\n",
      "        -8.7046e-05, -8.3579e-05, -8.2192e-05, -8.0887e-05, -7.9452e-05,\n",
      "        -7.8222e-05, -7.7549e-05, -7.7423e-05, -7.4573e-05, -7.2821e-05,\n",
      "        -7.2224e-05, -7.0363e-05, -6.9177e-05, -6.6804e-05, -6.5430e-05,\n",
      "        -6.4741e-05, -6.4583e-05, -6.4278e-05, -6.0548e-05, -5.8268e-05,\n",
      "        -5.8034e-05, -5.7290e-05, -5.7002e-05, -5.5548e-05, -5.4890e-05,\n",
      "        -5.3504e-05, -5.2044e-05, -5.1958e-05, -5.0948e-05, -4.9696e-05,\n",
      "        -4.9049e-05, -4.7608e-05, -4.4528e-05, -4.2338e-05, -4.0491e-05,\n",
      "        -4.0186e-05, -3.9719e-05, -3.8277e-05, -3.7981e-05, -3.7812e-05,\n",
      "        -3.6241e-05, -3.6156e-05, -3.5049e-05, -3.4620e-05, -3.4336e-05,\n",
      "        -3.3896e-05, -3.1727e-05, -3.1006e-05, -3.0170e-05, -2.9843e-05,\n",
      "        -2.9683e-05, -2.8840e-05, -2.8477e-05, -2.7712e-05, -2.6467e-05,\n",
      "        -2.5996e-05, -2.5743e-05, -2.4972e-05, -2.4512e-05, -2.3838e-05,\n",
      "        -2.3768e-05, -2.3317e-05, -2.3179e-05, -2.2899e-05, -2.2828e-05,\n",
      "        -2.2817e-05, -2.0316e-05, -1.9403e-05, -1.9026e-05, -1.9023e-05,\n",
      "        -1.8882e-05, -1.8871e-05, -1.8349e-05, -1.6832e-05, -1.5839e-05,\n",
      "        -1.5705e-05, -1.5584e-05, -1.5194e-05, -1.4231e-05, -1.4141e-05,\n",
      "        -1.3719e-05, -1.2120e-05, -1.2020e-05, -1.1941e-05, -1.1881e-05,\n",
      "        -1.1631e-05, -1.1242e-05, -1.0639e-05, -1.0341e-05, -1.0246e-05,\n",
      "        -9.8899e-06, -9.2383e-06, -7.6730e-06])\n",
      "  warnings.warn(f\"Negative eigenvalues encountered and removed: {eigenvalues[eigenvalues < 0]}\", RuntimeWarning)\n"
     ]
    },
    {
     "data": {
      "text/plain": [
       "torch.Size([6000, 9])"
      ]
     },
     "execution_count": 20,
     "metadata": {},
     "output_type": "execute_result"
    }
   ],
   "source": [
    "from utils_ import _lda as lda\n",
    "\n",
    "LDA = lda.LDA()\n",
    "LDA.fit(X_kpca, y_m_t)\n",
    "X_lda = LDA.transform(X_kpca)\n",
    "X_test_lda = LDA.transform(X_test_kpca)\n",
    "X_lda.shape"
   ]
  },
  {
   "cell_type": "code",
   "execution_count": 21,
   "metadata": {},
   "outputs": [
    {
     "name": "stdout",
     "output_type": "stream",
     "text": [
      "Accuracy: 81.70%\n"
     ]
    }
   ],
   "source": [
    "from utils_ import _models\n",
    "from sklearn.metrics import accuracy_score\n",
    "\n",
    "NC = _models.NearestCentroid()\n",
    "NC.fit(X_lda, y_m_t)\n",
    "\n",
    "# Predict the labels for the test set \n",
    "y_pred = NC.predict(X_test_lda)\n",
    "accuracy = accuracy_score(y_test, y_pred.numpy()) \n",
    "print(f\"Accuracy: {accuracy * 100:.2f}%\")"
   ]
  },
  {
   "cell_type": "code",
   "execution_count": 22,
   "metadata": {},
   "outputs": [
    {
     "name": "stdout",
     "output_type": "stream",
     "text": [
      "The best accuracy is 89.40% with n_neighbors = 8\n"
     ]
    }
   ],
   "source": [
    "from sklearn.neighbors import KNeighborsClassifier as KNN\n",
    "\n",
    "acc_KNN = []\n",
    "\n",
    "for k in range(1,30):\n",
    "    knn = KNN(n_neighbors=k, n_jobs=-1)\n",
    "\n",
    "    knn.fit(X_lda.numpy(), y_mini)\n",
    "    score = knn.score(X_test_lda.numpy(), y_test)\n",
    "\n",
    "    acc_KNN.append(score)\n",
    "\n",
    "best_acc = max(acc_KNN)\n",
    "best_k = acc_KNN.index(best_acc)\n",
    "best_k_value = range(1,30)[best_k]\n",
    "\n",
    "print(f'The best accuracy is {best_acc*100:.2f}% with n_neighbors = {best_k_value}')"
   ]
  },
  {
   "cell_type": "markdown",
   "metadata": {},
   "source": [
    "for the 95% looking best params for svc and checking its new scores"
   ]
  },
  {
   "cell_type": "code",
   "execution_count": 39,
   "metadata": {},
   "outputs": [
    {
     "name": "stdout",
     "output_type": "stream",
     "text": [
      "Fitting 5 folds for each of 3 candidates, totalling 15 fits\n",
      "[CV 1/5; 1/3] START C=0.05, kernel=linear.......................................\n",
      "[CV 1/5; 1/3] END ........C=0.05, kernel=linear;, score=0.877 total time=   0.0s\n",
      "[CV 2/5; 1/3] START C=0.05, kernel=linear.......................................\n",
      "[CV 2/5; 1/3] END ........C=0.05, kernel=linear;, score=0.906 total time=   0.0s\n",
      "[CV 3/5; 1/3] START C=0.05, kernel=linear.......................................\n",
      "[CV 3/5; 1/3] END ........C=0.05, kernel=linear;, score=0.900 total time=   0.0s\n",
      "[CV 4/5; 1/3] START C=0.05, kernel=linear.......................................\n",
      "[CV 4/5; 1/3] END ........C=0.05, kernel=linear;, score=0.898 total time=   0.0s\n",
      "[CV 5/5; 1/3] START C=0.05, kernel=linear.......................................\n",
      "[CV 5/5; 1/3] END ........C=0.05, kernel=linear;, score=0.908 total time=   0.0s\n",
      "[CV 1/5; 2/3] START C=0.01, kernel=linear.......................................\n",
      "[CV 1/5; 2/3] END ........C=0.01, kernel=linear;, score=0.882 total time=   0.0s\n",
      "[CV 2/5; 2/3] START C=0.01, kernel=linear.......................................\n",
      "[CV 2/5; 2/3] END ........C=0.01, kernel=linear;, score=0.907 total time=   0.0s\n",
      "[CV 3/5; 2/3] START C=0.01, kernel=linear.......................................\n",
      "[CV 3/5; 2/3] END ........C=0.01, kernel=linear;, score=0.899 total time=   0.0s\n",
      "[CV 4/5; 2/3] START C=0.01, kernel=linear.......................................\n",
      "[CV 4/5; 2/3] END ........C=0.01, kernel=linear;, score=0.895 total time=   0.0s\n",
      "[CV 5/5; 2/3] START C=0.01, kernel=linear.......................................\n",
      "[CV 5/5; 2/3] END ........C=0.01, kernel=linear;, score=0.910 total time=   0.0s\n",
      "[CV 1/5; 3/3] START C=0.005, kernel=linear......................................\n",
      "[CV 1/5; 3/3] END .......C=0.005, kernel=linear;, score=0.882 total time=   0.0s\n",
      "[CV 2/5; 3/3] START C=0.005, kernel=linear......................................\n",
      "[CV 2/5; 3/3] END .......C=0.005, kernel=linear;, score=0.905 total time=   0.0s\n",
      "[CV 3/5; 3/3] START C=0.005, kernel=linear......................................\n",
      "[CV 3/5; 3/3] END .......C=0.005, kernel=linear;, score=0.900 total time=   0.0s\n",
      "[CV 4/5; 3/3] START C=0.005, kernel=linear......................................\n",
      "[CV 4/5; 3/3] END .......C=0.005, kernel=linear;, score=0.896 total time=   0.0s\n",
      "[CV 5/5; 3/3] START C=0.005, kernel=linear......................................\n",
      "[CV 5/5; 3/3] END .......C=0.005, kernel=linear;, score=0.910 total time=   0.0s\n",
      "Durratio: 1.633380651473999\n",
      "{'C': 0.01, 'kernel': 'linear'}\n"
     ]
    }
   ],
   "source": [
    "from sklearn.svm import SVC\n",
    "from sklearn.model_selection import GridSearchCV\n",
    "import time \n",
    "s_time=time.time()\n",
    "param_grid = [{'C':[0.05, 0.01,0.005], 'kernel':['linear']}]\n",
    "grid = GridSearchCV(SVC(), param_grid, verbose=10)\n",
    "grid.fit(X_lda.numpy(), y_mini)\n",
    "y_pred = grid.predict(X_test_lda.numpy())\n",
    "f_time = time.time()\n",
    "print(f'Durratio: {f_time-s_time}')\n",
    "best_params = grid.best_params_\n",
    "print(best_params)"
   ]
  },
  {
   "cell_type": "code",
   "execution_count": 40,
   "metadata": {},
   "outputs": [
    {
     "name": "stdout",
     "output_type": "stream",
     "text": [
      "Fitting 5 folds for each of 20 candidates, totalling 100 fits\n",
      "[CV 1/5; 1/20] START C=0.01, gamma=0.025, kernel=rbf............................\n",
      "[CV 1/5; 1/20] END C=0.01, gamma=0.025, kernel=rbf;, score=0.862 total time=   0.6s\n",
      "[CV 2/5; 1/20] START C=0.01, gamma=0.025, kernel=rbf............................\n",
      "[CV 2/5; 1/20] END C=0.01, gamma=0.025, kernel=rbf;, score=0.882 total time=   0.6s\n",
      "[CV 3/5; 1/20] START C=0.01, gamma=0.025, kernel=rbf............................\n",
      "[CV 3/5; 1/20] END C=0.01, gamma=0.025, kernel=rbf;, score=0.881 total time=   0.6s\n",
      "[CV 4/5; 1/20] START C=0.01, gamma=0.025, kernel=rbf............................\n",
      "[CV 4/5; 1/20] END C=0.01, gamma=0.025, kernel=rbf;, score=0.877 total time=   0.6s\n",
      "[CV 5/5; 1/20] START C=0.01, gamma=0.025, kernel=rbf............................\n",
      "[CV 5/5; 1/20] END C=0.01, gamma=0.025, kernel=rbf;, score=0.891 total time=   0.6s\n",
      "[CV 1/5; 2/20] START C=0.01, gamma=0.05, kernel=rbf.............................\n",
      "[CV 1/5; 2/20] END C=0.01, gamma=0.05, kernel=rbf;, score=0.864 total time=   0.8s\n",
      "[CV 2/5; 2/20] START C=0.01, gamma=0.05, kernel=rbf.............................\n",
      "[CV 2/5; 2/20] END C=0.01, gamma=0.05, kernel=rbf;, score=0.875 total time=   0.8s\n",
      "[CV 3/5; 2/20] START C=0.01, gamma=0.05, kernel=rbf.............................\n",
      "[CV 3/5; 2/20] END C=0.01, gamma=0.05, kernel=rbf;, score=0.868 total time=   0.8s\n",
      "[CV 4/5; 2/20] START C=0.01, gamma=0.05, kernel=rbf.............................\n",
      "[CV 4/5; 2/20] END C=0.01, gamma=0.05, kernel=rbf;, score=0.867 total time=   0.7s\n",
      "[CV 5/5; 2/20] START C=0.01, gamma=0.05, kernel=rbf.............................\n",
      "[CV 5/5; 2/20] END C=0.01, gamma=0.05, kernel=rbf;, score=0.888 total time=   0.8s\n",
      "[CV 1/5; 3/20] START C=0.01, gamma=0.075, kernel=rbf............................\n",
      "[CV 1/5; 3/20] END C=0.01, gamma=0.075, kernel=rbf;, score=0.840 total time=   0.8s\n",
      "[CV 2/5; 3/20] START C=0.01, gamma=0.075, kernel=rbf............................\n",
      "[CV 2/5; 3/20] END C=0.01, gamma=0.075, kernel=rbf;, score=0.847 total time=   0.8s\n",
      "[CV 3/5; 3/20] START C=0.01, gamma=0.075, kernel=rbf............................\n",
      "[CV 3/5; 3/20] END C=0.01, gamma=0.075, kernel=rbf;, score=0.804 total time=   0.8s\n",
      "[CV 4/5; 3/20] START C=0.01, gamma=0.075, kernel=rbf............................\n",
      "[CV 4/5; 3/20] END C=0.01, gamma=0.075, kernel=rbf;, score=0.822 total time=   0.8s\n",
      "[CV 5/5; 3/20] START C=0.01, gamma=0.075, kernel=rbf............................\n",
      "[CV 5/5; 3/20] END C=0.01, gamma=0.075, kernel=rbf;, score=0.853 total time=   0.8s\n",
      "[CV 1/5; 4/20] START C=0.1, gamma=0.025, kernel=rbf.............................\n",
      "[CV 1/5; 4/20] END C=0.1, gamma=0.025, kernel=rbf;, score=0.886 total time=   0.2s\n",
      "[CV 2/5; 4/20] START C=0.1, gamma=0.025, kernel=rbf.............................\n",
      "[CV 2/5; 4/20] END C=0.1, gamma=0.025, kernel=rbf;, score=0.912 total time=   0.2s\n",
      "[CV 3/5; 4/20] START C=0.1, gamma=0.025, kernel=rbf.............................\n",
      "[CV 3/5; 4/20] END C=0.1, gamma=0.025, kernel=rbf;, score=0.907 total time=   0.2s\n",
      "[CV 4/5; 4/20] START C=0.1, gamma=0.025, kernel=rbf.............................\n",
      "[CV 4/5; 4/20] END C=0.1, gamma=0.025, kernel=rbf;, score=0.899 total time=   0.2s\n",
      "[CV 5/5; 4/20] START C=0.1, gamma=0.025, kernel=rbf.............................\n",
      "[CV 5/5; 4/20] END C=0.1, gamma=0.025, kernel=rbf;, score=0.917 total time=   0.2s\n",
      "[CV 1/5; 5/20] START C=0.1, gamma=0.05, kernel=rbf..............................\n",
      "[CV 1/5; 5/20] END C=0.1, gamma=0.05, kernel=rbf;, score=0.896 total time=   0.3s\n",
      "[CV 2/5; 5/20] START C=0.1, gamma=0.05, kernel=rbf..............................\n",
      "[CV 2/5; 5/20] END C=0.1, gamma=0.05, kernel=rbf;, score=0.908 total time=   0.3s\n",
      "[CV 3/5; 5/20] START C=0.1, gamma=0.05, kernel=rbf..............................\n",
      "[CV 3/5; 5/20] END C=0.1, gamma=0.05, kernel=rbf;, score=0.916 total time=   0.3s\n",
      "[CV 4/5; 5/20] START C=0.1, gamma=0.05, kernel=rbf..............................\n",
      "[CV 4/5; 5/20] END C=0.1, gamma=0.05, kernel=rbf;, score=0.896 total time=   0.3s\n",
      "[CV 5/5; 5/20] START C=0.1, gamma=0.05, kernel=rbf..............................\n",
      "[CV 5/5; 5/20] END C=0.1, gamma=0.05, kernel=rbf;, score=0.922 total time=   0.3s\n",
      "[CV 1/5; 6/20] START C=0.1, gamma=0.075, kernel=rbf.............................\n",
      "[CV 1/5; 6/20] END C=0.1, gamma=0.075, kernel=rbf;, score=0.896 total time=   0.3s\n",
      "[CV 2/5; 6/20] START C=0.1, gamma=0.075, kernel=rbf.............................\n",
      "[CV 2/5; 6/20] END C=0.1, gamma=0.075, kernel=rbf;, score=0.902 total time=   0.3s\n",
      "[CV 3/5; 6/20] START C=0.1, gamma=0.075, kernel=rbf.............................\n",
      "[CV 3/5; 6/20] END C=0.1, gamma=0.075, kernel=rbf;, score=0.912 total time=   0.4s\n",
      "[CV 4/5; 6/20] START C=0.1, gamma=0.075, kernel=rbf.............................\n",
      "[CV 4/5; 6/20] END C=0.1, gamma=0.075, kernel=rbf;, score=0.897 total time=   0.3s\n",
      "[CV 5/5; 6/20] START C=0.1, gamma=0.075, kernel=rbf.............................\n",
      "[CV 5/5; 6/20] END C=0.1, gamma=0.075, kernel=rbf;, score=0.921 total time=   0.3s\n",
      "[CV 1/5; 7/20] START C=1, gamma=0.025, kernel=rbf...............................\n",
      "[CV 1/5; 7/20] END C=1, gamma=0.025, kernel=rbf;, score=0.903 total time=   0.1s\n",
      "[CV 2/5; 7/20] START C=1, gamma=0.025, kernel=rbf...............................\n",
      "[CV 2/5; 7/20] END C=1, gamma=0.025, kernel=rbf;, score=0.917 total time=   0.1s\n",
      "[CV 3/5; 7/20] START C=1, gamma=0.025, kernel=rbf...............................\n",
      "[CV 3/5; 7/20] END C=1, gamma=0.025, kernel=rbf;, score=0.929 total time=   0.1s\n",
      "[CV 4/5; 7/20] START C=1, gamma=0.025, kernel=rbf...............................\n",
      "[CV 4/5; 7/20] END C=1, gamma=0.025, kernel=rbf;, score=0.920 total time=   0.1s\n",
      "[CV 5/5; 7/20] START C=1, gamma=0.025, kernel=rbf...............................\n",
      "[CV 5/5; 7/20] END C=1, gamma=0.025, kernel=rbf;, score=0.928 total time=   0.1s\n",
      "[CV 1/5; 8/20] START C=1, gamma=0.05, kernel=rbf................................\n",
      "[CV 1/5; 8/20] END .C=1, gamma=0.05, kernel=rbf;, score=0.912 total time=   0.1s\n",
      "[CV 2/5; 8/20] START C=1, gamma=0.05, kernel=rbf................................\n",
      "[CV 2/5; 8/20] END .C=1, gamma=0.05, kernel=rbf;, score=0.917 total time=   0.1s\n",
      "[CV 3/5; 8/20] START C=1, gamma=0.05, kernel=rbf................................\n",
      "[CV 3/5; 8/20] END .C=1, gamma=0.05, kernel=rbf;, score=0.932 total time=   0.2s\n",
      "[CV 4/5; 8/20] START C=1, gamma=0.05, kernel=rbf................................\n",
      "[CV 4/5; 8/20] END .C=1, gamma=0.05, kernel=rbf;, score=0.917 total time=   0.1s\n",
      "[CV 5/5; 8/20] START C=1, gamma=0.05, kernel=rbf................................\n",
      "[CV 5/5; 8/20] END .C=1, gamma=0.05, kernel=rbf;, score=0.927 total time=   0.1s\n",
      "[CV 1/5; 9/20] START C=1, gamma=0.075, kernel=rbf...............................\n",
      "[CV 1/5; 9/20] END C=1, gamma=0.075, kernel=rbf;, score=0.912 total time=   0.2s\n",
      "[CV 2/5; 9/20] START C=1, gamma=0.075, kernel=rbf...............................\n",
      "[CV 2/5; 9/20] END C=1, gamma=0.075, kernel=rbf;, score=0.924 total time=   0.2s\n",
      "[CV 3/5; 9/20] START C=1, gamma=0.075, kernel=rbf...............................\n",
      "[CV 3/5; 9/20] END C=1, gamma=0.075, kernel=rbf;, score=0.930 total time=   0.2s\n",
      "[CV 4/5; 9/20] START C=1, gamma=0.075, kernel=rbf...............................\n",
      "[CV 4/5; 9/20] END C=1, gamma=0.075, kernel=rbf;, score=0.918 total time=   0.2s\n",
      "[CV 5/5; 9/20] START C=1, gamma=0.075, kernel=rbf...............................\n",
      "[CV 5/5; 9/20] END C=1, gamma=0.075, kernel=rbf;, score=0.927 total time=   0.2s\n",
      "[CV 1/5; 10/20] START C=2.5, gamma=0.025, kernel=rbf............................\n",
      "[CV 1/5; 10/20] END C=2.5, gamma=0.025, kernel=rbf;, score=0.911 total time=   0.1s\n",
      "[CV 2/5; 10/20] START C=2.5, gamma=0.025, kernel=rbf............................\n",
      "[CV 2/5; 10/20] END C=2.5, gamma=0.025, kernel=rbf;, score=0.917 total time=   0.1s\n",
      "[CV 3/5; 10/20] START C=2.5, gamma=0.025, kernel=rbf............................\n",
      "[CV 3/5; 10/20] END C=2.5, gamma=0.025, kernel=rbf;, score=0.927 total time=   0.1s\n",
      "[CV 4/5; 10/20] START C=2.5, gamma=0.025, kernel=rbf............................\n",
      "[CV 4/5; 10/20] END C=2.5, gamma=0.025, kernel=rbf;, score=0.921 total time=   0.1s\n",
      "[CV 5/5; 10/20] START C=2.5, gamma=0.025, kernel=rbf............................\n",
      "[CV 5/5; 10/20] END C=2.5, gamma=0.025, kernel=rbf;, score=0.927 total time=   0.1s\n",
      "[CV 1/5; 11/20] START C=2.5, gamma=0.05, kernel=rbf.............................\n",
      "[CV 1/5; 11/20] END C=2.5, gamma=0.05, kernel=rbf;, score=0.911 total time=   0.1s\n",
      "[CV 2/5; 11/20] START C=2.5, gamma=0.05, kernel=rbf.............................\n",
      "[CV 2/5; 11/20] END C=2.5, gamma=0.05, kernel=rbf;, score=0.922 total time=   0.1s\n",
      "[CV 3/5; 11/20] START C=2.5, gamma=0.05, kernel=rbf.............................\n",
      "[CV 3/5; 11/20] END C=2.5, gamma=0.05, kernel=rbf;, score=0.931 total time=   0.1s\n",
      "[CV 4/5; 11/20] START C=2.5, gamma=0.05, kernel=rbf.............................\n",
      "[CV 4/5; 11/20] END C=2.5, gamma=0.05, kernel=rbf;, score=0.922 total time=   0.1s\n",
      "[CV 5/5; 11/20] START C=2.5, gamma=0.05, kernel=rbf.............................\n",
      "[CV 5/5; 11/20] END C=2.5, gamma=0.05, kernel=rbf;, score=0.927 total time=   0.1s\n",
      "[CV 1/5; 12/20] START C=2.5, gamma=0.075, kernel=rbf............................\n",
      "[CV 1/5; 12/20] END C=2.5, gamma=0.075, kernel=rbf;, score=0.907 total time=   0.2s\n",
      "[CV 2/5; 12/20] START C=2.5, gamma=0.075, kernel=rbf............................\n",
      "[CV 2/5; 12/20] END C=2.5, gamma=0.075, kernel=rbf;, score=0.926 total time=   0.2s\n",
      "[CV 3/5; 12/20] START C=2.5, gamma=0.075, kernel=rbf............................\n",
      "[CV 3/5; 12/20] END C=2.5, gamma=0.075, kernel=rbf;, score=0.927 total time=   0.2s\n",
      "[CV 4/5; 12/20] START C=2.5, gamma=0.075, kernel=rbf............................\n",
      "[CV 4/5; 12/20] END C=2.5, gamma=0.075, kernel=rbf;, score=0.922 total time=   0.2s\n",
      "[CV 5/5; 12/20] START C=2.5, gamma=0.075, kernel=rbf............................\n",
      "[CV 5/5; 12/20] END C=2.5, gamma=0.075, kernel=rbf;, score=0.927 total time=   0.2s\n",
      "[CV 1/5; 13/20] START C=5, gamma=0.025, kernel=rbf..............................\n",
      "[CV 1/5; 13/20] END C=5, gamma=0.025, kernel=rbf;, score=0.912 total time=   0.1s\n",
      "[CV 2/5; 13/20] START C=5, gamma=0.025, kernel=rbf..............................\n",
      "[CV 2/5; 13/20] END C=5, gamma=0.025, kernel=rbf;, score=0.920 total time=   0.1s\n",
      "[CV 3/5; 13/20] START C=5, gamma=0.025, kernel=rbf..............................\n",
      "[CV 3/5; 13/20] END C=5, gamma=0.025, kernel=rbf;, score=0.927 total time=   0.1s\n",
      "[CV 4/5; 13/20] START C=5, gamma=0.025, kernel=rbf..............................\n",
      "[CV 4/5; 13/20] END C=5, gamma=0.025, kernel=rbf;, score=0.925 total time=   0.1s\n",
      "[CV 5/5; 13/20] START C=5, gamma=0.025, kernel=rbf..............................\n",
      "[CV 5/5; 13/20] END C=5, gamma=0.025, kernel=rbf;, score=0.927 total time=   0.1s\n",
      "[CV 1/5; 14/20] START C=5, gamma=0.05, kernel=rbf...............................\n",
      "[CV 1/5; 14/20] END C=5, gamma=0.05, kernel=rbf;, score=0.904 total time=   0.1s\n",
      "[CV 2/5; 14/20] START C=5, gamma=0.05, kernel=rbf...............................\n",
      "[CV 2/5; 14/20] END C=5, gamma=0.05, kernel=rbf;, score=0.922 total time=   0.1s\n",
      "[CV 3/5; 14/20] START C=5, gamma=0.05, kernel=rbf...............................\n",
      "[CV 3/5; 14/20] END C=5, gamma=0.05, kernel=rbf;, score=0.927 total time=   0.2s\n",
      "[CV 4/5; 14/20] START C=5, gamma=0.05, kernel=rbf...............................\n",
      "[CV 4/5; 14/20] END C=5, gamma=0.05, kernel=rbf;, score=0.918 total time=   0.1s\n",
      "[CV 5/5; 14/20] START C=5, gamma=0.05, kernel=rbf...............................\n",
      "[CV 5/5; 14/20] END C=5, gamma=0.05, kernel=rbf;, score=0.924 total time=   0.2s\n",
      "[CV 1/5; 15/20] START C=5, gamma=0.075, kernel=rbf..............................\n",
      "[CV 1/5; 15/20] END C=5, gamma=0.075, kernel=rbf;, score=0.898 total time=   0.2s\n",
      "[CV 2/5; 15/20] START C=5, gamma=0.075, kernel=rbf..............................\n",
      "[CV 2/5; 15/20] END C=5, gamma=0.075, kernel=rbf;, score=0.925 total time=   0.2s\n",
      "[CV 3/5; 15/20] START C=5, gamma=0.075, kernel=rbf..............................\n",
      "[CV 3/5; 15/20] END C=5, gamma=0.075, kernel=rbf;, score=0.927 total time=   0.2s\n",
      "[CV 4/5; 15/20] START C=5, gamma=0.075, kernel=rbf..............................\n",
      "[CV 4/5; 15/20] END C=5, gamma=0.075, kernel=rbf;, score=0.923 total time=   0.2s\n",
      "[CV 5/5; 15/20] START C=5, gamma=0.075, kernel=rbf..............................\n",
      "[CV 5/5; 15/20] END C=5, gamma=0.075, kernel=rbf;, score=0.920 total time=   0.2s\n",
      "[CV 1/5; 16/20] START C=0.01, kernel=linear.....................................\n",
      "[CV 1/5; 16/20] END ......C=0.01, kernel=linear;, score=0.882 total time=   0.0s\n",
      "[CV 2/5; 16/20] START C=0.01, kernel=linear.....................................\n",
      "[CV 2/5; 16/20] END ......C=0.01, kernel=linear;, score=0.907 total time=   0.0s\n",
      "[CV 3/5; 16/20] START C=0.01, kernel=linear.....................................\n",
      "[CV 3/5; 16/20] END ......C=0.01, kernel=linear;, score=0.899 total time=   0.0s\n",
      "[CV 4/5; 16/20] START C=0.01, kernel=linear.....................................\n",
      "[CV 4/5; 16/20] END ......C=0.01, kernel=linear;, score=0.895 total time=   0.0s\n",
      "[CV 5/5; 16/20] START C=0.01, kernel=linear.....................................\n",
      "[CV 5/5; 16/20] END ......C=0.01, kernel=linear;, score=0.910 total time=   0.0s\n",
      "[CV 1/5; 17/20] START C=0.05, kernel=linear.....................................\n",
      "[CV 1/5; 17/20] END ......C=0.05, kernel=linear;, score=0.877 total time=   0.0s\n",
      "[CV 2/5; 17/20] START C=0.05, kernel=linear.....................................\n",
      "[CV 2/5; 17/20] END ......C=0.05, kernel=linear;, score=0.906 total time=   0.0s\n",
      "[CV 3/5; 17/20] START C=0.05, kernel=linear.....................................\n",
      "[CV 3/5; 17/20] END ......C=0.05, kernel=linear;, score=0.900 total time=   0.0s\n",
      "[CV 4/5; 17/20] START C=0.05, kernel=linear.....................................\n",
      "[CV 4/5; 17/20] END ......C=0.05, kernel=linear;, score=0.898 total time=   0.0s\n",
      "[CV 5/5; 17/20] START C=0.05, kernel=linear.....................................\n",
      "[CV 5/5; 17/20] END ......C=0.05, kernel=linear;, score=0.908 total time=   0.0s\n",
      "[CV 1/5; 18/20] START C=0.01, kernel=linear.....................................\n",
      "[CV 1/5; 18/20] END ......C=0.01, kernel=linear;, score=0.882 total time=   0.0s\n",
      "[CV 2/5; 18/20] START C=0.01, kernel=linear.....................................\n",
      "[CV 2/5; 18/20] END ......C=0.01, kernel=linear;, score=0.907 total time=   0.0s\n",
      "[CV 3/5; 18/20] START C=0.01, kernel=linear.....................................\n",
      "[CV 3/5; 18/20] END ......C=0.01, kernel=linear;, score=0.899 total time=   0.0s\n",
      "[CV 4/5; 18/20] START C=0.01, kernel=linear.....................................\n",
      "[CV 4/5; 18/20] END ......C=0.01, kernel=linear;, score=0.895 total time=   0.0s\n",
      "[CV 5/5; 18/20] START C=0.01, kernel=linear.....................................\n",
      "[CV 5/5; 18/20] END ......C=0.01, kernel=linear;, score=0.910 total time=   0.0s\n",
      "[CV 1/5; 19/20] START C=0.005, kernel=linear....................................\n",
      "[CV 1/5; 19/20] END .....C=0.005, kernel=linear;, score=0.882 total time=   0.0s\n",
      "[CV 2/5; 19/20] START C=0.005, kernel=linear....................................\n",
      "[CV 2/5; 19/20] END .....C=0.005, kernel=linear;, score=0.905 total time=   0.0s\n",
      "[CV 3/5; 19/20] START C=0.005, kernel=linear....................................\n",
      "[CV 3/5; 19/20] END .....C=0.005, kernel=linear;, score=0.900 total time=   0.0s\n",
      "[CV 4/5; 19/20] START C=0.005, kernel=linear....................................\n",
      "[CV 4/5; 19/20] END .....C=0.005, kernel=linear;, score=0.896 total time=   0.0s\n",
      "[CV 5/5; 19/20] START C=0.005, kernel=linear....................................\n",
      "[CV 5/5; 19/20] END .....C=0.005, kernel=linear;, score=0.910 total time=   0.0s\n",
      "[CV 1/5; 20/20] START C=0.001, kernel=linear....................................\n",
      "[CV 1/5; 20/20] END .....C=0.001, kernel=linear;, score=0.869 total time=   0.1s\n",
      "[CV 2/5; 20/20] START C=0.001, kernel=linear....................................\n",
      "[CV 2/5; 20/20] END .....C=0.001, kernel=linear;, score=0.894 total time=   0.1s\n",
      "[CV 3/5; 20/20] START C=0.001, kernel=linear....................................\n",
      "[CV 3/5; 20/20] END .....C=0.001, kernel=linear;, score=0.895 total time=   0.1s\n",
      "[CV 4/5; 20/20] START C=0.001, kernel=linear....................................\n",
      "[CV 4/5; 20/20] END .....C=0.001, kernel=linear;, score=0.886 total time=   0.1s\n",
      "[CV 5/5; 20/20] START C=0.001, kernel=linear....................................\n",
      "[CV 5/5; 20/20] END .....C=0.001, kernel=linear;, score=0.902 total time=   0.1s\n",
      "Durratio: 31.999364614486694\n",
      "{'C': 2.5, 'gamma': 0.05, 'kernel': 'rbf'}\n"
     ]
    }
   ],
   "source": [
    "from sklearn.svm import SVC\n",
    "from sklearn.model_selection import GridSearchCV\n",
    "import time \n",
    "s_time=time.time()\n",
    "param_grid = [{'C':[0.01, 0.1, 1, 2.5, 5], 'gamma':[2.5e-02, 5e-02, 7.5e-02], 'kernel':['rbf']},\n",
    "            {'C':[0.01, 0.05, 0.01,0.005, 0.001], 'kernel':['linear']}]\n",
    "grid = GridSearchCV(SVC(), param_grid, verbose=10)\n",
    "grid.fit(X_lda.numpy(), y_mini)\n",
    "y_pred = grid.predict(X_test_lda.numpy())\n",
    "f_time = time.time()\n",
    "print(f'Durratio: {f_time-s_time}')\n",
    "best_params = grid.best_params_\n",
    "print(best_params)"
   ]
  },
  {
   "cell_type": "code",
   "execution_count": 41,
   "metadata": {},
   "outputs": [
    {
     "name": "stdout",
     "output_type": "stream",
     "text": [
      "Accuracy: 0.902\n"
     ]
    }
   ],
   "source": [
    "from sklearn import metrics\n",
    "print(f'Accuracy: {metrics.accuracy_score(y_true=y_test, y_pred = y_pred)}')"
   ]
  },
  {
   "cell_type": "markdown",
   "metadata": {},
   "source": [
    "### 'poly' kernel"
   ]
  },
  {
   "cell_type": "code",
   "execution_count": 9,
   "metadata": {},
   "outputs": [
    {
     "name": "stdout",
     "output_type": "stream",
     "text": [
      " \n",
      " ---- STARTING custom KPCA ---- \n"
     ]
    },
    {
     "name": "stderr",
     "output_type": "stream",
     "text": [
      "c:\\Users\\dimos\\PyProjecks\\KPCA_LDA_v2\\utils_\\_kPCA.py:122: RuntimeWarning: Negative or near-zero eigenvalues encountered and removed: tensor([-26323.2520])\n",
      "  warnings.warn(\n"
     ]
    },
    {
     "name": "stdout",
     "output_type": "stream",
     "text": [
      "The shape of train after xkpca  torch.Size([6000, 784])\n",
      "The shape of test after xkpca  torch.Size([1000, 784])\n",
      "---- KPCA took  21747  ms----\n"
     ]
    }
   ],
   "source": [
    "from utils_ import _kPCA\n",
    "import time \n",
    "\n",
    "startKpca = int(round(time.time() * 1000))\n",
    "\n",
    "print(\" \")\n",
    "print(\" ---- STARTING custom KPCA ---- \")\n",
    "\n",
    "kpca = _kPCA.KPCA(n_components=784, kernel_type='poly')\n",
    "kpca.fit(X_m_t)\n",
    "X_kpca = kpca.transform(X_m_t)\n",
    "X_test_kpca = kpca.transform(X_test_t)\n",
    "\n",
    "print(\"The shape of train after xkpca \", X_kpca.shape )\n",
    "print(\"The shape of test after xkpca \", X_test_kpca.shape )\n",
    "\n",
    "# stop the kpca timer\n",
    "endKpca = int(round(time.time() * 1000))\n",
    "\n",
    "print(\"---- KPCA took \", (endKpca-startKpca), \" ms----\")"
   ]
  },
  {
   "cell_type": "code",
   "execution_count": 10,
   "metadata": {},
   "outputs": [],
   "source": [
    "explained_variance = kpca.explained_var  \n",
    "explained_variance_ratio = explained_variance / torch.sum(explained_variance)"
   ]
  },
  {
   "cell_type": "code",
   "execution_count": 11,
   "metadata": {},
   "outputs": [
    {
     "data": {
      "image/png": "[encoded data removed]",
      "text/plain": [
       "<Figure size 640x480 with 1 Axes>"
      ]
     },
     "metadata": {},
     "output_type": "display_data"
    },
    {
     "data": {
      "text/plain": [
       "None"
      ]
     },
     "metadata": {},
     "output_type": "display_data"
    }
   ],
   "source": [
    "import seaborn as sns\n",
    "import matplotlib.pyplot as plt\n",
    "\n",
    "sns.set_theme(style='whitegrid')\n",
    "plt.plot(np.cumsum(explained_variance_ratio.numpy()))\n",
    "plt.title('Kernel: Poly', fontsize=16)\n",
    "plt.xlabel('num of components')\n",
    "plt.ylabel('cumulative explained variance')\n",
    "display(plt.show())"
   ]
  },
  {
   "cell_type": "code",
   "execution_count": 47,
   "metadata": {},
   "outputs": [],
   "source": [
    "import pandas as pd\n",
    "\n",
    "evr = explained_variance_ratio.numpy()\n",
    "crv = np.cumsum(explained_variance_ratio.numpy())\n",
    "kpca_df  = pd.DataFrame()\n",
    "kpca_df['cumsum_explained_var'] = crv\n",
    "kpca_df['explainde_var_ratio'] = evr"
   ]
  },
  {
   "cell_type": "code",
   "execution_count": 48,
   "metadata": {},
   "outputs": [
    {
     "name": "stdout",
     "output_type": "stream",
     "text": [
      "Indexes where cumsum_explained_var > 0.95: [440, 441, 442, 443, 444, 445, 446, 447, 448, 449, 450, 451, 452, 453, 454, 455, 456, 457, 458, 459, 460, 461, 462, 463, 464, 465, 466, 467, 468, 469, 470, 471, 472, 473, 474, 475, 476, 477, 478, 479, 480, 481, 482, 483, 484, 485, 486, 487, 488, 489, 490, 491, 492, 493, 494, 495, 496, 497, 498, 499, 500, 501, 502, 503, 504, 505, 506, 507, 508, 509, 510, 511, 512, 513, 514, 515, 516, 517, 518, 519, 520, 521, 522, 523, 524, 525, 526, 527, 528, 529, 530, 531, 532, 533, 534, 535, 536, 537, 538, 539, 540, 541, 542, 543, 544, 545, 546, 547, 548, 549, 550, 551, 552, 553, 554, 555, 556, 557, 558, 559, 560, 561, 562, 563, 564, 565, 566, 567, 568, 569, 570, 571, 572, 573, 574, 575, 576, 577, 578, 579, 580, 581, 582, 583, 584, 585, 586, 587, 588, 589, 590, 591, 592, 593, 594, 595, 596, 597, 598, 599, 600, 601, 602, 603, 604, 605, 606, 607, 608, 609, 610, 611, 612, 613, 614, 615, 616, 617, 618, 619, 620, 621, 622, 623, 624, 625, 626, 627, 628, 629, 630, 631, 632, 633, 634, 635, 636, 637, 638, 639, 640, 641, 642, 643, 644, 645, 646, 647, 648, 649, 650, 651, 652, 653, 654, 655, 656, 657, 658, 659, 660, 661, 662, 663, 664, 665, 666, 667, 668, 669, 670, 671, 672, 673, 674, 675, 676, 677, 678, 679, 680, 681, 682, 683, 684, 685, 686, 687, 688, 689, 690, 691, 692, 693, 694, 695, 696, 697, 698, 699, 700, 701, 702, 703, 704, 705, 706, 707, 708, 709, 710, 711, 712, 713, 714, 715, 716, 717, 718, 719, 720, 721, 722, 723, 724, 725, 726, 727, 728, 729, 730, 731, 732, 733, 734, 735, 736, 737, 738, 739, 740, 741, 742, 743, 744, 745, 746, 747, 748, 749, 750, 751, 752, 753, 754, 755, 756, 757, 758, 759, 760, 761, 762, 763, 764, 765, 766, 767, 768, 769, 770, 771, 772, 773, 774, 775, 776, 777, 778, 779, 780, 781, 782, 783]\n"
     ]
    }
   ],
   "source": [
    "# Get the indexes where cumsum_explained_var > 0.95\n",
    "indexes = kpca_df[kpca_df['cumsum_explained_var'] > 0.95].index.tolist()\n",
    "\n",
    "print(\"Indexes where cumsum_explained_var > 0.95:\", indexes)"
   ]
  },
  {
   "cell_type": "markdown",
   "metadata": {},
   "source": [
    "n_componenets = 440, διατήρηση πληροφορίας μεγαλύτερη του 95%"
   ]
  },
  {
   "cell_type": "code",
   "execution_count": 49,
   "metadata": {},
   "outputs": [
    {
     "name": "stdout",
     "output_type": "stream",
     "text": [
      "Indexes where cumsum_explained_var > 0.95: [694, 695, 696, 697, 698, 699, 700, 701, 702, 703, 704, 705, 706, 707, 708, 709, 710, 711, 712, 713, 714, 715, 716, 717, 718, 719, 720, 721, 722, 723, 724, 725, 726, 727, 728, 729, 730, 731, 732, 733, 734, 735, 736, 737, 738, 739, 740, 741, 742, 743, 744, 745, 746, 747, 748, 749, 750, 751, 752, 753, 754, 755, 756, 757, 758, 759, 760, 761, 762, 763, 764, 765, 766, 767, 768, 769, 770, 771, 772, 773, 774, 775, 776, 777, 778, 779, 780, 781, 782, 783]\n"
     ]
    }
   ],
   "source": [
    "# Get the indexes where cumsum_explained_var > 0.99\n",
    "indexes = kpca_df[kpca_df['cumsum_explained_var'] > 0.99].index.tolist()\n",
    "\n",
    "print(\"Indexes where cumsum_explained_var > 0.95:\", indexes)"
   ]
  },
  {
   "cell_type": "markdown",
   "metadata": {},
   "source": [
    "n_componenets = 694, διατήρηση πληροφορίας μεγαλύτερη του 99%"
   ]
  },
  {
   "cell_type": "markdown",
   "metadata": {},
   "source": [
    "NC and kmean for 95% information preservation"
   ]
  },
  {
   "cell_type": "code",
   "execution_count": null,
   "metadata": {},
   "outputs": [
    {
     "name": "stdout",
     "output_type": "stream",
     "text": [
      " \n",
      " ---- STARTING custom KPCA ---- \n"
     ]
    },
    {
     "name": "stderr",
     "output_type": "stream",
     "text": [
      "c:\\Users\\dimos\\PyProjecks\\KPCA_LDA_v2\\utils_\\_kPCA2.py:133: RuntimeWarning: Negative or near-zero eigenvalues encountered and removed: tensor([-26323.2520])\n",
      "  warnings.warn(\n"
     ]
    },
    {
     "name": "stdout",
     "output_type": "stream",
     "text": [
      "The shape of train after xkpca  torch.Size([6000, 440])\n",
      "The shape of test after xkpca  torch.Size([1000, 440])\n",
      "---- KPCA took  17055  ms----\n"
     ]
    }
   ],
   "source": [
    "from KPCA_LDA_v2.utils_ import _kPCA\n",
    "import time \n",
    "\n",
    "startKpca = int(round(time.time() * 1000))\n",
    "\n",
    "print(\" \")\n",
    "print(\" ---- STARTING custom KPCA ---- \")\n",
    "\n",
    "kpca = _kPCA.KPCA(n_components=440, kernel_type='poly')#, gamma=a\n",
    "kpca.fit(X_m_t)\n",
    "X_kpca = kpca.transform(X_m_t)\n",
    "X_test_kpca = kpca.transform(X_test_t)\n",
    "\n",
    "print(\"The shape of train after xkpca \", X_kpca.shape )\n",
    "print(\"The shape of test after xkpca \", X_test_kpca.shape )\n",
    "\n",
    "# stop the kpca timer\n",
    "endKpca = int(round(time.time() * 1000))\n",
    "\n",
    "print(\"---- KPCA took \", (endKpca-startKpca), \" ms----\")"
   ]
  },
  {
   "cell_type": "code",
   "execution_count": 51,
   "metadata": {},
   "outputs": [
    {
     "name": "stdout",
     "output_type": "stream",
     "text": [
      "Accuracy: 79.70%\n"
     ]
    }
   ],
   "source": [
    "from sklearn.metrics import accuracy_score\n",
    "from utils_ import _models\n",
    "\n",
    "NC = _models.NearestCentroid()\n",
    "NC.fit(X_kpca, y_m_t)\n",
    "# Predict the labels for the test set \n",
    "y_pred = NC.predict(X_test_kpca)\n",
    "accuracy = accuracy_score(y_test_t.numpy(), y_pred.numpy()) \n",
    "print(f\"Accuracy: {accuracy * 100:.2f}%\")"
   ]
  },
  {
   "cell_type": "code",
   "execution_count": 52,
   "metadata": {},
   "outputs": [
    {
     "name": "stdout",
     "output_type": "stream",
     "text": [
      "The best accuracy is 94.00% with n_neighbors = 11\n"
     ]
    }
   ],
   "source": [
    "from sklearn.neighbors import KNeighborsClassifier as KNN\n",
    "\n",
    "acc_KNN = []\n",
    "\n",
    "for k in range(1,20):\n",
    "    knn = KNN(n_neighbors=k, n_jobs=-1)\n",
    "\n",
    "    knn.fit(X_kpca.numpy(), y_mini)\n",
    "    score = knn.score(X_test_kpca.numpy(), y_test)\n",
    "\n",
    "    acc_KNN.append(score)\n",
    "\n",
    "best_acc = max(acc_KNN)\n",
    "best_k = acc_KNN.index(best_acc)\n",
    "best_k_value = range(1,20,2)[best_k]\n",
    "\n",
    "print(f'The best accuracy is {best_acc*100:.2f}% with n_neighbors = {best_k_value}')"
   ]
  },
  {
   "cell_type": "markdown",
   "metadata": {},
   "source": [
    "NC and kmean for 99% information preservation"
   ]
  },
  {
   "cell_type": "code",
   "execution_count": null,
   "metadata": {},
   "outputs": [
    {
     "name": "stdout",
     "output_type": "stream",
     "text": [
      " \n",
      " ---- STARTING custom KPCA ---- \n"
     ]
    },
    {
     "name": "stderr",
     "output_type": "stream",
     "text": [
      "c:\\Users\\dimos\\PyProjecks\\KPCA_LDA_v2\\utils_\\_kPCA2.py:133: RuntimeWarning: Negative or near-zero eigenvalues encountered and removed: tensor([-1.9437e-01, -1.2911e-02, -1.2530e-02,  ..., -5.4617e-06,\n",
      "        -3.0066e-06, -1.2677e-06])\n",
      "  warnings.warn(\n"
     ]
    },
    {
     "name": "stdout",
     "output_type": "stream",
     "text": [
      "The shape of train after xkpca  torch.Size([6000, 694])\n",
      "The shape of test after xkpca  torch.Size([1000, 694])\n",
      "---- KPCA took  16293  ms----\n"
     ]
    }
   ],
   "source": [
    "from KPCA_LDA_v2.utils_ import _kPCA\n",
    "import time \n",
    "\n",
    "startKpca = int(round(time.time() * 1000))\n",
    "\n",
    "print(\" \")\n",
    "print(\" ---- STARTING custom KPCA ---- \")\n",
    "\n",
    "kpca = _kPCA.KPCA(n_components=694, kernel_type='linear')#, gamma=a\n",
    "kpca.fit(X_m_t)\n",
    "X_kpca = kpca.transform(X_m_t)\n",
    "X_test_kpca = kpca.transform(X_test_t)\n",
    "\n",
    "print(\"The shape of train after xkpca \", X_kpca.shape )\n",
    "print(\"The shape of test after xkpca \", X_test_kpca.shape )\n",
    "\n",
    "# stop the kpca timer\n",
    "endKpca = int(round(time.time() * 1000))\n",
    "\n",
    "print(\"---- KPCA took \", (endKpca-startKpca), \" ms----\")"
   ]
  },
  {
   "cell_type": "code",
   "execution_count": 61,
   "metadata": {},
   "outputs": [
    {
     "name": "stdout",
     "output_type": "stream",
     "text": [
      "Accuracy: 78.40%\n"
     ]
    }
   ],
   "source": [
    "from sklearn.metrics import accuracy_score\n",
    "from utils_ import _models\n",
    "\n",
    "NC = _models.NearestCentroid()\n",
    "NC.fit(X_kpca, y_m_t)\n",
    "# Predict the labels for the test set \n",
    "y_pred = NC.predict(X_test_kpca)\n",
    "accuracy = accuracy_score(y_test_t.numpy(), y_pred.numpy()) \n",
    "print(f\"Accuracy: {accuracy * 100:.2f}%\")"
   ]
  },
  {
   "cell_type": "code",
   "execution_count": 62,
   "metadata": {},
   "outputs": [
    {
     "name": "stdout",
     "output_type": "stream",
     "text": [
      "The best accuracy is 91.90% with n_neighbors = 11\n"
     ]
    }
   ],
   "source": [
    "from sklearn.neighbors import KNeighborsClassifier as KNN\n",
    "\n",
    "acc_KNN = []\n",
    "\n",
    "for k in range(1,20):\n",
    "    knn = KNN(n_neighbors=k, n_jobs=-1)\n",
    "\n",
    "    knn.fit(X_kpca.numpy(), y_mini)\n",
    "    score = knn.score(X_test_kpca.numpy(), y_test)\n",
    "\n",
    "    acc_KNN.append(score)\n",
    "\n",
    "best_acc = max(acc_KNN)\n",
    "best_k = acc_KNN.index(best_acc)\n",
    "best_k_value = range(1,20,2)[best_k]\n",
    "\n",
    "print(f'The best accuracy is {best_acc*100:.2f}% with n_neighbors = {best_k_value}')"
   ]
  },
  {
   "cell_type": "markdown",
   "metadata": {},
   "source": [
    "### KPCA+LDA poly"
   ]
  },
  {
   "cell_type": "markdown",
   "metadata": {},
   "source": [
    "95%"
   ]
  },
  {
   "cell_type": "code",
   "execution_count": 53,
   "metadata": {},
   "outputs": [
    {
     "name": "stderr",
     "output_type": "stream",
     "text": [
      "c:\\Users\\dimos\\PyProjecks\\KPCA_LDA_v2\\utils_\\_lda.py:145: RuntimeWarning: Negative eigenvalues encountered and removed: tensor([-3.3154e+01, -2.0128e+01, -1.5479e+01, -1.5194e+01, -1.0360e+01,\n",
      "        -7.6657e+00, -6.5616e+00, -4.1438e+00, -3.1188e+00, -1.4459e+00,\n",
      "        -9.2609e-01, -6.9975e-01, -5.7112e-01, -5.0555e-01, -4.7925e-01,\n",
      "        -4.5175e-01, -3.6588e-01, -3.3553e-01, -3.1828e-01, -3.0124e-01,\n",
      "        -2.6041e-01, -2.3899e-01, -2.2338e-01, -2.1546e-01, -2.0085e-01,\n",
      "        -1.8050e-01, -1.6663e-01, -1.4817e-01, -1.3563e-01, -1.3406e-01,\n",
      "        -1.2728e-01, -1.1382e-01, -1.0906e-01, -1.0187e-01, -9.8419e-02,\n",
      "        -8.7297e-02, -8.1824e-02, -7.3538e-02, -6.9024e-02, -6.7048e-02,\n",
      "        -6.4903e-02, -6.3022e-02, -5.9595e-02, -5.5683e-02, -5.2395e-02,\n",
      "        -5.0253e-02, -4.7387e-02, -4.5549e-02, -4.4549e-02, -4.0849e-02,\n",
      "        -4.0517e-02, -3.8911e-02, -3.7354e-02, -3.5606e-02, -3.3149e-02,\n",
      "        -3.0670e-02, -2.9977e-02, -2.9212e-02, -2.7342e-02, -2.6399e-02,\n",
      "        -2.3971e-02, -2.3497e-02, -2.1999e-02, -2.1351e-02, -2.0989e-02,\n",
      "        -1.9914e-02, -1.9412e-02, -1.8187e-02, -1.7567e-02, -1.6939e-02,\n",
      "        -1.6863e-02, -1.6198e-02, -1.6006e-02, -1.5252e-02, -1.4760e-02,\n",
      "        -1.4225e-02, -1.4003e-02, -1.3635e-02, -1.3315e-02, -1.2840e-02,\n",
      "        -1.2122e-02, -1.1960e-02, -1.1766e-02, -1.1275e-02, -1.0777e-02,\n",
      "        -1.0297e-02, -1.0289e-02, -9.9773e-03, -9.6357e-03, -8.9078e-03,\n",
      "        -8.7224e-03, -8.4793e-03, -8.2405e-03, -8.1795e-03, -7.9222e-03,\n",
      "        -7.8017e-03, -7.5041e-03, -7.2884e-03, -7.2220e-03, -7.0777e-03,\n",
      "        -6.7559e-03, -6.5147e-03, -6.4059e-03, -6.2507e-03, -6.2136e-03,\n",
      "        -6.0602e-03, -5.8863e-03, -5.7036e-03, -5.5160e-03, -5.4945e-03,\n",
      "        -5.2438e-03, -5.1649e-03, -5.0717e-03, -5.0523e-03, -4.9194e-03,\n",
      "        -4.7217e-03, -4.6251e-03, -4.4663e-03, -4.1281e-03, -4.1120e-03,\n",
      "        -3.9312e-03, -3.8787e-03, -3.8088e-03, -3.7630e-03, -3.7615e-03,\n",
      "        -3.6620e-03, -3.5840e-03, -3.5041e-03, -3.4286e-03, -3.3955e-03,\n",
      "        -3.2804e-03, -3.2364e-03, -3.1686e-03, -3.1167e-03, -3.0831e-03,\n",
      "        -2.9837e-03, -2.9535e-03, -2.8777e-03, -2.7458e-03, -2.7161e-03,\n",
      "        -2.6793e-03, -2.6072e-03, -2.5172e-03, -2.5162e-03, -2.5049e-03,\n",
      "        -2.4712e-03, -2.4643e-03, -2.3799e-03, -2.3432e-03, -2.2514e-03,\n",
      "        -2.2409e-03, -2.1966e-03, -2.0968e-03, -2.0693e-03, -2.0545e-03,\n",
      "        -1.9846e-03, -1.9632e-03, -1.9082e-03, -1.8780e-03, -1.8778e-03,\n",
      "        -1.8375e-03, -1.7962e-03, -1.7945e-03, -1.7227e-03, -1.7060e-03,\n",
      "        -1.6753e-03, -1.6568e-03, -1.6397e-03, -1.6208e-03, -1.5775e-03,\n",
      "        -1.4932e-03, -1.4918e-03, -1.4897e-03, -1.4465e-03, -1.4400e-03,\n",
      "        -1.4150e-03, -1.3797e-03, -1.3616e-03, -1.3535e-03, -1.3378e-03,\n",
      "        -1.2698e-03, -1.2495e-03, -1.2390e-03, -1.2019e-03, -1.2008e-03,\n",
      "        -1.1547e-03, -1.1293e-03, -1.1248e-03, -1.0837e-03, -1.0821e-03,\n",
      "        -1.0682e-03, -1.0634e-03, -1.0501e-03, -1.0406e-03, -1.0114e-03,\n",
      "        -9.9264e-04, -9.5672e-04, -9.5376e-04, -9.4038e-04, -9.3227e-04,\n",
      "        -9.0050e-04, -8.9799e-04, -8.7874e-04, -8.6581e-04, -8.3140e-04,\n",
      "        -8.1211e-04, -7.9306e-04, -7.7171e-04, -7.6326e-04, -7.2990e-04,\n",
      "        -7.2602e-04, -7.2508e-04, -7.2317e-04, -7.1412e-04, -7.0112e-04,\n",
      "        -6.9258e-04, -6.8741e-04, -6.7488e-04, -6.6372e-04, -6.6232e-04,\n",
      "        -6.2761e-04, -6.2727e-04, -5.9755e-04, -5.9525e-04, -5.8492e-04,\n",
      "        -5.8075e-04, -5.5428e-04, -5.4969e-04, -5.4678e-04, -5.3740e-04,\n",
      "        -5.2953e-04, -5.0739e-04, -5.0225e-04, -5.0080e-04, -4.9845e-04,\n",
      "        -4.8064e-04, -4.6422e-04, -4.5624e-04, -4.4082e-04, -4.3538e-04,\n",
      "        -4.3228e-04, -4.2520e-04, -4.1982e-04, -3.9861e-04, -3.9415e-04,\n",
      "        -3.9215e-04, -3.8951e-04, -3.8745e-04, -3.8441e-04, -3.7433e-04,\n",
      "        -3.7430e-04, -3.7004e-04, -3.5868e-04, -3.5744e-04, -3.5740e-04,\n",
      "        -3.5692e-04, -3.4720e-04, -3.4565e-04, -3.4464e-04, -3.2698e-04,\n",
      "        -3.1897e-04, -2.9783e-04, -2.9546e-04, -2.9419e-04, -2.8638e-04,\n",
      "        -2.8134e-04, -2.7871e-04, -2.7091e-04, -2.6913e-04, -2.6742e-04,\n",
      "        -2.6363e-04, -2.5567e-04, -2.5458e-04, -2.5344e-04, -2.5157e-04,\n",
      "        -2.5099e-04, -2.4140e-04, -2.4015e-04, -2.3910e-04, -2.3246e-04,\n",
      "        -2.2980e-04, -2.2821e-04, -2.2699e-04, -2.2694e-04, -2.2683e-04,\n",
      "        -2.2125e-04, -2.1562e-04, -2.1387e-04, -2.0665e-04, -2.0396e-04,\n",
      "        -1.9909e-04, -1.9876e-04, -1.9211e-04, -1.8930e-04, -1.8443e-04,\n",
      "        -1.8409e-04, -1.8298e-04, -1.8084e-04, -1.7496e-04, -1.7492e-04,\n",
      "        -1.6642e-04, -1.6626e-04, -1.6235e-04, -1.6121e-04, -1.6075e-04,\n",
      "        -1.5847e-04, -1.5623e-04, -1.5622e-04, -1.5422e-04, -1.4990e-04,\n",
      "        -1.4868e-04, -1.4679e-04, -1.4336e-04, -1.4146e-04, -1.3669e-04,\n",
      "        -1.3331e-04, -1.2960e-04, -1.2884e-04, -1.2535e-04, -1.2464e-04,\n",
      "        -1.2392e-04, -1.2139e-04, -1.1717e-04, -1.1159e-04, -1.1135e-04,\n",
      "        -1.1065e-04, -1.0824e-04, -1.0722e-04, -1.0559e-04, -1.0294e-04,\n",
      "        -1.0151e-04, -1.0056e-04, -9.9650e-05, -9.9300e-05, -9.7975e-05,\n",
      "        -9.7960e-05, -9.7938e-05, -9.5248e-05, -9.4930e-05, -9.2818e-05,\n",
      "        -9.2466e-05, -9.0084e-05, -8.9313e-05, -8.6759e-05, -8.3847e-05,\n",
      "        -8.1500e-05, -8.1172e-05, -8.1167e-05, -7.9715e-05, -7.8599e-05,\n",
      "        -7.7688e-05, -7.5799e-05, -7.4285e-05, -7.3611e-05, -7.3289e-05,\n",
      "        -7.2852e-05, -6.6947e-05, -6.6237e-05, -6.5943e-05, -6.5389e-05,\n",
      "        -6.5055e-05, -6.4726e-05, -6.3961e-05, -6.3844e-05, -6.3062e-05,\n",
      "        -6.0734e-05, -6.0669e-05, -6.0536e-05, -6.0169e-05, -6.0061e-05,\n",
      "        -5.8952e-05, -5.8723e-05, -5.8652e-05, -5.7430e-05, -5.7349e-05,\n",
      "        -5.5496e-05, -5.4921e-05, -5.4110e-05, -5.2024e-05, -5.1109e-05,\n",
      "        -5.0516e-05, -5.0124e-05, -4.8641e-05, -4.7651e-05, -4.6642e-05,\n",
      "        -4.6584e-05, -4.5314e-05, -4.4686e-05, -4.3315e-05, -4.2781e-05,\n",
      "        -4.2696e-05, -4.2322e-05, -4.0088e-05, -3.9794e-05, -3.7613e-05,\n",
      "        -3.7450e-05, -3.6645e-05, -3.6539e-05, -3.4457e-05, -3.3464e-05,\n",
      "        -3.2427e-05, -3.2311e-05, -3.2068e-05, -3.1271e-05, -3.1096e-05,\n",
      "        -3.0947e-05, -2.9500e-05, -2.7778e-05, -2.7719e-05, -2.7416e-05,\n",
      "        -2.6980e-05, -2.6466e-05, -2.5847e-05, -2.4446e-05, -2.4290e-05,\n",
      "        -2.4233e-05, -2.3855e-05, -2.3409e-05, -2.2037e-05, -2.1714e-05,\n",
      "        -2.1565e-05, -1.9492e-05, -1.9129e-05, -1.8013e-05, -1.7532e-05,\n",
      "        -1.7284e-05, -1.7243e-05, -1.6333e-05, -1.4297e-05, -1.2187e-05,\n",
      "        -1.2163e-05])\n",
      "  warnings.warn(f\"Negative eigenvalues encountered and removed: {eigenvalues[eigenvalues < 0]}\", RuntimeWarning)\n"
     ]
    },
    {
     "data": {
      "text/plain": [
       "torch.Size([6000, 9])"
      ]
     },
     "execution_count": 53,
     "metadata": {},
     "output_type": "execute_result"
    }
   ],
   "source": [
    "from utils_ import _lda as lda\n",
    "\n",
    "LDA = lda.LDA()\n",
    "LDA.fit(X_kpca, y_m_t)\n",
    "X_lda = LDA.transform(X_kpca)\n",
    "X_test_lda = LDA.transform(X_test_kpca)\n",
    "X_lda.shape"
   ]
  },
  {
   "cell_type": "code",
   "execution_count": 54,
   "metadata": {},
   "outputs": [
    {
     "name": "stdout",
     "output_type": "stream",
     "text": [
      "Accuracy: 85.70%\n"
     ]
    }
   ],
   "source": [
    "from utils_ import _models\n",
    "from sklearn.metrics import accuracy_score\n",
    "\n",
    "NC = _models.NearestCentroid()\n",
    "NC.fit(X_lda, y_m_t)\n",
    "\n",
    "# Predict the labels for the test set \n",
    "y_pred = NC.predict(X_test_lda)\n",
    "accuracy = accuracy_score(y_test, y_pred.numpy()) \n",
    "print(f\"Accuracy: {accuracy * 100:.2f}%\")"
   ]
  },
  {
   "cell_type": "code",
   "execution_count": 55,
   "metadata": {},
   "outputs": [
    {
     "name": "stdout",
     "output_type": "stream",
     "text": [
      "The best accuracy is 91.00% with n_neighbors = 12\n"
     ]
    }
   ],
   "source": [
    "from sklearn.neighbors import KNeighborsClassifier as KNN\n",
    "\n",
    "acc_KNN = []\n",
    "\n",
    "for k in range(1,30):\n",
    "    knn = KNN(n_neighbors=k, n_jobs=-1)\n",
    "\n",
    "    knn.fit(X_lda.numpy(), y_mini)\n",
    "    score = knn.score(X_test_lda.numpy(), y_test)\n",
    "\n",
    "    acc_KNN.append(score)\n",
    "\n",
    "best_acc = max(acc_KNN)\n",
    "best_k = acc_KNN.index(best_acc)\n",
    "best_k_value = range(1,30)[best_k]\n",
    "\n",
    "print(f'The best accuracy is {best_acc*100:.2f}% with n_neighbors = {best_k_value}')"
   ]
  },
  {
   "cell_type": "markdown",
   "metadata": {},
   "source": [
    "99%"
   ]
  },
  {
   "cell_type": "code",
   "execution_count": 63,
   "metadata": {},
   "outputs": [
    {
     "name": "stderr",
     "output_type": "stream",
     "text": [
      "c:\\Users\\dimos\\PyProjecks\\KPCA_LDA_v2\\utils_\\_lda.py:145: RuntimeWarning: Negative eigenvalues encountered and removed: tensor([-2.5614e+03, -2.0996e+03, -2.0213e+03, -1.3467e+03, -8.1483e+02,\n",
      "        -5.4664e+02, -4.1029e+02, -3.1393e+02, -1.9730e+02, -5.9180e-01,\n",
      "        -5.8240e-01, -4.0850e-01, -3.6970e-01, -3.2839e-01, -3.0828e-01,\n",
      "        -2.9320e-01, -2.3805e-01, -2.3234e-01, -2.1724e-01, -1.9771e-01,\n",
      "        -1.6634e-01, -1.5855e-01, -1.4904e-01, -1.4340e-01, -1.3023e-01,\n",
      "        -1.2403e-01, -1.1995e-01, -1.1373e-01, -1.1003e-01, -9.9499e-02,\n",
      "        -9.5390e-02, -9.0544e-02, -8.2490e-02, -8.0133e-02, -7.4657e-02,\n",
      "        -7.4651e-02, -7.2032e-02, -6.7918e-02, -6.7885e-02, -6.7679e-02,\n",
      "        -6.1572e-02, -5.9500e-02, -5.4701e-02, -5.4330e-02, -5.1211e-02,\n",
      "        -5.0014e-02, -4.6499e-02, -4.5802e-02, -4.4953e-02, -4.4706e-02,\n",
      "        -4.1169e-02, -3.9901e-02, -3.9148e-02, -3.6472e-02, -3.5528e-02,\n",
      "        -3.4540e-02, -3.4087e-02, -3.1431e-02, -3.1018e-02, -3.0189e-02,\n",
      "        -2.9951e-02, -2.8242e-02, -2.5861e-02, -2.5522e-02, -2.5326e-02,\n",
      "        -2.4879e-02, -2.3684e-02, -2.2916e-02, -2.2656e-02, -2.1377e-02,\n",
      "        -2.1297e-02, -2.0651e-02, -1.9772e-02, -1.8597e-02, -1.8060e-02,\n",
      "        -1.7763e-02, -1.7302e-02, -1.7145e-02, -1.6457e-02, -1.6413e-02,\n",
      "        -1.6027e-02, -1.5533e-02, -1.4743e-02, -1.4535e-02, -1.3888e-02,\n",
      "        -1.3735e-02, -1.3517e-02, -1.2670e-02, -1.2267e-02, -1.2217e-02,\n",
      "        -1.1654e-02, -1.1344e-02, -1.1252e-02, -1.1085e-02, -1.0948e-02,\n",
      "        -1.0811e-02, -1.0674e-02, -1.0284e-02, -9.9247e-03, -9.9021e-03,\n",
      "        -9.7889e-03, -9.5964e-03, -9.4956e-03, -8.6604e-03, -8.3835e-03,\n",
      "        -8.2960e-03, -8.2329e-03, -8.1656e-03, -7.5439e-03, -7.4881e-03,\n",
      "        -7.3328e-03, -7.2240e-03, -7.0165e-03, -6.9250e-03, -6.8840e-03,\n",
      "        -6.5911e-03, -6.5465e-03, -6.2263e-03, -6.1778e-03, -6.1618e-03,\n",
      "        -5.9669e-03, -5.8730e-03, -5.7293e-03, -5.5277e-03, -5.4883e-03,\n",
      "        -5.4221e-03, -5.3542e-03, -5.2639e-03, -5.1542e-03, -5.0610e-03,\n",
      "        -4.9590e-03, -4.7816e-03, -4.6892e-03, -4.6401e-03, -4.5616e-03,\n",
      "        -4.4230e-03, -4.3954e-03, -4.2501e-03, -4.2201e-03, -4.1576e-03,\n",
      "        -4.1013e-03, -4.0154e-03, -3.9427e-03, -3.9393e-03, -3.7420e-03,\n",
      "        -3.6735e-03, -3.6394e-03, -3.5859e-03, -3.5609e-03, -3.4642e-03,\n",
      "        -3.4071e-03, -3.3757e-03, -3.2543e-03, -3.2495e-03, -3.2242e-03,\n",
      "        -3.1830e-03, -3.1504e-03, -3.1449e-03, -3.1194e-03, -3.0279e-03,\n",
      "        -2.8427e-03, -2.8401e-03, -2.7173e-03, -2.6968e-03, -2.6894e-03,\n",
      "        -2.5735e-03, -2.5337e-03, -2.5298e-03, -2.4672e-03, -2.4436e-03,\n",
      "        -2.3967e-03, -2.3330e-03, -2.3291e-03, -2.3285e-03, -2.3104e-03,\n",
      "        -2.3065e-03, -2.2993e-03, -2.2332e-03, -2.2188e-03, -2.1753e-03,\n",
      "        -2.1653e-03, -2.0831e-03, -2.0658e-03, -2.0417e-03, -1.9946e-03,\n",
      "        -1.9860e-03, -1.9440e-03, -1.9145e-03, -1.9071e-03, -1.8495e-03,\n",
      "        -1.8383e-03, -1.8138e-03, -1.7508e-03, -1.7474e-03, -1.7397e-03,\n",
      "        -1.7328e-03, -1.7147e-03, -1.6968e-03, -1.6823e-03, -1.6793e-03,\n",
      "        -1.6531e-03, -1.6470e-03, -1.6407e-03, -1.6366e-03, -1.5896e-03,\n",
      "        -1.5312e-03, -1.5031e-03, -1.4868e-03, -1.4839e-03, -1.4802e-03,\n",
      "        -1.4672e-03, -1.4430e-03, -1.4398e-03, -1.4245e-03, -1.3967e-03,\n",
      "        -1.3683e-03, -1.3445e-03, -1.3236e-03, -1.3205e-03, -1.3132e-03,\n",
      "        -1.3106e-03, -1.2904e-03, -1.2893e-03, -1.2878e-03, -1.2703e-03,\n",
      "        -1.2480e-03, -1.2408e-03, -1.2216e-03, -1.2189e-03, -1.1949e-03,\n",
      "        -1.1944e-03, -1.1831e-03, -1.1605e-03, -1.1402e-03, -1.1305e-03,\n",
      "        -1.1248e-03, -1.1191e-03, -1.0891e-03, -1.0823e-03, -1.0747e-03,\n",
      "        -1.0569e-03, -1.0474e-03, -1.0409e-03, -1.0327e-03, -1.0319e-03,\n",
      "        -1.0167e-03, -1.0122e-03, -1.0121e-03, -9.8855e-04, -9.8334e-04,\n",
      "        -9.7525e-04, -9.6777e-04, -9.5112e-04, -9.4443e-04, -9.3374e-04,\n",
      "        -9.2444e-04, -9.1235e-04, -9.1049e-04, -9.0127e-04, -8.9854e-04,\n",
      "        -8.8937e-04, -8.8489e-04, -8.4237e-04, -8.3715e-04, -8.2042e-04,\n",
      "        -8.1625e-04, -8.1624e-04, -8.1083e-04, -8.0921e-04, -7.9343e-04,\n",
      "        -7.9044e-04, -7.8343e-04, -7.8289e-04, -7.7096e-04, -7.6714e-04,\n",
      "        -7.5104e-04, -7.3503e-04, -7.3239e-04, -7.2815e-04, -7.2679e-04,\n",
      "        -7.0131e-04, -6.9641e-04, -6.7179e-04, -6.7118e-04, -6.6861e-04,\n",
      "        -6.6100e-04, -6.5895e-04, -6.5119e-04, -6.5055e-04, -6.3853e-04,\n",
      "        -6.3532e-04, -6.2579e-04, -6.0609e-04, -6.0286e-04, -6.0241e-04,\n",
      "        -5.9214e-04, -5.8757e-04, -5.8375e-04, -5.7958e-04, -5.5802e-04,\n",
      "        -5.5674e-04, -5.5450e-04, -5.4740e-04, -5.4309e-04, -5.4270e-04,\n",
      "        -5.4008e-04, -5.4006e-04, -5.3656e-04, -5.2700e-04, -5.2302e-04,\n",
      "        -5.2262e-04, -5.2019e-04, -5.0809e-04, -5.0791e-04, -5.0727e-04,\n",
      "        -5.0547e-04, -4.9646e-04, -4.9639e-04, -4.8407e-04, -4.7828e-04,\n",
      "        -4.6385e-04, -4.5421e-04, -4.4681e-04, -4.4548e-04, -4.3196e-04,\n",
      "        -4.2875e-04, -4.2516e-04, -4.2296e-04, -4.2094e-04, -4.0881e-04,\n",
      "        -4.0549e-04, -4.0202e-04, -4.0114e-04, -3.8658e-04, -3.8386e-04,\n",
      "        -3.8247e-04, -3.8052e-04, -3.7457e-04, -3.7428e-04, -3.6515e-04,\n",
      "        -3.6385e-04, -3.4947e-04, -3.4732e-04, -3.4655e-04, -3.4216e-04,\n",
      "        -3.4120e-04, -3.3955e-04, -3.3040e-04, -3.2617e-04, -3.1657e-04,\n",
      "        -3.1192e-04, -3.0572e-04, -3.0551e-04, -2.9801e-04, -2.9343e-04,\n",
      "        -2.9089e-04, -2.8662e-04, -2.8358e-04, -2.8262e-04, -2.7610e-04,\n",
      "        -2.7363e-04, -2.6157e-04, -2.5153e-04, -2.5049e-04, -2.4560e-04,\n",
      "        -2.4164e-04, -2.2978e-04, -2.2923e-04, -2.1978e-04, -2.1775e-04,\n",
      "        -2.1672e-04, -2.1503e-04, -2.0799e-04, -1.9686e-04, -1.9479e-04,\n",
      "        -1.9068e-04, -1.8826e-04, -1.8713e-04, -1.8429e-04, -1.7861e-04,\n",
      "        -1.7768e-04, -1.7592e-04, -1.6646e-04, -1.6580e-04, -1.5999e-04,\n",
      "        -1.5598e-04, -1.5563e-04, -1.5144e-04, -1.4903e-04, -1.4763e-04,\n",
      "        -1.4757e-04, -1.4457e-04, -1.3961e-04, -1.3907e-04, -1.3437e-04,\n",
      "        -1.3355e-04, -1.3330e-04, -1.2170e-04, -1.1875e-04, -1.1544e-04,\n",
      "        -1.1403e-04, -1.0852e-04, -1.0659e-04, -1.0250e-04, -9.5458e-05,\n",
      "        -8.5360e-05, -8.2052e-05, -7.9952e-05, -7.8070e-05, -7.4837e-05,\n",
      "        -6.7860e-05, -6.7135e-05, -6.4977e-05, -6.0332e-05, -5.6076e-05,\n",
      "        -5.1934e-05, -5.1837e-05, -4.4886e-05, -4.4547e-05, -4.4511e-05,\n",
      "        -3.9174e-05, -3.2338e-05, -3.1057e-05, -2.1674e-05, -1.9613e-05,\n",
      "        -1.8888e-05, -1.5856e-05, -1.3483e-05, -1.2980e-05, -6.3001e-06,\n",
      "        -6.1238e-06, -4.8237e-06, -4.7373e-06, -3.6593e-06])\n",
      "  warnings.warn(f\"Negative eigenvalues encountered and removed: {eigenvalues[eigenvalues < 0]}\", RuntimeWarning)\n"
     ]
    },
    {
     "data": {
      "text/plain": [
       "torch.Size([6000, 9])"
      ]
     },
     "execution_count": 63,
     "metadata": {},
     "output_type": "execute_result"
    }
   ],
   "source": [
    "from utils_ import _lda as lda\n",
    "\n",
    "LDA = lda.LDA()\n",
    "LDA.fit(X_kpca, y_m_t)\n",
    "X_lda = LDA.transform(X_kpca)\n",
    "X_test_lda = LDA.transform(X_test_kpca)\n",
    "X_lda.shape"
   ]
  },
  {
   "cell_type": "code",
   "execution_count": 64,
   "metadata": {},
   "outputs": [
    {
     "name": "stdout",
     "output_type": "stream",
     "text": [
      "Accuracy: 78.50%\n"
     ]
    }
   ],
   "source": [
    "from utils_ import _models\n",
    "from sklearn.metrics import accuracy_score\n",
    "\n",
    "NC = _models.NearestCentroid()\n",
    "NC.fit(X_lda, y_m_t)\n",
    "\n",
    "# Predict the labels for the test set \n",
    "y_pred = NC.predict(X_test_lda)\n",
    "accuracy = accuracy_score(y_test, y_pred.numpy()) \n",
    "print(f\"Accuracy: {accuracy * 100:.2f}%\")"
   ]
  },
  {
   "cell_type": "code",
   "execution_count": 65,
   "metadata": {},
   "outputs": [
    {
     "name": "stdout",
     "output_type": "stream",
     "text": [
      "The best accuracy is 88.30% with n_neighbors = 11\n"
     ]
    }
   ],
   "source": [
    "from sklearn.neighbors import KNeighborsClassifier as KNN\n",
    "\n",
    "acc_KNN = []\n",
    "\n",
    "for k in range(1,20):\n",
    "    knn = KNN(n_neighbors=k, n_jobs=-1)\n",
    "\n",
    "    knn.fit(X_lda.numpy(), y_mini)\n",
    "    score = knn.score(X_test_lda.numpy(), y_test)\n",
    "\n",
    "    acc_KNN.append(score)\n",
    "\n",
    "best_acc = max(acc_KNN)\n",
    "best_k = acc_KNN.index(best_acc)\n",
    "best_k_value = range(1,20,2)[best_k]\n",
    "\n",
    "print(f'The best accuracy is {best_acc*100:.2f}% with n_neighbors = {best_k_value}')"
   ]
  },
  {
   "cell_type": "markdown",
   "metadata": {},
   "source": [
    "for the 95% looking best params for svc and checking its new scores"
   ]
  },
  {
   "cell_type": "code",
   "execution_count": 58,
   "metadata": {},
   "outputs": [
    {
     "name": "stdout",
     "output_type": "stream",
     "text": [
      "Fitting 5 folds for each of 15 candidates, totalling 75 fits\n",
      "[CV 1/5; 1/15] START C=5, gamma=7e-20, kernel=rbf...............................\n",
      "[CV 1/5; 1/15] END C=5, gamma=7e-20, kernel=rbf;, score=0.869 total time=   0.7s\n",
      "[CV 2/5; 1/15] START C=5, gamma=7e-20, kernel=rbf...............................\n",
      "[CV 2/5; 1/15] END C=5, gamma=7e-20, kernel=rbf;, score=0.899 total time=   0.7s\n",
      "[CV 3/5; 1/15] START C=5, gamma=7e-20, kernel=rbf...............................\n",
      "[CV 3/5; 1/15] END C=5, gamma=7e-20, kernel=rbf;, score=0.902 total time=   0.7s\n",
      "[CV 4/5; 1/15] START C=5, gamma=7e-20, kernel=rbf...............................\n",
      "[CV 4/5; 1/15] END C=5, gamma=7e-20, kernel=rbf;, score=0.883 total time=   0.7s\n",
      "[CV 5/5; 1/15] START C=5, gamma=7e-20, kernel=rbf...............................\n",
      "[CV 5/5; 1/15] END C=5, gamma=7e-20, kernel=rbf;, score=0.905 total time=   0.7s\n",
      "[CV 1/5; 2/15] START C=5, gamma=8e-20, kernel=rbf...............................\n",
      "[CV 1/5; 2/15] END C=5, gamma=8e-20, kernel=rbf;, score=0.869 total time=   0.7s\n",
      "[CV 2/5; 2/15] START C=5, gamma=8e-20, kernel=rbf...............................\n",
      "[CV 2/5; 2/15] END C=5, gamma=8e-20, kernel=rbf;, score=0.899 total time=   0.7s\n",
      "[CV 3/5; 2/15] START C=5, gamma=8e-20, kernel=rbf...............................\n",
      "[CV 3/5; 2/15] END C=5, gamma=8e-20, kernel=rbf;, score=0.902 total time=   0.7s\n",
      "[CV 4/5; 2/15] START C=5, gamma=8e-20, kernel=rbf...............................\n",
      "[CV 4/5; 2/15] END C=5, gamma=8e-20, kernel=rbf;, score=0.884 total time=   0.7s\n",
      "[CV 5/5; 2/15] START C=5, gamma=8e-20, kernel=rbf...............................\n",
      "[CV 5/5; 2/15] END C=5, gamma=8e-20, kernel=rbf;, score=0.905 total time=   0.7s\n",
      "[CV 1/5; 3/15] START C=5, gamma=9e-20, kernel=rbf...............................\n",
      "[CV 1/5; 3/15] END C=5, gamma=9e-20, kernel=rbf;, score=0.869 total time=   0.7s\n",
      "[CV 2/5; 3/15] START C=5, gamma=9e-20, kernel=rbf...............................\n",
      "[CV 2/5; 3/15] END C=5, gamma=9e-20, kernel=rbf;, score=0.899 total time=   0.7s\n",
      "[CV 3/5; 3/15] START C=5, gamma=9e-20, kernel=rbf...............................\n",
      "[CV 3/5; 3/15] END C=5, gamma=9e-20, kernel=rbf;, score=0.901 total time=   0.7s\n",
      "[CV 4/5; 3/15] START C=5, gamma=9e-20, kernel=rbf...............................\n",
      "[CV 4/5; 3/15] END C=5, gamma=9e-20, kernel=rbf;, score=0.883 total time=   0.7s\n",
      "[CV 5/5; 3/15] START C=5, gamma=9e-20, kernel=rbf...............................\n",
      "[CV 5/5; 3/15] END C=5, gamma=9e-20, kernel=rbf;, score=0.905 total time=   0.7s\n",
      "[CV 1/5; 4/15] START C=5, gamma=1e-19, kernel=rbf...............................\n",
      "[CV 1/5; 4/15] END C=5, gamma=1e-19, kernel=rbf;, score=0.869 total time=   0.7s\n",
      "[CV 2/5; 4/15] START C=5, gamma=1e-19, kernel=rbf...............................\n",
      "[CV 2/5; 4/15] END C=5, gamma=1e-19, kernel=rbf;, score=0.899 total time=   0.7s\n",
      "[CV 3/5; 4/15] START C=5, gamma=1e-19, kernel=rbf...............................\n",
      "[CV 3/5; 4/15] END C=5, gamma=1e-19, kernel=rbf;, score=0.901 total time=   0.7s\n",
      "[CV 4/5; 4/15] START C=5, gamma=1e-19, kernel=rbf...............................\n",
      "[CV 4/5; 4/15] END C=5, gamma=1e-19, kernel=rbf;, score=0.884 total time=   0.7s\n",
      "[CV 5/5; 4/15] START C=5, gamma=1e-19, kernel=rbf...............................\n",
      "[CV 5/5; 4/15] END C=5, gamma=1e-19, kernel=rbf;, score=0.905 total time=   0.7s\n",
      "[CV 1/5; 5/15] START C=5, gamma=3e-19, kernel=rbf...............................\n",
      "[CV 1/5; 5/15] END C=5, gamma=3e-19, kernel=rbf;, score=0.869 total time=   0.7s\n",
      "[CV 2/5; 5/15] START C=5, gamma=3e-19, kernel=rbf...............................\n",
      "[CV 2/5; 5/15] END C=5, gamma=3e-19, kernel=rbf;, score=0.899 total time=   0.7s\n",
      "[CV 3/5; 5/15] START C=5, gamma=3e-19, kernel=rbf...............................\n",
      "[CV 3/5; 5/15] END C=5, gamma=3e-19, kernel=rbf;, score=0.901 total time=   0.7s\n",
      "[CV 4/5; 5/15] START C=5, gamma=3e-19, kernel=rbf...............................\n",
      "[CV 4/5; 5/15] END C=5, gamma=3e-19, kernel=rbf;, score=0.884 total time=   0.7s\n",
      "[CV 5/5; 5/15] START C=5, gamma=3e-19, kernel=rbf...............................\n",
      "[CV 5/5; 5/15] END C=5, gamma=3e-19, kernel=rbf;, score=0.905 total time=   0.7s\n",
      "[CV 1/5; 6/15] START C=7.5, gamma=7e-20, kernel=rbf.............................\n",
      "[CV 1/5; 6/15] END C=7.5, gamma=7e-20, kernel=rbf;, score=0.869 total time=   0.7s\n",
      "[CV 2/5; 6/15] START C=7.5, gamma=7e-20, kernel=rbf.............................\n",
      "[CV 2/5; 6/15] END C=7.5, gamma=7e-20, kernel=rbf;, score=0.899 total time=   0.7s\n",
      "[CV 3/5; 6/15] START C=7.5, gamma=7e-20, kernel=rbf.............................\n",
      "[CV 3/5; 6/15] END C=7.5, gamma=7e-20, kernel=rbf;, score=0.901 total time=   0.7s\n",
      "[CV 4/5; 6/15] START C=7.5, gamma=7e-20, kernel=rbf.............................\n",
      "[CV 4/5; 6/15] END C=7.5, gamma=7e-20, kernel=rbf;, score=0.884 total time=   0.7s\n",
      "[CV 5/5; 6/15] START C=7.5, gamma=7e-20, kernel=rbf.............................\n",
      "[CV 5/5; 6/15] END C=7.5, gamma=7e-20, kernel=rbf;, score=0.905 total time=   0.7s\n",
      "[CV 1/5; 7/15] START C=7.5, gamma=8e-20, kernel=rbf.............................\n",
      "[CV 1/5; 7/15] END C=7.5, gamma=8e-20, kernel=rbf;, score=0.869 total time=   0.7s\n",
      "[CV 2/5; 7/15] START C=7.5, gamma=8e-20, kernel=rbf.............................\n",
      "[CV 2/5; 7/15] END C=7.5, gamma=8e-20, kernel=rbf;, score=0.899 total time=   0.7s\n",
      "[CV 3/5; 7/15] START C=7.5, gamma=8e-20, kernel=rbf.............................\n",
      "[CV 3/5; 7/15] END C=7.5, gamma=8e-20, kernel=rbf;, score=0.901 total time=   0.7s\n",
      "[CV 4/5; 7/15] START C=7.5, gamma=8e-20, kernel=rbf.............................\n",
      "[CV 4/5; 7/15] END C=7.5, gamma=8e-20, kernel=rbf;, score=0.884 total time=   0.7s\n",
      "[CV 5/5; 7/15] START C=7.5, gamma=8e-20, kernel=rbf.............................\n",
      "[CV 5/5; 7/15] END C=7.5, gamma=8e-20, kernel=rbf;, score=0.905 total time=   0.7s\n",
      "[CV 1/5; 8/15] START C=7.5, gamma=9e-20, kernel=rbf.............................\n",
      "[CV 1/5; 8/15] END C=7.5, gamma=9e-20, kernel=rbf;, score=0.869 total time=   0.7s\n",
      "[CV 2/5; 8/15] START C=7.5, gamma=9e-20, kernel=rbf.............................\n",
      "[CV 2/5; 8/15] END C=7.5, gamma=9e-20, kernel=rbf;, score=0.899 total time=   0.7s\n",
      "[CV 3/5; 8/15] START C=7.5, gamma=9e-20, kernel=rbf.............................\n",
      "[CV 3/5; 8/15] END C=7.5, gamma=9e-20, kernel=rbf;, score=0.902 total time=   0.7s\n",
      "[CV 4/5; 8/15] START C=7.5, gamma=9e-20, kernel=rbf.............................\n",
      "[CV 4/5; 8/15] END C=7.5, gamma=9e-20, kernel=rbf;, score=0.884 total time=   0.7s\n",
      "[CV 5/5; 8/15] START C=7.5, gamma=9e-20, kernel=rbf.............................\n",
      "[CV 5/5; 8/15] END C=7.5, gamma=9e-20, kernel=rbf;, score=0.905 total time=   0.7s\n",
      "[CV 1/5; 9/15] START C=7.5, gamma=1e-19, kernel=rbf.............................\n",
      "[CV 1/5; 9/15] END C=7.5, gamma=1e-19, kernel=rbf;, score=0.869 total time=   0.7s\n",
      "[CV 2/5; 9/15] START C=7.5, gamma=1e-19, kernel=rbf.............................\n",
      "[CV 2/5; 9/15] END C=7.5, gamma=1e-19, kernel=rbf;, score=0.899 total time=   0.7s\n",
      "[CV 3/5; 9/15] START C=7.5, gamma=1e-19, kernel=rbf.............................\n",
      "[CV 3/5; 9/15] END C=7.5, gamma=1e-19, kernel=rbf;, score=0.901 total time=   0.7s\n",
      "[CV 4/5; 9/15] START C=7.5, gamma=1e-19, kernel=rbf.............................\n",
      "[CV 4/5; 9/15] END C=7.5, gamma=1e-19, kernel=rbf;, score=0.884 total time=   0.7s\n",
      "[CV 5/5; 9/15] START C=7.5, gamma=1e-19, kernel=rbf.............................\n",
      "[CV 5/5; 9/15] END C=7.5, gamma=1e-19, kernel=rbf;, score=0.905 total time=   0.7s\n",
      "[CV 1/5; 10/15] START C=7.5, gamma=3e-19, kernel=rbf............................\n",
      "[CV 1/5; 10/15] END C=7.5, gamma=3e-19, kernel=rbf;, score=0.869 total time=   0.7s\n",
      "[CV 2/5; 10/15] START C=7.5, gamma=3e-19, kernel=rbf............................\n",
      "[CV 2/5; 10/15] END C=7.5, gamma=3e-19, kernel=rbf;, score=0.899 total time=   0.7s\n",
      "[CV 3/5; 10/15] START C=7.5, gamma=3e-19, kernel=rbf............................\n",
      "[CV 3/5; 10/15] END C=7.5, gamma=3e-19, kernel=rbf;, score=0.902 total time=   0.7s\n",
      "[CV 4/5; 10/15] START C=7.5, gamma=3e-19, kernel=rbf............................\n",
      "[CV 4/5; 10/15] END C=7.5, gamma=3e-19, kernel=rbf;, score=0.884 total time=   0.7s\n",
      "[CV 5/5; 10/15] START C=7.5, gamma=3e-19, kernel=rbf............................\n",
      "[CV 5/5; 10/15] END C=7.5, gamma=3e-19, kernel=rbf;, score=0.905 total time=   0.7s\n",
      "[CV 1/5; 11/15] START C=10, gamma=7e-20, kernel=rbf.............................\n",
      "[CV 1/5; 11/15] END C=10, gamma=7e-20, kernel=rbf;, score=0.869 total time=   0.7s\n",
      "[CV 2/5; 11/15] START C=10, gamma=7e-20, kernel=rbf.............................\n",
      "[CV 2/5; 11/15] END C=10, gamma=7e-20, kernel=rbf;, score=0.899 total time=   0.7s\n",
      "[CV 3/5; 11/15] START C=10, gamma=7e-20, kernel=rbf.............................\n",
      "[CV 3/5; 11/15] END C=10, gamma=7e-20, kernel=rbf;, score=0.902 total time=   0.7s\n",
      "[CV 4/5; 11/15] START C=10, gamma=7e-20, kernel=rbf.............................\n",
      "[CV 4/5; 11/15] END C=10, gamma=7e-20, kernel=rbf;, score=0.883 total time=   0.7s\n",
      "[CV 5/5; 11/15] START C=10, gamma=7e-20, kernel=rbf.............................\n",
      "[CV 5/5; 11/15] END C=10, gamma=7e-20, kernel=rbf;, score=0.905 total time=   0.7s\n",
      "[CV 1/5; 12/15] START C=10, gamma=8e-20, kernel=rbf.............................\n",
      "[CV 1/5; 12/15] END C=10, gamma=8e-20, kernel=rbf;, score=0.869 total time=   0.7s\n",
      "[CV 2/5; 12/15] START C=10, gamma=8e-20, kernel=rbf.............................\n",
      "[CV 2/5; 12/15] END C=10, gamma=8e-20, kernel=rbf;, score=0.899 total time=   0.7s\n",
      "[CV 3/5; 12/15] START C=10, gamma=8e-20, kernel=rbf.............................\n",
      "[CV 3/5; 12/15] END C=10, gamma=8e-20, kernel=rbf;, score=0.902 total time=   0.7s\n",
      "[CV 4/5; 12/15] START C=10, gamma=8e-20, kernel=rbf.............................\n",
      "[CV 4/5; 12/15] END C=10, gamma=8e-20, kernel=rbf;, score=0.884 total time=   0.7s\n",
      "[CV 5/5; 12/15] START C=10, gamma=8e-20, kernel=rbf.............................\n",
      "[CV 5/5; 12/15] END C=10, gamma=8e-20, kernel=rbf;, score=0.905 total time=   0.7s\n",
      "[CV 1/5; 13/15] START C=10, gamma=9e-20, kernel=rbf.............................\n",
      "[CV 1/5; 13/15] END C=10, gamma=9e-20, kernel=rbf;, score=0.869 total time=   0.7s\n",
      "[CV 2/5; 13/15] START C=10, gamma=9e-20, kernel=rbf.............................\n",
      "[CV 2/5; 13/15] END C=10, gamma=9e-20, kernel=rbf;, score=0.899 total time=   0.7s\n",
      "[CV 3/5; 13/15] START C=10, gamma=9e-20, kernel=rbf.............................\n",
      "[CV 3/5; 13/15] END C=10, gamma=9e-20, kernel=rbf;, score=0.901 total time=   0.7s\n",
      "[CV 4/5; 13/15] START C=10, gamma=9e-20, kernel=rbf.............................\n",
      "[CV 4/5; 13/15] END C=10, gamma=9e-20, kernel=rbf;, score=0.883 total time=   0.7s\n",
      "[CV 5/5; 13/15] START C=10, gamma=9e-20, kernel=rbf.............................\n",
      "[CV 5/5; 13/15] END C=10, gamma=9e-20, kernel=rbf;, score=0.905 total time=   0.7s\n",
      "[CV 1/5; 14/15] START C=10, gamma=1e-19, kernel=rbf.............................\n",
      "[CV 1/5; 14/15] END C=10, gamma=1e-19, kernel=rbf;, score=0.869 total time=   0.7s\n",
      "[CV 2/5; 14/15] START C=10, gamma=1e-19, kernel=rbf.............................\n",
      "[CV 2/5; 14/15] END C=10, gamma=1e-19, kernel=rbf;, score=0.899 total time=   0.7s\n",
      "[CV 3/5; 14/15] START C=10, gamma=1e-19, kernel=rbf.............................\n",
      "[CV 3/5; 14/15] END C=10, gamma=1e-19, kernel=rbf;, score=0.901 total time=   0.7s\n",
      "[CV 4/5; 14/15] START C=10, gamma=1e-19, kernel=rbf.............................\n",
      "[CV 4/5; 14/15] END C=10, gamma=1e-19, kernel=rbf;, score=0.884 total time=   0.7s\n",
      "[CV 5/5; 14/15] START C=10, gamma=1e-19, kernel=rbf.............................\n",
      "[CV 5/5; 14/15] END C=10, gamma=1e-19, kernel=rbf;, score=0.905 total time=   0.7s\n",
      "[CV 1/5; 15/15] START C=10, gamma=3e-19, kernel=rbf.............................\n",
      "[CV 1/5; 15/15] END C=10, gamma=3e-19, kernel=rbf;, score=0.869 total time=   0.7s\n",
      "[CV 2/5; 15/15] START C=10, gamma=3e-19, kernel=rbf.............................\n",
      "[CV 2/5; 15/15] END C=10, gamma=3e-19, kernel=rbf;, score=0.899 total time=   0.7s\n",
      "[CV 3/5; 15/15] START C=10, gamma=3e-19, kernel=rbf.............................\n",
      "[CV 3/5; 15/15] END C=10, gamma=3e-19, kernel=rbf;, score=0.901 total time=   0.7s\n",
      "[CV 4/5; 15/15] START C=10, gamma=3e-19, kernel=rbf.............................\n",
      "[CV 4/5; 15/15] END C=10, gamma=3e-19, kernel=rbf;, score=0.884 total time=   0.7s\n",
      "[CV 5/5; 15/15] START C=10, gamma=3e-19, kernel=rbf.............................\n",
      "[CV 5/5; 15/15] END C=10, gamma=3e-19, kernel=rbf;, score=0.905 total time=   0.7s\n",
      "Durratio: 60.390358448028564\n",
      "{'C': 5, 'gamma': 8e-20, 'kernel': 'rbf'}\n"
     ]
    }
   ],
   "source": [
    "from sklearn.svm import SVC\n",
    "from sklearn.model_selection import GridSearchCV\n",
    "import time \n",
    "s_time=time.time()\n",
    "param_grid = [{'C':[5, 7.5,10], 'gamma':[7e-20, 8e-20, 9e-20, 1e-19,3e-19], 'kernel':['rbf']}]\n",
    "grid = GridSearchCV(SVC(), param_grid, verbose=10)\n",
    "grid.fit(X_lda.numpy(), y_mini)\n",
    "y_pred = grid.predict(X_test_lda.numpy())\n",
    "f_time = time.time()\n",
    "print(f'Durratio: {f_time-s_time}')\n",
    "best_params = grid.best_params_\n",
    "print(best_params)"
   ]
  },
  {
   "cell_type": "code",
   "execution_count": 59,
   "metadata": {},
   "outputs": [
    {
     "name": "stdout",
     "output_type": "stream",
     "text": [
      "Accuracy: 0.845\n"
     ]
    }
   ],
   "source": [
    "from sklearn import metrics\n",
    "print(f'Accuracy: {metrics.accuracy_score(y_true=y_test, y_pred = y_pred)}')"
   ]
  },
  {
   "cell_type": "markdown",
   "metadata": {},
   "source": [
    "## 'rbf' kernel"
   ]
  },
  {
   "cell_type": "markdown",
   "metadata": {},
   "source": [
    "### kPCA"
   ]
  },
  {
   "cell_type": "code",
   "execution_count": 12,
   "metadata": {},
   "outputs": [
    {
     "name": "stdout",
     "output_type": "stream",
     "text": [
      "0.00025\n",
      "0.0010255102040816325\n"
     ]
    }
   ],
   "source": [
    "#the auto gamma in sklearn\n",
    "a = 1 / X_m_t.shape[1]\n",
    "g = 2.5e-04\n",
    "print(g)\n",
    "print(a-g)"
   ]
  },
  {
   "cell_type": "code",
   "execution_count": 13,
   "metadata": {},
   "outputs": [
    {
     "name": "stdout",
     "output_type": "stream",
     "text": [
      " \n",
      " ---- STARTING custom KPCA ---- \n"
     ]
    },
    {
     "name": "stderr",
     "output_type": "stream",
     "text": [
      "c:\\Users\\dimos\\PyProjecks\\KPCA_LDA_v2\\utils_\\_kPCA.py:122: RuntimeWarning: Negative or near-zero eigenvalues encountered and removed: tensor([-2.0762e-05])\n",
      "  warnings.warn(\n"
     ]
    },
    {
     "name": "stdout",
     "output_type": "stream",
     "text": [
      "The shape of train after xkpca  torch.Size([6000, 784])\n",
      "The shape of test after xkpca  torch.Size([1000, 784])\n",
      "---- KPCA took  21414  ms----\n"
     ]
    }
   ],
   "source": [
    "from utils_ import _kPCA\n",
    "import time \n",
    "\n",
    "startKpca = int(round(time.time() * 1000))\n",
    "\n",
    "print(\" \")\n",
    "print(\" ---- STARTING custom KPCA ---- \")\n",
    "\n",
    "kpca = _kPCA.KPCA(n_components=784, kernel_type='rbf', gamma=g)\n",
    "kpca.fit(X_m_t)\n",
    "X_kpca = kpca.transform(X_m_t)\n",
    "X_test_kpca = kpca.transform(X_test_t)\n",
    "\n",
    "print(\"The shape of train after xkpca \", X_kpca.shape )\n",
    "print(\"The shape of test after xkpca \", X_test_kpca.shape )\n",
    "\n",
    "# stop the kpca timer\n",
    "endKpca = int(round(time.time() * 1000))\n",
    "\n",
    "print(\"---- KPCA took \", (endKpca-startKpca), \" ms----\")"
   ]
  },
  {
   "cell_type": "code",
   "execution_count": 16,
   "metadata": {},
   "outputs": [],
   "source": [
    "explained_variance = kpca.explained_var  \n",
    "explained_variance_ratio = explained_variance / torch.sum(explained_variance)"
   ]
  },
  {
   "cell_type": "code",
   "execution_count": 17,
   "metadata": {},
   "outputs": [
    {
     "data": {
      "image/png": "[encoded data removed]",
      "text/plain": [
       "<Figure size 640x480 with 1 Axes>"
      ]
     },
     "metadata": {},
     "output_type": "display_data"
    },
    {
     "data": {
      "text/plain": [
       "None"
      ]
     },
     "metadata": {},
     "output_type": "display_data"
    }
   ],
   "source": [
    "import seaborn as sns\n",
    "import matplotlib.pyplot as plt\n",
    "\n",
    "sns.set_theme(style='whitegrid')\n",
    "plt.plot(np.cumsum(explained_variance_ratio.numpy()))\n",
    "plt.title('Kernel: RBF', fontsize=16)\n",
    "plt.xlabel('num of components')\n",
    "plt.ylabel('cumulative explained variance')\n",
    "display(plt.show())"
   ]
  },
  {
   "cell_type": "code",
   "execution_count": 111,
   "metadata": {},
   "outputs": [],
   "source": [
    "import pandas as pd\n",
    "\n",
    "evr = explained_variance_ratio.numpy()\n",
    "crv = np.cumsum(explained_variance_ratio.numpy())\n",
    "kpca_df  = pd.DataFrame()\n",
    "kpca_df['cumsum_explained_var'] = crv\n",
    "kpca_df['explainde_var_ratio'] = evr"
   ]
  },
  {
   "cell_type": "code",
   "execution_count": 112,
   "metadata": {},
   "outputs": [
    {
     "name": "stdout",
     "output_type": "stream",
     "text": [
      "Indexes where cumsum_explained_var > 0.95: [206, 207, 208, 209, 210, 211, 212, 213, 214, 215, 216, 217, 218, 219, 220, 221, 222, 223, 224, 225, 226, 227, 228, 229, 230, 231, 232, 233, 234, 235, 236, 237, 238, 239, 240, 241, 242, 243, 244, 245, 246, 247, 248, 249, 250, 251, 252, 253, 254, 255, 256, 257, 258, 259, 260, 261, 262, 263, 264, 265, 266, 267, 268, 269, 270, 271, 272, 273, 274, 275, 276, 277, 278, 279, 280, 281, 282, 283, 284, 285, 286, 287, 288, 289, 290, 291, 292, 293, 294, 295, 296, 297, 298, 299, 300, 301, 302, 303, 304, 305, 306, 307, 308, 309, 310, 311, 312, 313, 314, 315, 316, 317, 318, 319, 320, 321, 322, 323, 324, 325, 326, 327, 328, 329, 330, 331, 332, 333, 334, 335, 336, 337, 338, 339, 340, 341, 342, 343, 344, 345, 346, 347, 348, 349, 350, 351, 352, 353, 354, 355, 356, 357, 358, 359, 360, 361, 362, 363, 364, 365, 366, 367, 368, 369, 370, 371, 372, 373, 374, 375, 376, 377, 378, 379, 380, 381, 382, 383, 384, 385, 386, 387, 388, 389, 390, 391, 392, 393, 394, 395, 396, 397, 398, 399, 400, 401, 402, 403, 404, 405, 406, 407, 408, 409, 410, 411, 412, 413, 414, 415, 416, 417, 418, 419, 420, 421, 422, 423, 424, 425, 426, 427, 428, 429, 430, 431, 432, 433, 434, 435, 436, 437, 438, 439, 440, 441, 442, 443, 444, 445, 446, 447, 448, 449, 450, 451, 452, 453, 454, 455, 456, 457, 458, 459, 460, 461, 462, 463, 464, 465, 466, 467, 468, 469, 470, 471, 472, 473, 474, 475, 476, 477, 478, 479, 480, 481, 482, 483, 484, 485, 486, 487, 488, 489, 490, 491, 492, 493, 494, 495, 496, 497, 498, 499, 500, 501, 502, 503, 504, 505, 506, 507, 508, 509, 510, 511, 512, 513, 514, 515, 516, 517, 518, 519, 520, 521, 522, 523, 524, 525, 526, 527, 528, 529, 530, 531, 532, 533, 534, 535, 536, 537, 538, 539, 540, 541, 542, 543, 544, 545, 546, 547, 548, 549, 550, 551, 552, 553, 554, 555, 556, 557, 558, 559, 560, 561, 562, 563, 564, 565, 566, 567, 568, 569, 570, 571, 572, 573, 574, 575, 576, 577, 578, 579, 580, 581, 582, 583, 584, 585, 586, 587, 588, 589, 590, 591, 592, 593, 594, 595, 596, 597, 598, 599, 600, 601, 602, 603, 604, 605, 606, 607, 608, 609, 610, 611, 612, 613, 614, 615, 616, 617, 618, 619, 620, 621, 622, 623, 624, 625, 626, 627, 628, 629, 630, 631, 632, 633, 634, 635, 636, 637, 638, 639, 640, 641, 642, 643, 644, 645, 646, 647, 648, 649, 650, 651, 652, 653, 654, 655, 656, 657, 658, 659, 660, 661, 662, 663, 664, 665, 666, 667, 668, 669, 670, 671, 672, 673, 674, 675, 676, 677, 678, 679, 680, 681, 682, 683, 684, 685, 686, 687, 688, 689, 690, 691, 692, 693, 694, 695, 696, 697, 698, 699, 700, 701, 702, 703, 704, 705, 706, 707, 708, 709, 710, 711, 712, 713, 714, 715, 716, 717, 718, 719, 720, 721, 722, 723, 724, 725, 726, 727, 728, 729, 730, 731, 732, 733, 734, 735, 736, 737, 738, 739, 740, 741, 742, 743, 744, 745, 746, 747, 748, 749, 750, 751, 752, 753, 754, 755, 756, 757, 758, 759, 760, 761, 762, 763, 764, 765, 766, 767, 768, 769, 770, 771, 772, 773, 774, 775, 776, 777, 778, 779, 780, 781, 782, 783]\n"
     ]
    }
   ],
   "source": [
    "# Get the indexes where cumsum_explained_var > 0.95\n",
    "indexes = kpca_df[kpca_df['cumsum_explained_var'] > 0.95].index.tolist()\n",
    "\n",
    "print(\"Indexes where cumsum_explained_var > 0.95:\", indexes)"
   ]
  },
  {
   "cell_type": "code",
   "execution_count": 114,
   "metadata": {},
   "outputs": [
    {
     "name": "stdout",
     "output_type": "stream",
     "text": [
      "Indexes where cumsum_explained_var > 0.95: [503, 504, 505, 506, 507, 508, 509, 510, 511, 512, 513, 514, 515, 516, 517, 518, 519, 520, 521, 522, 523, 524, 525, 526, 527, 528, 529, 530, 531, 532, 533, 534, 535, 536, 537, 538, 539, 540, 541, 542, 543, 544, 545, 546, 547, 548, 549, 550, 551, 552, 553, 554, 555, 556, 557, 558, 559, 560, 561, 562, 563, 564, 565, 566, 567, 568, 569, 570, 571, 572, 573, 574, 575, 576, 577, 578, 579, 580, 581, 582, 583, 584, 585, 586, 587, 588, 589, 590, 591, 592, 593, 594, 595, 596, 597, 598, 599, 600, 601, 602, 603, 604, 605, 606, 607, 608, 609, 610, 611, 612, 613, 614, 615, 616, 617, 618, 619, 620, 621, 622, 623, 624, 625, 626, 627, 628, 629, 630, 631, 632, 633, 634, 635, 636, 637, 638, 639, 640, 641, 642, 643, 644, 645, 646, 647, 648, 649, 650, 651, 652, 653, 654, 655, 656, 657, 658, 659, 660, 661, 662, 663, 664, 665, 666, 667, 668, 669, 670, 671, 672, 673, 674, 675, 676, 677, 678, 679, 680, 681, 682, 683, 684, 685, 686, 687, 688, 689, 690, 691, 692, 693, 694, 695, 696, 697, 698, 699, 700, 701, 702, 703, 704, 705, 706, 707, 708, 709, 710, 711, 712, 713, 714, 715, 716, 717, 718, 719, 720, 721, 722, 723, 724, 725, 726, 727, 728, 729, 730, 731, 732, 733, 734, 735, 736, 737, 738, 739, 740, 741, 742, 743, 744, 745, 746, 747, 748, 749, 750, 751, 752, 753, 754, 755, 756, 757, 758, 759, 760, 761, 762, 763, 764, 765, 766, 767, 768, 769, 770, 771, 772, 773, 774, 775, 776, 777, 778, 779, 780, 781, 782, 783]\n"
     ]
    }
   ],
   "source": [
    "# Get the indexes where cumsum_explained_var > 0.99\n",
    "indexes = kpca_df[kpca_df['cumsum_explained_var'] > 0.99].index.tolist()\n",
    "\n",
    "print(\"Indexes where cumsum_explained_var > 0.95:\", indexes)"
   ]
  },
  {
   "cell_type": "markdown",
   "metadata": {},
   "source": [
    "n_components = 206, για διατήρηση πληροφορίας στο 95%,\n",
    "\n",
    "n_components = 503, για διατήρηση πληροφορίας στο 99%"
   ]
  },
  {
   "cell_type": "markdown",
   "metadata": {},
   "source": [
    "95%"
   ]
  },
  {
   "cell_type": "code",
   "execution_count": null,
   "metadata": {},
   "outputs": [
    {
     "name": "stdout",
     "output_type": "stream",
     "text": [
      " \n",
      " ---- STARTING custom KPCA ---- \n"
     ]
    },
    {
     "name": "stderr",
     "output_type": "stream",
     "text": [
      "c:\\Users\\dimos\\PyProjecks\\KPCA_LDA_v2\\utils_\\_kPCA2.py:133: RuntimeWarning: Negative or near-zero eigenvalues encountered and removed: tensor([-2.0762e-05])\n",
      "  warnings.warn(\n"
     ]
    },
    {
     "name": "stdout",
     "output_type": "stream",
     "text": [
      "The shape of train after xkpca  torch.Size([6000, 206])\n",
      "The shape of test after xkpca  torch.Size([1000, 206])\n",
      "---- KPCA took  17231  ms----\n"
     ]
    }
   ],
   "source": [
    "from KPCA_LDA_v2.utils_ import _kPCA\n",
    "import time \n",
    "\n",
    "startKpca = int(round(time.time() * 1000))\n",
    "\n",
    "print(\" \")\n",
    "print(\" ---- STARTING custom KPCA ---- \")\n",
    "\n",
    "kpca = _kPCA.KPCA(n_components=206, kernel_type='rbf', gamma=g)#, gamma=a\n",
    "kpca.fit(X_m_t)\n",
    "X_kpca = kpca.transform(X_m_t)\n",
    "X_test_kpca = kpca.transform(X_test_t)\n",
    "\n",
    "print(\"The shape of train after xkpca \", X_kpca.shape )\n",
    "print(\"The shape of test after xkpca \", X_test_kpca.shape )\n",
    "\n",
    "# stop the kpca timer\n",
    "endKpca = int(round(time.time() * 1000))\n",
    "\n",
    "print(\"---- KPCA took \", (endKpca-startKpca), \" ms----\")"
   ]
  },
  {
   "cell_type": "code",
   "execution_count": 117,
   "metadata": {},
   "outputs": [
    {
     "name": "stdout",
     "output_type": "stream",
     "text": [
      "Accuracy: 78.60%\n"
     ]
    }
   ],
   "source": [
    "from sklearn.metrics import accuracy_score\n",
    "from utils_ import _models\n",
    "\n",
    "NC = _models.NearestCentroid()\n",
    "NC.fit(X_kpca, y_m_t)\n",
    "# Predict the labels for the test set \n",
    "y_pred = NC.predict(X_test_kpca)\n",
    "accuracy = accuracy_score(y_test_t.numpy(), y_pred.numpy()) \n",
    "print(f\"Accuracy: {accuracy * 100:.2f}%\")"
   ]
  },
  {
   "cell_type": "code",
   "execution_count": 118,
   "metadata": {},
   "outputs": [
    {
     "name": "stdout",
     "output_type": "stream",
     "text": [
      "The best accuracy is 92.10% with n_neighbors = 6\n"
     ]
    }
   ],
   "source": [
    "from sklearn.neighbors import KNeighborsClassifier as KNN\n",
    "\n",
    "acc_KNN = []\n",
    "\n",
    "for k in range(1,30):\n",
    "    knn = KNN(n_neighbors=k, n_jobs=-1)\n",
    "\n",
    "    knn.fit(X_kpca.numpy(), y_mini)\n",
    "    score = knn.score(X_test_kpca.numpy(), y_test)\n",
    "\n",
    "    acc_KNN.append(score)\n",
    "\n",
    "best_acc = max(acc_KNN)\n",
    "best_k = acc_KNN.index(best_acc)\n",
    "best_k_value = range(1,30)[best_k]\n",
    "\n",
    "print(f'The best accuracy is {best_acc*100:.2f}% with n_neighbors = {best_k_value}')"
   ]
  },
  {
   "cell_type": "code",
   "execution_count": 119,
   "metadata": {},
   "outputs": [
    {
     "name": "stderr",
     "output_type": "stream",
     "text": [
      "c:\\Users\\dimos\\PyProjecks\\KPCA_LDA_v2\\utils_\\_lda.py:145: RuntimeWarning: Negative eigenvalues encountered and removed: tensor([-1.6186e+01, -8.5225e+00, -7.4745e+00, -5.5414e+00, -4.6040e+00,\n",
      "        -3.5343e+00, -1.9406e+00, -1.7226e+00, -1.2656e+00, -5.9917e-01,\n",
      "        -2.6970e-01, -2.3029e-01, -2.2803e-01, -1.9029e-01, -1.5935e-01,\n",
      "        -1.4978e-01, -1.1982e-01, -1.1096e-01, -9.9470e-02, -9.4367e-02,\n",
      "        -8.7149e-02, -7.7798e-02, -7.0951e-02, -6.2203e-02, -5.7717e-02,\n",
      "        -5.3640e-02, -5.0112e-02, -4.8509e-02, -4.4744e-02, -4.0019e-02,\n",
      "        -3.8084e-02, -3.4430e-02, -3.1831e-02, -3.0769e-02, -2.8215e-02,\n",
      "        -2.6114e-02, -2.4435e-02, -2.2101e-02, -2.1156e-02, -1.9730e-02,\n",
      "        -1.7815e-02, -1.7181e-02, -1.6335e-02, -1.5933e-02, -1.4848e-02,\n",
      "        -1.4158e-02, -1.2557e-02, -1.2078e-02, -1.1381e-02, -1.1297e-02,\n",
      "        -1.0715e-02, -1.0062e-02, -9.4562e-03, -8.8167e-03, -8.6751e-03,\n",
      "        -8.4825e-03, -8.2881e-03, -8.0380e-03, -7.1950e-03, -6.6016e-03,\n",
      "        -6.3525e-03, -6.1330e-03, -5.8872e-03, -5.6922e-03, -5.5334e-03,\n",
      "        -5.3047e-03, -5.0776e-03, -4.9816e-03, -4.5636e-03, -4.4100e-03,\n",
      "        -4.2001e-03, -3.9972e-03, -3.8773e-03, -3.7598e-03, -3.7594e-03,\n",
      "        -3.5325e-03, -3.4759e-03, -3.3406e-03, -3.2243e-03, -3.1316e-03,\n",
      "        -3.0515e-03, -2.9818e-03, -2.9462e-03, -2.8997e-03, -2.7868e-03,\n",
      "        -2.6696e-03, -2.5931e-03, -2.5231e-03, -2.3967e-03, -2.3198e-03,\n",
      "        -2.2976e-03, -2.1641e-03, -2.1019e-03, -2.0272e-03, -1.9571e-03,\n",
      "        -1.9146e-03, -1.8895e-03, -1.8178e-03, -1.6996e-03, -1.6562e-03,\n",
      "        -1.6375e-03, -1.6165e-03, -1.5144e-03, -1.4850e-03, -1.4069e-03,\n",
      "        -1.3866e-03, -1.3305e-03, -1.2837e-03, -1.2565e-03, -1.2361e-03,\n",
      "        -1.2047e-03, -1.1713e-03, -1.1559e-03, -1.1291e-03, -1.1203e-03,\n",
      "        -1.0553e-03, -1.0266e-03, -1.0201e-03, -9.9108e-04, -9.6264e-04,\n",
      "        -9.4575e-04, -8.9349e-04, -8.7807e-04, -8.5098e-04, -8.3195e-04,\n",
      "        -8.1450e-04, -8.0324e-04, -7.8825e-04, -7.6384e-04, -7.3008e-04,\n",
      "        -7.2800e-04, -7.1888e-04, -7.0541e-04, -7.0068e-04, -6.7603e-04,\n",
      "        -6.6160e-04, -6.3934e-04, -6.1822e-04, -6.0961e-04, -5.8229e-04,\n",
      "        -5.7211e-04, -5.6884e-04, -5.3577e-04, -5.3131e-04, -5.1153e-04,\n",
      "        -5.0184e-04, -4.9376e-04, -4.8546e-04, -4.7249e-04, -4.5082e-04,\n",
      "        -4.2958e-04, -4.1411e-04, -4.1302e-04, -3.8872e-04, -3.7557e-04,\n",
      "        -3.5850e-04, -3.5564e-04, -3.4957e-04, -3.4892e-04, -3.4579e-04,\n",
      "        -3.4462e-04, -3.1876e-04, -3.1701e-04, -3.1465e-04, -3.0827e-04,\n",
      "        -2.9690e-04, -2.9652e-04, -2.8301e-04, -2.7338e-04, -2.6522e-04,\n",
      "        -2.6384e-04, -2.3682e-04, -2.3556e-04, -2.2995e-04, -2.2755e-04,\n",
      "        -2.0592e-04, -1.9753e-04, -1.9463e-04, -1.8168e-04, -1.8019e-04,\n",
      "        -1.7556e-04, -1.6769e-04, -1.6674e-04, -1.5765e-04, -1.5503e-04,\n",
      "        -1.4847e-04, -1.3892e-04, -1.3244e-04, -1.2275e-04, -1.2270e-04,\n",
      "        -1.1484e-04, -1.1380e-04, -1.0047e-04, -7.0101e-05, -6.9946e-05,\n",
      "        -5.7932e-05, -5.3962e-05])\n",
      "  warnings.warn(f\"Negative eigenvalues encountered and removed: {eigenvalues[eigenvalues < 0]}\", RuntimeWarning)\n"
     ]
    },
    {
     "data": {
      "text/plain": [
       "torch.Size([6000, 9])"
      ]
     },
     "execution_count": 119,
     "metadata": {},
     "output_type": "execute_result"
    }
   ],
   "source": [
    "from utils_ import _lda as lda\n",
    "\n",
    "LDA = lda.LDA()\n",
    "LDA.fit(X_kpca, y_m_t)\n",
    "X_lda = LDA.transform(X_kpca)\n",
    "X_test_lda = LDA.transform(X_test_kpca)\n",
    "X_lda.shape"
   ]
  },
  {
   "cell_type": "code",
   "execution_count": 120,
   "metadata": {},
   "outputs": [
    {
     "name": "stdout",
     "output_type": "stream",
     "text": [
      "Accuracy: 82.70%\n"
     ]
    }
   ],
   "source": [
    "from utils_ import _models\n",
    "from sklearn.metrics import accuracy_score\n",
    "\n",
    "NC = _models.NearestCentroid()\n",
    "NC.fit(X_lda, y_m_t)\n",
    "\n",
    "# Predict the labels for the test set \n",
    "y_pred = NC.predict(X_test_lda)\n",
    "accuracy = accuracy_score(y_test, y_pred.numpy()) \n",
    "print(f\"Accuracy: {accuracy * 100:.2f}%\")"
   ]
  },
  {
   "cell_type": "code",
   "execution_count": 121,
   "metadata": {},
   "outputs": [
    {
     "name": "stdout",
     "output_type": "stream",
     "text": [
      "The best accuracy is 89.50% with n_neighbors = 4\n"
     ]
    }
   ],
   "source": [
    "from sklearn.neighbors import KNeighborsClassifier as KNN\n",
    "\n",
    "acc_KNN = []\n",
    "\n",
    "for k in range(1,30):\n",
    "    knn = KNN(n_neighbors=k, n_jobs=-1)\n",
    "\n",
    "    knn.fit(X_lda.numpy(), y_mini)\n",
    "    score = knn.score(X_test_lda.numpy(), y_test)\n",
    "\n",
    "    acc_KNN.append(score)\n",
    "\n",
    "best_acc = max(acc_KNN)\n",
    "best_k = acc_KNN.index(best_acc)\n",
    "best_k_value = range(1,30)[best_k]\n",
    "\n",
    "print(f'The best accuracy is {best_acc*100:.2f}% with n_neighbors = {best_k_value}')"
   ]
  },
  {
   "cell_type": "markdown",
   "metadata": {},
   "source": [
    "99%"
   ]
  },
  {
   "cell_type": "code",
   "execution_count": null,
   "metadata": {},
   "outputs": [
    {
     "name": "stdout",
     "output_type": "stream",
     "text": [
      " \n",
      " ---- STARTING custom KPCA ---- \n"
     ]
    },
    {
     "name": "stderr",
     "output_type": "stream",
     "text": [
      "c:\\Users\\dimos\\PyProjecks\\KPCA_LDA_v2\\utils_\\_kPCA2.py:133: RuntimeWarning: Negative or near-zero eigenvalues encountered and removed: tensor([-2.0762e-05])\n",
      "  warnings.warn(\n"
     ]
    },
    {
     "name": "stdout",
     "output_type": "stream",
     "text": [
      "The shape of train after xkpca  torch.Size([6000, 503])\n",
      "The shape of test after xkpca  torch.Size([1000, 503])\n",
      "---- KPCA took  16219  ms----\n"
     ]
    }
   ],
   "source": [
    "from KPCA_LDA_v2.utils_ import _kPCA\n",
    "import time \n",
    "\n",
    "startKpca = int(round(time.time() * 1000))\n",
    "\n",
    "print(\" \")\n",
    "print(\" ---- STARTING custom KPCA ---- \")\n",
    "\n",
    "kpca = _kPCA.KPCA(n_components=503, kernel_type='rbf', gamma=g)#, gamma=a\n",
    "kpca.fit(X_m_t)\n",
    "X_kpca = kpca.transform(X_m_t)\n",
    "X_test_kpca = kpca.transform(X_test_t)\n",
    "\n",
    "print(\"The shape of train after xkpca \", X_kpca.shape )\n",
    "print(\"The shape of test after xkpca \", X_test_kpca.shape )\n",
    "\n",
    "# stop the kpca timer\n",
    "endKpca = int(round(time.time() * 1000))\n",
    "\n",
    "print(\"---- KPCA took \", (endKpca-startKpca), \" ms----\")"
   ]
  },
  {
   "cell_type": "code",
   "execution_count": 135,
   "metadata": {},
   "outputs": [
    {
     "name": "stdout",
     "output_type": "stream",
     "text": [
      "Accuracy: 78.70%\n"
     ]
    }
   ],
   "source": [
    "from sklearn.metrics import accuracy_score\n",
    "from utils_ import _models\n",
    "\n",
    "NC = _models.NearestCentroid()\n",
    "NC.fit(X_kpca, y_m_t)\n",
    "# Predict the labels for the test set \n",
    "y_pred = NC.predict(X_test_kpca)\n",
    "accuracy = accuracy_score(y_test_t.numpy(), y_pred.numpy()) \n",
    "print(f\"Accuracy: {accuracy * 100:.2f}%\")"
   ]
  },
  {
   "cell_type": "code",
   "execution_count": 136,
   "metadata": {},
   "outputs": [
    {
     "name": "stdout",
     "output_type": "stream",
     "text": [
      "The best accuracy is 92.10% with n_neighbors = 6\n"
     ]
    }
   ],
   "source": [
    "from sklearn.neighbors import KNeighborsClassifier as KNN\n",
    "\n",
    "acc_KNN = []\n",
    "\n",
    "for k in range(1,30):\n",
    "    knn = KNN(n_neighbors=k, n_jobs=-1)\n",
    "\n",
    "    knn.fit(X_kpca.numpy(), y_mini)\n",
    "    score = knn.score(X_test_kpca.numpy(), y_test)\n",
    "\n",
    "    acc_KNN.append(score)\n",
    "\n",
    "best_acc = max(acc_KNN)\n",
    "best_k = acc_KNN.index(best_acc)\n",
    "best_k_value = range(1,30)[best_k]\n",
    "\n",
    "print(f'The best accuracy is {best_acc*100:.2f}% with n_neighbors = {best_k_value}')"
   ]
  },
  {
   "cell_type": "code",
   "execution_count": 137,
   "metadata": {},
   "outputs": [
    {
     "name": "stderr",
     "output_type": "stream",
     "text": [
      "c:\\Users\\dimos\\PyProjecks\\KPCA_LDA_v2\\utils_\\_lda.py:145: RuntimeWarning: Negative eigenvalues encountered and removed: tensor([-6.7486e+01, -4.0853e+01, -3.3333e+01, -3.0078e+01, -2.2056e+01,\n",
      "        -1.5202e+01, -1.2732e+01, -9.3434e+00, -5.9945e+00, -1.2093e+00,\n",
      "        -7.7163e-01, -5.9711e-01, -4.5329e-01, -4.3415e-01, -3.9629e-01,\n",
      "        -3.6384e-01, -3.3782e-01, -2.9966e-01, -2.6853e-01, -2.4653e-01,\n",
      "        -2.3556e-01, -2.1392e-01, -2.0310e-01, -1.8415e-01, -1.7808e-01,\n",
      "        -1.6975e-01, -1.5620e-01, -1.3981e-01, -1.3494e-01, -1.2533e-01,\n",
      "        -1.1459e-01, -1.1303e-01, -1.0114e-01, -1.0071e-01, -9.2483e-02,\n",
      "        -8.7421e-02, -8.4064e-02, -7.7596e-02, -7.6042e-02, -7.2530e-02,\n",
      "        -6.8400e-02, -6.5674e-02, -5.9762e-02, -5.9020e-02, -5.6430e-02,\n",
      "        -5.4529e-02, -5.1371e-02, -5.0288e-02, -4.6433e-02, -4.3652e-02,\n",
      "        -4.2352e-02, -3.9254e-02, -3.8680e-02, -3.6999e-02, -3.5814e-02,\n",
      "        -3.4219e-02, -3.2148e-02, -3.0766e-02, -2.9425e-02, -2.7963e-02,\n",
      "        -2.7332e-02, -2.6534e-02, -2.4685e-02, -2.3904e-02, -2.3123e-02,\n",
      "        -2.1664e-02, -2.0666e-02, -2.0190e-02, -1.9533e-02, -1.9050e-02,\n",
      "        -1.8090e-02, -1.7904e-02, -1.7287e-02, -1.6850e-02, -1.6652e-02,\n",
      "        -1.5750e-02, -1.5444e-02, -1.5169e-02, -1.4782e-02, -1.4298e-02,\n",
      "        -1.3976e-02, -1.3746e-02, -1.3640e-02, -1.3149e-02, -1.2441e-02,\n",
      "        -1.2357e-02, -1.1876e-02, -1.1246e-02, -1.1169e-02, -1.0924e-02,\n",
      "        -1.0636e-02, -1.0342e-02, -1.0209e-02, -9.9171e-03, -9.4670e-03,\n",
      "        -9.4134e-03, -9.2007e-03, -9.0715e-03, -8.6133e-03, -8.3784e-03,\n",
      "        -8.1769e-03, -8.0261e-03, -7.7034e-03, -7.4814e-03, -7.4050e-03,\n",
      "        -7.2577e-03, -7.1780e-03, -6.9344e-03, -6.8098e-03, -6.7528e-03,\n",
      "        -6.5696e-03, -6.3225e-03, -6.1464e-03, -6.0569e-03, -5.8942e-03,\n",
      "        -5.8058e-03, -5.6780e-03, -5.6741e-03, -5.5782e-03, -5.4691e-03,\n",
      "        -5.2861e-03, -5.2020e-03, -5.1600e-03, -5.0764e-03, -5.0361e-03,\n",
      "        -4.9655e-03, -4.8909e-03, -4.7775e-03, -4.7161e-03, -4.5886e-03,\n",
      "        -4.3941e-03, -4.3493e-03, -4.3087e-03, -4.2933e-03, -4.2495e-03,\n",
      "        -4.0626e-03, -4.0312e-03, -4.0092e-03, -3.7691e-03, -3.7089e-03,\n",
      "        -3.6052e-03, -3.5771e-03, -3.5499e-03, -3.4340e-03, -3.3624e-03,\n",
      "        -3.3428e-03, -3.2560e-03, -3.1972e-03, -3.1817e-03, -3.0972e-03,\n",
      "        -2.9988e-03, -2.9565e-03, -2.8426e-03, -2.8230e-03, -2.7788e-03,\n",
      "        -2.7738e-03, -2.7017e-03, -2.6575e-03, -2.6265e-03, -2.5539e-03,\n",
      "        -2.5265e-03, -2.4909e-03, -2.4359e-03, -2.4313e-03, -2.3445e-03,\n",
      "        -2.3407e-03, -2.3402e-03, -2.2593e-03, -2.2365e-03, -2.2354e-03,\n",
      "        -2.2072e-03, -2.1218e-03, -2.1018e-03, -2.0923e-03, -2.0882e-03,\n",
      "        -2.0338e-03, -2.0282e-03, -1.9915e-03, -1.9605e-03, -1.9127e-03,\n",
      "        -1.8767e-03, -1.8353e-03, -1.8352e-03, -1.8334e-03, -1.7660e-03,\n",
      "        -1.7583e-03, -1.7278e-03, -1.7219e-03, -1.7151e-03, -1.7052e-03,\n",
      "        -1.6747e-03, -1.6672e-03, -1.6423e-03, -1.6343e-03, -1.6150e-03,\n",
      "        -1.5461e-03, -1.5239e-03, -1.5116e-03, -1.5090e-03, -1.4958e-03,\n",
      "        -1.4705e-03, -1.4548e-03, -1.4381e-03, -1.4058e-03, -1.3747e-03,\n",
      "        -1.3465e-03, -1.3165e-03, -1.3154e-03, -1.3137e-03, -1.3059e-03,\n",
      "        -1.3000e-03, -1.2542e-03, -1.2351e-03, -1.2311e-03, -1.2228e-03,\n",
      "        -1.2122e-03, -1.1813e-03, -1.1785e-03, -1.1652e-03, -1.1436e-03,\n",
      "        -1.1371e-03, -1.1117e-03, -1.0896e-03, -1.0644e-03, -1.0525e-03,\n",
      "        -1.0515e-03, -1.0304e-03, -1.0258e-03, -1.0251e-03, -1.0075e-03,\n",
      "        -1.0069e-03, -9.8534e-04, -9.8446e-04, -9.8266e-04, -9.5646e-04,\n",
      "        -9.5588e-04, -9.3160e-04, -9.2288e-04, -9.2266e-04, -9.1898e-04,\n",
      "        -9.0780e-04, -8.8950e-04, -8.8130e-04, -8.6055e-04, -8.5538e-04,\n",
      "        -8.4231e-04, -8.3514e-04, -8.2956e-04, -8.0962e-04, -7.8971e-04,\n",
      "        -7.8868e-04, -7.8746e-04, -7.7150e-04, -7.6410e-04, -7.5116e-04,\n",
      "        -7.4725e-04, -7.3976e-04, -7.3751e-04, -7.3013e-04, -7.2736e-04,\n",
      "        -7.1282e-04, -7.1172e-04, -7.0242e-04, -6.8857e-04, -6.7742e-04,\n",
      "        -6.5822e-04, -6.4732e-04, -6.3869e-04, -6.2702e-04, -6.2615e-04,\n",
      "        -6.1426e-04, -6.1266e-04, -6.0427e-04, -6.0077e-04, -5.9712e-04,\n",
      "        -5.9677e-04, -5.9670e-04, -5.8568e-04, -5.7696e-04, -5.7145e-04,\n",
      "        -5.7102e-04, -5.6439e-04, -5.6265e-04, -5.5394e-04, -5.4857e-04,\n",
      "        -5.4058e-04, -5.4005e-04, -5.2329e-04, -5.1550e-04, -5.1085e-04,\n",
      "        -5.0455e-04, -5.0415e-04, -4.9889e-04, -4.9443e-04, -4.9388e-04,\n",
      "        -4.8750e-04, -4.8495e-04, -4.7121e-04, -4.6492e-04, -4.6425e-04,\n",
      "        -4.5773e-04, -4.5202e-04, -4.4226e-04, -4.4210e-04, -4.4111e-04,\n",
      "        -4.3922e-04, -4.2860e-04, -4.1210e-04, -4.0376e-04, -4.0280e-04,\n",
      "        -3.9671e-04, -3.9574e-04, -3.9550e-04, -3.9526e-04, -3.9286e-04,\n",
      "        -3.9175e-04, -3.8349e-04, -3.8203e-04, -3.8137e-04, -3.7382e-04,\n",
      "        -3.7024e-04, -3.6948e-04, -3.6839e-04, -3.6546e-04, -3.5691e-04,\n",
      "        -3.5124e-04, -3.5107e-04, -3.5029e-04, -3.4742e-04, -3.3667e-04,\n",
      "        -3.3418e-04, -3.3414e-04, -3.2292e-04, -3.1751e-04, -3.0458e-04,\n",
      "        -3.0331e-04, -3.0199e-04, -2.9867e-04, -2.9735e-04, -2.9335e-04,\n",
      "        -2.9040e-04, -2.8979e-04, -2.8506e-04, -2.8099e-04, -2.8055e-04,\n",
      "        -2.7707e-04, -2.7376e-04, -2.7288e-04, -2.7234e-04, -2.6969e-04,\n",
      "        -2.6791e-04, -2.6619e-04, -2.6053e-04, -2.6024e-04, -2.5317e-04,\n",
      "        -2.5133e-04, -2.4403e-04, -2.4368e-04, -2.4098e-04, -2.3864e-04,\n",
      "        -2.3815e-04, -2.3789e-04, -2.3632e-04, -2.3608e-04, -2.3233e-04,\n",
      "        -2.2985e-04, -2.2520e-04, -2.2504e-04, -2.2503e-04, -2.1606e-04,\n",
      "        -2.1511e-04, -2.1450e-04, -2.1321e-04, -2.1082e-04, -2.0866e-04,\n",
      "        -2.0762e-04, -2.0526e-04, -2.0182e-04, -1.9955e-04, -1.9838e-04,\n",
      "        -1.9551e-04, -1.9429e-04, -1.8626e-04, -1.8606e-04, -1.8473e-04,\n",
      "        -1.8439e-04, -1.8107e-04, -1.7963e-04, -1.7870e-04, -1.7826e-04,\n",
      "        -1.7725e-04, -1.7595e-04, -1.7513e-04, -1.7431e-04, -1.7236e-04,\n",
      "        -1.7190e-04, -1.7094e-04, -1.7078e-04, -1.6312e-04, -1.6090e-04,\n",
      "        -1.5405e-04, -1.4998e-04, -1.4994e-04, -1.4770e-04, -1.4751e-04,\n",
      "        -1.4371e-04, -1.4117e-04, -1.4007e-04, -1.3882e-04, -1.3867e-04,\n",
      "        -1.3508e-04, -1.3195e-04, -1.3092e-04, -1.3072e-04, -1.3033e-04,\n",
      "        -1.2979e-04, -1.2887e-04, -1.2860e-04, -1.2728e-04, -1.2692e-04,\n",
      "        -1.2692e-04, -1.2645e-04, -1.2507e-04, -1.2277e-04, -1.1816e-04,\n",
      "        -1.1676e-04, -1.1651e-04, -1.1557e-04, -1.1534e-04, -1.1317e-04,\n",
      "        -1.1219e-04, -1.0880e-04, -1.0670e-04, -1.0519e-04, -1.0264e-04,\n",
      "        -1.0186e-04, -1.0182e-04, -9.9452e-05, -9.8764e-05, -9.7662e-05,\n",
      "        -9.7192e-05, -9.3203e-05, -9.3151e-05, -9.2433e-05, -9.1808e-05,\n",
      "        -9.1788e-05, -9.0788e-05, -8.7238e-05, -8.6767e-05, -8.6279e-05,\n",
      "        -8.4506e-05, -8.2932e-05, -8.2748e-05, -8.2603e-05, -8.2190e-05,\n",
      "        -8.0001e-05, -7.7390e-05, -7.5682e-05, -7.5226e-05, -7.4371e-05,\n",
      "        -7.3745e-05, -7.2706e-05, -6.9876e-05, -6.9342e-05, -6.8685e-05,\n",
      "        -6.7299e-05, -6.6726e-05, -6.6382e-05, -6.6120e-05, -6.6112e-05,\n",
      "        -6.5756e-05, -6.5086e-05, -6.4478e-05, -6.3969e-05, -6.3115e-05,\n",
      "        -6.1296e-05, -5.6490e-05, -5.1296e-05, -4.9264e-05, -4.8835e-05,\n",
      "        -4.8457e-05, -4.8199e-05, -4.7804e-05, -4.6183e-05, -4.4996e-05,\n",
      "        -4.3607e-05, -4.2443e-05, -4.1722e-05, -4.0144e-05, -3.5363e-05,\n",
      "        -3.2436e-05, -3.1604e-05, -2.5316e-05, -2.1870e-05])\n",
      "  warnings.warn(f\"Negative eigenvalues encountered and removed: {eigenvalues[eigenvalues < 0]}\", RuntimeWarning)\n"
     ]
    },
    {
     "data": {
      "text/plain": [
       "torch.Size([6000, 9])"
      ]
     },
     "execution_count": 137,
     "metadata": {},
     "output_type": "execute_result"
    }
   ],
   "source": [
    "from utils_ import _lda as lda\n",
    "\n",
    "LDA = lda.LDA()\n",
    "LDA.fit(X_kpca, y_m_t)\n",
    "X_lda = LDA.transform(X_kpca)\n",
    "X_test_lda = LDA.transform(X_test_kpca)\n",
    "X_lda.shape"
   ]
  },
  {
   "cell_type": "code",
   "execution_count": 138,
   "metadata": {},
   "outputs": [
    {
     "name": "stdout",
     "output_type": "stream",
     "text": [
      "Accuracy: 82.00%\n"
     ]
    }
   ],
   "source": [
    "from utils_ import _models\n",
    "from sklearn.metrics import accuracy_score\n",
    "\n",
    "NC = _models.NearestCentroid()\n",
    "NC.fit(X_lda, y_m_t)\n",
    "\n",
    "# Predict the labels for the test set \n",
    "y_pred = NC.predict(X_test_lda)\n",
    "accuracy = accuracy_score(y_test, y_pred.numpy()) \n",
    "print(f\"Accuracy: {accuracy * 100:.2f}%\")"
   ]
  },
  {
   "cell_type": "code",
   "execution_count": 139,
   "metadata": {},
   "outputs": [
    {
     "name": "stdout",
     "output_type": "stream",
     "text": [
      "The best accuracy is 89.00% with n_neighbors = 8\n"
     ]
    }
   ],
   "source": [
    "from sklearn.neighbors import KNeighborsClassifier as KNN\n",
    "\n",
    "acc_KNN = []\n",
    "\n",
    "for k in range(1,30):\n",
    "    knn = KNN(n_neighbors=k, n_jobs=-1)\n",
    "\n",
    "    knn.fit(X_lda.numpy(), y_mini)\n",
    "    score = knn.score(X_test_lda.numpy(), y_test)\n",
    "\n",
    "    acc_KNN.append(score)\n",
    "\n",
    "best_acc = max(acc_KNN)\n",
    "best_k = acc_KNN.index(best_acc)\n",
    "best_k_value = range(1,30)[best_k]\n",
    "\n",
    "print(f'The best accuracy is {best_acc*100:.2f}% with n_neighbors = {best_k_value}')"
   ]
  },
  {
   "cell_type": "markdown",
   "metadata": {},
   "source": [
    "for the 95% looking best params for svc and checking its new scores"
   ]
  },
  {
   "cell_type": "code",
   "execution_count": 54,
   "metadata": {},
   "outputs": [
    {
     "name": "stdout",
     "output_type": "stream",
     "text": [
      "Fitting 5 folds for each of 2 candidates, totalling 10 fits\n",
      "Durratio: 11.577696561813354\n",
      "{'C': 1, 'gamma': 0.01, 'kernel': 'rbf'}\n"
     ]
    }
   ],
   "source": [
    "from sklearn.svm import SVC\n",
    "from sklearn.model_selection import GridSearchCV\n",
    "import time \n",
    "s_time=time.time()\n",
    "param_grid = [{'C':[1, 2.5], 'gamma':[0.01], 'kernel':['rbf']}] #{'C':[0.01,0.001,0.0001], 'kernel':['linear']}\n",
    "grid = GridSearchCV(SVC(), param_grid, verbose=1)\n",
    "grid.fit(X_lda.numpy(), y_mini)\n",
    "y_pred = grid.predict(X_test_lda.numpy())\n",
    "f_time = time.time()\n",
    "print(f'Durratio: {f_time-s_time}')\n",
    "best_params = grid.best_params_\n",
    "print(best_params)"
   ]
  },
  {
   "cell_type": "code",
   "execution_count": 132,
   "metadata": {},
   "outputs": [
    {
     "name": "stdout",
     "output_type": "stream",
     "text": [
      "Fitting 5 folds for each of 9 candidates, totalling 45 fits\n",
      "Durratio: 8.383292436599731\n",
      "{'C': 2.5, 'gamma': 70, 'kernel': 'rbf'}\n"
     ]
    }
   ],
   "source": [
    "from sklearn.svm import SVC\n",
    "from sklearn.model_selection import GridSearchCV\n",
    "import time \n",
    "s_time=time.time()\n",
    "param_grid = [{'C':[1, 2.5, 5], 'gamma':[65, 70,75], 'kernel':['rbf']}] #{'C':[0.01,0.001,0.0001], 'kernel':['linear']}\n",
    "grid = GridSearchCV(SVC(), param_grid, verbose=1)\n",
    "grid.fit(X_lda.numpy(), y_mini)\n",
    "y_pred = grid.predict(X_test_lda.numpy())\n",
    "f_time = time.time()\n",
    "print(f'Durratio: {f_time-s_time}')\n",
    "best_params = grid.best_params_\n",
    "print(best_params)"
   ]
  },
  {
   "cell_type": "code",
   "execution_count": 133,
   "metadata": {},
   "outputs": [
    {
     "name": "stdout",
     "output_type": "stream",
     "text": [
      "Accuracy: 0.899\n"
     ]
    }
   ],
   "source": [
    "from sklearn import metrics\n",
    "print(f'Accuracy: {metrics.accuracy_score(y_true=y_test, y_pred = y_pred)}')"
   ]
  },
  {
   "cell_type": "markdown",
   "metadata": {},
   "source": [
    "## Cifar-10"
   ]
  },
  {
   "cell_type": "code",
   "execution_count": 18,
   "metadata": {},
   "outputs": [
    {
     "name": "stdout",
     "output_type": "stream",
     "text": [
      "Shape of x_train: (50000, 32, 32, 3)\n",
      "Shape of y_train: (50000, 1)\n",
      "Shape of x_test: (10000, 32, 32, 3)\n",
      "Shape of y_test: (10000, 1)\n"
     ]
    }
   ],
   "source": [
    "import tensorflow as tf \n",
    "from tensorflow.keras.datasets import cifar10\n",
    "\n",
    "# Load CIFAR-10 dataset \n",
    "(x_train, y_train), (x_test, y_test) = cifar10.load_data()\n",
    "\n",
    "print(\"Shape of x_train:\", x_train.shape) \n",
    "print(\"Shape of y_train:\", y_train.shape) \n",
    "print(\"Shape of x_test:\", x_test.shape)\n",
    "print(\"Shape of y_test:\", y_test.shape)"
   ]
  },
  {
   "cell_type": "code",
   "execution_count": 19,
   "metadata": {},
   "outputs": [],
   "source": [
    "def normal(X_mini):\n",
    "    #dedomeno oti einai eikones, max(xi)=255, min(xi)=0\n",
    "    X_norm = 2*(X_mini/255) - 1\n",
    "    return X_norm"
   ]
  },
  {
   "cell_type": "code",
   "execution_count": 20,
   "metadata": {},
   "outputs": [
    {
     "name": "stdout",
     "output_type": "stream",
     "text": [
      "torch.Size([5000, 3072]) torch.Size([5000])\n",
      "torch.Size([1000, 3072]) torch.Size([1000])\n"
     ]
    }
   ],
   "source": [
    "import torch\n",
    "\n",
    "x_train_mini = x_train[0:5000]\n",
    "y_train_mini = y_train[0:5000]\n",
    "x_test_mini = x_test[0:1000]\n",
    "y_test_mini = y_test[0:1000]\n",
    "x_train_mini =normal(x_train_mini)\n",
    "x_test_mini = normal(x_test_mini)\n",
    "x_train_m = x_train_mini.reshape(x_train_mini.shape[0], -1)\n",
    "y_train_m = y_train_mini.reshape(y_train_mini.shape[0])\n",
    "x_test = x_test_mini.reshape(x_test_mini.shape[0], -1)\n",
    "y_test = y_test_mini.reshape(y_test_mini.shape[0])\n",
    "x_train_t =torch.tensor(x_train_m)\n",
    "y_train_t =torch.tensor(y_train_m)\n",
    "x_test_t =torch.tensor(x_test)\n",
    "y_test_t = torch.tensor(y_test)\n",
    "y_train_t = y_train_t.to(torch.int32)\n",
    "y_test_t = y_test_t.to(torch.int32)\n",
    "print(x_train_t.shape, y_train_t.shape)\n",
    "print(x_test_t.shape, y_test_t.shape)"
   ]
  },
  {
   "cell_type": "code",
   "execution_count": 21,
   "metadata": {},
   "outputs": [
    {
     "name": "stdout",
     "output_type": "stream",
     "text": [
      "Accuracy: 29.10%\n"
     ]
    }
   ],
   "source": [
    "from sklearn.metrics import accuracy_score\n",
    "from utils_ import _models\n",
    "\n",
    "NC = _models.NearestCentroid()\n",
    "NC.fit(x_train_t, y_train_t)\n",
    "# Predict the labels for the test set \n",
    "y_pred = NC.predict(x_test_t)\n",
    "accuracy = accuracy_score(y_test, y_pred.numpy()) \n",
    "print(f\"Accuracy: {accuracy * 100:.2f}%\")"
   ]
  },
  {
   "cell_type": "code",
   "execution_count": 22,
   "metadata": {},
   "outputs": [
    {
     "name": "stdout",
     "output_type": "stream",
     "text": [
      "The best accuracy is 27.70% with n_neighbors = 10\n"
     ]
    }
   ],
   "source": [
    "from sklearn.neighbors import KNeighborsClassifier as KNN\n",
    "\n",
    "acc_KNN = []\n",
    "\n",
    "for k in range(1,30):\n",
    "    knn = KNN(n_neighbors=k, n_jobs=-1)\n",
    "\n",
    "    knn.fit(x_train_m, y_train_m)\n",
    "    score = knn.score(x_test, y_test)\n",
    "\n",
    "    acc_KNN.append(score)\n",
    "\n",
    "best_acc = max(acc_KNN)\n",
    "best_k = acc_KNN.index(best_acc)\n",
    "best_k_value = range(1,30)[best_k]\n",
    "\n",
    "print(f'The best accuracy is {best_acc*100:.2f}% with n_neighbors = {best_k_value}')"
   ]
  },
  {
   "cell_type": "markdown",
   "metadata": {},
   "source": [
    "## kernel PCA"
   ]
  },
  {
   "cell_type": "markdown",
   "metadata": {},
   "source": [
    "#### linear"
   ]
  },
  {
   "cell_type": "code",
   "execution_count": 23,
   "metadata": {},
   "outputs": [
    {
     "name": "stdout",
     "output_type": "stream",
     "text": [
      " \n",
      " ---- STARTING custom KPCA ---- \n"
     ]
    },
    {
     "name": "stderr",
     "output_type": "stream",
     "text": [
      "c:\\Users\\dimos\\PyProjecks\\KPCA_LDA_v2\\utils_\\_kPCA.py:122: RuntimeWarning: Negative or near-zero eigenvalues encountered and removed: tensor([-4.0595e-02, -1.4052e-02, -1.2697e-02,  ..., -5.9759e-06,\n",
      "        -5.5197e-06, -2.2051e-06])\n",
      "  warnings.warn(\n"
     ]
    },
    {
     "name": "stdout",
     "output_type": "stream",
     "text": [
      "The shape of train after xkpca  torch.Size([5000, 3072])\n",
      "The shape of test after xkpca  torch.Size([1000, 3072])\n",
      "---- KPCA took  11034  ms----\n"
     ]
    }
   ],
   "source": [
    "from utils_ import _kPCA\n",
    "import time \n",
    "\n",
    "startKpca = int(round(time.time() * 1000))\n",
    "\n",
    "print(\" \")\n",
    "print(\" ---- STARTING custom KPCA ---- \")\n",
    "\n",
    "kpca = _kPCA.KPCA(n_components=3072, kernel_type='linear')#, gamma=a\n",
    "kpca.fit(x_train_t)\n",
    "X_kpca = kpca.transform(x_train_t)\n",
    "X_test_kpca = kpca.transform(x_test_t)\n",
    "\n",
    "print(\"The shape of train after xkpca \", X_kpca.shape )\n",
    "print(\"The shape of test after xkpca \", X_test_kpca.shape )\n",
    "\n",
    "# stop the kpca timer\n",
    "endKpca = int(round(time.time() * 1000))\n",
    "\n",
    "print(\"---- KPCA took \", (endKpca-startKpca), \" ms----\")"
   ]
  },
  {
   "cell_type": "code",
   "execution_count": 24,
   "metadata": {},
   "outputs": [],
   "source": [
    "explained_variance = kpca.explained_var  \n",
    "explained_variance_ratio = explained_variance / torch.sum(explained_variance)"
   ]
  },
  {
   "cell_type": "code",
   "execution_count": 25,
   "metadata": {},
   "outputs": [
    {
     "data": {
      "image/png": "[encoded data removed]",
      "text/plain": [
       "<Figure size 640x480 with 1 Axes>"
      ]
     },
     "metadata": {},
     "output_type": "display_data"
    },
    {
     "data": {
      "text/plain": [
       "None"
      ]
     },
     "metadata": {},
     "output_type": "display_data"
    }
   ],
   "source": [
    "import seaborn as sns\n",
    "import matplotlib.pyplot as plt\n",
    "import numpy as np\n",
    "\n",
    "sns.set_theme(style='whitegrid')\n",
    "plt.plot(np.cumsum(explained_variance_ratio.numpy()))\n",
    "plt.title('Kernel: Linear', fontsize=16)\n",
    "plt.xlabel('num of components')\n",
    "plt.ylabel('cumulative explained variance')\n",
    "display(plt.show())"
   ]
  },
  {
   "cell_type": "code",
   "execution_count": 150,
   "metadata": {},
   "outputs": [],
   "source": [
    "import pandas as pd\n",
    "\n",
    "evr = explained_variance_ratio.numpy()\n",
    "crv = np.cumsum(explained_variance_ratio.numpy())\n",
    "kpca_df  = pd.DataFrame()\n",
    "kpca_df['cumsum_explained_var'] = crv\n",
    "kpca_df['explainde_var_ratio'] = evr"
   ]
  },
  {
   "cell_type": "code",
   "execution_count": 151,
   "metadata": {},
   "outputs": [
    {
     "name": "stdout",
     "output_type": "stream",
     "text": [
      "Indexes where cumsum_explained_var > 0.95: [202, 203, 204, 205, 206, 207, 208, 209, 210, 211, 212, 213, 214, 215, 216, 217, 218, 219, 220, 221, 222, 223, 224, 225, 226, 227, 228, 229, 230, 231, 232, 233, 234, 235, 236, 237, 238, 239, 240, 241, 242, 243, 244, 245, 246, 247, 248, 249, 250, 251, 252, 253, 254, 255, 256, 257, 258, 259, 260, 261, 262, 263, 264, 265, 266, 267, 268, 269, 270, 271, 272, 273, 274, 275, 276, 277, 278, 279, 280, 281, 282, 283, 284, 285, 286, 287, 288, 289, 290, 291, 292, 293, 294, 295, 296, 297, 298, 299, 300, 301, 302, 303, 304, 305, 306, 307, 308, 309, 310, 311, 312, 313, 314, 315, 316, 317, 318, 319, 320, 321, 322, 323, 324, 325, 326, 327, 328, 329, 330, 331, 332, 333, 334, 335, 336, 337, 338, 339, 340, 341, 342, 343, 344, 345, 346, 347, 348, 349, 350, 351, 352, 353, 354, 355, 356, 357, 358, 359, 360, 361, 362, 363, 364, 365, 366, 367, 368, 369, 370, 371, 372, 373, 374, 375, 376, 377, 378, 379, 380, 381, 382, 383, 384, 385, 386, 387, 388, 389, 390, 391, 392, 393, 394, 395, 396, 397, 398, 399, 400, 401, 402, 403, 404, 405, 406, 407, 408, 409, 410, 411, 412, 413, 414, 415, 416, 417, 418, 419, 420, 421, 422, 423, 424, 425, 426, 427, 428, 429, 430, 431, 432, 433, 434, 435, 436, 437, 438, 439, 440, 441, 442, 443, 444, 445, 446, 447, 448, 449, 450, 451, 452, 453, 454, 455, 456, 457, 458, 459, 460, 461, 462, 463, 464, 465, 466, 467, 468, 469, 470, 471, 472, 473, 474, 475, 476, 477, 478, 479, 480, 481, 482, 483, 484, 485, 486, 487, 488, 489, 490, 491, 492, 493, 494, 495, 496, 497, 498, 499, 500, 501, 502, 503, 504, 505, 506, 507, 508, 509, 510, 511, 512, 513, 514, 515, 516, 517, 518, 519, 520, 521, 522, 523, 524, 525, 526, 527, 528, 529, 530, 531, 532, 533, 534, 535, 536, 537, 538, 539, 540, 541, 542, 543, 544, 545, 546, 547, 548, 549, 550, 551, 552, 553, 554, 555, 556, 557, 558, 559, 560, 561, 562, 563, 564, 565, 566, 567, 568, 569, 570, 571, 572, 573, 574, 575, 576, 577, 578, 579, 580, 581, 582, 583, 584, 585, 586, 587, 588, 589, 590, 591, 592, 593, 594, 595, 596, 597, 598, 599, 600, 601, 602, 603, 604, 605, 606, 607, 608, 609, 610, 611, 612, 613, 614, 615, 616, 617, 618, 619, 620, 621, 622, 623, 624, 625, 626, 627, 628, 629, 630, 631, 632, 633, 634, 635, 636, 637, 638, 639, 640, 641, 642, 643, 644, 645, 646, 647, 648, 649, 650, 651, 652, 653, 654, 655, 656, 657, 658, 659, 660, 661, 662, 663, 664, 665, 666, 667, 668, 669, 670, 671, 672, 673, 674, 675, 676, 677, 678, 679, 680, 681, 682, 683, 684, 685, 686, 687, 688, 689, 690, 691, 692, 693, 694, 695, 696, 697, 698, 699, 700, 701, 702, 703, 704, 705, 706, 707, 708, 709, 710, 711, 712, 713, 714, 715, 716, 717, 718, 719, 720, 721, 722, 723, 724, 725, 726, 727, 728, 729, 730, 731, 732, 733, 734, 735, 736, 737, 738, 739, 740, 741, 742, 743, 744, 745, 746, 747, 748, 749, 750, 751, 752, 753, 754, 755, 756, 757, 758, 759, 760, 761, 762, 763, 764, 765, 766, 767, 768, 769, 770, 771, 772, 773, 774, 775, 776, 777, 778, 779, 780, 781, 782, 783, 784, 785, 786, 787, 788, 789, 790, 791, 792, 793, 794, 795, 796, 797, 798, 799, 800, 801, 802, 803, 804, 805, 806, 807, 808, 809, 810, 811, 812, 813, 814, 815, 816, 817, 818, 819, 820, 821, 822, 823, 824, 825, 826, 827, 828, 829, 830, 831, 832, 833, 834, 835, 836, 837, 838, 839, 840, 841, 842, 843, 844, 845, 846, 847, 848, 849, 850, 851, 852, 853, 854, 855, 856, 857, 858, 859, 860, 861, 862, 863, 864, 865, 866, 867, 868, 869, 870, 871, 872, 873, 874, 875, 876, 877, 878, 879, 880, 881, 882, 883, 884, 885, 886, 887, 888, 889, 890, 891, 892, 893, 894, 895, 896, 897, 898, 899, 900, 901, 902, 903, 904, 905, 906, 907, 908, 909, 910, 911, 912, 913, 914, 915, 916, 917, 918, 919, 920, 921, 922, 923, 924, 925, 926, 927, 928, 929, 930, 931, 932, 933, 934, 935, 936, 937, 938, 939, 940, 941, 942, 943, 944, 945, 946, 947, 948, 949, 950, 951, 952, 953, 954, 955, 956, 957, 958, 959, 960, 961, 962, 963, 964, 965, 966, 967, 968, 969, 970, 971, 972, 973, 974, 975, 976, 977, 978, 979, 980, 981, 982, 983, 984, 985, 986, 987, 988, 989, 990, 991, 992, 993, 994, 995, 996, 997, 998, 999, 1000, 1001, 1002, 1003, 1004, 1005, 1006, 1007, 1008, 1009, 1010, 1011, 1012, 1013, 1014, 1015, 1016, 1017, 1018, 1019, 1020, 1021, 1022, 1023, 1024, 1025, 1026, 1027, 1028, 1029, 1030, 1031, 1032, 1033, 1034, 1035, 1036, 1037, 1038, 1039, 1040, 1041, 1042, 1043, 1044, 1045, 1046, 1047, 1048, 1049, 1050, 1051, 1052, 1053, 1054, 1055, 1056, 1057, 1058, 1059, 1060, 1061, 1062, 1063, 1064, 1065, 1066, 1067, 1068, 1069, 1070, 1071, 1072, 1073, 1074, 1075, 1076, 1077, 1078, 1079, 1080, 1081, 1082, 1083, 1084, 1085, 1086, 1087, 1088, 1089, 1090, 1091, 1092, 1093, 1094, 1095, 1096, 1097, 1098, 1099, 1100, 1101, 1102, 1103, 1104, 1105, 1106, 1107, 1108, 1109, 1110, 1111, 1112, 1113, 1114, 1115, 1116, 1117, 1118, 1119, 1120, 1121, 1122, 1123, 1124, 1125, 1126, 1127, 1128, 1129, 1130, 1131, 1132, 1133, 1134, 1135, 1136, 1137, 1138, 1139, 1140, 1141, 1142, 1143, 1144, 1145, 1146, 1147, 1148, 1149, 1150, 1151, 1152, 1153, 1154, 1155, 1156, 1157, 1158, 1159, 1160, 1161, 1162, 1163, 1164, 1165, 1166, 1167, 1168, 1169, 1170, 1171, 1172, 1173, 1174, 1175, 1176, 1177, 1178, 1179, 1180, 1181, 1182, 1183, 1184, 1185, 1186, 1187, 1188, 1189, 1190, 1191, 1192, 1193, 1194, 1195, 1196, 1197, 1198, 1199, 1200, 1201, 1202, 1203, 1204, 1205, 1206, 1207, 1208, 1209, 1210, 1211, 1212, 1213, 1214, 1215, 1216, 1217, 1218, 1219, 1220, 1221, 1222, 1223, 1224, 1225, 1226, 1227, 1228, 1229, 1230, 1231, 1232, 1233, 1234, 1235, 1236, 1237, 1238, 1239, 1240, 1241, 1242, 1243, 1244, 1245, 1246, 1247, 1248, 1249, 1250, 1251, 1252, 1253, 1254, 1255, 1256, 1257, 1258, 1259, 1260, 1261, 1262, 1263, 1264, 1265, 1266, 1267, 1268, 1269, 1270, 1271, 1272, 1273, 1274, 1275, 1276, 1277, 1278, 1279, 1280, 1281, 1282, 1283, 1284, 1285, 1286, 1287, 1288, 1289, 1290, 1291, 1292, 1293, 1294, 1295, 1296, 1297, 1298, 1299, 1300, 1301, 1302, 1303, 1304, 1305, 1306, 1307, 1308, 1309, 1310, 1311, 1312, 1313, 1314, 1315, 1316, 1317, 1318, 1319, 1320, 1321, 1322, 1323, 1324, 1325, 1326, 1327, 1328, 1329, 1330, 1331, 1332, 1333, 1334, 1335, 1336, 1337, 1338, 1339, 1340, 1341, 1342, 1343, 1344, 1345, 1346, 1347, 1348, 1349, 1350, 1351, 1352, 1353, 1354, 1355, 1356, 1357, 1358, 1359, 1360, 1361, 1362, 1363, 1364, 1365, 1366, 1367, 1368, 1369, 1370, 1371, 1372, 1373, 1374, 1375, 1376, 1377, 1378, 1379, 1380, 1381, 1382, 1383, 1384, 1385, 1386, 1387, 1388, 1389, 1390, 1391, 1392, 1393, 1394, 1395, 1396, 1397, 1398, 1399, 1400, 1401, 1402, 1403, 1404, 1405, 1406, 1407, 1408, 1409, 1410, 1411, 1412, 1413, 1414, 1415, 1416, 1417, 1418, 1419, 1420, 1421, 1422, 1423, 1424, 1425, 1426, 1427, 1428, 1429, 1430, 1431, 1432, 1433, 1434, 1435, 1436, 1437, 1438, 1439, 1440, 1441, 1442, 1443, 1444, 1445, 1446, 1447, 1448, 1449, 1450, 1451, 1452, 1453, 1454, 1455, 1456, 1457, 1458, 1459, 1460, 1461, 1462, 1463, 1464, 1465, 1466, 1467, 1468, 1469, 1470, 1471, 1472, 1473, 1474, 1475, 1476, 1477, 1478, 1479, 1480, 1481, 1482, 1483, 1484, 1485, 1486, 1487, 1488, 1489, 1490, 1491, 1492, 1493, 1494, 1495, 1496, 1497, 1498, 1499, 1500, 1501, 1502, 1503, 1504, 1505, 1506, 1507, 1508, 1509, 1510, 1511, 1512, 1513, 1514, 1515, 1516, 1517, 1518, 1519, 1520, 1521, 1522, 1523, 1524, 1525, 1526, 1527, 1528, 1529, 1530, 1531, 1532, 1533, 1534, 1535, 1536, 1537, 1538, 1539, 1540, 1541, 1542, 1543, 1544, 1545, 1546, 1547, 1548, 1549, 1550, 1551, 1552, 1553, 1554, 1555, 1556, 1557, 1558, 1559, 1560, 1561, 1562, 1563, 1564, 1565, 1566, 1567, 1568, 1569, 1570, 1571, 1572, 1573, 1574, 1575, 1576, 1577, 1578, 1579, 1580, 1581, 1582, 1583, 1584, 1585, 1586, 1587, 1588, 1589, 1590, 1591, 1592, 1593, 1594, 1595, 1596, 1597, 1598, 1599, 1600, 1601, 1602, 1603, 1604, 1605, 1606, 1607, 1608, 1609, 1610, 1611, 1612, 1613, 1614, 1615, 1616, 1617, 1618, 1619, 1620, 1621, 1622, 1623, 1624, 1625, 1626, 1627, 1628, 1629, 1630, 1631, 1632, 1633, 1634, 1635, 1636, 1637, 1638, 1639, 1640, 1641, 1642, 1643, 1644, 1645, 1646, 1647, 1648, 1649, 1650, 1651, 1652, 1653, 1654, 1655, 1656, 1657, 1658, 1659, 1660, 1661, 1662, 1663, 1664, 1665, 1666, 1667, 1668, 1669, 1670, 1671, 1672, 1673, 1674, 1675, 1676, 1677, 1678, 1679, 1680, 1681, 1682, 1683, 1684, 1685, 1686, 1687, 1688, 1689, 1690, 1691, 1692, 1693, 1694, 1695, 1696, 1697, 1698, 1699, 1700, 1701, 1702, 1703, 1704, 1705, 1706, 1707, 1708, 1709, 1710, 1711, 1712, 1713, 1714, 1715, 1716, 1717, 1718, 1719, 1720, 1721, 1722, 1723, 1724, 1725, 1726, 1727, 1728, 1729, 1730, 1731, 1732, 1733, 1734, 1735, 1736, 1737, 1738, 1739, 1740, 1741, 1742, 1743, 1744, 1745, 1746, 1747, 1748, 1749, 1750, 1751, 1752, 1753, 1754, 1755, 1756, 1757, 1758, 1759, 1760, 1761, 1762, 1763, 1764, 1765, 1766, 1767, 1768, 1769, 1770, 1771, 1772, 1773, 1774, 1775, 1776, 1777, 1778, 1779, 1780, 1781, 1782, 1783, 1784, 1785, 1786, 1787, 1788, 1789, 1790, 1791, 1792, 1793, 1794, 1795, 1796, 1797, 1798, 1799, 1800, 1801, 1802, 1803, 1804, 1805, 1806, 1807, 1808, 1809, 1810, 1811, 1812, 1813, 1814, 1815, 1816, 1817, 1818, 1819, 1820, 1821, 1822, 1823, 1824, 1825, 1826, 1827, 1828, 1829, 1830, 1831, 1832, 1833, 1834, 1835, 1836, 1837, 1838, 1839, 1840, 1841, 1842, 1843, 1844, 1845, 1846, 1847, 1848, 1849, 1850, 1851, 1852, 1853, 1854, 1855, 1856, 1857, 1858, 1859, 1860, 1861, 1862, 1863, 1864, 1865, 1866, 1867, 1868, 1869, 1870, 1871, 1872, 1873, 1874, 1875, 1876, 1877, 1878, 1879, 1880, 1881, 1882, 1883, 1884, 1885, 1886, 1887, 1888, 1889, 1890, 1891, 1892, 1893, 1894, 1895, 1896, 1897, 1898, 1899, 1900, 1901, 1902, 1903, 1904, 1905, 1906, 1907, 1908, 1909, 1910, 1911, 1912, 1913, 1914, 1915, 1916, 1917, 1918, 1919, 1920, 1921, 1922, 1923, 1924, 1925, 1926, 1927, 1928, 1929, 1930, 1931, 1932, 1933, 1934, 1935, 1936, 1937, 1938, 1939, 1940, 1941, 1942, 1943, 1944, 1945, 1946, 1947, 1948, 1949, 1950, 1951, 1952, 1953, 1954, 1955, 1956, 1957, 1958, 1959, 1960, 1961, 1962, 1963, 1964, 1965, 1966, 1967, 1968, 1969, 1970, 1971, 1972, 1973, 1974, 1975, 1976, 1977, 1978, 1979, 1980, 1981, 1982, 1983, 1984, 1985, 1986, 1987, 1988, 1989, 1990, 1991, 1992, 1993, 1994, 1995, 1996, 1997, 1998, 1999, 2000, 2001, 2002, 2003, 2004, 2005, 2006, 2007, 2008, 2009, 2010, 2011, 2012, 2013, 2014, 2015, 2016, 2017, 2018, 2019, 2020, 2021, 2022, 2023, 2024, 2025, 2026, 2027, 2028, 2029, 2030, 2031, 2032, 2033, 2034, 2035, 2036, 2037, 2038, 2039, 2040, 2041, 2042, 2043, 2044, 2045, 2046, 2047, 2048, 2049, 2050, 2051, 2052, 2053, 2054, 2055, 2056, 2057, 2058, 2059, 2060, 2061, 2062, 2063, 2064, 2065, 2066, 2067, 2068, 2069, 2070, 2071, 2072, 2073, 2074, 2075, 2076, 2077, 2078, 2079, 2080, 2081, 2082, 2083, 2084, 2085, 2086, 2087, 2088, 2089, 2090, 2091, 2092, 2093, 2094, 2095, 2096, 2097, 2098, 2099, 2100, 2101, 2102, 2103, 2104, 2105, 2106, 2107, 2108, 2109, 2110, 2111, 2112, 2113, 2114, 2115, 2116, 2117, 2118, 2119, 2120, 2121, 2122, 2123, 2124, 2125, 2126, 2127, 2128, 2129, 2130, 2131, 2132, 2133, 2134, 2135, 2136, 2137, 2138, 2139, 2140, 2141, 2142, 2143, 2144, 2145, 2146, 2147, 2148, 2149, 2150, 2151, 2152, 2153, 2154, 2155, 2156, 2157, 2158, 2159, 2160, 2161, 2162, 2163, 2164, 2165, 2166, 2167, 2168, 2169, 2170, 2171, 2172, 2173, 2174, 2175, 2176, 2177, 2178, 2179, 2180, 2181, 2182, 2183, 2184, 2185, 2186, 2187, 2188, 2189, 2190, 2191, 2192, 2193, 2194, 2195, 2196, 2197, 2198, 2199, 2200, 2201, 2202, 2203, 2204, 2205, 2206, 2207, 2208, 2209, 2210, 2211, 2212, 2213, 2214, 2215, 2216, 2217, 2218, 2219, 2220, 2221, 2222, 2223, 2224, 2225, 2226, 2227, 2228, 2229, 2230, 2231, 2232, 2233, 2234, 2235, 2236, 2237, 2238, 2239, 2240, 2241, 2242, 2243, 2244, 2245, 2246, 2247, 2248, 2249, 2250, 2251, 2252, 2253, 2254, 2255, 2256, 2257, 2258, 2259, 2260, 2261, 2262, 2263, 2264, 2265, 2266, 2267, 2268, 2269, 2270, 2271, 2272, 2273, 2274, 2275, 2276, 2277, 2278, 2279, 2280, 2281, 2282, 2283, 2284, 2285, 2286, 2287, 2288, 2289, 2290, 2291, 2292, 2293, 2294, 2295, 2296, 2297, 2298, 2299, 2300, 2301, 2302, 2303, 2304, 2305, 2306, 2307, 2308, 2309, 2310, 2311, 2312, 2313, 2314, 2315, 2316, 2317, 2318, 2319, 2320, 2321, 2322, 2323, 2324, 2325, 2326, 2327, 2328, 2329, 2330, 2331, 2332, 2333, 2334, 2335, 2336, 2337, 2338, 2339, 2340, 2341, 2342, 2343, 2344, 2345, 2346, 2347, 2348, 2349, 2350, 2351, 2352, 2353, 2354, 2355, 2356, 2357, 2358, 2359, 2360, 2361, 2362, 2363, 2364, 2365, 2366, 2367, 2368, 2369, 2370, 2371, 2372, 2373, 2374, 2375, 2376, 2377, 2378, 2379, 2380, 2381, 2382, 2383, 2384, 2385, 2386, 2387, 2388, 2389, 2390, 2391, 2392, 2393, 2394, 2395, 2396, 2397, 2398, 2399, 2400, 2401, 2402, 2403, 2404, 2405, 2406, 2407, 2408, 2409, 2410, 2411, 2412, 2413, 2414, 2415, 2416, 2417, 2418, 2419, 2420, 2421, 2422, 2423, 2424, 2425, 2426, 2427, 2428, 2429, 2430, 2431, 2432, 2433, 2434, 2435, 2436, 2437, 2438, 2439, 2440, 2441, 2442, 2443, 2444, 2445, 2446, 2447, 2448, 2449, 2450, 2451, 2452, 2453, 2454, 2455, 2456, 2457, 2458, 2459, 2460, 2461, 2462, 2463, 2464, 2465, 2466, 2467, 2468, 2469, 2470, 2471, 2472, 2473, 2474, 2475, 2476, 2477, 2478, 2479, 2480, 2481, 2482, 2483, 2484, 2485, 2486, 2487, 2488, 2489, 2490, 2491, 2492, 2493, 2494, 2495, 2496, 2497, 2498, 2499, 2500, 2501, 2502, 2503, 2504, 2505, 2506, 2507, 2508, 2509, 2510, 2511, 2512, 2513, 2514, 2515, 2516, 2517, 2518, 2519, 2520, 2521, 2522, 2523, 2524, 2525, 2526, 2527, 2528, 2529, 2530, 2531, 2532, 2533, 2534, 2535, 2536, 2537, 2538, 2539, 2540, 2541, 2542, 2543, 2544, 2545, 2546, 2547, 2548, 2549, 2550, 2551, 2552, 2553, 2554, 2555, 2556, 2557, 2558, 2559, 2560, 2561, 2562, 2563, 2564, 2565, 2566, 2567, 2568, 2569, 2570, 2571, 2572, 2573, 2574, 2575, 2576, 2577, 2578, 2579, 2580, 2581, 2582, 2583, 2584, 2585, 2586, 2587, 2588, 2589, 2590, 2591, 2592, 2593, 2594, 2595, 2596, 2597, 2598, 2599, 2600, 2601, 2602, 2603, 2604, 2605, 2606, 2607, 2608, 2609, 2610, 2611, 2612, 2613, 2614, 2615, 2616, 2617, 2618, 2619, 2620, 2621, 2622, 2623, 2624, 2625, 2626, 2627, 2628, 2629, 2630, 2631, 2632, 2633, 2634, 2635, 2636, 2637, 2638, 2639, 2640, 2641, 2642, 2643, 2644, 2645, 2646, 2647, 2648, 2649, 2650, 2651, 2652, 2653, 2654, 2655, 2656, 2657, 2658, 2659, 2660, 2661, 2662, 2663, 2664, 2665, 2666, 2667, 2668, 2669, 2670, 2671, 2672, 2673, 2674, 2675, 2676, 2677, 2678, 2679, 2680, 2681, 2682, 2683, 2684, 2685, 2686, 2687, 2688, 2689, 2690, 2691, 2692, 2693, 2694, 2695, 2696, 2697, 2698, 2699, 2700, 2701, 2702, 2703, 2704, 2705, 2706, 2707, 2708, 2709, 2710, 2711, 2712, 2713, 2714, 2715, 2716, 2717, 2718, 2719, 2720, 2721, 2722, 2723, 2724, 2725, 2726, 2727, 2728, 2729, 2730, 2731, 2732, 2733, 2734, 2735, 2736, 2737, 2738, 2739, 2740, 2741, 2742, 2743, 2744, 2745, 2746, 2747, 2748, 2749, 2750, 2751, 2752, 2753, 2754, 2755, 2756, 2757, 2758, 2759, 2760, 2761, 2762, 2763, 2764, 2765, 2766, 2767, 2768, 2769, 2770, 2771, 2772, 2773, 2774, 2775, 2776, 2777, 2778, 2779, 2780, 2781, 2782, 2783, 2784, 2785, 2786, 2787, 2788, 2789, 2790, 2791, 2792, 2793, 2794, 2795, 2796, 2797, 2798, 2799, 2800, 2801, 2802, 2803, 2804, 2805, 2806, 2807, 2808, 2809, 2810, 2811, 2812, 2813, 2814, 2815, 2816, 2817, 2818, 2819, 2820, 2821, 2822, 2823, 2824, 2825, 2826, 2827, 2828, 2829, 2830, 2831, 2832, 2833, 2834, 2835, 2836, 2837, 2838, 2839, 2840, 2841, 2842, 2843, 2844, 2845, 2846, 2847, 2848, 2849, 2850, 2851, 2852, 2853, 2854, 2855, 2856, 2857, 2858, 2859, 2860, 2861, 2862, 2863, 2864, 2865, 2866, 2867, 2868, 2869, 2870, 2871, 2872, 2873, 2874, 2875, 2876, 2877, 2878, 2879, 2880, 2881, 2882, 2883, 2884, 2885, 2886, 2887, 2888, 2889, 2890, 2891, 2892, 2893, 2894, 2895, 2896, 2897, 2898, 2899, 2900, 2901, 2902, 2903, 2904, 2905, 2906, 2907, 2908, 2909, 2910, 2911, 2912, 2913, 2914, 2915, 2916, 2917, 2918, 2919, 2920, 2921, 2922, 2923, 2924, 2925, 2926, 2927, 2928, 2929, 2930, 2931, 2932, 2933, 2934, 2935, 2936, 2937, 2938, 2939, 2940, 2941, 2942, 2943, 2944, 2945, 2946, 2947, 2948, 2949, 2950, 2951, 2952, 2953, 2954, 2955, 2956, 2957, 2958, 2959, 2960, 2961, 2962, 2963, 2964, 2965, 2966, 2967, 2968, 2969, 2970, 2971, 2972, 2973, 2974, 2975, 2976, 2977, 2978, 2979, 2980, 2981, 2982, 2983, 2984, 2985, 2986, 2987, 2988, 2989, 2990, 2991, 2992, 2993, 2994, 2995, 2996, 2997, 2998, 2999, 3000, 3001, 3002, 3003, 3004, 3005, 3006, 3007, 3008, 3009, 3010, 3011, 3012, 3013, 3014, 3015, 3016, 3017, 3018, 3019, 3020, 3021, 3022, 3023, 3024, 3025, 3026, 3027, 3028, 3029, 3030, 3031, 3032, 3033, 3034, 3035, 3036, 3037, 3038, 3039, 3040, 3041, 3042, 3043, 3044, 3045, 3046, 3047, 3048, 3049, 3050, 3051, 3052, 3053, 3054, 3055, 3056, 3057, 3058, 3059, 3060, 3061, 3062, 3063, 3064, 3065, 3066, 3067, 3068, 3069, 3070, 3071]\n"
     ]
    }
   ],
   "source": [
    "# Get the indexes where cumsum_explained_var > 0.95\n",
    "indexes = kpca_df[kpca_df['cumsum_explained_var'] > 0.95].index.tolist()\n",
    "\n",
    "print(\"Indexes where cumsum_explained_var > 0.95:\", indexes)"
   ]
  },
  {
   "cell_type": "code",
   "execution_count": 152,
   "metadata": {},
   "outputs": [
    {
     "name": "stdout",
     "output_type": "stream",
     "text": [
      "Indexes where cumsum_explained_var > 0.99: [591, 592, 593, 594, 595, 596, 597, 598, 599, 600, 601, 602, 603, 604, 605, 606, 607, 608, 609, 610, 611, 612, 613, 614, 615, 616, 617, 618, 619, 620, 621, 622, 623, 624, 625, 626, 627, 628, 629, 630, 631, 632, 633, 634, 635, 636, 637, 638, 639, 640, 641, 642, 643, 644, 645, 646, 647, 648, 649, 650, 651, 652, 653, 654, 655, 656, 657, 658, 659, 660, 661, 662, 663, 664, 665, 666, 667, 668, 669, 670, 671, 672, 673, 674, 675, 676, 677, 678, 679, 680, 681, 682, 683, 684, 685, 686, 687, 688, 689, 690, 691, 692, 693, 694, 695, 696, 697, 698, 699, 700, 701, 702, 703, 704, 705, 706, 707, 708, 709, 710, 711, 712, 713, 714, 715, 716, 717, 718, 719, 720, 721, 722, 723, 724, 725, 726, 727, 728, 729, 730, 731, 732, 733, 734, 735, 736, 737, 738, 739, 740, 741, 742, 743, 744, 745, 746, 747, 748, 749, 750, 751, 752, 753, 754, 755, 756, 757, 758, 759, 760, 761, 762, 763, 764, 765, 766, 767, 768, 769, 770, 771, 772, 773, 774, 775, 776, 777, 778, 779, 780, 781, 782, 783, 784, 785, 786, 787, 788, 789, 790, 791, 792, 793, 794, 795, 796, 797, 798, 799, 800, 801, 802, 803, 804, 805, 806, 807, 808, 809, 810, 811, 812, 813, 814, 815, 816, 817, 818, 819, 820, 821, 822, 823, 824, 825, 826, 827, 828, 829, 830, 831, 832, 833, 834, 835, 836, 837, 838, 839, 840, 841, 842, 843, 844, 845, 846, 847, 848, 849, 850, 851, 852, 853, 854, 855, 856, 857, 858, 859, 860, 861, 862, 863, 864, 865, 866, 867, 868, 869, 870, 871, 872, 873, 874, 875, 876, 877, 878, 879, 880, 881, 882, 883, 884, 885, 886, 887, 888, 889, 890, 891, 892, 893, 894, 895, 896, 897, 898, 899, 900, 901, 902, 903, 904, 905, 906, 907, 908, 909, 910, 911, 912, 913, 914, 915, 916, 917, 918, 919, 920, 921, 922, 923, 924, 925, 926, 927, 928, 929, 930, 931, 932, 933, 934, 935, 936, 937, 938, 939, 940, 941, 942, 943, 944, 945, 946, 947, 948, 949, 950, 951, 952, 953, 954, 955, 956, 957, 958, 959, 960, 961, 962, 963, 964, 965, 966, 967, 968, 969, 970, 971, 972, 973, 974, 975, 976, 977, 978, 979, 980, 981, 982, 983, 984, 985, 986, 987, 988, 989, 990, 991, 992, 993, 994, 995, 996, 997, 998, 999, 1000, 1001, 1002, 1003, 1004, 1005, 1006, 1007, 1008, 1009, 1010, 1011, 1012, 1013, 1014, 1015, 1016, 1017, 1018, 1019, 1020, 1021, 1022, 1023, 1024, 1025, 1026, 1027, 1028, 1029, 1030, 1031, 1032, 1033, 1034, 1035, 1036, 1037, 1038, 1039, 1040, 1041, 1042, 1043, 1044, 1045, 1046, 1047, 1048, 1049, 1050, 1051, 1052, 1053, 1054, 1055, 1056, 1057, 1058, 1059, 1060, 1061, 1062, 1063, 1064, 1065, 1066, 1067, 1068, 1069, 1070, 1071, 1072, 1073, 1074, 1075, 1076, 1077, 1078, 1079, 1080, 1081, 1082, 1083, 1084, 1085, 1086, 1087, 1088, 1089, 1090, 1091, 1092, 1093, 1094, 1095, 1096, 1097, 1098, 1099, 1100, 1101, 1102, 1103, 1104, 1105, 1106, 1107, 1108, 1109, 1110, 1111, 1112, 1113, 1114, 1115, 1116, 1117, 1118, 1119, 1120, 1121, 1122, 1123, 1124, 1125, 1126, 1127, 1128, 1129, 1130, 1131, 1132, 1133, 1134, 1135, 1136, 1137, 1138, 1139, 1140, 1141, 1142, 1143, 1144, 1145, 1146, 1147, 1148, 1149, 1150, 1151, 1152, 1153, 1154, 1155, 1156, 1157, 1158, 1159, 1160, 1161, 1162, 1163, 1164, 1165, 1166, 1167, 1168, 1169, 1170, 1171, 1172, 1173, 1174, 1175, 1176, 1177, 1178, 1179, 1180, 1181, 1182, 1183, 1184, 1185, 1186, 1187, 1188, 1189, 1190, 1191, 1192, 1193, 1194, 1195, 1196, 1197, 1198, 1199, 1200, 1201, 1202, 1203, 1204, 1205, 1206, 1207, 1208, 1209, 1210, 1211, 1212, 1213, 1214, 1215, 1216, 1217, 1218, 1219, 1220, 1221, 1222, 1223, 1224, 1225, 1226, 1227, 1228, 1229, 1230, 1231, 1232, 1233, 1234, 1235, 1236, 1237, 1238, 1239, 1240, 1241, 1242, 1243, 1244, 1245, 1246, 1247, 1248, 1249, 1250, 1251, 1252, 1253, 1254, 1255, 1256, 1257, 1258, 1259, 1260, 1261, 1262, 1263, 1264, 1265, 1266, 1267, 1268, 1269, 1270, 1271, 1272, 1273, 1274, 1275, 1276, 1277, 1278, 1279, 1280, 1281, 1282, 1283, 1284, 1285, 1286, 1287, 1288, 1289, 1290, 1291, 1292, 1293, 1294, 1295, 1296, 1297, 1298, 1299, 1300, 1301, 1302, 1303, 1304, 1305, 1306, 1307, 1308, 1309, 1310, 1311, 1312, 1313, 1314, 1315, 1316, 1317, 1318, 1319, 1320, 1321, 1322, 1323, 1324, 1325, 1326, 1327, 1328, 1329, 1330, 1331, 1332, 1333, 1334, 1335, 1336, 1337, 1338, 1339, 1340, 1341, 1342, 1343, 1344, 1345, 1346, 1347, 1348, 1349, 1350, 1351, 1352, 1353, 1354, 1355, 1356, 1357, 1358, 1359, 1360, 1361, 1362, 1363, 1364, 1365, 1366, 1367, 1368, 1369, 1370, 1371, 1372, 1373, 1374, 1375, 1376, 1377, 1378, 1379, 1380, 1381, 1382, 1383, 1384, 1385, 1386, 1387, 1388, 1389, 1390, 1391, 1392, 1393, 1394, 1395, 1396, 1397, 1398, 1399, 1400, 1401, 1402, 1403, 1404, 1405, 1406, 1407, 1408, 1409, 1410, 1411, 1412, 1413, 1414, 1415, 1416, 1417, 1418, 1419, 1420, 1421, 1422, 1423, 1424, 1425, 1426, 1427, 1428, 1429, 1430, 1431, 1432, 1433, 1434, 1435, 1436, 1437, 1438, 1439, 1440, 1441, 1442, 1443, 1444, 1445, 1446, 1447, 1448, 1449, 1450, 1451, 1452, 1453, 1454, 1455, 1456, 1457, 1458, 1459, 1460, 1461, 1462, 1463, 1464, 1465, 1466, 1467, 1468, 1469, 1470, 1471, 1472, 1473, 1474, 1475, 1476, 1477, 1478, 1479, 1480, 1481, 1482, 1483, 1484, 1485, 1486, 1487, 1488, 1489, 1490, 1491, 1492, 1493, 1494, 1495, 1496, 1497, 1498, 1499, 1500, 1501, 1502, 1503, 1504, 1505, 1506, 1507, 1508, 1509, 1510, 1511, 1512, 1513, 1514, 1515, 1516, 1517, 1518, 1519, 1520, 1521, 1522, 1523, 1524, 1525, 1526, 1527, 1528, 1529, 1530, 1531, 1532, 1533, 1534, 1535, 1536, 1537, 1538, 1539, 1540, 1541, 1542, 1543, 1544, 1545, 1546, 1547, 1548, 1549, 1550, 1551, 1552, 1553, 1554, 1555, 1556, 1557, 1558, 1559, 1560, 1561, 1562, 1563, 1564, 1565, 1566, 1567, 1568, 1569, 1570, 1571, 1572, 1573, 1574, 1575, 1576, 1577, 1578, 1579, 1580, 1581, 1582, 1583, 1584, 1585, 1586, 1587, 1588, 1589, 1590, 1591, 1592, 1593, 1594, 1595, 1596, 1597, 1598, 1599, 1600, 1601, 1602, 1603, 1604, 1605, 1606, 1607, 1608, 1609, 1610, 1611, 1612, 1613, 1614, 1615, 1616, 1617, 1618, 1619, 1620, 1621, 1622, 1623, 1624, 1625, 1626, 1627, 1628, 1629, 1630, 1631, 1632, 1633, 1634, 1635, 1636, 1637, 1638, 1639, 1640, 1641, 1642, 1643, 1644, 1645, 1646, 1647, 1648, 1649, 1650, 1651, 1652, 1653, 1654, 1655, 1656, 1657, 1658, 1659, 1660, 1661, 1662, 1663, 1664, 1665, 1666, 1667, 1668, 1669, 1670, 1671, 1672, 1673, 1674, 1675, 1676, 1677, 1678, 1679, 1680, 1681, 1682, 1683, 1684, 1685, 1686, 1687, 1688, 1689, 1690, 1691, 1692, 1693, 1694, 1695, 1696, 1697, 1698, 1699, 1700, 1701, 1702, 1703, 1704, 1705, 1706, 1707, 1708, 1709, 1710, 1711, 1712, 1713, 1714, 1715, 1716, 1717, 1718, 1719, 1720, 1721, 1722, 1723, 1724, 1725, 1726, 1727, 1728, 1729, 1730, 1731, 1732, 1733, 1734, 1735, 1736, 1737, 1738, 1739, 1740, 1741, 1742, 1743, 1744, 1745, 1746, 1747, 1748, 1749, 1750, 1751, 1752, 1753, 1754, 1755, 1756, 1757, 1758, 1759, 1760, 1761, 1762, 1763, 1764, 1765, 1766, 1767, 1768, 1769, 1770, 1771, 1772, 1773, 1774, 1775, 1776, 1777, 1778, 1779, 1780, 1781, 1782, 1783, 1784, 1785, 1786, 1787, 1788, 1789, 1790, 1791, 1792, 1793, 1794, 1795, 1796, 1797, 1798, 1799, 1800, 1801, 1802, 1803, 1804, 1805, 1806, 1807, 1808, 1809, 1810, 1811, 1812, 1813, 1814, 1815, 1816, 1817, 1818, 1819, 1820, 1821, 1822, 1823, 1824, 1825, 1826, 1827, 1828, 1829, 1830, 1831, 1832, 1833, 1834, 1835, 1836, 1837, 1838, 1839, 1840, 1841, 1842, 1843, 1844, 1845, 1846, 1847, 1848, 1849, 1850, 1851, 1852, 1853, 1854, 1855, 1856, 1857, 1858, 1859, 1860, 1861, 1862, 1863, 1864, 1865, 1866, 1867, 1868, 1869, 1870, 1871, 1872, 1873, 1874, 1875, 1876, 1877, 1878, 1879, 1880, 1881, 1882, 1883, 1884, 1885, 1886, 1887, 1888, 1889, 1890, 1891, 1892, 1893, 1894, 1895, 1896, 1897, 1898, 1899, 1900, 1901, 1902, 1903, 1904, 1905, 1906, 1907, 1908, 1909, 1910, 1911, 1912, 1913, 1914, 1915, 1916, 1917, 1918, 1919, 1920, 1921, 1922, 1923, 1924, 1925, 1926, 1927, 1928, 1929, 1930, 1931, 1932, 1933, 1934, 1935, 1936, 1937, 1938, 1939, 1940, 1941, 1942, 1943, 1944, 1945, 1946, 1947, 1948, 1949, 1950, 1951, 1952, 1953, 1954, 1955, 1956, 1957, 1958, 1959, 1960, 1961, 1962, 1963, 1964, 1965, 1966, 1967, 1968, 1969, 1970, 1971, 1972, 1973, 1974, 1975, 1976, 1977, 1978, 1979, 1980, 1981, 1982, 1983, 1984, 1985, 1986, 1987, 1988, 1989, 1990, 1991, 1992, 1993, 1994, 1995, 1996, 1997, 1998, 1999, 2000, 2001, 2002, 2003, 2004, 2005, 2006, 2007, 2008, 2009, 2010, 2011, 2012, 2013, 2014, 2015, 2016, 2017, 2018, 2019, 2020, 2021, 2022, 2023, 2024, 2025, 2026, 2027, 2028, 2029, 2030, 2031, 2032, 2033, 2034, 2035, 2036, 2037, 2038, 2039, 2040, 2041, 2042, 2043, 2044, 2045, 2046, 2047, 2048, 2049, 2050, 2051, 2052, 2053, 2054, 2055, 2056, 2057, 2058, 2059, 2060, 2061, 2062, 2063, 2064, 2065, 2066, 2067, 2068, 2069, 2070, 2071, 2072, 2073, 2074, 2075, 2076, 2077, 2078, 2079, 2080, 2081, 2082, 2083, 2084, 2085, 2086, 2087, 2088, 2089, 2090, 2091, 2092, 2093, 2094, 2095, 2096, 2097, 2098, 2099, 2100, 2101, 2102, 2103, 2104, 2105, 2106, 2107, 2108, 2109, 2110, 2111, 2112, 2113, 2114, 2115, 2116, 2117, 2118, 2119, 2120, 2121, 2122, 2123, 2124, 2125, 2126, 2127, 2128, 2129, 2130, 2131, 2132, 2133, 2134, 2135, 2136, 2137, 2138, 2139, 2140, 2141, 2142, 2143, 2144, 2145, 2146, 2147, 2148, 2149, 2150, 2151, 2152, 2153, 2154, 2155, 2156, 2157, 2158, 2159, 2160, 2161, 2162, 2163, 2164, 2165, 2166, 2167, 2168, 2169, 2170, 2171, 2172, 2173, 2174, 2175, 2176, 2177, 2178, 2179, 2180, 2181, 2182, 2183, 2184, 2185, 2186, 2187, 2188, 2189, 2190, 2191, 2192, 2193, 2194, 2195, 2196, 2197, 2198, 2199, 2200, 2201, 2202, 2203, 2204, 2205, 2206, 2207, 2208, 2209, 2210, 2211, 2212, 2213, 2214, 2215, 2216, 2217, 2218, 2219, 2220, 2221, 2222, 2223, 2224, 2225, 2226, 2227, 2228, 2229, 2230, 2231, 2232, 2233, 2234, 2235, 2236, 2237, 2238, 2239, 2240, 2241, 2242, 2243, 2244, 2245, 2246, 2247, 2248, 2249, 2250, 2251, 2252, 2253, 2254, 2255, 2256, 2257, 2258, 2259, 2260, 2261, 2262, 2263, 2264, 2265, 2266, 2267, 2268, 2269, 2270, 2271, 2272, 2273, 2274, 2275, 2276, 2277, 2278, 2279, 2280, 2281, 2282, 2283, 2284, 2285, 2286, 2287, 2288, 2289, 2290, 2291, 2292, 2293, 2294, 2295, 2296, 2297, 2298, 2299, 2300, 2301, 2302, 2303, 2304, 2305, 2306, 2307, 2308, 2309, 2310, 2311, 2312, 2313, 2314, 2315, 2316, 2317, 2318, 2319, 2320, 2321, 2322, 2323, 2324, 2325, 2326, 2327, 2328, 2329, 2330, 2331, 2332, 2333, 2334, 2335, 2336, 2337, 2338, 2339, 2340, 2341, 2342, 2343, 2344, 2345, 2346, 2347, 2348, 2349, 2350, 2351, 2352, 2353, 2354, 2355, 2356, 2357, 2358, 2359, 2360, 2361, 2362, 2363, 2364, 2365, 2366, 2367, 2368, 2369, 2370, 2371, 2372, 2373, 2374, 2375, 2376, 2377, 2378, 2379, 2380, 2381, 2382, 2383, 2384, 2385, 2386, 2387, 2388, 2389, 2390, 2391, 2392, 2393, 2394, 2395, 2396, 2397, 2398, 2399, 2400, 2401, 2402, 2403, 2404, 2405, 2406, 2407, 2408, 2409, 2410, 2411, 2412, 2413, 2414, 2415, 2416, 2417, 2418, 2419, 2420, 2421, 2422, 2423, 2424, 2425, 2426, 2427, 2428, 2429, 2430, 2431, 2432, 2433, 2434, 2435, 2436, 2437, 2438, 2439, 2440, 2441, 2442, 2443, 2444, 2445, 2446, 2447, 2448, 2449, 2450, 2451, 2452, 2453, 2454, 2455, 2456, 2457, 2458, 2459, 2460, 2461, 2462, 2463, 2464, 2465, 2466, 2467, 2468, 2469, 2470, 2471, 2472, 2473, 2474, 2475, 2476, 2477, 2478, 2479, 2480, 2481, 2482, 2483, 2484, 2485, 2486, 2487, 2488, 2489, 2490, 2491, 2492, 2493, 2494, 2495, 2496, 2497, 2498, 2499, 2500, 2501, 2502, 2503, 2504, 2505, 2506, 2507, 2508, 2509, 2510, 2511, 2512, 2513, 2514, 2515, 2516, 2517, 2518, 2519, 2520, 2521, 2522, 2523, 2524, 2525, 2526, 2527, 2528, 2529, 2530, 2531, 2532, 2533, 2534, 2535, 2536, 2537, 2538, 2539, 2540, 2541, 2542, 2543, 2544, 2545, 2546, 2547, 2548, 2549, 2550, 2551, 2552, 2553, 2554, 2555, 2556, 2557, 2558, 2559, 2560, 2561, 2562, 2563, 2564, 2565, 2566, 2567, 2568, 2569, 2570, 2571, 2572, 2573, 2574, 2575, 2576, 2577, 2578, 2579, 2580, 2581, 2582, 2583, 2584, 2585, 2586, 2587, 2588, 2589, 2590, 2591, 2592, 2593, 2594, 2595, 2596, 2597, 2598, 2599, 2600, 2601, 2602, 2603, 2604, 2605, 2606, 2607, 2608, 2609, 2610, 2611, 2612, 2613, 2614, 2615, 2616, 2617, 2618, 2619, 2620, 2621, 2622, 2623, 2624, 2625, 2626, 2627, 2628, 2629, 2630, 2631, 2632, 2633, 2634, 2635, 2636, 2637, 2638, 2639, 2640, 2641, 2642, 2643, 2644, 2645, 2646, 2647, 2648, 2649, 2650, 2651, 2652, 2653, 2654, 2655, 2656, 2657, 2658, 2659, 2660, 2661, 2662, 2663, 2664, 2665, 2666, 2667, 2668, 2669, 2670, 2671, 2672, 2673, 2674, 2675, 2676, 2677, 2678, 2679, 2680, 2681, 2682, 2683, 2684, 2685, 2686, 2687, 2688, 2689, 2690, 2691, 2692, 2693, 2694, 2695, 2696, 2697, 2698, 2699, 2700, 2701, 2702, 2703, 2704, 2705, 2706, 2707, 2708, 2709, 2710, 2711, 2712, 2713, 2714, 2715, 2716, 2717, 2718, 2719, 2720, 2721, 2722, 2723, 2724, 2725, 2726, 2727, 2728, 2729, 2730, 2731, 2732, 2733, 2734, 2735, 2736, 2737, 2738, 2739, 2740, 2741, 2742, 2743, 2744, 2745, 2746, 2747, 2748, 2749, 2750, 2751, 2752, 2753, 2754, 2755, 2756, 2757, 2758, 2759, 2760, 2761, 2762, 2763, 2764, 2765, 2766, 2767, 2768, 2769, 2770, 2771, 2772, 2773, 2774, 2775, 2776, 2777, 2778, 2779, 2780, 2781, 2782, 2783, 2784, 2785, 2786, 2787, 2788, 2789, 2790, 2791, 2792, 2793, 2794, 2795, 2796, 2797, 2798, 2799, 2800, 2801, 2802, 2803, 2804, 2805, 2806, 2807, 2808, 2809, 2810, 2811, 2812, 2813, 2814, 2815, 2816, 2817, 2818, 2819, 2820, 2821, 2822, 2823, 2824, 2825, 2826, 2827, 2828, 2829, 2830, 2831, 2832, 2833, 2834, 2835, 2836, 2837, 2838, 2839, 2840, 2841, 2842, 2843, 2844, 2845, 2846, 2847, 2848, 2849, 2850, 2851, 2852, 2853, 2854, 2855, 2856, 2857, 2858, 2859, 2860, 2861, 2862, 2863, 2864, 2865, 2866, 2867, 2868, 2869, 2870, 2871, 2872, 2873, 2874, 2875, 2876, 2877, 2878, 2879, 2880, 2881, 2882, 2883, 2884, 2885, 2886, 2887, 2888, 2889, 2890, 2891, 2892, 2893, 2894, 2895, 2896, 2897, 2898, 2899, 2900, 2901, 2902, 2903, 2904, 2905, 2906, 2907, 2908, 2909, 2910, 2911, 2912, 2913, 2914, 2915, 2916, 2917, 2918, 2919, 2920, 2921, 2922, 2923, 2924, 2925, 2926, 2927, 2928, 2929, 2930, 2931, 2932, 2933, 2934, 2935, 2936, 2937, 2938, 2939, 2940, 2941, 2942, 2943, 2944, 2945, 2946, 2947, 2948, 2949, 2950, 2951, 2952, 2953, 2954, 2955, 2956, 2957, 2958, 2959, 2960, 2961, 2962, 2963, 2964, 2965, 2966, 2967, 2968, 2969, 2970, 2971, 2972, 2973, 2974, 2975, 2976, 2977, 2978, 2979, 2980, 2981, 2982, 2983, 2984, 2985, 2986, 2987, 2988, 2989, 2990, 2991, 2992, 2993, 2994, 2995, 2996, 2997, 2998, 2999, 3000, 3001, 3002, 3003, 3004, 3005, 3006, 3007, 3008, 3009, 3010, 3011, 3012, 3013, 3014, 3015, 3016, 3017, 3018, 3019, 3020, 3021, 3022, 3023, 3024, 3025, 3026, 3027, 3028, 3029, 3030, 3031, 3032, 3033, 3034, 3035, 3036, 3037, 3038, 3039, 3040, 3041, 3042, 3043, 3044, 3045, 3046, 3047, 3048, 3049, 3050, 3051, 3052, 3053, 3054, 3055, 3056, 3057, 3058, 3059, 3060, 3061, 3062, 3063, 3064, 3065, 3066, 3067, 3068, 3069, 3070, 3071]\n"
     ]
    }
   ],
   "source": [
    "# Get the indexes where cumsum_explained_var > 0.99\n",
    "indexes = kpca_df[kpca_df['cumsum_explained_var'] > 0.99].index.tolist()\n",
    "\n",
    "print(\"Indexes where cumsum_explained_var > 0.99:\", indexes)"
   ]
  },
  {
   "cell_type": "markdown",
   "metadata": {},
   "source": [
    "n_componenets = 202, διατήρηση πληροφορίας μεγαλύτερη του 95%\n",
    "\n",
    "n_componenets = 591, διατήρηση πληροφορίας μεγαλύτερη του 99%"
   ]
  },
  {
   "cell_type": "markdown",
   "metadata": {},
   "source": [
    "95%"
   ]
  },
  {
   "cell_type": "code",
   "execution_count": null,
   "metadata": {},
   "outputs": [
    {
     "name": "stdout",
     "output_type": "stream",
     "text": [
      " \n",
      " ---- STARTING custom KPCA ---- \n"
     ]
    },
    {
     "name": "stderr",
     "output_type": "stream",
     "text": [
      "c:\\Users\\dimos\\PyProjecks\\KPCA_LDA_v2\\utils_\\_kPCA2.py:133: RuntimeWarning: Negative or near-zero eigenvalues encountered and removed: tensor([-4.0595e-02, -1.4052e-02, -1.2697e-02,  ..., -5.9759e-06,\n",
      "        -5.5197e-06, -2.2051e-06])\n",
      "  warnings.warn(\n"
     ]
    },
    {
     "name": "stdout",
     "output_type": "stream",
     "text": [
      "The shape of train after xkpca  torch.Size([5000, 202])\n",
      "The shape of test after xkpca  torch.Size([1000, 202])\n",
      "---- KPCA took  10018  ms----\n"
     ]
    }
   ],
   "source": [
    "from KPCA_LDA_v2.utils_ import _kPCA\n",
    "import time \n",
    "\n",
    "startKpca = int(round(time.time() * 1000))\n",
    "\n",
    "print(\" \")\n",
    "print(\" ---- STARTING custom KPCA ---- \")\n",
    "\n",
    "kpca = _kPCA.KPCA(n_components=202, kernel_type='linear')#, gamma=a\n",
    "kpca.fit(x_train_t)\n",
    "X_kpca = kpca.transform(x_train_t)\n",
    "X_test_kpca = kpca.transform(x_test_t)\n",
    "\n",
    "print(\"The shape of train after xkpca \", X_kpca.shape )\n",
    "print(\"The shape of test after xkpca \", X_test_kpca.shape )\n",
    "\n",
    "# stop the kpca timer\n",
    "endKpca = int(round(time.time() * 1000))\n",
    "\n",
    "print(\"---- KPCA took \", (endKpca-startKpca), \" ms----\")"
   ]
  },
  {
   "cell_type": "code",
   "execution_count": 154,
   "metadata": {},
   "outputs": [
    {
     "name": "stdout",
     "output_type": "stream",
     "text": [
      "Accuracy: 28.40%\n"
     ]
    }
   ],
   "source": [
    "from sklearn.metrics import accuracy_score\n",
    "from utils_ import _models\n",
    "\n",
    "NC = _models.NearestCentroid()\n",
    "NC.fit(X_kpca, y_train_t)\n",
    "# Predict the labels for the test set \n",
    "y_pred = NC.predict(X_test_kpca)\n",
    "accuracy = accuracy_score(y_test, y_pred.numpy()) \n",
    "print(f\"Accuracy: {accuracy * 100:.2f}%\")"
   ]
  },
  {
   "cell_type": "code",
   "execution_count": 155,
   "metadata": {},
   "outputs": [
    {
     "name": "stdout",
     "output_type": "stream",
     "text": [
      "The best accuracy is 29.90% with n_neighbors = 20\n"
     ]
    }
   ],
   "source": [
    "from sklearn.neighbors import KNeighborsClassifier as KNN\n",
    "\n",
    "acc_KNN = []\n",
    "\n",
    "for k in range(1,30):\n",
    "    knn = KNN(n_neighbors=k, n_jobs=-1)\n",
    "\n",
    "    knn.fit(X_kpca.numpy(), y_train_m)\n",
    "    score = knn.score(X_test_kpca.numpy(), y_test)\n",
    "\n",
    "    acc_KNN.append(score)\n",
    "\n",
    "best_acc = max(acc_KNN)\n",
    "best_k = acc_KNN.index(best_acc)\n",
    "best_k_value = range(1,30)[best_k]\n",
    "\n",
    "print(f'The best accuracy is {best_acc*100:.2f}% with n_neighbors = {best_k_value}')"
   ]
  },
  {
   "cell_type": "markdown",
   "metadata": {},
   "source": [
    "99%"
   ]
  },
  {
   "cell_type": "code",
   "execution_count": 32,
   "metadata": {},
   "outputs": [
    {
     "name": "stdout",
     "output_type": "stream",
     "text": [
      " \n",
      " ---- STARTING custom KPCA ---- \n"
     ]
    },
    {
     "name": "stderr",
     "output_type": "stream",
     "text": [
      "c:\\Users\\dimos\\PyProjecks\\KPCA_LDA_v2\\utils_\\_kPCA2.py:172: RuntimeWarning: Negative or near-zero eigenvalues encountered and removed: tensor([-1.4483e+04, -5.5531e+02, -4.8177e+02,  ..., -1.0987e+00,\n",
      "        -9.3363e-01, -9.0945e-01])\n",
      "  warnings.warn(\n"
     ]
    },
    {
     "name": "stdout",
     "output_type": "stream",
     "text": [
      "The shape of train after xkpca  torch.Size([5000, 591])\n",
      "The shape of test after xkpca  torch.Size([1000, 591])\n",
      "---- KPCA took  10089  ms----\n"
     ]
    }
   ],
   "source": [
    "from KPCA_LDA_v2.utils_ import _kPCA\n",
    "import time \n",
    "\n",
    "startKpca = int(round(time.time() * 1000))\n",
    "\n",
    "print(\" \")\n",
    "print(\" ---- STARTING custom KPCA ---- \")\n",
    "\n",
    "kpca = _kPCA.KPCA(n_components=591, kernel_type='linear')#, gamma=a\n",
    "kpca.fit(x_train_t)\n",
    "X_kpca = kpca.transform(x_train_t)\n",
    "X_test_kpca = kpca.transform(x_test_t)\n",
    "\n",
    "print(\"The shape of train after xkpca \", X_kpca.shape )\n",
    "print(\"The shape of test after xkpca \", X_test_kpca.shape )\n",
    "\n",
    "# stop the kpca timer\n",
    "endKpca = int(round(time.time() * 1000))\n",
    "\n",
    "print(\"---- KPCA took \", (endKpca-startKpca), \" ms----\")"
   ]
  },
  {
   "cell_type": "code",
   "execution_count": 33,
   "metadata": {},
   "outputs": [
    {
     "name": "stdout",
     "output_type": "stream",
     "text": [
      "Accuracy: 28.30%\n"
     ]
    }
   ],
   "source": [
    "from sklearn.metrics import accuracy_score\n",
    "from utils_ import _models\n",
    "\n",
    "NC = _models.NearestCentroid()\n",
    "NC.fit(X_kpca, y_train_t)\n",
    "# Predict the labels for the test set \n",
    "y_pred = NC.predict(X_test_kpca)\n",
    "accuracy = accuracy_score(y_test, y_pred.numpy()) \n",
    "print(f\"Accuracy: {accuracy * 100:.2f}%\")"
   ]
  },
  {
   "cell_type": "code",
   "execution_count": 34,
   "metadata": {},
   "outputs": [
    {
     "name": "stdout",
     "output_type": "stream",
     "text": [
      "The best accuracy is 28.00% with n_neighbors = 10\n"
     ]
    }
   ],
   "source": [
    "from sklearn.neighbors import KNeighborsClassifier as KNN\n",
    "\n",
    "acc_KNN = []\n",
    "\n",
    "for k in range(1,30):\n",
    "    knn = KNN(n_neighbors=k, n_jobs=-1)\n",
    "\n",
    "    knn.fit(X_kpca.numpy(), y_train_m)\n",
    "    score = knn.score(X_test_kpca.numpy(), y_test)\n",
    "\n",
    "    acc_KNN.append(score)\n",
    "\n",
    "best_acc = max(acc_KNN)\n",
    "best_k = acc_KNN.index(best_acc)\n",
    "best_k_value = range(1,30)[best_k]\n",
    "\n",
    "print(f'The best accuracy is {best_acc*100:.2f}% with n_neighbors = {best_k_value}')"
   ]
  },
  {
   "cell_type": "markdown",
   "metadata": {},
   "source": [
    "### kPCA+LDA"
   ]
  },
  {
   "cell_type": "markdown",
   "metadata": {},
   "source": [
    "95%"
   ]
  },
  {
   "cell_type": "code",
   "execution_count": 156,
   "metadata": {},
   "outputs": [
    {
     "name": "stderr",
     "output_type": "stream",
     "text": [
      "c:\\Users\\dimos\\PyProjecks\\KPCA_LDA_v2\\utils_\\_lda.py:145: RuntimeWarning: Negative eigenvalues encountered and removed: tensor([-2.8517e+00, -1.0658e+00, -7.3876e-01, -3.0565e-01, -2.4907e-01,\n",
      "        -1.8172e-01, -1.4698e-01, -1.1717e-01, -8.8750e-02, -5.1674e-02,\n",
      "        -4.4326e-02, -3.2043e-02, -3.1391e-02, -2.1657e-02, -1.7947e-02,\n",
      "        -1.5311e-02, -1.2084e-02, -1.0469e-02, -8.4806e-03, -8.1109e-03,\n",
      "        -7.8696e-03, -6.6883e-03, -6.0041e-03, -5.5285e-03, -4.9387e-03,\n",
      "        -4.6673e-03, -4.2084e-03, -3.9125e-03, -3.7378e-03, -3.6386e-03,\n",
      "        -3.1519e-03, -3.1045e-03, -2.7327e-03, -2.7010e-03, -2.3433e-03,\n",
      "        -2.2986e-03, -2.0764e-03, -2.0289e-03, -1.9491e-03, -1.8358e-03,\n",
      "        -1.6858e-03, -1.6246e-03, -1.5360e-03, -1.4840e-03, -1.3109e-03,\n",
      "        -1.2377e-03, -1.1785e-03, -1.1721e-03, -1.0497e-03, -1.0044e-03,\n",
      "        -9.6300e-04, -9.4361e-04, -8.8310e-04, -8.3172e-04, -7.9915e-04,\n",
      "        -7.6262e-04, -7.5127e-04, -7.0053e-04, -6.8945e-04, -6.4225e-04,\n",
      "        -5.9340e-04, -5.7527e-04, -5.3857e-04, -5.2047e-04, -5.1252e-04,\n",
      "        -5.0431e-04, -4.7856e-04, -4.5780e-04, -4.3781e-04, -4.3748e-04,\n",
      "        -4.2686e-04, -4.0543e-04, -3.8913e-04, -3.8029e-04, -3.5831e-04,\n",
      "        -3.5799e-04, -3.5213e-04, -3.3958e-04, -3.3420e-04, -3.1347e-04,\n",
      "        -3.0887e-04, -2.9724e-04, -2.9326e-04, -2.8660e-04, -2.7449e-04,\n",
      "        -2.7393e-04, -2.5835e-04, -2.4583e-04, -2.3849e-04, -2.3557e-04,\n",
      "        -2.3144e-04, -2.2863e-04, -2.2479e-04, -2.1399e-04, -2.1388e-04,\n",
      "        -2.1055e-04, -1.9950e-04, -1.9275e-04, -1.9077e-04, -1.8656e-04,\n",
      "        -1.8037e-04, -1.7468e-04, -1.7154e-04, -1.6701e-04, -1.6152e-04,\n",
      "        -1.5619e-04, -1.5532e-04, -1.5175e-04, -1.4639e-04, -1.4313e-04,\n",
      "        -1.3920e-04, -1.3207e-04, -1.2763e-04, -1.2216e-04, -1.2137e-04,\n",
      "        -1.1944e-04, -1.1586e-04, -1.0822e-04, -1.0738e-04, -1.0590e-04,\n",
      "        -9.9306e-05, -9.9182e-05, -9.3086e-05, -9.2786e-05, -8.5882e-05,\n",
      "        -8.5396e-05, -8.3901e-05, -8.3890e-05, -8.1137e-05, -7.8870e-05,\n",
      "        -7.6297e-05, -7.3121e-05, -7.0209e-05, -6.8836e-05, -6.8287e-05,\n",
      "        -6.5196e-05, -6.4821e-05, -6.3003e-05, -6.1720e-05, -5.8400e-05,\n",
      "        -5.8389e-05, -5.7636e-05, -5.6838e-05, -5.6379e-05, -5.4329e-05,\n",
      "        -5.2513e-05, -5.0896e-05, -4.9616e-05, -4.8943e-05, -4.5661e-05,\n",
      "        -4.4353e-05, -4.2315e-05, -4.2011e-05, -4.1159e-05, -3.9005e-05,\n",
      "        -3.8687e-05, -3.5292e-05, -3.3941e-05, -3.3819e-05, -3.2228e-05,\n",
      "        -3.1939e-05, -3.1237e-05, -3.1141e-05, -2.9635e-05, -2.9014e-05,\n",
      "        -2.8730e-05, -2.7933e-05, -2.7725e-05, -2.6548e-05, -2.6436e-05,\n",
      "        -2.6331e-05, -2.4994e-05, -2.4471e-05, -2.3794e-05, -2.3126e-05,\n",
      "        -2.2955e-05, -2.0925e-05, -2.0314e-05, -1.9954e-05, -1.9948e-05,\n",
      "        -1.9097e-05, -1.7042e-05, -1.6787e-05, -1.6537e-05, -1.4599e-05,\n",
      "        -1.3949e-05, -1.3499e-05, -1.3240e-05, -1.3142e-05, -1.0878e-05,\n",
      "        -1.0023e-05, -8.2651e-06, -3.3020e-06])\n",
      "  warnings.warn(f\"Negative eigenvalues encountered and removed: {eigenvalues[eigenvalues < 0]}\", RuntimeWarning)\n"
     ]
    },
    {
     "data": {
      "text/plain": [
       "torch.Size([5000, 9])"
      ]
     },
     "execution_count": 156,
     "metadata": {},
     "output_type": "execute_result"
    }
   ],
   "source": [
    "from utils_ import _lda as lda\n",
    "\n",
    "LDA = lda.LDA()\n",
    "LDA.fit(X_kpca, y_train_t)\n",
    "X_lda = LDA.transform(X_kpca)\n",
    "X_test_lda = LDA.transform(X_test_kpca)\n",
    "X_lda.shape"
   ]
  },
  {
   "cell_type": "code",
   "execution_count": 157,
   "metadata": {},
   "outputs": [
    {
     "name": "stdout",
     "output_type": "stream",
     "text": [
      "Accuracy: 30.20%\n"
     ]
    }
   ],
   "source": [
    "from utils_ import _models\n",
    "from sklearn.metrics import accuracy_score\n",
    "\n",
    "NC = _models.NearestCentroid()\n",
    "NC.fit(X_lda, y_train_t)\n",
    "\n",
    "# Predict the labels for the test set \n",
    "y_pred = NC.predict(X_test_lda)\n",
    "accuracy = accuracy_score(y_test, y_pred.numpy()) \n",
    "print(f\"Accuracy: {accuracy * 100:.2f}%\")"
   ]
  },
  {
   "cell_type": "code",
   "execution_count": 158,
   "metadata": {},
   "outputs": [
    {
     "name": "stdout",
     "output_type": "stream",
     "text": [
      "The best accuracy is 34.50% with n_neighbors = 17\n"
     ]
    }
   ],
   "source": [
    "from sklearn.neighbors import KNeighborsClassifier as KNN\n",
    "\n",
    "acc_KNN = []\n",
    "\n",
    "for k in range(1,30):\n",
    "    knn = KNN(n_neighbors=k, n_jobs=-1)\n",
    "\n",
    "    knn.fit(X_lda.numpy(), y_train_m)\n",
    "    score = knn.score(X_test_lda.numpy(), y_test)\n",
    "\n",
    "    acc_KNN.append(score)\n",
    "\n",
    "best_acc = max(acc_KNN)\n",
    "best_k = acc_KNN.index(best_acc)\n",
    "best_k_value = range(1,30)[best_k]\n",
    "\n",
    "print(f'The best accuracy is {best_acc*100:.2f}% with n_neighbors = {best_k_value}')"
   ]
  },
  {
   "cell_type": "markdown",
   "metadata": {},
   "source": [
    "99%"
   ]
  },
  {
   "cell_type": "code",
   "execution_count": 36,
   "metadata": {},
   "outputs": [
    {
     "name": "stderr",
     "output_type": "stream",
     "text": [
      "c:\\Users\\dimos\\PyProjecks\\KPCA_LDA_v2\\utils_\\_lda.py:145: RuntimeWarning: Negative eigenvalues encountered and removed: tensor([-1.1309e+01, -5.0631e+00, -2.8031e+00, -1.2844e+00, -1.1516e+00,\n",
      "        -7.7264e-01, -6.4238e-01, -5.9244e-01, -3.2445e-01, -1.0564e-01,\n",
      "        -9.0766e-02, -7.1456e-02, -5.7198e-02, -5.0669e-02, -3.8034e-02,\n",
      "        -3.6884e-02, -3.2431e-02, -3.0961e-02, -2.8390e-02, -2.6660e-02,\n",
      "        -2.4736e-02, -2.2402e-02, -1.9892e-02, -1.7624e-02, -1.6347e-02,\n",
      "        -1.4573e-02, -1.2859e-02, -1.2219e-02, -1.1596e-02, -1.0913e-02,\n",
      "        -1.0186e-02, -9.1570e-03, -8.9627e-03, -8.5553e-03, -8.2825e-03,\n",
      "        -7.6357e-03, -7.3652e-03, -6.6226e-03, -6.3566e-03, -6.0241e-03,\n",
      "        -5.4203e-03, -5.3069e-03, -5.0070e-03, -4.8608e-03, -4.5671e-03,\n",
      "        -4.4635e-03, -4.3002e-03, -4.1240e-03, -4.0323e-03, -3.8970e-03,\n",
      "        -3.6567e-03, -3.6299e-03, -3.3564e-03, -3.2684e-03, -3.1324e-03,\n",
      "        -3.0312e-03, -2.8863e-03, -2.8126e-03, -2.6952e-03, -2.6346e-03,\n",
      "        -2.5978e-03, -2.5204e-03, -2.3741e-03, -2.2950e-03, -2.2007e-03,\n",
      "        -2.1850e-03, -2.0336e-03, -2.0072e-03, -1.9554e-03, -1.8751e-03,\n",
      "        -1.7794e-03, -1.7694e-03, -1.6763e-03, -1.6144e-03, -1.5695e-03,\n",
      "        -1.5387e-03, -1.5027e-03, -1.3941e-03, -1.3659e-03, -1.3371e-03,\n",
      "        -1.3107e-03, -1.2589e-03, -1.2501e-03, -1.1933e-03, -1.1695e-03,\n",
      "        -1.1148e-03, -1.0876e-03, -1.0769e-03, -1.0572e-03, -1.0246e-03,\n",
      "        -9.9872e-04, -9.7649e-04, -9.5428e-04, -9.3102e-04, -9.1534e-04,\n",
      "        -9.0609e-04, -8.8415e-04, -8.6547e-04, -8.4202e-04, -8.2176e-04,\n",
      "        -8.2082e-04, -7.6537e-04, -7.5962e-04, -7.5139e-04, -7.1346e-04,\n",
      "        -7.1115e-04, -6.9861e-04, -6.7884e-04, -6.6264e-04, -6.5413e-04,\n",
      "        -6.3300e-04, -6.3011e-04, -6.1546e-04, -5.9597e-04, -5.8999e-04,\n",
      "        -5.7719e-04, -5.7618e-04, -5.5392e-04, -5.4474e-04, -5.3754e-04,\n",
      "        -5.2280e-04, -5.1750e-04, -5.0067e-04, -4.9077e-04, -4.8136e-04,\n",
      "        -4.7698e-04, -4.6747e-04, -4.6452e-04, -4.6342e-04, -4.5352e-04,\n",
      "        -4.3962e-04, -4.3611e-04, -4.2372e-04, -4.2173e-04, -4.2117e-04,\n",
      "        -4.0228e-04, -4.0138e-04, -3.9534e-04, -3.9210e-04, -3.8965e-04,\n",
      "        -3.7803e-04, -3.7745e-04, -3.6983e-04, -3.6768e-04, -3.5877e-04,\n",
      "        -3.5738e-04, -3.5387e-04, -3.4083e-04, -3.3715e-04, -3.3265e-04,\n",
      "        -3.2902e-04, -3.2289e-04, -3.1669e-04, -3.1390e-04, -3.1137e-04,\n",
      "        -3.0660e-04, -2.9980e-04, -2.9910e-04, -2.9607e-04, -2.9245e-04,\n",
      "        -2.8438e-04, -2.7749e-04, -2.7641e-04, -2.7176e-04, -2.6681e-04,\n",
      "        -2.6307e-04, -2.6217e-04, -2.6041e-04, -2.5696e-04, -2.5370e-04,\n",
      "        -2.5369e-04, -2.5277e-04, -2.4685e-04, -2.4288e-04, -2.3801e-04,\n",
      "        -2.3465e-04, -2.3368e-04, -2.3219e-04, -2.3114e-04, -2.2185e-04,\n",
      "        -2.1769e-04, -2.1426e-04, -2.1190e-04, -2.0648e-04, -2.0486e-04,\n",
      "        -2.0182e-04, -1.9994e-04, -1.9805e-04, -1.9554e-04, -1.9156e-04,\n",
      "        -1.9094e-04, -1.8778e-04, -1.8621e-04, -1.8416e-04, -1.8179e-04,\n",
      "        -1.8003e-04, -1.7623e-04, -1.7448e-04, -1.7117e-04, -1.7114e-04,\n",
      "        -1.6714e-04, -1.6670e-04, -1.6570e-04, -1.6455e-04, -1.6297e-04,\n",
      "        -1.6095e-04, -1.5985e-04, -1.5936e-04, -1.5782e-04, -1.5468e-04,\n",
      "        -1.5355e-04, -1.4918e-04, -1.4914e-04, -1.4846e-04, -1.4760e-04,\n",
      "        -1.4281e-04, -1.4151e-04, -1.3892e-04, -1.3835e-04, -1.3539e-04,\n",
      "        -1.3369e-04, -1.3330e-04, -1.3063e-04, -1.2856e-04, -1.2636e-04,\n",
      "        -1.2626e-04, -1.2573e-04, -1.2361e-04, -1.2273e-04, -1.2041e-04,\n",
      "        -1.1821e-04, -1.1781e-04, -1.1650e-04, -1.1647e-04, -1.1282e-04,\n",
      "        -1.1235e-04, -1.1111e-04, -1.1040e-04, -1.0765e-04, -1.0680e-04,\n",
      "        -1.0445e-04, -1.0412e-04, -1.0319e-04, -1.0123e-04, -1.0101e-04,\n",
      "        -1.0048e-04, -9.9368e-05, -9.8250e-05, -9.6814e-05, -9.3426e-05,\n",
      "        -9.2861e-05, -9.2591e-05, -9.1942e-05, -9.1153e-05, -9.0966e-05,\n",
      "        -9.0748e-05, -8.9284e-05, -8.9233e-05, -8.8845e-05, -8.6896e-05,\n",
      "        -8.6733e-05, -8.6515e-05, -8.2827e-05, -8.2306e-05, -8.1918e-05,\n",
      "        -8.1200e-05, -8.0192e-05, -7.8472e-05, -7.8241e-05, -7.7839e-05,\n",
      "        -7.7757e-05, -7.7315e-05, -7.6735e-05, -7.6513e-05, -7.6357e-05,\n",
      "        -7.4272e-05, -7.4263e-05, -7.1987e-05, -7.1932e-05, -7.1188e-05,\n",
      "        -7.1002e-05, -7.0707e-05, -7.0609e-05, -7.0230e-05, -6.9811e-05,\n",
      "        -6.9392e-05, -6.8961e-05, -6.8671e-05, -6.8337e-05, -6.6471e-05,\n",
      "        -6.5131e-05, -6.5081e-05, -6.4088e-05, -6.3909e-05, -6.3644e-05,\n",
      "        -6.3477e-05, -6.2675e-05, -6.1741e-05, -6.1195e-05, -6.0917e-05,\n",
      "        -6.0818e-05, -6.0536e-05, -5.9196e-05, -5.8881e-05, -5.8826e-05,\n",
      "        -5.8452e-05, -5.8213e-05, -5.8195e-05, -5.6203e-05, -5.4805e-05,\n",
      "        -5.4567e-05, -5.3999e-05, -5.3535e-05, -5.3349e-05, -5.3005e-05,\n",
      "        -5.2859e-05, -5.2585e-05, -5.2192e-05, -5.1941e-05, -5.1476e-05,\n",
      "        -5.0710e-05, -5.0327e-05, -4.9810e-05, -4.9555e-05, -4.8861e-05,\n",
      "        -4.8817e-05, -4.8668e-05, -4.8480e-05, -4.8027e-05, -4.7919e-05,\n",
      "        -4.6046e-05, -4.5930e-05, -4.5827e-05, -4.5490e-05, -4.5480e-05,\n",
      "        -4.5238e-05, -4.4685e-05, -4.3742e-05, -4.3712e-05, -4.3533e-05,\n",
      "        -4.2617e-05, -4.1673e-05, -4.1473e-05, -4.1363e-05, -4.1253e-05,\n",
      "        -4.1025e-05, -4.0903e-05, -3.9709e-05, -3.9152e-05, -3.8694e-05,\n",
      "        -3.8596e-05, -3.8547e-05, -3.8195e-05, -3.8065e-05, -3.7915e-05,\n",
      "        -3.7441e-05, -3.6868e-05, -3.6820e-05, -3.6517e-05, -3.6479e-05,\n",
      "        -3.5953e-05, -3.5939e-05, -3.5825e-05, -3.5254e-05, -3.5174e-05,\n",
      "        -3.5105e-05, -3.4933e-05, -3.4573e-05, -3.4315e-05, -3.3470e-05,\n",
      "        -3.3394e-05, -3.3021e-05, -3.2939e-05, -3.2537e-05, -3.2516e-05,\n",
      "        -3.2502e-05, -3.2446e-05, -3.2048e-05, -3.1727e-05, -3.1059e-05,\n",
      "        -3.1011e-05, -3.0902e-05, -3.0715e-05, -3.0574e-05, -3.0564e-05,\n",
      "        -3.0126e-05, -2.9526e-05, -2.9307e-05, -2.9122e-05, -2.8915e-05,\n",
      "        -2.8721e-05, -2.8467e-05, -2.8121e-05, -2.7555e-05, -2.7475e-05,\n",
      "        -2.7434e-05, -2.6944e-05, -2.6889e-05, -2.6845e-05, -2.6685e-05,\n",
      "        -2.6275e-05, -2.6251e-05, -2.5940e-05, -2.5912e-05, -2.5907e-05,\n",
      "        -2.5555e-05, -2.5453e-05, -2.5229e-05, -2.5124e-05, -2.4897e-05,\n",
      "        -2.4827e-05, -2.4606e-05, -2.4544e-05, -2.3833e-05, -2.3821e-05,\n",
      "        -2.3541e-05, -2.3525e-05, -2.3401e-05, -2.3153e-05, -2.2905e-05,\n",
      "        -2.2735e-05, -2.2593e-05, -2.2568e-05, -2.2497e-05, -2.2265e-05,\n",
      "        -2.2200e-05, -2.2192e-05, -2.2171e-05, -2.2130e-05, -2.2041e-05,\n",
      "        -2.2027e-05, -2.1717e-05, -2.1452e-05, -2.1277e-05, -2.0685e-05,\n",
      "        -2.0425e-05, -1.9920e-05, -1.9781e-05, -1.9629e-05, -1.9602e-05,\n",
      "        -1.9471e-05, -1.9359e-05, -1.9253e-05, -1.9159e-05, -1.8700e-05,\n",
      "        -1.8295e-05, -1.8148e-05, -1.8144e-05, -1.8094e-05, -1.8049e-05,\n",
      "        -1.7789e-05, -1.7582e-05, -1.7412e-05, -1.7352e-05, -1.7291e-05,\n",
      "        -1.7094e-05, -1.7002e-05, -1.6919e-05, -1.6909e-05, -1.6874e-05,\n",
      "        -1.6865e-05, -1.6803e-05, -1.6726e-05, -1.6333e-05, -1.6239e-05,\n",
      "        -1.5980e-05, -1.5915e-05, -1.5665e-05, -1.5373e-05, -1.5307e-05,\n",
      "        -1.5153e-05, -1.4884e-05, -1.4719e-05, -1.4666e-05, -1.4613e-05,\n",
      "        -1.4449e-05, -1.4423e-05, -1.4370e-05, -1.4282e-05, -1.4156e-05,\n",
      "        -1.4054e-05, -1.3674e-05, -1.3621e-05, -1.3586e-05, -1.3362e-05,\n",
      "        -1.3251e-05, -1.3249e-05, -1.3138e-05, -1.2914e-05, -1.2654e-05,\n",
      "        -1.2643e-05, -1.2483e-05, -1.2105e-05, -1.2076e-05, -1.2039e-05,\n",
      "        -1.1897e-05, -1.1719e-05, -1.1494e-05, -1.1415e-05, -1.1385e-05,\n",
      "        -1.1361e-05, -1.1360e-05, -1.1344e-05, -1.1235e-05, -1.1150e-05,\n",
      "        -1.1023e-05, -1.0985e-05, -1.0752e-05, -1.0587e-05, -1.0579e-05,\n",
      "        -1.0563e-05, -1.0397e-05, -1.0341e-05, -1.0329e-05, -1.0014e-05,\n",
      "        -9.9132e-06, -9.8277e-06, -9.5788e-06, -9.5131e-06, -9.4989e-06,\n",
      "        -9.4624e-06, -9.4343e-06, -9.4261e-06, -9.1795e-06, -9.0605e-06,\n",
      "        -9.0421e-06, -8.8735e-06, -8.7326e-06, -8.6805e-06, -8.6448e-06,\n",
      "        -8.5715e-06, -8.4773e-06, -8.3736e-06, -8.3337e-06, -8.2814e-06,\n",
      "        -8.0777e-06, -8.0261e-06, -7.9156e-06, -7.8403e-06, -7.8361e-06,\n",
      "        -7.8172e-06, -7.7825e-06, -7.3210e-06, -7.0343e-06, -6.9964e-06,\n",
      "        -6.9704e-06, -6.9052e-06, -6.8885e-06, -6.7938e-06, -6.7860e-06,\n",
      "        -6.6653e-06, -6.5648e-06, -6.4900e-06, -6.3672e-06, -6.3466e-06,\n",
      "        -6.1481e-06, -6.1308e-06, -5.9925e-06, -5.8393e-06, -5.8117e-06,\n",
      "        -5.7980e-06, -5.3985e-06, -5.3804e-06, -5.3501e-06, -5.2968e-06,\n",
      "        -5.0420e-06, -4.4306e-06, -4.3570e-06, -4.3346e-06, -4.2737e-06,\n",
      "        -4.1775e-06, -4.1149e-06, -4.0682e-06, -3.9264e-06, -3.3598e-06,\n",
      "        -2.7529e-06, -2.6740e-06, -2.1940e-06, -1.9453e-06, -1.6536e-06,\n",
      "        -1.2558e-06])\n",
      "  warnings.warn(f\"Negative eigenvalues encountered and removed: {eigenvalues[eigenvalues < 0]}\", RuntimeWarning)\n"
     ]
    },
    {
     "data": {
      "text/plain": [
       "torch.Size([5000, 9])"
      ]
     },
     "execution_count": 36,
     "metadata": {},
     "output_type": "execute_result"
    }
   ],
   "source": [
    "from utils_ import _lda as lda\n",
    "\n",
    "LDA = lda.LDA()\n",
    "LDA.fit(X_kpca, y_train_t)\n",
    "X_lda = LDA.transform(X_kpca)\n",
    "X_test_lda = LDA.transform(X_test_kpca)\n",
    "X_lda.shape"
   ]
  },
  {
   "cell_type": "code",
   "execution_count": 37,
   "metadata": {},
   "outputs": [
    {
     "name": "stdout",
     "output_type": "stream",
     "text": [
      "Accuracy: 28.80%\n"
     ]
    }
   ],
   "source": [
    "from utils_ import _models\n",
    "from sklearn.metrics import accuracy_score\n",
    "\n",
    "NC = _models.NearestCentroid()\n",
    "NC.fit(X_lda, y_train_t)\n",
    "\n",
    "# Predict the labels for the test set \n",
    "y_pred = NC.predict(X_test_lda)\n",
    "accuracy = accuracy_score(y_test, y_pred.numpy()) \n",
    "print(f\"Accuracy: {accuracy * 100:.2f}%\")"
   ]
  },
  {
   "cell_type": "code",
   "execution_count": 39,
   "metadata": {},
   "outputs": [
    {
     "name": "stdout",
     "output_type": "stream",
     "text": [
      "The best accuracy is 36.00% with n_neighbors = 26\n"
     ]
    }
   ],
   "source": [
    "from sklearn.neighbors import KNeighborsClassifier as KNN\n",
    "\n",
    "acc_KNN = []\n",
    "\n",
    "for k in range(1,30):\n",
    "    knn = KNN(n_neighbors=k, n_jobs=-1)\n",
    "\n",
    "    knn.fit(X_lda.numpy(), y_train_m)\n",
    "    score = knn.score(X_test_lda.numpy(), y_test)\n",
    "\n",
    "    acc_KNN.append(score)\n",
    "\n",
    "best_acc = max(acc_KNN)\n",
    "best_k = acc_KNN.index(best_acc)\n",
    "best_k_value = range(1,30)[best_k]\n",
    "\n",
    "print(f'The best accuracy is {best_acc*100:.2f}% with n_neighbors = {best_k_value}')"
   ]
  },
  {
   "cell_type": "markdown",
   "metadata": {},
   "source": [
    "for the 95% looking best params for svc and checking its new scores"
   ]
  },
  {
   "cell_type": "code",
   "execution_count": 172,
   "metadata": {},
   "outputs": [
    {
     "name": "stdout",
     "output_type": "stream",
     "text": [
      "Fitting 5 folds for each of 17 candidates, totalling 85 fits\n",
      "[CV 1/5; 1/17] START C=2.5, gamma=0.001, kernel=rbf.............................\n",
      "[CV 1/5; 1/17] END C=2.5, gamma=0.001, kernel=rbf;, score=0.400 total time=   0.4s\n",
      "[CV 2/5; 1/17] START C=2.5, gamma=0.001, kernel=rbf.............................\n",
      "[CV 2/5; 1/17] END C=2.5, gamma=0.001, kernel=rbf;, score=0.423 total time=   0.4s\n",
      "[CV 3/5; 1/17] START C=2.5, gamma=0.001, kernel=rbf.............................\n",
      "[CV 3/5; 1/17] END C=2.5, gamma=0.001, kernel=rbf;, score=0.385 total time=   0.4s\n",
      "[CV 4/5; 1/17] START C=2.5, gamma=0.001, kernel=rbf.............................\n",
      "[CV 4/5; 1/17] END C=2.5, gamma=0.001, kernel=rbf;, score=0.407 total time=   0.4s\n",
      "[CV 5/5; 1/17] START C=2.5, gamma=0.001, kernel=rbf.............................\n",
      "[CV 5/5; 1/17] END C=2.5, gamma=0.001, kernel=rbf;, score=0.398 total time=   0.4s\n",
      "[CV 1/5; 2/17] START C=2.5, gamma=0.005, kernel=rbf.............................\n",
      "[CV 1/5; 2/17] END C=2.5, gamma=0.005, kernel=rbf;, score=0.397 total time=   0.4s\n",
      "[CV 2/5; 2/17] START C=2.5, gamma=0.005, kernel=rbf.............................\n",
      "[CV 2/5; 2/17] END C=2.5, gamma=0.005, kernel=rbf;, score=0.429 total time=   0.4s\n",
      "[CV 3/5; 2/17] START C=2.5, gamma=0.005, kernel=rbf.............................\n",
      "[CV 3/5; 2/17] END C=2.5, gamma=0.005, kernel=rbf;, score=0.394 total time=   0.4s\n",
      "[CV 4/5; 2/17] START C=2.5, gamma=0.005, kernel=rbf.............................\n",
      "[CV 4/5; 2/17] END C=2.5, gamma=0.005, kernel=rbf;, score=0.407 total time=   0.4s\n",
      "[CV 5/5; 2/17] START C=2.5, gamma=0.005, kernel=rbf.............................\n",
      "[CV 5/5; 2/17] END C=2.5, gamma=0.005, kernel=rbf;, score=0.389 total time=   0.5s\n",
      "[CV 1/5; 3/17] START C=2.5, gamma=0.0075, kernel=rbf............................\n",
      "[CV 1/5; 3/17] END C=2.5, gamma=0.0075, kernel=rbf;, score=0.408 total time=   0.5s\n",
      "[CV 2/5; 3/17] START C=2.5, gamma=0.0075, kernel=rbf............................\n",
      "[CV 2/5; 3/17] END C=2.5, gamma=0.0075, kernel=rbf;, score=0.419 total time=   0.4s\n",
      "[CV 3/5; 3/17] START C=2.5, gamma=0.0075, kernel=rbf............................\n",
      "[CV 3/5; 3/17] END C=2.5, gamma=0.0075, kernel=rbf;, score=0.406 total time=   0.4s\n",
      "[CV 4/5; 3/17] START C=2.5, gamma=0.0075, kernel=rbf............................\n",
      "[CV 4/5; 3/17] END C=2.5, gamma=0.0075, kernel=rbf;, score=0.396 total time=   0.4s\n",
      "[CV 5/5; 3/17] START C=2.5, gamma=0.0075, kernel=rbf............................\n",
      "[CV 5/5; 3/17] END C=2.5, gamma=0.0075, kernel=rbf;, score=0.400 total time=   0.4s\n",
      "[CV 1/5; 4/17] START C=2.5, gamma=0.01, kernel=rbf..............................\n",
      "[CV 1/5; 4/17] END C=2.5, gamma=0.01, kernel=rbf;, score=0.395 total time=   0.5s\n",
      "[CV 2/5; 4/17] START C=2.5, gamma=0.01, kernel=rbf..............................\n",
      "[CV 2/5; 4/17] END C=2.5, gamma=0.01, kernel=rbf;, score=0.418 total time=   0.5s\n",
      "[CV 3/5; 4/17] START C=2.5, gamma=0.01, kernel=rbf..............................\n",
      "[CV 3/5; 4/17] END C=2.5, gamma=0.01, kernel=rbf;, score=0.400 total time=   0.5s\n",
      "[CV 4/5; 4/17] START C=2.5, gamma=0.01, kernel=rbf..............................\n",
      "[CV 4/5; 4/17] END C=2.5, gamma=0.01, kernel=rbf;, score=0.394 total time=   0.5s\n",
      "[CV 5/5; 4/17] START C=2.5, gamma=0.01, kernel=rbf..............................\n",
      "[CV 5/5; 4/17] END C=2.5, gamma=0.01, kernel=rbf;, score=0.394 total time=   0.4s\n",
      "[CV 1/5; 5/17] START C=5, gamma=0.001, kernel=rbf...............................\n",
      "[CV 1/5; 5/17] END C=5, gamma=0.001, kernel=rbf;, score=0.405 total time=   0.4s\n",
      "[CV 2/5; 5/17] START C=5, gamma=0.001, kernel=rbf...............................\n",
      "[CV 2/5; 5/17] END C=5, gamma=0.001, kernel=rbf;, score=0.421 total time=   0.4s\n",
      "[CV 3/5; 5/17] START C=5, gamma=0.001, kernel=rbf...............................\n",
      "[CV 3/5; 5/17] END C=5, gamma=0.001, kernel=rbf;, score=0.393 total time=   0.4s\n",
      "[CV 4/5; 5/17] START C=5, gamma=0.001, kernel=rbf...............................\n",
      "[CV 4/5; 5/17] END C=5, gamma=0.001, kernel=rbf;, score=0.408 total time=   0.4s\n",
      "[CV 5/5; 5/17] START C=5, gamma=0.001, kernel=rbf...............................\n",
      "[CV 5/5; 5/17] END C=5, gamma=0.001, kernel=rbf;, score=0.391 total time=   0.4s\n",
      "[CV 1/5; 6/17] START C=5, gamma=0.005, kernel=rbf...............................\n",
      "[CV 1/5; 6/17] END C=5, gamma=0.005, kernel=rbf;, score=0.409 total time=   0.5s\n",
      "[CV 2/5; 6/17] START C=5, gamma=0.005, kernel=rbf...............................\n",
      "[CV 2/5; 6/17] END C=5, gamma=0.005, kernel=rbf;, score=0.422 total time=   0.4s\n",
      "[CV 3/5; 6/17] START C=5, gamma=0.005, kernel=rbf...............................\n",
      "[CV 3/5; 6/17] END C=5, gamma=0.005, kernel=rbf;, score=0.413 total time=   0.4s\n",
      "[CV 4/5; 6/17] START C=5, gamma=0.005, kernel=rbf...............................\n",
      "[CV 4/5; 6/17] END C=5, gamma=0.005, kernel=rbf;, score=0.401 total time=   0.4s\n",
      "[CV 5/5; 6/17] START C=5, gamma=0.005, kernel=rbf...............................\n",
      "[CV 5/5; 6/17] END C=5, gamma=0.005, kernel=rbf;, score=0.393 total time=   0.4s\n",
      "[CV 1/5; 7/17] START C=5, gamma=0.0075, kernel=rbf..............................\n",
      "[CV 1/5; 7/17] END C=5, gamma=0.0075, kernel=rbf;, score=0.398 total time=   0.5s\n",
      "[CV 2/5; 7/17] START C=5, gamma=0.0075, kernel=rbf..............................\n",
      "[CV 2/5; 7/17] END C=5, gamma=0.0075, kernel=rbf;, score=0.414 total time=   0.5s\n",
      "[CV 3/5; 7/17] START C=5, gamma=0.0075, kernel=rbf..............................\n",
      "[CV 3/5; 7/17] END C=5, gamma=0.0075, kernel=rbf;, score=0.413 total time=   0.5s\n",
      "[CV 4/5; 7/17] START C=5, gamma=0.0075, kernel=rbf..............................\n",
      "[CV 4/5; 7/17] END C=5, gamma=0.0075, kernel=rbf;, score=0.386 total time=   0.5s\n",
      "[CV 5/5; 7/17] START C=5, gamma=0.0075, kernel=rbf..............................\n",
      "[CV 5/5; 7/17] END C=5, gamma=0.0075, kernel=rbf;, score=0.386 total time=   0.5s\n",
      "[CV 1/5; 8/17] START C=5, gamma=0.01, kernel=rbf................................\n",
      "[CV 1/5; 8/17] END .C=5, gamma=0.01, kernel=rbf;, score=0.390 total time=   0.5s\n",
      "[CV 2/5; 8/17] START C=5, gamma=0.01, kernel=rbf................................\n",
      "[CV 2/5; 8/17] END .C=5, gamma=0.01, kernel=rbf;, score=0.395 total time=   0.5s\n",
      "[CV 3/5; 8/17] START C=5, gamma=0.01, kernel=rbf................................\n",
      "[CV 3/5; 8/17] END .C=5, gamma=0.01, kernel=rbf;, score=0.399 total time=   0.5s\n",
      "[CV 4/5; 8/17] START C=5, gamma=0.01, kernel=rbf................................\n",
      "[CV 4/5; 8/17] END .C=5, gamma=0.01, kernel=rbf;, score=0.380 total time=   0.5s\n",
      "[CV 5/5; 8/17] START C=5, gamma=0.01, kernel=rbf................................\n",
      "[CV 5/5; 8/17] END .C=5, gamma=0.01, kernel=rbf;, score=0.393 total time=   0.5s\n",
      "[CV 1/5; 9/17] START C=7.5, gamma=0.001, kernel=rbf.............................\n",
      "[CV 1/5; 9/17] END C=7.5, gamma=0.001, kernel=rbf;, score=0.402 total time=   0.4s\n",
      "[CV 2/5; 9/17] START C=7.5, gamma=0.001, kernel=rbf.............................\n",
      "[CV 2/5; 9/17] END C=7.5, gamma=0.001, kernel=rbf;, score=0.416 total time=   0.4s\n",
      "[CV 3/5; 9/17] START C=7.5, gamma=0.001, kernel=rbf.............................\n",
      "[CV 3/5; 9/17] END C=7.5, gamma=0.001, kernel=rbf;, score=0.398 total time=   0.4s\n",
      "[CV 4/5; 9/17] START C=7.5, gamma=0.001, kernel=rbf.............................\n",
      "[CV 4/5; 9/17] END C=7.5, gamma=0.001, kernel=rbf;, score=0.408 total time=   0.4s\n",
      "[CV 5/5; 9/17] START C=7.5, gamma=0.001, kernel=rbf.............................\n",
      "[CV 5/5; 9/17] END C=7.5, gamma=0.001, kernel=rbf;, score=0.395 total time=   0.4s\n",
      "[CV 1/5; 10/17] START C=7.5, gamma=0.005, kernel=rbf............................\n",
      "[CV 1/5; 10/17] END C=7.5, gamma=0.005, kernel=rbf;, score=0.402 total time=   0.5s\n",
      "[CV 2/5; 10/17] START C=7.5, gamma=0.005, kernel=rbf............................\n",
      "[CV 2/5; 10/17] END C=7.5, gamma=0.005, kernel=rbf;, score=0.413 total time=   0.5s\n",
      "[CV 3/5; 10/17] START C=7.5, gamma=0.005, kernel=rbf............................\n",
      "[CV 3/5; 10/17] END C=7.5, gamma=0.005, kernel=rbf;, score=0.415 total time=   0.5s\n",
      "[CV 4/5; 10/17] START C=7.5, gamma=0.005, kernel=rbf............................\n",
      "[CV 4/5; 10/17] END C=7.5, gamma=0.005, kernel=rbf;, score=0.396 total time=   0.5s\n",
      "[CV 5/5; 10/17] START C=7.5, gamma=0.005, kernel=rbf............................\n",
      "[CV 5/5; 10/17] END C=7.5, gamma=0.005, kernel=rbf;, score=0.394 total time=   0.5s\n",
      "[CV 1/5; 11/17] START C=7.5, gamma=0.0075, kernel=rbf...........................\n",
      "[CV 1/5; 11/17] END C=7.5, gamma=0.0075, kernel=rbf;, score=0.405 total time=   0.5s\n",
      "[CV 2/5; 11/17] START C=7.5, gamma=0.0075, kernel=rbf...........................\n",
      "[CV 2/5; 11/17] END C=7.5, gamma=0.0075, kernel=rbf;, score=0.403 total time=   0.5s\n",
      "[CV 3/5; 11/17] START C=7.5, gamma=0.0075, kernel=rbf...........................\n",
      "[CV 3/5; 11/17] END C=7.5, gamma=0.0075, kernel=rbf;, score=0.401 total time=   0.5s\n",
      "[CV 4/5; 11/17] START C=7.5, gamma=0.0075, kernel=rbf...........................\n",
      "[CV 4/5; 11/17] END C=7.5, gamma=0.0075, kernel=rbf;, score=0.380 total time=   0.5s\n",
      "[CV 5/5; 11/17] START C=7.5, gamma=0.0075, kernel=rbf...........................\n",
      "[CV 5/5; 11/17] END C=7.5, gamma=0.0075, kernel=rbf;, score=0.388 total time=   0.5s\n",
      "[CV 1/5; 12/17] START C=7.5, gamma=0.01, kernel=rbf.............................\n",
      "[CV 1/5; 12/17] END C=7.5, gamma=0.01, kernel=rbf;, score=0.370 total time=   0.5s\n",
      "[CV 2/5; 12/17] START C=7.5, gamma=0.01, kernel=rbf.............................\n",
      "[CV 2/5; 12/17] END C=7.5, gamma=0.01, kernel=rbf;, score=0.388 total time=   0.5s\n",
      "[CV 3/5; 12/17] START C=7.5, gamma=0.01, kernel=rbf.............................\n",
      "[CV 3/5; 12/17] END C=7.5, gamma=0.01, kernel=rbf;, score=0.388 total time=   0.5s\n",
      "[CV 4/5; 12/17] START C=7.5, gamma=0.01, kernel=rbf.............................\n",
      "[CV 4/5; 12/17] END C=7.5, gamma=0.01, kernel=rbf;, score=0.377 total time=   0.5s\n",
      "[CV 5/5; 12/17] START C=7.5, gamma=0.01, kernel=rbf.............................\n",
      "[CV 5/5; 12/17] END C=7.5, gamma=0.01, kernel=rbf;, score=0.369 total time=   0.5s\n",
      "[CV 1/5; 13/17] START C=0.01, kernel=linear.....................................\n",
      "[CV 1/5; 13/17] END ......C=0.01, kernel=linear;, score=0.391 total time=   0.2s\n",
      "[CV 2/5; 13/17] START C=0.01, kernel=linear.....................................\n",
      "[CV 2/5; 13/17] END ......C=0.01, kernel=linear;, score=0.400 total time=   0.2s\n",
      "[CV 3/5; 13/17] START C=0.01, kernel=linear.....................................\n",
      "[CV 3/5; 13/17] END ......C=0.01, kernel=linear;, score=0.370 total time=   0.2s\n",
      "[CV 4/5; 13/17] START C=0.01, kernel=linear.....................................\n",
      "[CV 4/5; 13/17] END ......C=0.01, kernel=linear;, score=0.395 total time=   0.2s\n",
      "[CV 5/5; 13/17] START C=0.01, kernel=linear.....................................\n",
      "[CV 5/5; 13/17] END ......C=0.01, kernel=linear;, score=0.372 total time=   0.2s\n",
      "[CV 1/5; 14/17] START C=0.05, kernel=linear.....................................\n",
      "[CV 1/5; 14/17] END ......C=0.05, kernel=linear;, score=0.392 total time=   0.4s\n",
      "[CV 2/5; 14/17] START C=0.05, kernel=linear.....................................\n",
      "[CV 2/5; 14/17] END ......C=0.05, kernel=linear;, score=0.394 total time=   0.4s\n",
      "[CV 3/5; 14/17] START C=0.05, kernel=linear.....................................\n",
      "[CV 3/5; 14/17] END ......C=0.05, kernel=linear;, score=0.369 total time=   0.4s\n",
      "[CV 4/5; 14/17] START C=0.05, kernel=linear.....................................\n",
      "[CV 4/5; 14/17] END ......C=0.05, kernel=linear;, score=0.395 total time=   0.4s\n",
      "[CV 5/5; 14/17] START C=0.05, kernel=linear.....................................\n",
      "[CV 5/5; 14/17] END ......C=0.05, kernel=linear;, score=0.374 total time=   0.3s\n",
      "[CV 1/5; 15/17] START C=0.001, kernel=linear....................................\n",
      "[CV 1/5; 15/17] END .....C=0.001, kernel=linear;, score=0.394 total time=   0.2s\n",
      "[CV 2/5; 15/17] START C=0.001, kernel=linear....................................\n",
      "[CV 2/5; 15/17] END .....C=0.001, kernel=linear;, score=0.401 total time=   0.2s\n",
      "[CV 3/5; 15/17] START C=0.001, kernel=linear....................................\n",
      "[CV 3/5; 15/17] END .....C=0.001, kernel=linear;, score=0.377 total time=   0.2s\n",
      "[CV 4/5; 15/17] START C=0.001, kernel=linear....................................\n",
      "[CV 4/5; 15/17] END .....C=0.001, kernel=linear;, score=0.383 total time=   0.2s\n",
      "[CV 5/5; 15/17] START C=0.001, kernel=linear....................................\n",
      "[CV 5/5; 15/17] END .....C=0.001, kernel=linear;, score=0.385 total time=   0.2s\n",
      "[CV 1/5; 16/17] START C=0.005, kernel=linear....................................\n",
      "[CV 1/5; 16/17] END .....C=0.005, kernel=linear;, score=0.393 total time=   0.2s\n",
      "[CV 2/5; 16/17] START C=0.005, kernel=linear....................................\n",
      "[CV 2/5; 16/17] END .....C=0.005, kernel=linear;, score=0.403 total time=   0.2s\n",
      "[CV 3/5; 16/17] START C=0.005, kernel=linear....................................\n",
      "[CV 3/5; 16/17] END .....C=0.005, kernel=linear;, score=0.371 total time=   0.2s\n",
      "[CV 4/5; 16/17] START C=0.005, kernel=linear....................................\n",
      "[CV 4/5; 16/17] END .....C=0.005, kernel=linear;, score=0.390 total time=   0.2s\n",
      "[CV 5/5; 16/17] START C=0.005, kernel=linear....................................\n",
      "[CV 5/5; 16/17] END .....C=0.005, kernel=linear;, score=0.374 total time=   0.2s\n",
      "[CV 1/5; 17/17] START C=0.0075, kernel=linear...................................\n",
      "[CV 1/5; 17/17] END ....C=0.0075, kernel=linear;, score=0.391 total time=   0.2s\n",
      "[CV 2/5; 17/17] START C=0.0075, kernel=linear...................................\n",
      "[CV 2/5; 17/17] END ....C=0.0075, kernel=linear;, score=0.401 total time=   0.2s\n",
      "[CV 3/5; 17/17] START C=0.0075, kernel=linear...................................\n",
      "[CV 3/5; 17/17] END ....C=0.0075, kernel=linear;, score=0.372 total time=   0.2s\n",
      "[CV 4/5; 17/17] START C=0.0075, kernel=linear...................................\n",
      "[CV 4/5; 17/17] END ....C=0.0075, kernel=linear;, score=0.389 total time=   0.2s\n",
      "[CV 5/5; 17/17] START C=0.0075, kernel=linear...................................\n",
      "[CV 5/5; 17/17] END ....C=0.0075, kernel=linear;, score=0.375 total time=   0.2s\n",
      "Durratio: 43.006309270858765\n",
      "{'C': 5, 'gamma': 0.005, 'kernel': 'rbf'}\n"
     ]
    }
   ],
   "source": [
    "from sklearn.svm import SVC\n",
    "from sklearn.model_selection import GridSearchCV\n",
    "import time \n",
    "s_time=time.time()\n",
    "param_grid = [{'C':[2.5, 5, 7.5], 'gamma':[1e-03, 5e-03, 7.5e-03, 1e-02], 'kernel':['rbf']},\n",
    "              {'C':[0.01, 0.05, 0.001,0.005, 0.0075], 'kernel':['linear']}] #{'C':[0.01,0.001,0.0001], 'kernel':['linear']}\n",
    "grid = GridSearchCV(SVC(), param_grid, verbose=10)\n",
    "grid.fit(X_lda.numpy(), y_train_m)\n",
    "y_pred = grid.predict(X_test_lda.numpy())\n",
    "f_time = time.time()\n",
    "print(f'Durratio: {f_time-s_time}')\n",
    "best_params = grid.best_params_\n",
    "print(best_params)"
   ]
  },
  {
   "cell_type": "code",
   "execution_count": 173,
   "metadata": {},
   "outputs": [
    {
     "name": "stdout",
     "output_type": "stream",
     "text": [
      "Accuracy: 0.37\n"
     ]
    }
   ],
   "source": [
    "from sklearn import metrics\n",
    "print(f'Accuracy: {metrics.accuracy_score(y_true=y_test, y_pred = y_pred)}')"
   ]
  },
  {
   "cell_type": "markdown",
   "metadata": {},
   "source": [
    "### kernel 'poly'"
   ]
  },
  {
   "cell_type": "code",
   "execution_count": 26,
   "metadata": {},
   "outputs": [],
   "source": [
    "deg = 8\n",
    "coef = 1"
   ]
  },
  {
   "cell_type": "code",
   "execution_count": 28,
   "metadata": {},
   "outputs": [
    {
     "name": "stdout",
     "output_type": "stream",
     "text": [
      " \n",
      " ---- STARTING custom KPCA ---- \n"
     ]
    },
    {
     "name": "stderr",
     "output_type": "stream",
     "text": [
      "c:\\Users\\dimos\\PyProjecks\\KPCA_LDA_v2\\utils_\\_kPCA.py:122: RuntimeWarning: Negative or near-zero eigenvalues encountered and removed: tensor([-1.5241e+20, -1.4030e+19, -1.1682e+19, -1.1413e+19, -8.5734e+18,\n",
      "        -8.2001e+18, -6.1260e+18, -5.9568e+18, -4.1088e+18, -3.9087e+18,\n",
      "        -3.7253e+18, -3.5444e+18, -3.2724e+18, -2.8964e+18, -2.5005e+18,\n",
      "        -2.3699e+18, -2.2450e+18, -2.1573e+18, -1.6922e+18, -1.6893e+18,\n",
      "        -1.5037e+18, -1.4669e+18, -1.2972e+18, -1.0628e+18, -1.0072e+18,\n",
      "        -7.8866e+17, -5.4247e+17, -4.4538e+17, -3.9288e+17, -3.5623e+17,\n",
      "        -2.8771e+17, -2.1232e+17, -1.4318e+17, -5.4837e+16, -2.7929e+16,\n",
      "        -2.3471e+15])\n",
      "  warnings.warn(\n"
     ]
    },
    {
     "name": "stdout",
     "output_type": "stream",
     "text": [
      "The shape of train after xkpca  torch.Size([5000, 3072])\n",
      "The shape of test after xkpca  torch.Size([1000, 3072])\n",
      "---- KPCA took  11023  ms----\n"
     ]
    }
   ],
   "source": [
    "from utils_ import _kPCA\n",
    "import time \n",
    "\n",
    "startKpca = int(round(time.time() * 1000))\n",
    "\n",
    "print(\" \")\n",
    "print(\" ---- STARTING custom KPCA ---- \")\n",
    "\n",
    "kpca = _kPCA.KPCA(n_components=3072, kernel_type='poly', degree=deg, coef0=coef)#, gamma=a\n",
    "kpca.fit(x_train_t)\n",
    "X_kpca = kpca.transform(x_train_t)\n",
    "X_test_kpca = kpca.transform(x_test_t)\n",
    "\n",
    "print(\"The shape of train after xkpca \", X_kpca.shape )\n",
    "print(\"The shape of test after xkpca \", X_test_kpca.shape )\n",
    "\n",
    "# stop the kpca timer\n",
    "endKpca = int(round(time.time() * 1000))\n",
    "\n",
    "print(\"---- KPCA took \", (endKpca-startKpca), \" ms----\")"
   ]
  },
  {
   "cell_type": "code",
   "execution_count": 29,
   "metadata": {},
   "outputs": [],
   "source": [
    "explained_variance = kpca.explained_var  \n",
    "explained_variance_ratio = explained_variance / torch.sum(explained_variance)"
   ]
  },
  {
   "cell_type": "code",
   "execution_count": 30,
   "metadata": {},
   "outputs": [
    {
     "data": {
      "image/png": "[encoded data removed]",
      "text/plain": [
       "<Figure size 640x480 with 1 Axes>"
      ]
     },
     "metadata": {},
     "output_type": "display_data"
    },
    {
     "data": {
      "text/plain": [
       "None"
      ]
     },
     "metadata": {},
     "output_type": "display_data"
    }
   ],
   "source": [
    "import seaborn as sns\n",
    "import matplotlib.pyplot as plt\n",
    "import numpy as np\n",
    "\n",
    "sns.set_theme(style='whitegrid')\n",
    "plt.plot(np.cumsum(explained_variance_ratio.numpy()))\n",
    "plt.title('Kernel: Poly', fontsize=16)\n",
    "plt.xlabel('num of components')\n",
    "plt.ylabel('cumulative explained variance')\n",
    "display(plt.show())"
   ]
  },
  {
   "cell_type": "code",
   "execution_count": 210,
   "metadata": {},
   "outputs": [],
   "source": [
    "import pandas as pd\n",
    "\n",
    "evr = explained_variance_ratio.numpy()\n",
    "crv = np.cumsum(explained_variance_ratio.numpy())\n",
    "kpca_df  = pd.DataFrame()\n",
    "kpca_df['cumsum_explained_var'] = crv\n",
    "kpca_df['explainde_var_ratio'] = evr"
   ]
  },
  {
   "cell_type": "code",
   "execution_count": 211,
   "metadata": {},
   "outputs": [
    {
     "name": "stdout",
     "output_type": "stream",
     "text": [
      "Indexes where cumsum_explained_var > 0.95: [464, 465, 466, 467, 468, 469, 470, 471, 472, 473, 474, 475, 476, 477, 478, 479, 480, 481, 482, 483, 484, 485, 486, 487, 488, 489, 490, 491, 492, 493, 494, 495, 496, 497, 498, 499, 500, 501, 502, 503, 504, 505, 506, 507, 508, 509, 510, 511, 512, 513, 514, 515, 516, 517, 518, 519, 520, 521, 522, 523, 524, 525, 526, 527, 528, 529, 530, 531, 532, 533, 534, 535, 536, 537, 538, 539, 540, 541, 542, 543, 544, 545, 546, 547, 548, 549, 550, 551, 552, 553, 554, 555, 556, 557, 558, 559, 560, 561, 562, 563, 564, 565, 566, 567, 568, 569, 570, 571, 572, 573, 574, 575, 576, 577, 578, 579, 580, 581, 582, 583, 584, 585, 586, 587, 588, 589, 590, 591, 592, 593, 594, 595, 596, 597, 598, 599, 600, 601, 602, 603, 604, 605, 606, 607, 608, 609, 610, 611, 612, 613, 614, 615, 616, 617, 618, 619, 620, 621, 622, 623, 624, 625, 626, 627, 628, 629, 630, 631, 632, 633, 634, 635, 636, 637, 638, 639, 640, 641, 642, 643, 644, 645, 646, 647, 648, 649, 650, 651, 652, 653, 654, 655, 656, 657, 658, 659, 660, 661, 662, 663, 664, 665, 666, 667, 668, 669, 670, 671, 672, 673, 674, 675, 676, 677, 678, 679, 680, 681, 682, 683, 684, 685, 686, 687, 688, 689, 690, 691, 692, 693, 694, 695, 696, 697, 698, 699, 700, 701, 702, 703, 704, 705, 706, 707, 708, 709, 710, 711, 712, 713, 714, 715, 716, 717, 718, 719, 720, 721, 722, 723, 724, 725, 726, 727, 728, 729, 730, 731, 732, 733, 734, 735, 736, 737, 738, 739, 740, 741, 742, 743, 744, 745, 746, 747, 748, 749, 750, 751, 752, 753, 754, 755, 756, 757, 758, 759, 760, 761, 762, 763, 764, 765, 766, 767, 768, 769, 770, 771, 772, 773, 774, 775, 776, 777, 778, 779, 780, 781, 782, 783, 784, 785, 786, 787, 788, 789, 790, 791, 792, 793, 794, 795, 796, 797, 798, 799, 800, 801, 802, 803, 804, 805, 806, 807, 808, 809, 810, 811, 812, 813, 814, 815, 816, 817, 818, 819, 820, 821, 822, 823, 824, 825, 826, 827, 828, 829, 830, 831, 832, 833, 834, 835, 836, 837, 838, 839, 840, 841, 842, 843, 844, 845, 846, 847, 848, 849, 850, 851, 852, 853, 854, 855, 856, 857, 858, 859, 860, 861, 862, 863, 864, 865, 866, 867, 868, 869, 870, 871, 872, 873, 874, 875, 876, 877, 878, 879, 880, 881, 882, 883, 884, 885, 886, 887, 888, 889, 890, 891, 892, 893, 894, 895, 896, 897, 898, 899, 900, 901, 902, 903, 904, 905, 906, 907, 908, 909, 910, 911, 912, 913, 914, 915, 916, 917, 918, 919, 920, 921, 922, 923, 924, 925, 926, 927, 928, 929, 930, 931, 932, 933, 934, 935, 936, 937, 938, 939, 940, 941, 942, 943, 944, 945, 946, 947, 948, 949, 950, 951, 952, 953, 954, 955, 956, 957, 958, 959, 960, 961, 962, 963, 964, 965, 966, 967, 968, 969, 970, 971, 972, 973, 974, 975, 976, 977, 978, 979, 980, 981, 982, 983, 984, 985, 986, 987, 988, 989, 990, 991, 992, 993, 994, 995, 996, 997, 998, 999, 1000, 1001, 1002, 1003, 1004, 1005, 1006, 1007, 1008, 1009, 1010, 1011, 1012, 1013, 1014, 1015, 1016, 1017, 1018, 1019, 1020, 1021, 1022, 1023, 1024, 1025, 1026, 1027, 1028, 1029, 1030, 1031, 1032, 1033, 1034, 1035, 1036, 1037, 1038, 1039, 1040, 1041, 1042, 1043, 1044, 1045, 1046, 1047, 1048, 1049, 1050, 1051, 1052, 1053, 1054, 1055, 1056, 1057, 1058, 1059, 1060, 1061, 1062, 1063, 1064, 1065, 1066, 1067, 1068, 1069, 1070, 1071, 1072, 1073, 1074, 1075, 1076, 1077, 1078, 1079, 1080, 1081, 1082, 1083, 1084, 1085, 1086, 1087, 1088, 1089, 1090, 1091, 1092, 1093, 1094, 1095, 1096, 1097, 1098, 1099, 1100, 1101, 1102, 1103, 1104, 1105, 1106, 1107, 1108, 1109, 1110, 1111, 1112, 1113, 1114, 1115, 1116, 1117, 1118, 1119, 1120, 1121, 1122, 1123, 1124, 1125, 1126, 1127, 1128, 1129, 1130, 1131, 1132, 1133, 1134, 1135, 1136, 1137, 1138, 1139, 1140, 1141, 1142, 1143, 1144, 1145, 1146, 1147, 1148, 1149, 1150, 1151, 1152, 1153, 1154, 1155, 1156, 1157, 1158, 1159, 1160, 1161, 1162, 1163, 1164, 1165, 1166, 1167, 1168, 1169, 1170, 1171, 1172, 1173, 1174, 1175, 1176, 1177, 1178, 1179, 1180, 1181, 1182, 1183, 1184, 1185, 1186, 1187, 1188, 1189, 1190, 1191, 1192, 1193, 1194, 1195, 1196, 1197, 1198, 1199, 1200, 1201, 1202, 1203, 1204, 1205, 1206, 1207, 1208, 1209, 1210, 1211, 1212, 1213, 1214, 1215, 1216, 1217, 1218, 1219, 1220, 1221, 1222, 1223, 1224, 1225, 1226, 1227, 1228, 1229, 1230, 1231, 1232, 1233, 1234, 1235, 1236, 1237, 1238, 1239, 1240, 1241, 1242, 1243, 1244, 1245, 1246, 1247, 1248, 1249, 1250, 1251, 1252, 1253, 1254, 1255, 1256, 1257, 1258, 1259, 1260, 1261, 1262, 1263, 1264, 1265, 1266, 1267, 1268, 1269, 1270, 1271, 1272, 1273, 1274, 1275, 1276, 1277, 1278, 1279, 1280, 1281, 1282, 1283, 1284, 1285, 1286, 1287, 1288, 1289, 1290, 1291, 1292, 1293, 1294, 1295, 1296, 1297, 1298, 1299, 1300, 1301, 1302, 1303, 1304, 1305, 1306, 1307, 1308, 1309, 1310, 1311, 1312, 1313, 1314, 1315, 1316, 1317, 1318, 1319, 1320, 1321, 1322, 1323, 1324, 1325, 1326, 1327, 1328, 1329, 1330, 1331, 1332, 1333, 1334, 1335, 1336, 1337, 1338, 1339, 1340, 1341, 1342, 1343, 1344, 1345, 1346, 1347, 1348, 1349, 1350, 1351, 1352, 1353, 1354, 1355, 1356, 1357, 1358, 1359, 1360, 1361, 1362, 1363, 1364, 1365, 1366, 1367, 1368, 1369, 1370, 1371, 1372, 1373, 1374, 1375, 1376, 1377, 1378, 1379, 1380, 1381, 1382, 1383, 1384, 1385, 1386, 1387, 1388, 1389, 1390, 1391, 1392, 1393, 1394, 1395, 1396, 1397, 1398, 1399, 1400, 1401, 1402, 1403, 1404, 1405, 1406, 1407, 1408, 1409, 1410, 1411, 1412, 1413, 1414, 1415, 1416, 1417, 1418, 1419, 1420, 1421, 1422, 1423, 1424, 1425, 1426, 1427, 1428, 1429, 1430, 1431, 1432, 1433, 1434, 1435, 1436, 1437, 1438, 1439, 1440, 1441, 1442, 1443, 1444, 1445, 1446, 1447, 1448, 1449, 1450, 1451, 1452, 1453, 1454, 1455, 1456, 1457, 1458, 1459, 1460, 1461, 1462, 1463, 1464, 1465, 1466, 1467, 1468, 1469, 1470, 1471, 1472, 1473, 1474, 1475, 1476, 1477, 1478, 1479, 1480, 1481, 1482, 1483, 1484, 1485, 1486, 1487, 1488, 1489, 1490, 1491, 1492, 1493, 1494, 1495, 1496, 1497, 1498, 1499, 1500, 1501, 1502, 1503, 1504, 1505, 1506, 1507, 1508, 1509, 1510, 1511, 1512, 1513, 1514, 1515, 1516, 1517, 1518, 1519, 1520, 1521, 1522, 1523, 1524, 1525, 1526, 1527, 1528, 1529, 1530, 1531, 1532, 1533, 1534, 1535, 1536, 1537, 1538, 1539, 1540, 1541, 1542, 1543, 1544, 1545, 1546, 1547, 1548, 1549, 1550, 1551, 1552, 1553, 1554, 1555, 1556, 1557, 1558, 1559, 1560, 1561, 1562, 1563, 1564, 1565, 1566, 1567, 1568, 1569, 1570, 1571, 1572, 1573, 1574, 1575, 1576, 1577, 1578, 1579, 1580, 1581, 1582, 1583, 1584, 1585, 1586, 1587, 1588, 1589, 1590, 1591, 1592, 1593, 1594, 1595, 1596, 1597, 1598, 1599, 1600, 1601, 1602, 1603, 1604, 1605, 1606, 1607, 1608, 1609, 1610, 1611, 1612, 1613, 1614, 1615, 1616, 1617, 1618, 1619, 1620, 1621, 1622, 1623, 1624, 1625, 1626, 1627, 1628, 1629, 1630, 1631, 1632, 1633, 1634, 1635, 1636, 1637, 1638, 1639, 1640, 1641, 1642, 1643, 1644, 1645, 1646, 1647, 1648, 1649, 1650, 1651, 1652, 1653, 1654, 1655, 1656, 1657, 1658, 1659, 1660, 1661, 1662, 1663, 1664, 1665, 1666, 1667, 1668, 1669, 1670, 1671, 1672, 1673, 1674, 1675, 1676, 1677, 1678, 1679, 1680, 1681, 1682, 1683, 1684, 1685, 1686, 1687, 1688, 1689, 1690, 1691, 1692, 1693, 1694, 1695, 1696, 1697, 1698, 1699, 1700, 1701, 1702, 1703, 1704, 1705, 1706, 1707, 1708, 1709, 1710, 1711, 1712, 1713, 1714, 1715, 1716, 1717, 1718, 1719, 1720, 1721, 1722, 1723, 1724, 1725, 1726, 1727, 1728, 1729, 1730, 1731, 1732, 1733, 1734, 1735, 1736, 1737, 1738, 1739, 1740, 1741, 1742, 1743, 1744, 1745, 1746, 1747, 1748, 1749, 1750, 1751, 1752, 1753, 1754, 1755, 1756, 1757, 1758, 1759, 1760, 1761, 1762, 1763, 1764, 1765, 1766, 1767, 1768, 1769, 1770, 1771, 1772, 1773, 1774, 1775, 1776, 1777, 1778, 1779, 1780, 1781, 1782, 1783, 1784, 1785, 1786, 1787, 1788, 1789, 1790, 1791, 1792, 1793, 1794, 1795, 1796, 1797, 1798, 1799, 1800, 1801, 1802, 1803, 1804, 1805, 1806, 1807, 1808, 1809, 1810, 1811, 1812, 1813, 1814, 1815, 1816, 1817, 1818, 1819, 1820, 1821, 1822, 1823, 1824, 1825, 1826, 1827, 1828, 1829, 1830, 1831, 1832, 1833, 1834, 1835, 1836, 1837, 1838, 1839, 1840, 1841, 1842, 1843, 1844, 1845, 1846, 1847, 1848, 1849, 1850, 1851, 1852, 1853, 1854, 1855, 1856, 1857, 1858, 1859, 1860, 1861, 1862, 1863, 1864, 1865, 1866, 1867, 1868, 1869, 1870, 1871, 1872, 1873, 1874, 1875, 1876, 1877, 1878, 1879, 1880, 1881, 1882, 1883, 1884, 1885, 1886, 1887, 1888, 1889, 1890, 1891, 1892, 1893, 1894, 1895, 1896, 1897, 1898, 1899, 1900, 1901, 1902, 1903, 1904, 1905, 1906, 1907, 1908, 1909, 1910, 1911, 1912, 1913, 1914, 1915, 1916, 1917, 1918, 1919, 1920, 1921, 1922, 1923, 1924, 1925, 1926, 1927, 1928, 1929, 1930, 1931, 1932, 1933, 1934, 1935, 1936, 1937, 1938, 1939, 1940, 1941, 1942, 1943, 1944, 1945, 1946, 1947, 1948, 1949, 1950, 1951, 1952, 1953, 1954, 1955, 1956, 1957, 1958, 1959, 1960, 1961, 1962, 1963, 1964, 1965, 1966, 1967, 1968, 1969, 1970, 1971, 1972, 1973, 1974, 1975, 1976, 1977, 1978, 1979, 1980, 1981, 1982, 1983, 1984, 1985, 1986, 1987, 1988, 1989, 1990, 1991, 1992, 1993, 1994, 1995, 1996, 1997, 1998, 1999, 2000, 2001, 2002, 2003, 2004, 2005, 2006, 2007, 2008, 2009, 2010, 2011, 2012, 2013, 2014, 2015, 2016, 2017, 2018, 2019, 2020, 2021, 2022, 2023, 2024, 2025, 2026, 2027, 2028, 2029, 2030, 2031, 2032, 2033, 2034, 2035, 2036, 2037, 2038, 2039, 2040, 2041, 2042, 2043, 2044, 2045, 2046, 2047, 2048, 2049, 2050, 2051, 2052, 2053, 2054, 2055, 2056, 2057, 2058, 2059, 2060, 2061, 2062, 2063, 2064, 2065, 2066, 2067, 2068, 2069, 2070, 2071, 2072, 2073, 2074, 2075, 2076, 2077, 2078, 2079, 2080, 2081, 2082, 2083, 2084, 2085, 2086, 2087, 2088, 2089, 2090, 2091, 2092, 2093, 2094, 2095, 2096, 2097, 2098, 2099, 2100, 2101, 2102, 2103, 2104, 2105, 2106, 2107, 2108, 2109, 2110, 2111, 2112, 2113, 2114, 2115, 2116, 2117, 2118, 2119, 2120, 2121, 2122, 2123, 2124, 2125, 2126, 2127, 2128, 2129, 2130, 2131, 2132, 2133, 2134, 2135, 2136, 2137, 2138, 2139, 2140, 2141, 2142, 2143, 2144, 2145, 2146, 2147, 2148, 2149, 2150, 2151, 2152, 2153, 2154, 2155, 2156, 2157, 2158, 2159, 2160, 2161, 2162, 2163, 2164, 2165, 2166, 2167, 2168, 2169, 2170, 2171, 2172, 2173, 2174, 2175, 2176, 2177, 2178, 2179, 2180, 2181, 2182, 2183, 2184, 2185, 2186, 2187, 2188, 2189, 2190, 2191, 2192, 2193, 2194, 2195, 2196, 2197, 2198, 2199, 2200, 2201, 2202, 2203, 2204, 2205, 2206, 2207, 2208, 2209, 2210, 2211, 2212, 2213, 2214, 2215, 2216, 2217, 2218, 2219, 2220, 2221, 2222, 2223, 2224, 2225, 2226, 2227, 2228, 2229, 2230, 2231, 2232, 2233, 2234, 2235, 2236, 2237, 2238, 2239, 2240, 2241, 2242, 2243, 2244, 2245, 2246, 2247, 2248, 2249, 2250, 2251, 2252, 2253, 2254, 2255, 2256, 2257, 2258, 2259, 2260, 2261, 2262, 2263, 2264, 2265, 2266, 2267, 2268, 2269, 2270, 2271, 2272, 2273, 2274, 2275, 2276, 2277, 2278, 2279, 2280, 2281, 2282, 2283, 2284, 2285, 2286, 2287, 2288, 2289, 2290, 2291, 2292, 2293, 2294, 2295, 2296, 2297, 2298, 2299, 2300, 2301, 2302, 2303, 2304, 2305, 2306, 2307, 2308, 2309, 2310, 2311, 2312, 2313, 2314, 2315, 2316, 2317, 2318, 2319, 2320, 2321, 2322, 2323, 2324, 2325, 2326, 2327, 2328, 2329, 2330, 2331, 2332, 2333, 2334, 2335, 2336, 2337, 2338, 2339, 2340, 2341, 2342, 2343, 2344, 2345, 2346, 2347, 2348, 2349, 2350, 2351, 2352, 2353, 2354, 2355, 2356, 2357, 2358, 2359, 2360, 2361, 2362, 2363, 2364, 2365, 2366, 2367, 2368, 2369, 2370, 2371, 2372, 2373, 2374, 2375, 2376, 2377, 2378, 2379, 2380, 2381, 2382, 2383, 2384, 2385, 2386, 2387, 2388, 2389, 2390, 2391, 2392, 2393, 2394, 2395, 2396, 2397, 2398, 2399, 2400, 2401, 2402, 2403, 2404, 2405, 2406, 2407, 2408, 2409, 2410, 2411, 2412, 2413, 2414, 2415, 2416, 2417, 2418, 2419, 2420, 2421, 2422, 2423, 2424, 2425, 2426, 2427, 2428, 2429, 2430, 2431, 2432, 2433, 2434, 2435, 2436, 2437, 2438, 2439, 2440, 2441, 2442, 2443, 2444, 2445, 2446, 2447, 2448, 2449, 2450, 2451, 2452, 2453, 2454, 2455, 2456, 2457, 2458, 2459, 2460, 2461, 2462, 2463, 2464, 2465, 2466, 2467, 2468, 2469, 2470, 2471, 2472, 2473, 2474, 2475, 2476, 2477, 2478, 2479, 2480, 2481, 2482, 2483, 2484, 2485, 2486, 2487, 2488, 2489, 2490, 2491, 2492, 2493, 2494, 2495, 2496, 2497, 2498, 2499, 2500, 2501, 2502, 2503, 2504, 2505, 2506, 2507, 2508, 2509, 2510, 2511, 2512, 2513, 2514, 2515, 2516, 2517, 2518, 2519, 2520, 2521, 2522, 2523, 2524, 2525, 2526, 2527, 2528, 2529, 2530, 2531, 2532, 2533, 2534, 2535, 2536, 2537, 2538, 2539, 2540, 2541, 2542, 2543, 2544, 2545, 2546, 2547, 2548, 2549, 2550, 2551, 2552, 2553, 2554, 2555, 2556, 2557, 2558, 2559, 2560, 2561, 2562, 2563, 2564, 2565, 2566, 2567, 2568, 2569, 2570, 2571, 2572, 2573, 2574, 2575, 2576, 2577, 2578, 2579, 2580, 2581, 2582, 2583, 2584, 2585, 2586, 2587, 2588, 2589, 2590, 2591, 2592, 2593, 2594, 2595, 2596, 2597, 2598, 2599, 2600, 2601, 2602, 2603, 2604, 2605, 2606, 2607, 2608, 2609, 2610, 2611, 2612, 2613, 2614, 2615, 2616, 2617, 2618, 2619, 2620, 2621, 2622, 2623, 2624, 2625, 2626, 2627, 2628, 2629, 2630, 2631, 2632, 2633, 2634, 2635, 2636, 2637, 2638, 2639, 2640, 2641, 2642, 2643, 2644, 2645, 2646, 2647, 2648, 2649, 2650, 2651, 2652, 2653, 2654, 2655, 2656, 2657, 2658, 2659, 2660, 2661, 2662, 2663, 2664, 2665, 2666, 2667, 2668, 2669, 2670, 2671, 2672, 2673, 2674, 2675, 2676, 2677, 2678, 2679, 2680, 2681, 2682, 2683, 2684, 2685, 2686, 2687, 2688, 2689, 2690, 2691, 2692, 2693, 2694, 2695, 2696, 2697, 2698, 2699, 2700, 2701, 2702, 2703, 2704, 2705, 2706, 2707, 2708, 2709, 2710, 2711, 2712, 2713, 2714, 2715, 2716, 2717, 2718, 2719, 2720, 2721, 2722, 2723, 2724, 2725, 2726, 2727, 2728, 2729, 2730, 2731, 2732, 2733, 2734, 2735, 2736, 2737, 2738, 2739, 2740, 2741, 2742, 2743, 2744, 2745, 2746, 2747, 2748, 2749, 2750, 2751, 2752, 2753, 2754, 2755, 2756, 2757, 2758, 2759, 2760, 2761, 2762, 2763, 2764, 2765, 2766, 2767, 2768, 2769, 2770, 2771, 2772, 2773, 2774, 2775, 2776, 2777, 2778, 2779, 2780, 2781, 2782, 2783, 2784, 2785, 2786, 2787, 2788, 2789, 2790, 2791, 2792, 2793, 2794, 2795, 2796, 2797, 2798, 2799, 2800, 2801, 2802, 2803, 2804, 2805, 2806, 2807, 2808, 2809, 2810, 2811, 2812, 2813, 2814, 2815, 2816, 2817, 2818, 2819, 2820, 2821, 2822, 2823, 2824, 2825, 2826, 2827, 2828, 2829, 2830, 2831, 2832, 2833, 2834, 2835, 2836, 2837, 2838, 2839, 2840, 2841, 2842, 2843, 2844, 2845, 2846, 2847, 2848, 2849, 2850, 2851, 2852, 2853, 2854, 2855, 2856, 2857, 2858, 2859, 2860, 2861, 2862, 2863, 2864, 2865, 2866, 2867, 2868, 2869, 2870, 2871, 2872, 2873, 2874, 2875, 2876, 2877, 2878, 2879, 2880, 2881, 2882, 2883, 2884, 2885, 2886, 2887, 2888, 2889, 2890, 2891, 2892, 2893, 2894, 2895, 2896, 2897, 2898, 2899, 2900, 2901, 2902, 2903, 2904, 2905, 2906, 2907, 2908, 2909, 2910, 2911, 2912, 2913, 2914, 2915, 2916, 2917, 2918, 2919, 2920, 2921, 2922, 2923, 2924, 2925, 2926, 2927, 2928, 2929, 2930, 2931, 2932, 2933, 2934, 2935, 2936, 2937, 2938, 2939, 2940, 2941, 2942, 2943, 2944, 2945, 2946, 2947, 2948, 2949, 2950, 2951, 2952, 2953, 2954, 2955, 2956, 2957, 2958, 2959, 2960, 2961, 2962, 2963, 2964, 2965, 2966, 2967, 2968, 2969, 2970, 2971, 2972, 2973, 2974, 2975, 2976, 2977, 2978, 2979, 2980, 2981, 2982, 2983, 2984, 2985, 2986, 2987, 2988, 2989, 2990, 2991, 2992, 2993, 2994, 2995, 2996, 2997, 2998, 2999, 3000, 3001, 3002, 3003, 3004, 3005, 3006, 3007, 3008, 3009, 3010, 3011, 3012, 3013, 3014, 3015, 3016, 3017, 3018, 3019, 3020, 3021, 3022, 3023, 3024, 3025, 3026, 3027, 3028, 3029, 3030, 3031, 3032, 3033, 3034, 3035, 3036, 3037, 3038, 3039, 3040, 3041, 3042, 3043, 3044, 3045, 3046, 3047, 3048, 3049, 3050, 3051, 3052, 3053, 3054, 3055, 3056, 3057, 3058, 3059, 3060, 3061, 3062, 3063, 3064, 3065, 3066, 3067, 3068, 3069, 3070, 3071]\n"
     ]
    }
   ],
   "source": [
    "# Get the indexes where cumsum_explained_var > 0.95\n",
    "indexes = kpca_df[kpca_df['cumsum_explained_var'] > 0.95].index.tolist()\n",
    "\n",
    "print(\"Indexes where cumsum_explained_var > 0.95:\", indexes)"
   ]
  },
  {
   "cell_type": "code",
   "execution_count": 212,
   "metadata": {},
   "outputs": [
    {
     "name": "stdout",
     "output_type": "stream",
     "text": [
      "Indexes where cumsum_explained_var > 0.99: [1081, 1082, 1083, 1084, 1085, 1086, 1087, 1088, 1089, 1090, 1091, 1092, 1093, 1094, 1095, 1096, 1097, 1098, 1099, 1100, 1101, 1102, 1103, 1104, 1105, 1106, 1107, 1108, 1109, 1110, 1111, 1112, 1113, 1114, 1115, 1116, 1117, 1118, 1119, 1120, 1121, 1122, 1123, 1124, 1125, 1126, 1127, 1128, 1129, 1130, 1131, 1132, 1133, 1134, 1135, 1136, 1137, 1138, 1139, 1140, 1141, 1142, 1143, 1144, 1145, 1146, 1147, 1148, 1149, 1150, 1151, 1152, 1153, 1154, 1155, 1156, 1157, 1158, 1159, 1160, 1161, 1162, 1163, 1164, 1165, 1166, 1167, 1168, 1169, 1170, 1171, 1172, 1173, 1174, 1175, 1176, 1177, 1178, 1179, 1180, 1181, 1182, 1183, 1184, 1185, 1186, 1187, 1188, 1189, 1190, 1191, 1192, 1193, 1194, 1195, 1196, 1197, 1198, 1199, 1200, 1201, 1202, 1203, 1204, 1205, 1206, 1207, 1208, 1209, 1210, 1211, 1212, 1213, 1214, 1215, 1216, 1217, 1218, 1219, 1220, 1221, 1222, 1223, 1224, 1225, 1226, 1227, 1228, 1229, 1230, 1231, 1232, 1233, 1234, 1235, 1236, 1237, 1238, 1239, 1240, 1241, 1242, 1243, 1244, 1245, 1246, 1247, 1248, 1249, 1250, 1251, 1252, 1253, 1254, 1255, 1256, 1257, 1258, 1259, 1260, 1261, 1262, 1263, 1264, 1265, 1266, 1267, 1268, 1269, 1270, 1271, 1272, 1273, 1274, 1275, 1276, 1277, 1278, 1279, 1280, 1281, 1282, 1283, 1284, 1285, 1286, 1287, 1288, 1289, 1290, 1291, 1292, 1293, 1294, 1295, 1296, 1297, 1298, 1299, 1300, 1301, 1302, 1303, 1304, 1305, 1306, 1307, 1308, 1309, 1310, 1311, 1312, 1313, 1314, 1315, 1316, 1317, 1318, 1319, 1320, 1321, 1322, 1323, 1324, 1325, 1326, 1327, 1328, 1329, 1330, 1331, 1332, 1333, 1334, 1335, 1336, 1337, 1338, 1339, 1340, 1341, 1342, 1343, 1344, 1345, 1346, 1347, 1348, 1349, 1350, 1351, 1352, 1353, 1354, 1355, 1356, 1357, 1358, 1359, 1360, 1361, 1362, 1363, 1364, 1365, 1366, 1367, 1368, 1369, 1370, 1371, 1372, 1373, 1374, 1375, 1376, 1377, 1378, 1379, 1380, 1381, 1382, 1383, 1384, 1385, 1386, 1387, 1388, 1389, 1390, 1391, 1392, 1393, 1394, 1395, 1396, 1397, 1398, 1399, 1400, 1401, 1402, 1403, 1404, 1405, 1406, 1407, 1408, 1409, 1410, 1411, 1412, 1413, 1414, 1415, 1416, 1417, 1418, 1419, 1420, 1421, 1422, 1423, 1424, 1425, 1426, 1427, 1428, 1429, 1430, 1431, 1432, 1433, 1434, 1435, 1436, 1437, 1438, 1439, 1440, 1441, 1442, 1443, 1444, 1445, 1446, 1447, 1448, 1449, 1450, 1451, 1452, 1453, 1454, 1455, 1456, 1457, 1458, 1459, 1460, 1461, 1462, 1463, 1464, 1465, 1466, 1467, 1468, 1469, 1470, 1471, 1472, 1473, 1474, 1475, 1476, 1477, 1478, 1479, 1480, 1481, 1482, 1483, 1484, 1485, 1486, 1487, 1488, 1489, 1490, 1491, 1492, 1493, 1494, 1495, 1496, 1497, 1498, 1499, 1500, 1501, 1502, 1503, 1504, 1505, 1506, 1507, 1508, 1509, 1510, 1511, 1512, 1513, 1514, 1515, 1516, 1517, 1518, 1519, 1520, 1521, 1522, 1523, 1524, 1525, 1526, 1527, 1528, 1529, 1530, 1531, 1532, 1533, 1534, 1535, 1536, 1537, 1538, 1539, 1540, 1541, 1542, 1543, 1544, 1545, 1546, 1547, 1548, 1549, 1550, 1551, 1552, 1553, 1554, 1555, 1556, 1557, 1558, 1559, 1560, 1561, 1562, 1563, 1564, 1565, 1566, 1567, 1568, 1569, 1570, 1571, 1572, 1573, 1574, 1575, 1576, 1577, 1578, 1579, 1580, 1581, 1582, 1583, 1584, 1585, 1586, 1587, 1588, 1589, 1590, 1591, 1592, 1593, 1594, 1595, 1596, 1597, 1598, 1599, 1600, 1601, 1602, 1603, 1604, 1605, 1606, 1607, 1608, 1609, 1610, 1611, 1612, 1613, 1614, 1615, 1616, 1617, 1618, 1619, 1620, 1621, 1622, 1623, 1624, 1625, 1626, 1627, 1628, 1629, 1630, 1631, 1632, 1633, 1634, 1635, 1636, 1637, 1638, 1639, 1640, 1641, 1642, 1643, 1644, 1645, 1646, 1647, 1648, 1649, 1650, 1651, 1652, 1653, 1654, 1655, 1656, 1657, 1658, 1659, 1660, 1661, 1662, 1663, 1664, 1665, 1666, 1667, 1668, 1669, 1670, 1671, 1672, 1673, 1674, 1675, 1676, 1677, 1678, 1679, 1680, 1681, 1682, 1683, 1684, 1685, 1686, 1687, 1688, 1689, 1690, 1691, 1692, 1693, 1694, 1695, 1696, 1697, 1698, 1699, 1700, 1701, 1702, 1703, 1704, 1705, 1706, 1707, 1708, 1709, 1710, 1711, 1712, 1713, 1714, 1715, 1716, 1717, 1718, 1719, 1720, 1721, 1722, 1723, 1724, 1725, 1726, 1727, 1728, 1729, 1730, 1731, 1732, 1733, 1734, 1735, 1736, 1737, 1738, 1739, 1740, 1741, 1742, 1743, 1744, 1745, 1746, 1747, 1748, 1749, 1750, 1751, 1752, 1753, 1754, 1755, 1756, 1757, 1758, 1759, 1760, 1761, 1762, 1763, 1764, 1765, 1766, 1767, 1768, 1769, 1770, 1771, 1772, 1773, 1774, 1775, 1776, 1777, 1778, 1779, 1780, 1781, 1782, 1783, 1784, 1785, 1786, 1787, 1788, 1789, 1790, 1791, 1792, 1793, 1794, 1795, 1796, 1797, 1798, 1799, 1800, 1801, 1802, 1803, 1804, 1805, 1806, 1807, 1808, 1809, 1810, 1811, 1812, 1813, 1814, 1815, 1816, 1817, 1818, 1819, 1820, 1821, 1822, 1823, 1824, 1825, 1826, 1827, 1828, 1829, 1830, 1831, 1832, 1833, 1834, 1835, 1836, 1837, 1838, 1839, 1840, 1841, 1842, 1843, 1844, 1845, 1846, 1847, 1848, 1849, 1850, 1851, 1852, 1853, 1854, 1855, 1856, 1857, 1858, 1859, 1860, 1861, 1862, 1863, 1864, 1865, 1866, 1867, 1868, 1869, 1870, 1871, 1872, 1873, 1874, 1875, 1876, 1877, 1878, 1879, 1880, 1881, 1882, 1883, 1884, 1885, 1886, 1887, 1888, 1889, 1890, 1891, 1892, 1893, 1894, 1895, 1896, 1897, 1898, 1899, 1900, 1901, 1902, 1903, 1904, 1905, 1906, 1907, 1908, 1909, 1910, 1911, 1912, 1913, 1914, 1915, 1916, 1917, 1918, 1919, 1920, 1921, 1922, 1923, 1924, 1925, 1926, 1927, 1928, 1929, 1930, 1931, 1932, 1933, 1934, 1935, 1936, 1937, 1938, 1939, 1940, 1941, 1942, 1943, 1944, 1945, 1946, 1947, 1948, 1949, 1950, 1951, 1952, 1953, 1954, 1955, 1956, 1957, 1958, 1959, 1960, 1961, 1962, 1963, 1964, 1965, 1966, 1967, 1968, 1969, 1970, 1971, 1972, 1973, 1974, 1975, 1976, 1977, 1978, 1979, 1980, 1981, 1982, 1983, 1984, 1985, 1986, 1987, 1988, 1989, 1990, 1991, 1992, 1993, 1994, 1995, 1996, 1997, 1998, 1999, 2000, 2001, 2002, 2003, 2004, 2005, 2006, 2007, 2008, 2009, 2010, 2011, 2012, 2013, 2014, 2015, 2016, 2017, 2018, 2019, 2020, 2021, 2022, 2023, 2024, 2025, 2026, 2027, 2028, 2029, 2030, 2031, 2032, 2033, 2034, 2035, 2036, 2037, 2038, 2039, 2040, 2041, 2042, 2043, 2044, 2045, 2046, 2047, 2048, 2049, 2050, 2051, 2052, 2053, 2054, 2055, 2056, 2057, 2058, 2059, 2060, 2061, 2062, 2063, 2064, 2065, 2066, 2067, 2068, 2069, 2070, 2071, 2072, 2073, 2074, 2075, 2076, 2077, 2078, 2079, 2080, 2081, 2082, 2083, 2084, 2085, 2086, 2087, 2088, 2089, 2090, 2091, 2092, 2093, 2094, 2095, 2096, 2097, 2098, 2099, 2100, 2101, 2102, 2103, 2104, 2105, 2106, 2107, 2108, 2109, 2110, 2111, 2112, 2113, 2114, 2115, 2116, 2117, 2118, 2119, 2120, 2121, 2122, 2123, 2124, 2125, 2126, 2127, 2128, 2129, 2130, 2131, 2132, 2133, 2134, 2135, 2136, 2137, 2138, 2139, 2140, 2141, 2142, 2143, 2144, 2145, 2146, 2147, 2148, 2149, 2150, 2151, 2152, 2153, 2154, 2155, 2156, 2157, 2158, 2159, 2160, 2161, 2162, 2163, 2164, 2165, 2166, 2167, 2168, 2169, 2170, 2171, 2172, 2173, 2174, 2175, 2176, 2177, 2178, 2179, 2180, 2181, 2182, 2183, 2184, 2185, 2186, 2187, 2188, 2189, 2190, 2191, 2192, 2193, 2194, 2195, 2196, 2197, 2198, 2199, 2200, 2201, 2202, 2203, 2204, 2205, 2206, 2207, 2208, 2209, 2210, 2211, 2212, 2213, 2214, 2215, 2216, 2217, 2218, 2219, 2220, 2221, 2222, 2223, 2224, 2225, 2226, 2227, 2228, 2229, 2230, 2231, 2232, 2233, 2234, 2235, 2236, 2237, 2238, 2239, 2240, 2241, 2242, 2243, 2244, 2245, 2246, 2247, 2248, 2249, 2250, 2251, 2252, 2253, 2254, 2255, 2256, 2257, 2258, 2259, 2260, 2261, 2262, 2263, 2264, 2265, 2266, 2267, 2268, 2269, 2270, 2271, 2272, 2273, 2274, 2275, 2276, 2277, 2278, 2279, 2280, 2281, 2282, 2283, 2284, 2285, 2286, 2287, 2288, 2289, 2290, 2291, 2292, 2293, 2294, 2295, 2296, 2297, 2298, 2299, 2300, 2301, 2302, 2303, 2304, 2305, 2306, 2307, 2308, 2309, 2310, 2311, 2312, 2313, 2314, 2315, 2316, 2317, 2318, 2319, 2320, 2321, 2322, 2323, 2324, 2325, 2326, 2327, 2328, 2329, 2330, 2331, 2332, 2333, 2334, 2335, 2336, 2337, 2338, 2339, 2340, 2341, 2342, 2343, 2344, 2345, 2346, 2347, 2348, 2349, 2350, 2351, 2352, 2353, 2354, 2355, 2356, 2357, 2358, 2359, 2360, 2361, 2362, 2363, 2364, 2365, 2366, 2367, 2368, 2369, 2370, 2371, 2372, 2373, 2374, 2375, 2376, 2377, 2378, 2379, 2380, 2381, 2382, 2383, 2384, 2385, 2386, 2387, 2388, 2389, 2390, 2391, 2392, 2393, 2394, 2395, 2396, 2397, 2398, 2399, 2400, 2401, 2402, 2403, 2404, 2405, 2406, 2407, 2408, 2409, 2410, 2411, 2412, 2413, 2414, 2415, 2416, 2417, 2418, 2419, 2420, 2421, 2422, 2423, 2424, 2425, 2426, 2427, 2428, 2429, 2430, 2431, 2432, 2433, 2434, 2435, 2436, 2437, 2438, 2439, 2440, 2441, 2442, 2443, 2444, 2445, 2446, 2447, 2448, 2449, 2450, 2451, 2452, 2453, 2454, 2455, 2456, 2457, 2458, 2459, 2460, 2461, 2462, 2463, 2464, 2465, 2466, 2467, 2468, 2469, 2470, 2471, 2472, 2473, 2474, 2475, 2476, 2477, 2478, 2479, 2480, 2481, 2482, 2483, 2484, 2485, 2486, 2487, 2488, 2489, 2490, 2491, 2492, 2493, 2494, 2495, 2496, 2497, 2498, 2499, 2500, 2501, 2502, 2503, 2504, 2505, 2506, 2507, 2508, 2509, 2510, 2511, 2512, 2513, 2514, 2515, 2516, 2517, 2518, 2519, 2520, 2521, 2522, 2523, 2524, 2525, 2526, 2527, 2528, 2529, 2530, 2531, 2532, 2533, 2534, 2535, 2536, 2537, 2538, 2539, 2540, 2541, 2542, 2543, 2544, 2545, 2546, 2547, 2548, 2549, 2550, 2551, 2552, 2553, 2554, 2555, 2556, 2557, 2558, 2559, 2560, 2561, 2562, 2563, 2564, 2565, 2566, 2567, 2568, 2569, 2570, 2571, 2572, 2573, 2574, 2575, 2576, 2577, 2578, 2579, 2580, 2581, 2582, 2583, 2584, 2585, 2586, 2587, 2588, 2589, 2590, 2591, 2592, 2593, 2594, 2595, 2596, 2597, 2598, 2599, 2600, 2601, 2602, 2603, 2604, 2605, 2606, 2607, 2608, 2609, 2610, 2611, 2612, 2613, 2614, 2615, 2616, 2617, 2618, 2619, 2620, 2621, 2622, 2623, 2624, 2625, 2626, 2627, 2628, 2629, 2630, 2631, 2632, 2633, 2634, 2635, 2636, 2637, 2638, 2639, 2640, 2641, 2642, 2643, 2644, 2645, 2646, 2647, 2648, 2649, 2650, 2651, 2652, 2653, 2654, 2655, 2656, 2657, 2658, 2659, 2660, 2661, 2662, 2663, 2664, 2665, 2666, 2667, 2668, 2669, 2670, 2671, 2672, 2673, 2674, 2675, 2676, 2677, 2678, 2679, 2680, 2681, 2682, 2683, 2684, 2685, 2686, 2687, 2688, 2689, 2690, 2691, 2692, 2693, 2694, 2695, 2696, 2697, 2698, 2699, 2700, 2701, 2702, 2703, 2704, 2705, 2706, 2707, 2708, 2709, 2710, 2711, 2712, 2713, 2714, 2715, 2716, 2717, 2718, 2719, 2720, 2721, 2722, 2723, 2724, 2725, 2726, 2727, 2728, 2729, 2730, 2731, 2732, 2733, 2734, 2735, 2736, 2737, 2738, 2739, 2740, 2741, 2742, 2743, 2744, 2745, 2746, 2747, 2748, 2749, 2750, 2751, 2752, 2753, 2754, 2755, 2756, 2757, 2758, 2759, 2760, 2761, 2762, 2763, 2764, 2765, 2766, 2767, 2768, 2769, 2770, 2771, 2772, 2773, 2774, 2775, 2776, 2777, 2778, 2779, 2780, 2781, 2782, 2783, 2784, 2785, 2786, 2787, 2788, 2789, 2790, 2791, 2792, 2793, 2794, 2795, 2796, 2797, 2798, 2799, 2800, 2801, 2802, 2803, 2804, 2805, 2806, 2807, 2808, 2809, 2810, 2811, 2812, 2813, 2814, 2815, 2816, 2817, 2818, 2819, 2820, 2821, 2822, 2823, 2824, 2825, 2826, 2827, 2828, 2829, 2830, 2831, 2832, 2833, 2834, 2835, 2836, 2837, 2838, 2839, 2840, 2841, 2842, 2843, 2844, 2845, 2846, 2847, 2848, 2849, 2850, 2851, 2852, 2853, 2854, 2855, 2856, 2857, 2858, 2859, 2860, 2861, 2862, 2863, 2864, 2865, 2866, 2867, 2868, 2869, 2870, 2871, 2872, 2873, 2874, 2875, 2876, 2877, 2878, 2879, 2880, 2881, 2882, 2883, 2884, 2885, 2886, 2887, 2888, 2889, 2890, 2891, 2892, 2893, 2894, 2895, 2896, 2897, 2898, 2899, 2900, 2901, 2902, 2903, 2904, 2905, 2906, 2907, 2908, 2909, 2910, 2911, 2912, 2913, 2914, 2915, 2916, 2917, 2918, 2919, 2920, 2921, 2922, 2923, 2924, 2925, 2926, 2927, 2928, 2929, 2930, 2931, 2932, 2933, 2934, 2935, 2936, 2937, 2938, 2939, 2940, 2941, 2942, 2943, 2944, 2945, 2946, 2947, 2948, 2949, 2950, 2951, 2952, 2953, 2954, 2955, 2956, 2957, 2958, 2959, 2960, 2961, 2962, 2963, 2964, 2965, 2966, 2967, 2968, 2969, 2970, 2971, 2972, 2973, 2974, 2975, 2976, 2977, 2978, 2979, 2980, 2981, 2982, 2983, 2984, 2985, 2986, 2987, 2988, 2989, 2990, 2991, 2992, 2993, 2994, 2995, 2996, 2997, 2998, 2999, 3000, 3001, 3002, 3003, 3004, 3005, 3006, 3007, 3008, 3009, 3010, 3011, 3012, 3013, 3014, 3015, 3016, 3017, 3018, 3019, 3020, 3021, 3022, 3023, 3024, 3025, 3026, 3027, 3028, 3029, 3030, 3031, 3032, 3033, 3034, 3035, 3036, 3037, 3038, 3039, 3040, 3041, 3042, 3043, 3044, 3045, 3046, 3047, 3048, 3049, 3050, 3051, 3052, 3053, 3054, 3055, 3056, 3057, 3058, 3059, 3060, 3061, 3062, 3063, 3064, 3065, 3066, 3067, 3068, 3069, 3070, 3071]\n"
     ]
    }
   ],
   "source": [
    "# Get the indexes where cumsum_explained_var > 0.99\n",
    "indexes = kpca_df[kpca_df['cumsum_explained_var'] > 0.99].index.tolist()\n",
    "\n",
    "print(\"Indexes where cumsum_explained_var > 0.99:\", indexes)"
   ]
  },
  {
   "cell_type": "markdown",
   "metadata": {},
   "source": [
    "n_componenets = 464, διατήρηση πληροφορίας μεγαλύτερη του 95%\n",
    "\n",
    "n_componenets = 1081, διατήρηση πληροφορίας μεγαλύτερη του 99%"
   ]
  },
  {
   "cell_type": "markdown",
   "metadata": {},
   "source": [
    "95%"
   ]
  },
  {
   "cell_type": "code",
   "execution_count": null,
   "metadata": {},
   "outputs": [
    {
     "name": "stdout",
     "output_type": "stream",
     "text": [
      " \n",
      " ---- STARTING custom KPCA ---- \n"
     ]
    },
    {
     "name": "stderr",
     "output_type": "stream",
     "text": [
      "c:\\Users\\dimos\\PyProjecks\\KPCA_LDA_v2\\utils_\\_kPCA2.py:133: RuntimeWarning: Negative or near-zero eigenvalues encountered and removed: tensor([-4.0595e-02, -1.4052e-02, -1.2697e-02,  ..., -5.9759e-06,\n",
      "        -5.5197e-06, -2.2051e-06])\n",
      "  warnings.warn(\n"
     ]
    },
    {
     "name": "stdout",
     "output_type": "stream",
     "text": [
      "The shape of train after xkpca  torch.Size([5000, 464])\n",
      "The shape of test after xkpca  torch.Size([1000, 464])\n",
      "---- KPCA took  10406  ms----\n"
     ]
    }
   ],
   "source": [
    "from KPCA_LDA_v2.utils_ import _kPCA\n",
    "import time \n",
    "\n",
    "startKpca = int(round(time.time() * 1000))\n",
    "\n",
    "print(\" \")\n",
    "print(\" ---- STARTING custom KPCA ---- \")\n",
    "\n",
    "kpca = _kPCA.KPCA(n_components=464, kernel_type='linear')#, gamma=a\n",
    "kpca.fit(x_train_t)\n",
    "X_kpca = kpca.transform(x_train_t)\n",
    "X_test_kpca = kpca.transform(x_test_t)\n",
    "\n",
    "print(\"The shape of train after xkpca \", X_kpca.shape )\n",
    "print(\"The shape of test after xkpca \", X_test_kpca.shape )\n",
    "\n",
    "# stop the kpca timer\n",
    "endKpca = int(round(time.time() * 1000))\n",
    "\n",
    "print(\"---- KPCA took \", (endKpca-startKpca), \" ms----\")"
   ]
  },
  {
   "cell_type": "code",
   "execution_count": 214,
   "metadata": {},
   "outputs": [
    {
     "name": "stdout",
     "output_type": "stream",
     "text": [
      "Accuracy: 28.40%\n"
     ]
    }
   ],
   "source": [
    "from sklearn.metrics import accuracy_score\n",
    "from utils_ import _models\n",
    "\n",
    "NC = _models.NearestCentroid()\n",
    "NC.fit(X_kpca, y_train_t)\n",
    "# Predict the labels for the test set \n",
    "y_pred = NC.predict(X_test_kpca)\n",
    "accuracy = accuracy_score(y_test, y_pred.numpy()) \n",
    "print(f\"Accuracy: {accuracy * 100:.2f}%\")"
   ]
  },
  {
   "cell_type": "code",
   "execution_count": 215,
   "metadata": {},
   "outputs": [
    {
     "name": "stdout",
     "output_type": "stream",
     "text": [
      "The best accuracy is 28.30% with n_neighbors = 12\n"
     ]
    }
   ],
   "source": [
    "from sklearn.neighbors import KNeighborsClassifier as KNN\n",
    "\n",
    "acc_KNN = []\n",
    "\n",
    "for k in range(1,30):\n",
    "    knn = KNN(n_neighbors=k, n_jobs=-1)\n",
    "\n",
    "    knn.fit(X_kpca.numpy(), y_train_m)\n",
    "    score = knn.score(X_test_kpca.numpy(), y_test)\n",
    "\n",
    "    acc_KNN.append(score)\n",
    "\n",
    "best_acc = max(acc_KNN)\n",
    "best_k = acc_KNN.index(best_acc)\n",
    "best_k_value = range(1,30)[best_k]\n",
    "\n",
    "print(f'The best accuracy is {best_acc*100:.2f}% with n_neighbors = {best_k_value}')"
   ]
  },
  {
   "cell_type": "markdown",
   "metadata": {},
   "source": [
    "99%"
   ]
  },
  {
   "cell_type": "code",
   "execution_count": 58,
   "metadata": {},
   "outputs": [
    {
     "name": "stdout",
     "output_type": "stream",
     "text": [
      " \n",
      " ---- STARTING custom KPCA ---- \n"
     ]
    },
    {
     "name": "stderr",
     "output_type": "stream",
     "text": [
      "c:\\Users\\dimos\\PyProjecks\\KPCA_LDA_v2\\utils_\\_kPCA2.py:172: RuntimeWarning: Negative or near-zero eigenvalues encountered and removed: tensor([-1.4483e+04, -5.5531e+02, -4.8177e+02,  ..., -1.0987e+00,\n",
      "        -9.3363e-01, -9.0945e-01])\n",
      "  warnings.warn(\n"
     ]
    },
    {
     "name": "stdout",
     "output_type": "stream",
     "text": [
      "The shape of train after xkpca  torch.Size([5000, 1658])\n",
      "The shape of test after xkpca  torch.Size([1000, 1658])\n",
      "---- KPCA took  10875  ms----\n"
     ]
    }
   ],
   "source": [
    "from KPCA_LDA_v2.utils_ import _kPCA\n",
    "import time \n",
    "\n",
    "startKpca = int(round(time.time() * 1000))\n",
    "\n",
    "print(\" \")\n",
    "print(\" ---- STARTING custom KPCA ---- \")\n",
    "\n",
    "kpca = _kPCA.KPCA(n_components=1658, kernel_type='linear')#, gamma=a\n",
    "kpca.fit(x_train_t)\n",
    "X_kpca = kpca.transform(x_train_t)\n",
    "X_test_kpca = kpca.transform(x_test_t)\n",
    "\n",
    "print(\"The shape of train after xkpca \", X_kpca.shape )\n",
    "print(\"The shape of test after xkpca \", X_test_kpca.shape )\n",
    "\n",
    "# stop the kpca timer\n",
    "endKpca = int(round(time.time() * 1000))\n",
    "\n",
    "print(\"---- KPCA took \", (endKpca-startKpca), \" ms----\")"
   ]
  },
  {
   "cell_type": "code",
   "execution_count": 59,
   "metadata": {},
   "outputs": [
    {
     "name": "stdout",
     "output_type": "stream",
     "text": [
      "Accuracy: 28.30%\n"
     ]
    }
   ],
   "source": [
    "from sklearn.metrics import accuracy_score\n",
    "from utils_ import _models\n",
    "\n",
    "NC = _models.NearestCentroid()\n",
    "NC.fit(X_kpca, y_train_t)\n",
    "# Predict the labels for the test set \n",
    "y_pred = NC.predict(X_test_kpca)\n",
    "accuracy = accuracy_score(y_test, y_pred.numpy()) \n",
    "print(f\"Accuracy: {accuracy * 100:.2f}%\")"
   ]
  },
  {
   "cell_type": "code",
   "execution_count": 60,
   "metadata": {},
   "outputs": [
    {
     "name": "stdout",
     "output_type": "stream",
     "text": [
      "The best accuracy is 28.00% with n_neighbors = 12\n"
     ]
    }
   ],
   "source": [
    "from sklearn.neighbors import KNeighborsClassifier as KNN\n",
    "\n",
    "acc_KNN = []\n",
    "\n",
    "for k in range(1,30):\n",
    "    knn = KNN(n_neighbors=k, n_jobs=-1)\n",
    "\n",
    "    knn.fit(X_kpca.numpy(), y_train_m)\n",
    "    score = knn.score(X_test_kpca.numpy(), y_test)\n",
    "\n",
    "    acc_KNN.append(score)\n",
    "\n",
    "best_acc = max(acc_KNN)\n",
    "best_k = acc_KNN.index(best_acc)\n",
    "best_k_value = range(1,30)[best_k]\n",
    "\n",
    "print(f'The best accuracy is {best_acc*100:.2f}% with n_neighbors = {best_k_value}')"
   ]
  },
  {
   "cell_type": "markdown",
   "metadata": {},
   "source": [
    "#### kPCA+lda"
   ]
  },
  {
   "cell_type": "markdown",
   "metadata": {},
   "source": [
    "95%"
   ]
  },
  {
   "cell_type": "code",
   "execution_count": 216,
   "metadata": {},
   "outputs": [
    {
     "name": "stderr",
     "output_type": "stream",
     "text": [
      "c:\\Users\\dimos\\PyProjecks\\KPCA_LDA_v2\\utils_\\_lda.py:145: RuntimeWarning: Negative eigenvalues encountered and removed: tensor([-8.0164e+00, -3.4124e+00, -1.9055e+00, -8.6087e-01, -8.1022e-01,\n",
      "        -5.2856e-01, -4.2252e-01, -3.7017e-01, -2.1458e-01, -9.5241e-02,\n",
      "        -7.6011e-02, -5.8367e-02, -4.8999e-02, -4.4321e-02, -3.1232e-02,\n",
      "        -2.8871e-02, -2.6550e-02, -2.3769e-02, -2.0928e-02, -1.9963e-02,\n",
      "        -1.7707e-02, -1.6185e-02, -1.4978e-02, -1.3990e-02, -1.2690e-02,\n",
      "        -1.0380e-02, -1.0209e-02, -8.9096e-03, -8.4513e-03, -8.1683e-03,\n",
      "        -7.7617e-03, -7.6193e-03, -6.9295e-03, -6.3187e-03, -5.9911e-03,\n",
      "        -5.7812e-03, -5.2439e-03, -4.8363e-03, -4.6412e-03, -4.4875e-03,\n",
      "        -4.2893e-03, -4.2061e-03, -3.8645e-03, -3.6316e-03, -3.5581e-03,\n",
      "        -3.4230e-03, -3.3127e-03, -3.1408e-03, -3.1343e-03, -2.8407e-03,\n",
      "        -2.7235e-03, -2.6841e-03, -2.6302e-03, -2.3972e-03, -2.3174e-03,\n",
      "        -2.2935e-03, -2.1431e-03, -2.0910e-03, -1.9574e-03, -1.8971e-03,\n",
      "        -1.8624e-03, -1.7532e-03, -1.6892e-03, -1.6400e-03, -1.6053e-03,\n",
      "        -1.5544e-03, -1.4655e-03, -1.4545e-03, -1.3238e-03, -1.3156e-03,\n",
      "        -1.2806e-03, -1.2205e-03, -1.1856e-03, -1.1737e-03, -1.0865e-03,\n",
      "        -1.0717e-03, -1.0519e-03, -1.0178e-03, -9.9800e-04, -9.7394e-04,\n",
      "        -9.1657e-04, -8.9374e-04, -8.8449e-04, -8.6583e-04, -8.6039e-04,\n",
      "        -8.2395e-04, -8.1234e-04, -7.8741e-04, -7.3923e-04, -7.3456e-04,\n",
      "        -7.2378e-04, -7.0167e-04, -6.9110e-04, -6.6234e-04, -6.4513e-04,\n",
      "        -6.3587e-04, -6.1205e-04, -6.0327e-04, -5.8520e-04, -5.7106e-04,\n",
      "        -5.5630e-04, -5.5134e-04, -5.4915e-04, -5.2957e-04, -5.1769e-04,\n",
      "        -5.0087e-04, -4.9559e-04, -4.7453e-04, -4.6594e-04, -4.5737e-04,\n",
      "        -4.5549e-04, -4.4907e-04, -4.3345e-04, -4.2822e-04, -4.2501e-04,\n",
      "        -4.2452e-04, -4.1145e-04, -3.9398e-04, -3.8485e-04, -3.8101e-04,\n",
      "        -3.7913e-04, -3.7415e-04, -3.7040e-04, -3.6231e-04, -3.5636e-04,\n",
      "        -3.5120e-04, -3.5045e-04, -3.5033e-04, -3.3509e-04, -3.2691e-04,\n",
      "        -3.1994e-04, -3.1247e-04, -3.0680e-04, -2.9860e-04, -2.9148e-04,\n",
      "        -2.9127e-04, -2.8578e-04, -2.8045e-04, -2.7864e-04, -2.6861e-04,\n",
      "        -2.6572e-04, -2.6280e-04, -2.5521e-04, -2.5164e-04, -2.4521e-04,\n",
      "        -2.4455e-04, -2.4407e-04, -2.3941e-04, -2.3777e-04, -2.3463e-04,\n",
      "        -2.3000e-04, -2.2781e-04, -2.2760e-04, -2.1888e-04, -2.1539e-04,\n",
      "        -2.1528e-04, -2.1135e-04, -2.0627e-04, -2.0285e-04, -1.9881e-04,\n",
      "        -1.9389e-04, -1.9148e-04, -1.8930e-04, -1.8800e-04, -1.8673e-04,\n",
      "        -1.7924e-04, -1.7902e-04, -1.7731e-04, -1.7644e-04, -1.6843e-04,\n",
      "        -1.6457e-04, -1.6405e-04, -1.6347e-04, -1.6078e-04, -1.6053e-04,\n",
      "        -1.5658e-04, -1.5657e-04, -1.5457e-04, -1.5331e-04, -1.4939e-04,\n",
      "        -1.4878e-04, -1.4811e-04, -1.4405e-04, -1.4247e-04, -1.3991e-04,\n",
      "        -1.3714e-04, -1.3462e-04, -1.3019e-04, -1.2968e-04, -1.2961e-04,\n",
      "        -1.2665e-04, -1.2382e-04, -1.2190e-04, -1.2108e-04, -1.1672e-04,\n",
      "        -1.1519e-04, -1.1401e-04, -1.1382e-04, -1.1191e-04, -1.1190e-04,\n",
      "        -1.0997e-04, -1.0986e-04, -1.0487e-04, -1.0474e-04, -1.0178e-04,\n",
      "        -1.0041e-04, -9.9568e-05, -9.9217e-05, -9.7010e-05, -9.6354e-05,\n",
      "        -9.6088e-05, -9.2022e-05, -9.1997e-05, -9.1135e-05, -9.0536e-05,\n",
      "        -9.0424e-05, -8.7628e-05, -8.7281e-05, -8.6204e-05, -8.5118e-05,\n",
      "        -8.5059e-05, -8.4632e-05, -8.4605e-05, -8.2082e-05, -8.1947e-05,\n",
      "        -7.9178e-05, -7.9157e-05, -7.6363e-05, -7.6196e-05, -7.6017e-05,\n",
      "        -7.5151e-05, -7.4987e-05, -7.4934e-05, -7.4714e-05, -7.2609e-05,\n",
      "        -7.1705e-05, -6.9236e-05, -6.8784e-05, -6.8158e-05, -6.7794e-05,\n",
      "        -6.7626e-05, -6.6691e-05, -6.6224e-05, -6.5423e-05, -6.4915e-05,\n",
      "        -6.4171e-05, -6.2798e-05, -6.2542e-05, -6.1674e-05, -6.0091e-05,\n",
      "        -6.0046e-05, -5.9774e-05, -5.9302e-05, -5.9273e-05, -5.9259e-05,\n",
      "        -5.7241e-05, -5.6900e-05, -5.6871e-05, -5.6813e-05, -5.5647e-05,\n",
      "        -5.4196e-05, -5.4186e-05, -5.3664e-05, -5.3394e-05, -5.3196e-05,\n",
      "        -5.2865e-05, -5.2437e-05, -5.1185e-05, -4.9967e-05, -4.9045e-05,\n",
      "        -4.7343e-05, -4.7160e-05, -4.7075e-05, -4.6984e-05, -4.6469e-05,\n",
      "        -4.4783e-05, -4.4617e-05, -4.4160e-05, -4.3656e-05, -4.3579e-05,\n",
      "        -4.3270e-05, -4.3219e-05, -4.2893e-05, -4.2485e-05, -4.0570e-05,\n",
      "        -4.0084e-05, -3.9939e-05, -3.9832e-05, -3.9553e-05, -3.9429e-05,\n",
      "        -3.9428e-05, -3.9296e-05, -3.8912e-05, -3.8722e-05, -3.7385e-05,\n",
      "        -3.6837e-05, -3.6612e-05, -3.6021e-05, -3.5905e-05, -3.5791e-05,\n",
      "        -3.5418e-05, -3.4994e-05, -3.4299e-05, -3.4230e-05, -3.4210e-05,\n",
      "        -3.3926e-05, -3.3694e-05, -3.3497e-05, -3.3038e-05, -3.1857e-05,\n",
      "        -3.1345e-05, -3.1248e-05, -3.1235e-05, -3.0927e-05, -3.0657e-05,\n",
      "        -3.0628e-05, -3.0223e-05, -3.0150e-05, -2.9832e-05, -2.9760e-05,\n",
      "        -2.9244e-05, -2.9169e-05, -2.8841e-05, -2.8246e-05, -2.8227e-05,\n",
      "        -2.7826e-05, -2.7763e-05, -2.7255e-05, -2.6586e-05, -2.6356e-05,\n",
      "        -2.6209e-05, -2.6088e-05, -2.6078e-05, -2.5988e-05, -2.5707e-05,\n",
      "        -2.5175e-05, -2.4616e-05, -2.4453e-05, -2.4330e-05, -2.4320e-05,\n",
      "        -2.3949e-05, -2.3657e-05, -2.3584e-05, -2.3557e-05, -2.3359e-05,\n",
      "        -2.2562e-05, -2.2507e-05, -2.2230e-05, -2.2150e-05, -2.1977e-05,\n",
      "        -2.1672e-05, -2.1627e-05, -2.1474e-05, -2.1408e-05, -2.1012e-05,\n",
      "        -2.0865e-05, -2.0805e-05, -2.0576e-05, -2.0335e-05, -2.0305e-05,\n",
      "        -2.0062e-05, -1.9525e-05, -1.9245e-05, -1.8631e-05, -1.8360e-05,\n",
      "        -1.8280e-05, -1.8062e-05, -1.7889e-05, -1.7738e-05, -1.7295e-05,\n",
      "        -1.7288e-05, -1.7239e-05, -1.7177e-05, -1.7123e-05, -1.6909e-05,\n",
      "        -1.6868e-05, -1.6812e-05, -1.6354e-05, -1.6307e-05, -1.6302e-05,\n",
      "        -1.6187e-05, -1.6071e-05, -1.5406e-05, -1.5360e-05, -1.4634e-05,\n",
      "        -1.4545e-05, -1.4428e-05, -1.4359e-05, -1.4230e-05, -1.4080e-05,\n",
      "        -1.3913e-05, -1.3865e-05, -1.3632e-05, -1.3430e-05, -1.3328e-05,\n",
      "        -1.3077e-05, -1.2883e-05, -1.2813e-05, -1.2767e-05, -1.2488e-05,\n",
      "        -1.2333e-05, -1.2017e-05, -1.1752e-05, -1.1697e-05, -1.1444e-05,\n",
      "        -1.1432e-05, -1.1257e-05, -1.1205e-05, -1.1180e-05, -1.1104e-05,\n",
      "        -1.0932e-05, -1.0703e-05, -1.0503e-05, -1.0426e-05, -1.0301e-05,\n",
      "        -1.0285e-05, -1.0256e-05, -1.0120e-05, -1.0082e-05, -9.9816e-06,\n",
      "        -9.9480e-06, -9.8695e-06, -9.1232e-06, -9.1008e-06, -8.8361e-06,\n",
      "        -8.7565e-06, -8.6778e-06, -8.3632e-06, -8.3399e-06, -8.2979e-06,\n",
      "        -8.2022e-06, -8.1894e-06, -8.1829e-06, -7.9407e-06, -7.7333e-06,\n",
      "        -7.1867e-06, -6.9755e-06, -6.6855e-06, -6.4657e-06, -5.8749e-06,\n",
      "        -5.7546e-06, -5.6090e-06, -5.5977e-06, -5.5668e-06, -5.3001e-06,\n",
      "        -5.0485e-06, -5.0430e-06, -4.6733e-06, -4.6359e-06, -4.5068e-06,\n",
      "        -4.2803e-06, -3.7645e-06, -3.6807e-06, -3.6711e-06, -2.4153e-06])\n",
      "  warnings.warn(f\"Negative eigenvalues encountered and removed: {eigenvalues[eigenvalues < 0]}\", RuntimeWarning)\n"
     ]
    },
    {
     "data": {
      "text/plain": [
       "torch.Size([5000, 9])"
      ]
     },
     "execution_count": 216,
     "metadata": {},
     "output_type": "execute_result"
    }
   ],
   "source": [
    "from utils_ import _lda as lda\n",
    "\n",
    "LDA = lda.LDA()\n",
    "LDA.fit(X_kpca, y_train_t)\n",
    "X_lda = LDA.transform(X_kpca)\n",
    "X_test_lda = LDA.transform(X_test_kpca)\n",
    "X_lda.shape"
   ]
  },
  {
   "cell_type": "code",
   "execution_count": 217,
   "metadata": {},
   "outputs": [
    {
     "name": "stdout",
     "output_type": "stream",
     "text": [
      "Accuracy: 29.00%\n"
     ]
    }
   ],
   "source": [
    "from utils_ import _models\n",
    "from sklearn.metrics import accuracy_score\n",
    "\n",
    "NC = _models.NearestCentroid()\n",
    "NC.fit(X_lda, y_train_t)\n",
    "\n",
    "# Predict the labels for the test set \n",
    "y_pred = NC.predict(X_test_lda)\n",
    "accuracy = accuracy_score(y_test, y_pred.numpy()) \n",
    "print(f\"Accuracy: {accuracy * 100:.2f}%\")"
   ]
  },
  {
   "cell_type": "code",
   "execution_count": 218,
   "metadata": {},
   "outputs": [
    {
     "name": "stdout",
     "output_type": "stream",
     "text": [
      "The best accuracy is 35.80% with n_neighbors = 27\n"
     ]
    }
   ],
   "source": [
    "from sklearn.neighbors import KNeighborsClassifier as KNN\n",
    "\n",
    "acc_KNN = []\n",
    "\n",
    "for k in range(1,30):\n",
    "    knn = KNN(n_neighbors=k, n_jobs=-1)\n",
    "\n",
    "    knn.fit(X_lda.numpy(), y_train_m)\n",
    "    score = knn.score(X_test_lda.numpy(), y_test)\n",
    "\n",
    "    acc_KNN.append(score)\n",
    "\n",
    "best_acc = max(acc_KNN)\n",
    "best_k = acc_KNN.index(best_acc)\n",
    "best_k_value = range(1,30)[best_k]\n",
    "\n",
    "print(f'The best accuracy is {best_acc*100:.2f}% with n_neighbors = {best_k_value}')"
   ]
  },
  {
   "cell_type": "markdown",
   "metadata": {},
   "source": [
    "#### 99%"
   ]
  },
  {
   "cell_type": "code",
   "execution_count": 61,
   "metadata": {},
   "outputs": [
    {
     "name": "stderr",
     "output_type": "stream",
     "text": [
      "c:\\Users\\dimos\\PyProjecks\\KPCA_LDA_v2\\utils_\\_lda.py:145: RuntimeWarning: Negative eigenvalues encountered and removed: tensor([-1.1296e+02, -5.1165e+01, -2.6966e+01,  ..., -5.4808e-07,\n",
      "        -3.7469e-07, -1.1727e-07])\n",
      "  warnings.warn(f\"Negative eigenvalues encountered and removed: {eigenvalues[eigenvalues < 0]}\", RuntimeWarning)\n"
     ]
    },
    {
     "data": {
      "text/plain": [
       "torch.Size([5000, 9])"
      ]
     },
     "execution_count": 61,
     "metadata": {},
     "output_type": "execute_result"
    }
   ],
   "source": [
    "from utils_ import _lda as lda\n",
    "\n",
    "LDA = lda.LDA()\n",
    "LDA.fit(X_kpca, y_train_t)\n",
    "X_lda = LDA.transform(X_kpca)\n",
    "X_test_lda = LDA.transform(X_test_kpca)\n",
    "X_lda.shape"
   ]
  },
  {
   "cell_type": "code",
   "execution_count": 62,
   "metadata": {},
   "outputs": [
    {
     "name": "stdout",
     "output_type": "stream",
     "text": [
      "Accuracy: 28.30%\n"
     ]
    }
   ],
   "source": [
    "from utils_ import _models\n",
    "from sklearn.metrics import accuracy_score\n",
    "\n",
    "NC = _models.NearestCentroid()\n",
    "NC.fit(X_lda, y_train_t)\n",
    "\n",
    "# Predict the labels for the test set \n",
    "y_pred = NC.predict(X_test_lda)\n",
    "accuracy = accuracy_score(y_test, y_pred.numpy()) \n",
    "print(f\"Accuracy: {accuracy * 100:.2f}%\")"
   ]
  },
  {
   "cell_type": "code",
   "execution_count": 63,
   "metadata": {},
   "outputs": [
    {
     "name": "stdout",
     "output_type": "stream",
     "text": [
      "The best accuracy is 35.30% with n_neighbors = 23\n"
     ]
    }
   ],
   "source": [
    "from sklearn.neighbors import KNeighborsClassifier as KNN\n",
    "\n",
    "acc_KNN = []\n",
    "\n",
    "for k in range(1,30):\n",
    "    knn = KNN(n_neighbors=k, n_jobs=-1)\n",
    "\n",
    "    knn.fit(X_lda.numpy(), y_train_m)\n",
    "    score = knn.score(X_test_lda.numpy(), y_test)\n",
    "\n",
    "    acc_KNN.append(score)\n",
    "\n",
    "best_acc = max(acc_KNN)\n",
    "best_k = acc_KNN.index(best_acc)\n",
    "best_k_value = range(1,30)[best_k]\n",
    "\n",
    "print(f'The best accuracy is {best_acc*100:.2f}% with n_neighbors = {best_k_value}')"
   ]
  },
  {
   "cell_type": "code",
   "execution_count": 229,
   "metadata": {},
   "outputs": [
    {
     "name": "stdout",
     "output_type": "stream",
     "text": [
      "Fitting 5 folds for each of 25 candidates, totalling 125 fits\n",
      "[CV 1/5; 1/25] START C=5, gamma=0.001, kernel=rbf...............................\n",
      "[CV 1/5; 1/25] END C=5, gamma=0.001, kernel=rbf;, score=0.411 total time=   0.4s\n",
      "[CV 2/5; 1/25] START C=5, gamma=0.001, kernel=rbf...............................\n",
      "[CV 2/5; 1/25] END C=5, gamma=0.001, kernel=rbf;, score=0.426 total time=   0.4s\n",
      "[CV 3/5; 1/25] START C=5, gamma=0.001, kernel=rbf...............................\n",
      "[CV 3/5; 1/25] END C=5, gamma=0.001, kernel=rbf;, score=0.396 total time=   0.4s\n",
      "[CV 4/5; 1/25] START C=5, gamma=0.001, kernel=rbf...............................\n",
      "[CV 4/5; 1/25] END C=5, gamma=0.001, kernel=rbf;, score=0.411 total time=   0.4s\n",
      "[CV 5/5; 1/25] START C=5, gamma=0.001, kernel=rbf...............................\n",
      "[CV 5/5; 1/25] END C=5, gamma=0.001, kernel=rbf;, score=0.395 total time=   0.4s\n",
      "[CV 1/5; 2/25] START C=5, gamma=0.0025, kernel=rbf..............................\n",
      "[CV 1/5; 2/25] END C=5, gamma=0.0025, kernel=rbf;, score=0.407 total time=   0.4s\n",
      "[CV 2/5; 2/25] START C=5, gamma=0.0025, kernel=rbf..............................\n",
      "[CV 2/5; 2/25] END C=5, gamma=0.0025, kernel=rbf;, score=0.429 total time=   0.4s\n",
      "[CV 3/5; 2/25] START C=5, gamma=0.0025, kernel=rbf..............................\n",
      "[CV 3/5; 2/25] END C=5, gamma=0.0025, kernel=rbf;, score=0.400 total time=   0.4s\n",
      "[CV 4/5; 2/25] START C=5, gamma=0.0025, kernel=rbf..............................\n",
      "[CV 4/5; 2/25] END C=5, gamma=0.0025, kernel=rbf;, score=0.402 total time=   0.4s\n",
      "[CV 5/5; 2/25] START C=5, gamma=0.0025, kernel=rbf..............................\n",
      "[CV 5/5; 2/25] END C=5, gamma=0.0025, kernel=rbf;, score=0.393 total time=   0.4s\n",
      "[CV 1/5; 3/25] START C=5, gamma=0.005, kernel=rbf...............................\n",
      "[CV 1/5; 3/25] END C=5, gamma=0.005, kernel=rbf;, score=0.420 total time=   0.5s\n",
      "[CV 2/5; 3/25] START C=5, gamma=0.005, kernel=rbf...............................\n",
      "[CV 2/5; 3/25] END C=5, gamma=0.005, kernel=rbf;, score=0.424 total time=   0.5s\n",
      "[CV 3/5; 3/25] START C=5, gamma=0.005, kernel=rbf...............................\n",
      "[CV 3/5; 3/25] END C=5, gamma=0.005, kernel=rbf;, score=0.411 total time=   0.5s\n",
      "[CV 4/5; 3/25] START C=5, gamma=0.005, kernel=rbf...............................\n",
      "[CV 4/5; 3/25] END C=5, gamma=0.005, kernel=rbf;, score=0.400 total time=   0.4s\n",
      "[CV 5/5; 3/25] START C=5, gamma=0.005, kernel=rbf...............................\n",
      "[CV 5/5; 3/25] END C=5, gamma=0.005, kernel=rbf;, score=0.408 total time=   0.4s\n",
      "[CV 1/5; 4/25] START C=5, gamma=0.0075, kernel=rbf..............................\n",
      "[CV 1/5; 4/25] END C=5, gamma=0.0075, kernel=rbf;, score=0.408 total time=   0.5s\n",
      "[CV 2/5; 4/25] START C=5, gamma=0.0075, kernel=rbf..............................\n",
      "[CV 2/5; 4/25] END C=5, gamma=0.0075, kernel=rbf;, score=0.426 total time=   0.5s\n",
      "[CV 3/5; 4/25] START C=5, gamma=0.0075, kernel=rbf..............................\n",
      "[CV 3/5; 4/25] END C=5, gamma=0.0075, kernel=rbf;, score=0.421 total time=   0.5s\n",
      "[CV 4/5; 4/25] START C=5, gamma=0.0075, kernel=rbf..............................\n",
      "[CV 4/5; 4/25] END C=5, gamma=0.0075, kernel=rbf;, score=0.402 total time=   0.5s\n",
      "[CV 5/5; 4/25] START C=5, gamma=0.0075, kernel=rbf..............................\n",
      "[CV 5/5; 4/25] END C=5, gamma=0.0075, kernel=rbf;, score=0.401 total time=   0.5s\n",
      "[CV 1/5; 5/25] START C=5, gamma=0.01, kernel=rbf................................\n",
      "[CV 1/5; 5/25] END .C=5, gamma=0.01, kernel=rbf;, score=0.394 total time=   0.5s\n",
      "[CV 2/5; 5/25] START C=5, gamma=0.01, kernel=rbf................................\n",
      "[CV 2/5; 5/25] END .C=5, gamma=0.01, kernel=rbf;, score=0.407 total time=   0.5s\n",
      "[CV 3/5; 5/25] START C=5, gamma=0.01, kernel=rbf................................\n",
      "[CV 3/5; 5/25] END .C=5, gamma=0.01, kernel=rbf;, score=0.413 total time=   0.5s\n",
      "[CV 4/5; 5/25] START C=5, gamma=0.01, kernel=rbf................................\n",
      "[CV 4/5; 5/25] END .C=5, gamma=0.01, kernel=rbf;, score=0.383 total time=   0.5s\n",
      "[CV 5/5; 5/25] START C=5, gamma=0.01, kernel=rbf................................\n",
      "[CV 5/5; 5/25] END .C=5, gamma=0.01, kernel=rbf;, score=0.387 total time=   0.5s\n",
      "[CV 1/5; 6/25] START C=7.5, gamma=0.001, kernel=rbf.............................\n",
      "[CV 1/5; 6/25] END C=7.5, gamma=0.001, kernel=rbf;, score=0.409 total time=   0.4s\n",
      "[CV 2/5; 6/25] START C=7.5, gamma=0.001, kernel=rbf.............................\n",
      "[CV 2/5; 6/25] END C=7.5, gamma=0.001, kernel=rbf;, score=0.427 total time=   0.4s\n",
      "[CV 3/5; 6/25] START C=7.5, gamma=0.001, kernel=rbf.............................\n",
      "[CV 3/5; 6/25] END C=7.5, gamma=0.001, kernel=rbf;, score=0.402 total time=   0.4s\n",
      "[CV 4/5; 6/25] START C=7.5, gamma=0.001, kernel=rbf.............................\n",
      "[CV 4/5; 6/25] END C=7.5, gamma=0.001, kernel=rbf;, score=0.413 total time=   0.4s\n",
      "[CV 5/5; 6/25] START C=7.5, gamma=0.001, kernel=rbf.............................\n",
      "[CV 5/5; 6/25] END C=7.5, gamma=0.001, kernel=rbf;, score=0.390 total time=   0.4s\n",
      "[CV 1/5; 7/25] START C=7.5, gamma=0.0025, kernel=rbf............................\n",
      "[CV 1/5; 7/25] END C=7.5, gamma=0.0025, kernel=rbf;, score=0.408 total time=   0.4s\n",
      "[CV 2/5; 7/25] START C=7.5, gamma=0.0025, kernel=rbf............................\n",
      "[CV 2/5; 7/25] END C=7.5, gamma=0.0025, kernel=rbf;, score=0.433 total time=   0.4s\n",
      "[CV 3/5; 7/25] START C=7.5, gamma=0.0025, kernel=rbf............................\n",
      "[CV 3/5; 7/25] END C=7.5, gamma=0.0025, kernel=rbf;, score=0.401 total time=   0.4s\n",
      "[CV 4/5; 7/25] START C=7.5, gamma=0.0025, kernel=rbf............................\n",
      "[CV 4/5; 7/25] END C=7.5, gamma=0.0025, kernel=rbf;, score=0.398 total time=   0.4s\n",
      "[CV 5/5; 7/25] START C=7.5, gamma=0.0025, kernel=rbf............................\n",
      "[CV 5/5; 7/25] END C=7.5, gamma=0.0025, kernel=rbf;, score=0.398 total time=   0.4s\n",
      "[CV 1/5; 8/25] START C=7.5, gamma=0.005, kernel=rbf.............................\n",
      "[CV 1/5; 8/25] END C=7.5, gamma=0.005, kernel=rbf;, score=0.418 total time=   0.5s\n",
      "[CV 2/5; 8/25] START C=7.5, gamma=0.005, kernel=rbf.............................\n",
      "[CV 2/5; 8/25] END C=7.5, gamma=0.005, kernel=rbf;, score=0.428 total time=   0.5s\n",
      "[CV 3/5; 8/25] START C=7.5, gamma=0.005, kernel=rbf.............................\n",
      "[CV 3/5; 8/25] END C=7.5, gamma=0.005, kernel=rbf;, score=0.413 total time=   0.5s\n",
      "[CV 4/5; 8/25] START C=7.5, gamma=0.005, kernel=rbf.............................\n",
      "[CV 4/5; 8/25] END C=7.5, gamma=0.005, kernel=rbf;, score=0.402 total time=   0.5s\n",
      "[CV 5/5; 8/25] START C=7.5, gamma=0.005, kernel=rbf.............................\n",
      "[CV 5/5; 8/25] END C=7.5, gamma=0.005, kernel=rbf;, score=0.412 total time=   0.5s\n",
      "[CV 1/5; 9/25] START C=7.5, gamma=0.0075, kernel=rbf............................\n",
      "[CV 1/5; 9/25] END C=7.5, gamma=0.0075, kernel=rbf;, score=0.404 total time=   0.5s\n",
      "[CV 2/5; 9/25] START C=7.5, gamma=0.0075, kernel=rbf............................\n",
      "[CV 2/5; 9/25] END C=7.5, gamma=0.0075, kernel=rbf;, score=0.420 total time=   0.5s\n",
      "[CV 3/5; 9/25] START C=7.5, gamma=0.0075, kernel=rbf............................\n",
      "[CV 3/5; 9/25] END C=7.5, gamma=0.0075, kernel=rbf;, score=0.418 total time=   0.5s\n",
      "[CV 4/5; 9/25] START C=7.5, gamma=0.0075, kernel=rbf............................\n",
      "[CV 4/5; 9/25] END C=7.5, gamma=0.0075, kernel=rbf;, score=0.392 total time=   0.5s\n",
      "[CV 5/5; 9/25] START C=7.5, gamma=0.0075, kernel=rbf............................\n",
      "[CV 5/5; 9/25] END C=7.5, gamma=0.0075, kernel=rbf;, score=0.402 total time=   0.5s\n",
      "[CV 1/5; 10/25] START C=7.5, gamma=0.01, kernel=rbf.............................\n",
      "[CV 1/5; 10/25] END C=7.5, gamma=0.01, kernel=rbf;, score=0.386 total time=   0.5s\n",
      "[CV 2/5; 10/25] START C=7.5, gamma=0.01, kernel=rbf.............................\n",
      "[CV 2/5; 10/25] END C=7.5, gamma=0.01, kernel=rbf;, score=0.391 total time=   0.5s\n",
      "[CV 3/5; 10/25] START C=7.5, gamma=0.01, kernel=rbf.............................\n",
      "[CV 3/5; 10/25] END C=7.5, gamma=0.01, kernel=rbf;, score=0.407 total time=   0.5s\n",
      "[CV 4/5; 10/25] START C=7.5, gamma=0.01, kernel=rbf.............................\n",
      "[CV 4/5; 10/25] END C=7.5, gamma=0.01, kernel=rbf;, score=0.382 total time=   0.5s\n",
      "[CV 5/5; 10/25] START C=7.5, gamma=0.01, kernel=rbf.............................\n",
      "[CV 5/5; 10/25] END C=7.5, gamma=0.01, kernel=rbf;, score=0.380 total time=   0.5s\n",
      "[CV 1/5; 11/25] START C=10, gamma=0.001, kernel=rbf.............................\n",
      "[CV 1/5; 11/25] END C=10, gamma=0.001, kernel=rbf;, score=0.413 total time=   0.4s\n",
      "[CV 2/5; 11/25] START C=10, gamma=0.001, kernel=rbf.............................\n",
      "[CV 2/5; 11/25] END C=10, gamma=0.001, kernel=rbf;, score=0.422 total time=   0.4s\n",
      "[CV 3/5; 11/25] START C=10, gamma=0.001, kernel=rbf.............................\n",
      "[CV 3/5; 11/25] END C=10, gamma=0.001, kernel=rbf;, score=0.403 total time=   0.4s\n",
      "[CV 4/5; 11/25] START C=10, gamma=0.001, kernel=rbf.............................\n",
      "[CV 4/5; 11/25] END C=10, gamma=0.001, kernel=rbf;, score=0.408 total time=   0.4s\n",
      "[CV 5/5; 11/25] START C=10, gamma=0.001, kernel=rbf.............................\n",
      "[CV 5/5; 11/25] END C=10, gamma=0.001, kernel=rbf;, score=0.391 total time=   0.4s\n",
      "[CV 1/5; 12/25] START C=10, gamma=0.0025, kernel=rbf............................\n",
      "[CV 1/5; 12/25] END C=10, gamma=0.0025, kernel=rbf;, score=0.408 total time=   0.4s\n",
      "[CV 2/5; 12/25] START C=10, gamma=0.0025, kernel=rbf............................\n",
      "[CV 2/5; 12/25] END C=10, gamma=0.0025, kernel=rbf;, score=0.432 total time=   0.4s\n",
      "[CV 3/5; 12/25] START C=10, gamma=0.0025, kernel=rbf............................\n",
      "[CV 3/5; 12/25] END C=10, gamma=0.0025, kernel=rbf;, score=0.407 total time=   0.4s\n",
      "[CV 4/5; 12/25] START C=10, gamma=0.0025, kernel=rbf............................\n",
      "[CV 4/5; 12/25] END C=10, gamma=0.0025, kernel=rbf;, score=0.403 total time=   0.4s\n",
      "[CV 5/5; 12/25] START C=10, gamma=0.0025, kernel=rbf............................\n",
      "[CV 5/5; 12/25] END C=10, gamma=0.0025, kernel=rbf;, score=0.396 total time=   0.4s\n",
      "[CV 1/5; 13/25] START C=10, gamma=0.005, kernel=rbf.............................\n",
      "[CV 1/5; 13/25] END C=10, gamma=0.005, kernel=rbf;, score=0.412 total time=   0.5s\n",
      "[CV 2/5; 13/25] START C=10, gamma=0.005, kernel=rbf.............................\n",
      "[CV 2/5; 13/25] END C=10, gamma=0.005, kernel=rbf;, score=0.431 total time=   0.5s\n",
      "[CV 3/5; 13/25] START C=10, gamma=0.005, kernel=rbf.............................\n",
      "[CV 3/5; 13/25] END C=10, gamma=0.005, kernel=rbf;, score=0.424 total time=   0.5s\n",
      "[CV 4/5; 13/25] START C=10, gamma=0.005, kernel=rbf.............................\n",
      "[CV 4/5; 13/25] END C=10, gamma=0.005, kernel=rbf;, score=0.402 total time=   0.5s\n",
      "[CV 5/5; 13/25] START C=10, gamma=0.005, kernel=rbf.............................\n",
      "[CV 5/5; 13/25] END C=10, gamma=0.005, kernel=rbf;, score=0.405 total time=   0.5s\n",
      "[CV 1/5; 14/25] START C=10, gamma=0.0075, kernel=rbf............................\n",
      "[CV 1/5; 14/25] END C=10, gamma=0.0075, kernel=rbf;, score=0.394 total time=   0.5s\n",
      "[CV 2/5; 14/25] START C=10, gamma=0.0075, kernel=rbf............................\n",
      "[CV 2/5; 14/25] END C=10, gamma=0.0075, kernel=rbf;, score=0.402 total time=   0.5s\n",
      "[CV 3/5; 14/25] START C=10, gamma=0.0075, kernel=rbf............................\n",
      "[CV 3/5; 14/25] END C=10, gamma=0.0075, kernel=rbf;, score=0.408 total time=   0.5s\n",
      "[CV 4/5; 14/25] START C=10, gamma=0.0075, kernel=rbf............................\n",
      "[CV 4/5; 14/25] END C=10, gamma=0.0075, kernel=rbf;, score=0.383 total time=   0.5s\n",
      "[CV 5/5; 14/25] START C=10, gamma=0.0075, kernel=rbf............................\n",
      "[CV 5/5; 14/25] END C=10, gamma=0.0075, kernel=rbf;, score=0.389 total time=   0.5s\n",
      "[CV 1/5; 15/25] START C=10, gamma=0.01, kernel=rbf..............................\n",
      "[CV 1/5; 15/25] END C=10, gamma=0.01, kernel=rbf;, score=0.379 total time=   0.5s\n",
      "[CV 2/5; 15/25] START C=10, gamma=0.01, kernel=rbf..............................\n",
      "[CV 2/5; 15/25] END C=10, gamma=0.01, kernel=rbf;, score=0.384 total time=   0.6s\n",
      "[CV 3/5; 15/25] START C=10, gamma=0.01, kernel=rbf..............................\n",
      "[CV 3/5; 15/25] END C=10, gamma=0.01, kernel=rbf;, score=0.396 total time=   0.6s\n",
      "[CV 4/5; 15/25] START C=10, gamma=0.01, kernel=rbf..............................\n",
      "[CV 4/5; 15/25] END C=10, gamma=0.01, kernel=rbf;, score=0.373 total time=   0.6s\n",
      "[CV 5/5; 15/25] START C=10, gamma=0.01, kernel=rbf..............................\n",
      "[CV 5/5; 15/25] END C=10, gamma=0.01, kernel=rbf;, score=0.370 total time=   0.5s\n",
      "[CV 1/5; 16/25] START C=12.5, gamma=0.001, kernel=rbf...........................\n",
      "[CV 1/5; 16/25] END C=12.5, gamma=0.001, kernel=rbf;, score=0.416 total time=   0.4s\n",
      "[CV 2/5; 16/25] START C=12.5, gamma=0.001, kernel=rbf...........................\n",
      "[CV 2/5; 16/25] END C=12.5, gamma=0.001, kernel=rbf;, score=0.422 total time=   0.4s\n",
      "[CV 3/5; 16/25] START C=12.5, gamma=0.001, kernel=rbf...........................\n",
      "[CV 3/5; 16/25] END C=12.5, gamma=0.001, kernel=rbf;, score=0.398 total time=   0.4s\n",
      "[CV 4/5; 16/25] START C=12.5, gamma=0.001, kernel=rbf...........................\n",
      "[CV 4/5; 16/25] END C=12.5, gamma=0.001, kernel=rbf;, score=0.407 total time=   0.4s\n",
      "[CV 5/5; 16/25] START C=12.5, gamma=0.001, kernel=rbf...........................\n",
      "[CV 5/5; 16/25] END C=12.5, gamma=0.001, kernel=rbf;, score=0.393 total time=   0.4s\n",
      "[CV 1/5; 17/25] START C=12.5, gamma=0.0025, kernel=rbf..........................\n",
      "[CV 1/5; 17/25] END C=12.5, gamma=0.0025, kernel=rbf;, score=0.411 total time=   0.5s\n",
      "[CV 2/5; 17/25] START C=12.5, gamma=0.0025, kernel=rbf..........................\n",
      "[CV 2/5; 17/25] END C=12.5, gamma=0.0025, kernel=rbf;, score=0.425 total time=   0.5s\n",
      "[CV 3/5; 17/25] START C=12.5, gamma=0.0025, kernel=rbf..........................\n",
      "[CV 3/5; 17/25] END C=12.5, gamma=0.0025, kernel=rbf;, score=0.409 total time=   0.5s\n",
      "[CV 4/5; 17/25] START C=12.5, gamma=0.0025, kernel=rbf..........................\n",
      "[CV 4/5; 17/25] END C=12.5, gamma=0.0025, kernel=rbf;, score=0.403 total time=   0.5s\n",
      "[CV 5/5; 17/25] START C=12.5, gamma=0.0025, kernel=rbf..........................\n",
      "[CV 5/5; 17/25] END C=12.5, gamma=0.0025, kernel=rbf;, score=0.402 total time=   0.4s\n",
      "[CV 1/5; 18/25] START C=12.5, gamma=0.005, kernel=rbf...........................\n",
      "[CV 1/5; 18/25] END C=12.5, gamma=0.005, kernel=rbf;, score=0.407 total time=   0.5s\n",
      "[CV 2/5; 18/25] START C=12.5, gamma=0.005, kernel=rbf...........................\n",
      "[CV 2/5; 18/25] END C=12.5, gamma=0.005, kernel=rbf;, score=0.426 total time=   0.5s\n",
      "[CV 3/5; 18/25] START C=12.5, gamma=0.005, kernel=rbf...........................\n",
      "[CV 3/5; 18/25] END C=12.5, gamma=0.005, kernel=rbf;, score=0.421 total time=   0.5s\n",
      "[CV 4/5; 18/25] START C=12.5, gamma=0.005, kernel=rbf...........................\n",
      "[CV 4/5; 18/25] END C=12.5, gamma=0.005, kernel=rbf;, score=0.392 total time=   0.5s\n",
      "[CV 5/5; 18/25] START C=12.5, gamma=0.005, kernel=rbf...........................\n",
      "[CV 5/5; 18/25] END C=12.5, gamma=0.005, kernel=rbf;, score=0.402 total time=   0.5s\n",
      "[CV 1/5; 19/25] START C=12.5, gamma=0.0075, kernel=rbf..........................\n",
      "[CV 1/5; 19/25] END C=12.5, gamma=0.0075, kernel=rbf;, score=0.385 total time=   0.6s\n",
      "[CV 2/5; 19/25] START C=12.5, gamma=0.0075, kernel=rbf..........................\n",
      "[CV 2/5; 19/25] END C=12.5, gamma=0.0075, kernel=rbf;, score=0.400 total time=   0.6s\n",
      "[CV 3/5; 19/25] START C=12.5, gamma=0.0075, kernel=rbf..........................\n",
      "[CV 3/5; 19/25] END C=12.5, gamma=0.0075, kernel=rbf;, score=0.409 total time=   0.6s\n",
      "[CV 4/5; 19/25] START C=12.5, gamma=0.0075, kernel=rbf..........................\n",
      "[CV 4/5; 19/25] END C=12.5, gamma=0.0075, kernel=rbf;, score=0.379 total time=   0.6s\n",
      "[CV 5/5; 19/25] START C=12.5, gamma=0.0075, kernel=rbf..........................\n",
      "[CV 5/5; 19/25] END C=12.5, gamma=0.0075, kernel=rbf;, score=0.381 total time=   0.6s\n",
      "[CV 1/5; 20/25] START C=12.5, gamma=0.01, kernel=rbf............................\n",
      "[CV 1/5; 20/25] END C=12.5, gamma=0.01, kernel=rbf;, score=0.379 total time=   0.6s\n",
      "[CV 2/5; 20/25] START C=12.5, gamma=0.01, kernel=rbf............................\n",
      "[CV 2/5; 20/25] END C=12.5, gamma=0.01, kernel=rbf;, score=0.382 total time=   0.6s\n",
      "[CV 3/5; 20/25] START C=12.5, gamma=0.01, kernel=rbf............................\n",
      "[CV 3/5; 20/25] END C=12.5, gamma=0.01, kernel=rbf;, score=0.398 total time=   0.6s\n",
      "[CV 4/5; 20/25] START C=12.5, gamma=0.01, kernel=rbf............................\n",
      "[CV 4/5; 20/25] END C=12.5, gamma=0.01, kernel=rbf;, score=0.366 total time=   0.6s\n",
      "[CV 5/5; 20/25] START C=12.5, gamma=0.01, kernel=rbf............................\n",
      "[CV 5/5; 20/25] END C=12.5, gamma=0.01, kernel=rbf;, score=0.365 total time=   0.6s\n",
      "[CV 1/5; 21/25] START C=15, gamma=0.001, kernel=rbf.............................\n",
      "[CV 1/5; 21/25] END C=15, gamma=0.001, kernel=rbf;, score=0.415 total time=   0.5s\n",
      "[CV 2/5; 21/25] START C=15, gamma=0.001, kernel=rbf.............................\n",
      "[CV 2/5; 21/25] END C=15, gamma=0.001, kernel=rbf;, score=0.421 total time=   0.4s\n",
      "[CV 3/5; 21/25] START C=15, gamma=0.001, kernel=rbf.............................\n",
      "[CV 3/5; 21/25] END C=15, gamma=0.001, kernel=rbf;, score=0.400 total time=   0.5s\n",
      "[CV 4/5; 21/25] START C=15, gamma=0.001, kernel=rbf.............................\n",
      "[CV 4/5; 21/25] END C=15, gamma=0.001, kernel=rbf;, score=0.408 total time=   0.4s\n",
      "[CV 5/5; 21/25] START C=15, gamma=0.001, kernel=rbf.............................\n",
      "[CV 5/5; 21/25] END C=15, gamma=0.001, kernel=rbf;, score=0.392 total time=   0.4s\n",
      "[CV 1/5; 22/25] START C=15, gamma=0.0025, kernel=rbf............................\n",
      "[CV 1/5; 22/25] END C=15, gamma=0.0025, kernel=rbf;, score=0.415 total time=   0.5s\n",
      "[CV 2/5; 22/25] START C=15, gamma=0.0025, kernel=rbf............................\n",
      "[CV 2/5; 22/25] END C=15, gamma=0.0025, kernel=rbf;, score=0.419 total time=   0.5s\n",
      "[CV 3/5; 22/25] START C=15, gamma=0.0025, kernel=rbf............................\n",
      "[CV 3/5; 22/25] END C=15, gamma=0.0025, kernel=rbf;, score=0.408 total time=   0.5s\n",
      "[CV 4/5; 22/25] START C=15, gamma=0.0025, kernel=rbf............................\n",
      "[CV 4/5; 22/25] END C=15, gamma=0.0025, kernel=rbf;, score=0.406 total time=   0.5s\n",
      "[CV 5/5; 22/25] START C=15, gamma=0.0025, kernel=rbf............................\n",
      "[CV 5/5; 22/25] END C=15, gamma=0.0025, kernel=rbf;, score=0.402 total time=   0.5s\n",
      "[CV 1/5; 23/25] START C=15, gamma=0.005, kernel=rbf.............................\n",
      "[CV 1/5; 23/25] END C=15, gamma=0.005, kernel=rbf;, score=0.396 total time=   0.6s\n",
      "[CV 2/5; 23/25] START C=15, gamma=0.005, kernel=rbf.............................\n",
      "[CV 2/5; 23/25] END C=15, gamma=0.005, kernel=rbf;, score=0.433 total time=   0.6s\n",
      "[CV 3/5; 23/25] START C=15, gamma=0.005, kernel=rbf.............................\n",
      "[CV 3/5; 23/25] END C=15, gamma=0.005, kernel=rbf;, score=0.422 total time=   0.6s\n",
      "[CV 4/5; 23/25] START C=15, gamma=0.005, kernel=rbf.............................\n",
      "[CV 4/5; 23/25] END C=15, gamma=0.005, kernel=rbf;, score=0.390 total time=   0.6s\n",
      "[CV 5/5; 23/25] START C=15, gamma=0.005, kernel=rbf.............................\n",
      "[CV 5/5; 23/25] END C=15, gamma=0.005, kernel=rbf;, score=0.398 total time=   0.6s\n",
      "[CV 1/5; 24/25] START C=15, gamma=0.0075, kernel=rbf............................\n",
      "[CV 1/5; 24/25] END C=15, gamma=0.0075, kernel=rbf;, score=0.393 total time=   0.7s\n",
      "[CV 2/5; 24/25] START C=15, gamma=0.0075, kernel=rbf............................\n",
      "[CV 2/5; 24/25] END C=15, gamma=0.0075, kernel=rbf;, score=0.388 total time=   0.6s\n",
      "[CV 3/5; 24/25] START C=15, gamma=0.0075, kernel=rbf............................\n",
      "[CV 3/5; 24/25] END C=15, gamma=0.0075, kernel=rbf;, score=0.407 total time=   0.6s\n",
      "[CV 4/5; 24/25] START C=15, gamma=0.0075, kernel=rbf............................\n",
      "[CV 4/5; 24/25] END C=15, gamma=0.0075, kernel=rbf;, score=0.381 total time=   0.6s\n",
      "[CV 5/5; 24/25] START C=15, gamma=0.0075, kernel=rbf............................\n",
      "[CV 5/5; 24/25] END C=15, gamma=0.0075, kernel=rbf;, score=0.377 total time=   0.6s\n",
      "[CV 1/5; 25/25] START C=15, gamma=0.01, kernel=rbf..............................\n",
      "[CV 1/5; 25/25] END C=15, gamma=0.01, kernel=rbf;, score=0.373 total time=   0.7s\n",
      "[CV 2/5; 25/25] START C=15, gamma=0.01, kernel=rbf..............................\n",
      "[CV 2/5; 25/25] END C=15, gamma=0.01, kernel=rbf;, score=0.387 total time=   0.7s\n",
      "[CV 3/5; 25/25] START C=15, gamma=0.01, kernel=rbf..............................\n",
      "[CV 3/5; 25/25] END C=15, gamma=0.01, kernel=rbf;, score=0.384 total time=   0.6s\n",
      "[CV 4/5; 25/25] START C=15, gamma=0.01, kernel=rbf..............................\n",
      "[CV 4/5; 25/25] END C=15, gamma=0.01, kernel=rbf;, score=0.364 total time=   0.7s\n",
      "[CV 5/5; 25/25] START C=15, gamma=0.01, kernel=rbf..............................\n",
      "[CV 5/5; 25/25] END C=15, gamma=0.01, kernel=rbf;, score=0.369 total time=   0.6s\n",
      "Durratio: 75.61107182502747\n",
      "{'C': 10, 'gamma': 0.005, 'kernel': 'rbf'}\n"
     ]
    }
   ],
   "source": [
    "from sklearn.svm import SVC\n",
    "from sklearn.model_selection import GridSearchCV\n",
    "import time \n",
    "s_time=time.time()\n",
    "param_grid = [{'C':[5, 7.5, 10, 12.5, 15], 'gamma':[1e-03,2.5e-03, 5e-03, 7.5e-03, 1e-02], 'kernel':['rbf']}]\n",
    "grid = GridSearchCV(SVC(), param_grid, verbose=10)\n",
    "grid.fit(X_lda.numpy(), y_train_m)\n",
    "y_pred = grid.predict(X_test_lda.numpy())\n",
    "f_time = time.time()\n",
    "print(f'Durratio: {f_time-s_time}')\n",
    "best_params = grid.best_params_\n",
    "print(best_params)"
   ]
  },
  {
   "cell_type": "code",
   "execution_count": 230,
   "metadata": {},
   "outputs": [
    {
     "name": "stdout",
     "output_type": "stream",
     "text": [
      "Accuracy: 0.375\n"
     ]
    }
   ],
   "source": [
    "#to swsto to apo panw\n",
    "from sklearn import metrics\n",
    "print(f'Accuracy: {metrics.accuracy_score(y_true=y_test, y_pred = y_pred)}')"
   ]
  },
  {
   "cell_type": "code",
   "execution_count": 227,
   "metadata": {},
   "outputs": [
    {
     "name": "stdout",
     "output_type": "stream",
     "text": [
      "Accuracy: 0.381\n"
     ]
    }
   ],
   "source": [
    "from sklearn import metrics\n",
    "print(f'Accuracy: {metrics.accuracy_score(y_true=y_test, y_pred = y_pred)}')"
   ]
  },
  {
   "cell_type": "markdown",
   "metadata": {},
   "source": [
    "## kernel rbf"
   ]
  },
  {
   "cell_type": "code",
   "execution_count": 31,
   "metadata": {},
   "outputs": [
    {
     "name": "stdout",
     "output_type": "stream",
     "text": [
      "0.0003155208333333333\n"
     ]
    }
   ],
   "source": [
    "#the auto gamma in sklearn\n",
    "a = 1 / x_test_t.shape[1]\n",
    "g = 1e-05\n",
    "print(a-g)"
   ]
  },
  {
   "cell_type": "code",
   "execution_count": 32,
   "metadata": {},
   "outputs": [
    {
     "name": "stdout",
     "output_type": "stream",
     "text": [
      " \n",
      " ---- STARTING custom KPCA ---- \n"
     ]
    },
    {
     "name": "stderr",
     "output_type": "stream",
     "text": [
      "c:\\Users\\dimos\\PyProjecks\\KPCA_LDA_v2\\utils_\\_kPCA.py:122: RuntimeWarning: Negative or near-zero eigenvalues encountered and removed: tensor([-0.0003])\n",
      "  warnings.warn(\n"
     ]
    },
    {
     "name": "stdout",
     "output_type": "stream",
     "text": [
      "The shape of train after xkpca  torch.Size([5000, 3072])\n",
      "The shape of test after xkpca  torch.Size([1000, 3072])\n",
      "---- KPCA took  11742  ms----\n"
     ]
    }
   ],
   "source": [
    "from utils_ import _kPCA\n",
    "import time \n",
    "\n",
    "startKpca = int(round(time.time() * 1000))\n",
    "\n",
    "print(\" \")\n",
    "print(\" ---- STARTING custom KPCA ---- \")\n",
    "\n",
    "kpca = _kPCA.KPCA(n_components=3072, kernel_type='rbf', gamma=g)\n",
    "kpca.fit(x_train_t)\n",
    "X_kpca = kpca.transform(x_train_t)\n",
    "X_test_kpca = kpca.transform(x_test_t)\n",
    "\n",
    "print(\"The shape of train after xkpca \", X_kpca.shape )\n",
    "print(\"The shape of test after xkpca \", X_test_kpca.shape )\n",
    "\n",
    "# stop the kpca timer\n",
    "endKpca = int(round(time.time() * 1000))\n",
    "\n",
    "print(\"---- KPCA took \", (endKpca-startKpca), \" ms----\")"
   ]
  },
  {
   "cell_type": "code",
   "execution_count": 33,
   "metadata": {},
   "outputs": [],
   "source": [
    "explained_variance = kpca.explained_var  \n",
    "explained_variance_ratio = explained_variance / torch.sum(explained_variance)"
   ]
  },
  {
   "cell_type": "code",
   "execution_count": 34,
   "metadata": {},
   "outputs": [
    {
     "data": {
      "image/png": "[encoded data removed]",
      "text/plain": [
       "<Figure size 640x480 with 1 Axes>"
      ]
     },
     "metadata": {},
     "output_type": "display_data"
    },
    {
     "data": {
      "text/plain": [
       "None"
      ]
     },
     "metadata": {},
     "output_type": "display_data"
    }
   ],
   "source": [
    "import seaborn as sns\n",
    "import matplotlib.pyplot as plt\n",
    "import numpy as np\n",
    "\n",
    "sns.set_theme(style='whitegrid')\n",
    "plt.plot(np.cumsum(explained_variance_ratio.numpy()))\n",
    "plt.title('Kernel: RBF', fontsize=16)\n",
    "plt.xlabel('num of components')\n",
    "plt.ylabel('cumulative explained variance')\n",
    "display(plt.show())"
   ]
  },
  {
   "cell_type": "code",
   "execution_count": 263,
   "metadata": {},
   "outputs": [],
   "source": [
    "import pandas as pd\n",
    "\n",
    "evr = explained_variance_ratio.numpy()\n",
    "crv = np.cumsum(explained_variance_ratio.numpy())\n",
    "kpca_df  = pd.DataFrame()\n",
    "kpca_df['cumsum_explained_var'] = crv\n",
    "kpca_df['explainde_var_ratio'] = evr"
   ]
  },
  {
   "cell_type": "code",
   "execution_count": 264,
   "metadata": {},
   "outputs": [
    {
     "name": "stdout",
     "output_type": "stream",
     "text": [
      "Indexes where cumsum_explained_var > 0.95: [228, 229, 230, 231, 232, 233, 234, 235, 236, 237, 238, 239, 240, 241, 242, 243, 244, 245, 246, 247, 248, 249, 250, 251, 252, 253, 254, 255, 256, 257, 258, 259, 260, 261, 262, 263, 264, 265, 266, 267, 268, 269, 270, 271, 272, 273, 274, 275, 276, 277, 278, 279, 280, 281, 282, 283, 284, 285, 286, 287, 288, 289, 290, 291, 292, 293, 294, 295, 296, 297, 298, 299, 300, 301, 302, 303, 304, 305, 306, 307, 308, 309, 310, 311, 312, 313, 314, 315, 316, 317, 318, 319, 320, 321, 322, 323, 324, 325, 326, 327, 328, 329, 330, 331, 332, 333, 334, 335, 336, 337, 338, 339, 340, 341, 342, 343, 344, 345, 346, 347, 348, 349, 350, 351, 352, 353, 354, 355, 356, 357, 358, 359, 360, 361, 362, 363, 364, 365, 366, 367, 368, 369, 370, 371, 372, 373, 374, 375, 376, 377, 378, 379, 380, 381, 382, 383, 384, 385, 386, 387, 388, 389, 390, 391, 392, 393, 394, 395, 396, 397, 398, 399, 400, 401, 402, 403, 404, 405, 406, 407, 408, 409, 410, 411, 412, 413, 414, 415, 416, 417, 418, 419, 420, 421, 422, 423, 424, 425, 426, 427, 428, 429, 430, 431, 432, 433, 434, 435, 436, 437, 438, 439, 440, 441, 442, 443, 444, 445, 446, 447, 448, 449, 450, 451, 452, 453, 454, 455, 456, 457, 458, 459, 460, 461, 462, 463, 464, 465, 466, 467, 468, 469, 470, 471, 472, 473, 474, 475, 476, 477, 478, 479, 480, 481, 482, 483, 484, 485, 486, 487, 488, 489, 490, 491, 492, 493, 494, 495, 496, 497, 498, 499, 500, 501, 502, 503, 504, 505, 506, 507, 508, 509, 510, 511, 512, 513, 514, 515, 516, 517, 518, 519, 520, 521, 522, 523, 524, 525, 526, 527, 528, 529, 530, 531, 532, 533, 534, 535, 536, 537, 538, 539, 540, 541, 542, 543, 544, 545, 546, 547, 548, 549, 550, 551, 552, 553, 554, 555, 556, 557, 558, 559, 560, 561, 562, 563, 564, 565, 566, 567, 568, 569, 570, 571, 572, 573, 574, 575, 576, 577, 578, 579, 580, 581, 582, 583, 584, 585, 586, 587, 588, 589, 590, 591, 592, 593, 594, 595, 596, 597, 598, 599, 600, 601, 602, 603, 604, 605, 606, 607, 608, 609, 610, 611, 612, 613, 614, 615, 616, 617, 618, 619, 620, 621, 622, 623, 624, 625, 626, 627, 628, 629, 630, 631, 632, 633, 634, 635, 636, 637, 638, 639, 640, 641, 642, 643, 644, 645, 646, 647, 648, 649, 650, 651, 652, 653, 654, 655, 656, 657, 658, 659, 660, 661, 662, 663, 664, 665, 666, 667, 668, 669, 670, 671, 672, 673, 674, 675, 676, 677, 678, 679, 680, 681, 682, 683, 684, 685, 686, 687, 688, 689, 690, 691, 692, 693, 694, 695, 696, 697, 698, 699, 700, 701, 702, 703, 704, 705, 706, 707, 708, 709, 710, 711, 712, 713, 714, 715, 716, 717, 718, 719, 720, 721, 722, 723, 724, 725, 726, 727, 728, 729, 730, 731, 732, 733, 734, 735, 736, 737, 738, 739, 740, 741, 742, 743, 744, 745, 746, 747, 748, 749, 750, 751, 752, 753, 754, 755, 756, 757, 758, 759, 760, 761, 762, 763, 764, 765, 766, 767, 768, 769, 770, 771, 772, 773, 774, 775, 776, 777, 778, 779, 780, 781, 782, 783, 784, 785, 786, 787, 788, 789, 790, 791, 792, 793, 794, 795, 796, 797, 798, 799, 800, 801, 802, 803, 804, 805, 806, 807, 808, 809, 810, 811, 812, 813, 814, 815, 816, 817, 818, 819, 820, 821, 822, 823, 824, 825, 826, 827, 828, 829, 830, 831, 832, 833, 834, 835, 836, 837, 838, 839, 840, 841, 842, 843, 844, 845, 846, 847, 848, 849, 850, 851, 852, 853, 854, 855, 856, 857, 858, 859, 860, 861, 862, 863, 864, 865, 866, 867, 868, 869, 870, 871, 872, 873, 874, 875, 876, 877, 878, 879, 880, 881, 882, 883, 884, 885, 886, 887, 888, 889, 890, 891, 892, 893, 894, 895, 896, 897, 898, 899, 900, 901, 902, 903, 904, 905, 906, 907, 908, 909, 910, 911, 912, 913, 914, 915, 916, 917, 918, 919, 920, 921, 922, 923, 924, 925, 926, 927, 928, 929, 930, 931, 932, 933, 934, 935, 936, 937, 938, 939, 940, 941, 942, 943, 944, 945, 946, 947, 948, 949, 950, 951, 952, 953, 954, 955, 956, 957, 958, 959, 960, 961, 962, 963, 964, 965, 966, 967, 968, 969, 970, 971, 972, 973, 974, 975, 976, 977, 978, 979, 980, 981, 982, 983, 984, 985, 986, 987, 988, 989, 990, 991, 992, 993, 994, 995, 996, 997, 998, 999, 1000, 1001, 1002, 1003, 1004, 1005, 1006, 1007, 1008, 1009, 1010, 1011, 1012, 1013, 1014, 1015, 1016, 1017, 1018, 1019, 1020, 1021, 1022, 1023, 1024, 1025, 1026, 1027, 1028, 1029, 1030, 1031, 1032, 1033, 1034, 1035, 1036, 1037, 1038, 1039, 1040, 1041, 1042, 1043, 1044, 1045, 1046, 1047, 1048, 1049, 1050, 1051, 1052, 1053, 1054, 1055, 1056, 1057, 1058, 1059, 1060, 1061, 1062, 1063, 1064, 1065, 1066, 1067, 1068, 1069, 1070, 1071, 1072, 1073, 1074, 1075, 1076, 1077, 1078, 1079, 1080, 1081, 1082, 1083, 1084, 1085, 1086, 1087, 1088, 1089, 1090, 1091, 1092, 1093, 1094, 1095, 1096, 1097, 1098, 1099, 1100, 1101, 1102, 1103, 1104, 1105, 1106, 1107, 1108, 1109, 1110, 1111, 1112, 1113, 1114, 1115, 1116, 1117, 1118, 1119, 1120, 1121, 1122, 1123, 1124, 1125, 1126, 1127, 1128, 1129, 1130, 1131, 1132, 1133, 1134, 1135, 1136, 1137, 1138, 1139, 1140, 1141, 1142, 1143, 1144, 1145, 1146, 1147, 1148, 1149, 1150, 1151, 1152, 1153, 1154, 1155, 1156, 1157, 1158, 1159, 1160, 1161, 1162, 1163, 1164, 1165, 1166, 1167, 1168, 1169, 1170, 1171, 1172, 1173, 1174, 1175, 1176, 1177, 1178, 1179, 1180, 1181, 1182, 1183, 1184, 1185, 1186, 1187, 1188, 1189, 1190, 1191, 1192, 1193, 1194, 1195, 1196, 1197, 1198, 1199, 1200, 1201, 1202, 1203, 1204, 1205, 1206, 1207, 1208, 1209, 1210, 1211, 1212, 1213, 1214, 1215, 1216, 1217, 1218, 1219, 1220, 1221, 1222, 1223, 1224, 1225, 1226, 1227, 1228, 1229, 1230, 1231, 1232, 1233, 1234, 1235, 1236, 1237, 1238, 1239, 1240, 1241, 1242, 1243, 1244, 1245, 1246, 1247, 1248, 1249, 1250, 1251, 1252, 1253, 1254, 1255, 1256, 1257, 1258, 1259, 1260, 1261, 1262, 1263, 1264, 1265, 1266, 1267, 1268, 1269, 1270, 1271, 1272, 1273, 1274, 1275, 1276, 1277, 1278, 1279, 1280, 1281, 1282, 1283, 1284, 1285, 1286, 1287, 1288, 1289, 1290, 1291, 1292, 1293, 1294, 1295, 1296, 1297, 1298, 1299, 1300, 1301, 1302, 1303, 1304, 1305, 1306, 1307, 1308, 1309, 1310, 1311, 1312, 1313, 1314, 1315, 1316, 1317, 1318, 1319, 1320, 1321, 1322, 1323, 1324, 1325, 1326, 1327, 1328, 1329, 1330, 1331, 1332, 1333, 1334, 1335, 1336, 1337, 1338, 1339, 1340, 1341, 1342, 1343, 1344, 1345, 1346, 1347, 1348, 1349, 1350, 1351, 1352, 1353, 1354, 1355, 1356, 1357, 1358, 1359, 1360, 1361, 1362, 1363, 1364, 1365, 1366, 1367, 1368, 1369, 1370, 1371, 1372, 1373, 1374, 1375, 1376, 1377, 1378, 1379, 1380, 1381, 1382, 1383, 1384, 1385, 1386, 1387, 1388, 1389, 1390, 1391, 1392, 1393, 1394, 1395, 1396, 1397, 1398, 1399, 1400, 1401, 1402, 1403, 1404, 1405, 1406, 1407, 1408, 1409, 1410, 1411, 1412, 1413, 1414, 1415, 1416, 1417, 1418, 1419, 1420, 1421, 1422, 1423, 1424, 1425, 1426, 1427, 1428, 1429, 1430, 1431, 1432, 1433, 1434, 1435, 1436, 1437, 1438, 1439, 1440, 1441, 1442, 1443, 1444, 1445, 1446, 1447, 1448, 1449, 1450, 1451, 1452, 1453, 1454, 1455, 1456, 1457, 1458, 1459, 1460, 1461, 1462, 1463, 1464, 1465, 1466, 1467, 1468, 1469, 1470, 1471, 1472, 1473, 1474, 1475, 1476, 1477, 1478, 1479, 1480, 1481, 1482, 1483, 1484, 1485, 1486, 1487, 1488, 1489, 1490, 1491, 1492, 1493, 1494, 1495, 1496, 1497, 1498, 1499, 1500, 1501, 1502, 1503, 1504, 1505, 1506, 1507, 1508, 1509, 1510, 1511, 1512, 1513, 1514, 1515, 1516, 1517, 1518, 1519, 1520, 1521, 1522, 1523, 1524, 1525, 1526, 1527, 1528, 1529, 1530, 1531, 1532, 1533, 1534, 1535, 1536, 1537, 1538, 1539, 1540, 1541, 1542, 1543, 1544, 1545, 1546, 1547, 1548, 1549, 1550, 1551, 1552, 1553, 1554, 1555, 1556, 1557, 1558, 1559, 1560, 1561, 1562, 1563, 1564, 1565, 1566, 1567, 1568, 1569, 1570, 1571, 1572, 1573, 1574, 1575, 1576, 1577, 1578, 1579, 1580, 1581, 1582, 1583, 1584, 1585, 1586, 1587, 1588, 1589, 1590, 1591, 1592, 1593, 1594, 1595, 1596, 1597, 1598, 1599, 1600, 1601, 1602, 1603, 1604, 1605, 1606, 1607, 1608, 1609, 1610, 1611, 1612, 1613, 1614, 1615, 1616, 1617, 1618, 1619, 1620, 1621, 1622, 1623, 1624, 1625, 1626, 1627, 1628, 1629, 1630, 1631, 1632, 1633, 1634, 1635, 1636, 1637, 1638, 1639, 1640, 1641, 1642, 1643, 1644, 1645, 1646, 1647, 1648, 1649, 1650, 1651, 1652, 1653, 1654, 1655, 1656, 1657, 1658, 1659, 1660, 1661, 1662, 1663, 1664, 1665, 1666, 1667, 1668, 1669, 1670, 1671, 1672, 1673, 1674, 1675, 1676, 1677, 1678, 1679, 1680, 1681, 1682, 1683, 1684, 1685, 1686, 1687, 1688, 1689, 1690, 1691, 1692, 1693, 1694, 1695, 1696, 1697, 1698, 1699, 1700, 1701, 1702, 1703, 1704, 1705, 1706, 1707, 1708, 1709, 1710, 1711, 1712, 1713, 1714, 1715, 1716, 1717, 1718, 1719, 1720, 1721, 1722, 1723, 1724, 1725, 1726, 1727, 1728, 1729, 1730, 1731, 1732, 1733, 1734, 1735, 1736, 1737, 1738, 1739, 1740, 1741, 1742, 1743, 1744, 1745, 1746, 1747, 1748, 1749, 1750, 1751, 1752, 1753, 1754, 1755, 1756, 1757, 1758, 1759, 1760, 1761, 1762, 1763, 1764, 1765, 1766, 1767, 1768, 1769, 1770, 1771, 1772, 1773, 1774, 1775, 1776, 1777, 1778, 1779, 1780, 1781, 1782, 1783, 1784, 1785, 1786, 1787, 1788, 1789, 1790, 1791, 1792, 1793, 1794, 1795, 1796, 1797, 1798, 1799, 1800, 1801, 1802, 1803, 1804, 1805, 1806, 1807, 1808, 1809, 1810, 1811, 1812, 1813, 1814, 1815, 1816, 1817, 1818, 1819, 1820, 1821, 1822, 1823, 1824, 1825, 1826, 1827, 1828, 1829, 1830, 1831, 1832, 1833, 1834, 1835, 1836, 1837, 1838, 1839, 1840, 1841, 1842, 1843, 1844, 1845, 1846, 1847, 1848, 1849, 1850, 1851, 1852, 1853, 1854, 1855, 1856, 1857, 1858, 1859, 1860, 1861, 1862, 1863, 1864, 1865, 1866, 1867, 1868, 1869, 1870, 1871, 1872, 1873, 1874, 1875, 1876, 1877, 1878, 1879, 1880, 1881, 1882, 1883, 1884, 1885, 1886, 1887, 1888, 1889, 1890, 1891, 1892, 1893, 1894, 1895, 1896, 1897, 1898, 1899, 1900, 1901, 1902, 1903, 1904, 1905, 1906, 1907, 1908, 1909, 1910, 1911, 1912, 1913, 1914, 1915, 1916, 1917, 1918, 1919, 1920, 1921, 1922, 1923, 1924, 1925, 1926, 1927, 1928, 1929, 1930, 1931, 1932, 1933, 1934, 1935, 1936, 1937, 1938, 1939, 1940, 1941, 1942, 1943, 1944, 1945, 1946, 1947, 1948, 1949, 1950, 1951, 1952, 1953, 1954, 1955, 1956, 1957, 1958, 1959, 1960, 1961, 1962, 1963, 1964, 1965, 1966, 1967, 1968, 1969, 1970, 1971, 1972, 1973, 1974, 1975, 1976, 1977, 1978, 1979, 1980, 1981, 1982, 1983, 1984, 1985, 1986, 1987, 1988, 1989, 1990, 1991, 1992, 1993, 1994, 1995, 1996, 1997, 1998, 1999, 2000, 2001, 2002, 2003, 2004, 2005, 2006, 2007, 2008, 2009, 2010, 2011, 2012, 2013, 2014, 2015, 2016, 2017, 2018, 2019, 2020, 2021, 2022, 2023, 2024, 2025, 2026, 2027, 2028, 2029, 2030, 2031, 2032, 2033, 2034, 2035, 2036, 2037, 2038, 2039, 2040, 2041, 2042, 2043, 2044, 2045, 2046, 2047, 2048, 2049, 2050, 2051, 2052, 2053, 2054, 2055, 2056, 2057, 2058, 2059, 2060, 2061, 2062, 2063, 2064, 2065, 2066, 2067, 2068, 2069, 2070, 2071, 2072, 2073, 2074, 2075, 2076, 2077, 2078, 2079, 2080, 2081, 2082, 2083, 2084, 2085, 2086, 2087, 2088, 2089, 2090, 2091, 2092, 2093, 2094, 2095, 2096, 2097, 2098, 2099, 2100, 2101, 2102, 2103, 2104, 2105, 2106, 2107, 2108, 2109, 2110, 2111, 2112, 2113, 2114, 2115, 2116, 2117, 2118, 2119, 2120, 2121, 2122, 2123, 2124, 2125, 2126, 2127, 2128, 2129, 2130, 2131, 2132, 2133, 2134, 2135, 2136, 2137, 2138, 2139, 2140, 2141, 2142, 2143, 2144, 2145, 2146, 2147, 2148, 2149, 2150, 2151, 2152, 2153, 2154, 2155, 2156, 2157, 2158, 2159, 2160, 2161, 2162, 2163, 2164, 2165, 2166, 2167, 2168, 2169, 2170, 2171, 2172, 2173, 2174, 2175, 2176, 2177, 2178, 2179, 2180, 2181, 2182, 2183, 2184, 2185, 2186, 2187, 2188, 2189, 2190, 2191, 2192, 2193, 2194, 2195, 2196, 2197, 2198, 2199, 2200, 2201, 2202, 2203, 2204, 2205, 2206, 2207, 2208, 2209, 2210, 2211, 2212, 2213, 2214, 2215, 2216, 2217, 2218, 2219, 2220, 2221, 2222, 2223, 2224, 2225, 2226, 2227, 2228, 2229, 2230, 2231, 2232, 2233, 2234, 2235, 2236, 2237, 2238, 2239, 2240, 2241, 2242, 2243, 2244, 2245, 2246, 2247, 2248, 2249, 2250, 2251, 2252, 2253, 2254, 2255, 2256, 2257, 2258, 2259, 2260, 2261, 2262, 2263, 2264, 2265, 2266, 2267, 2268, 2269, 2270, 2271, 2272, 2273, 2274, 2275, 2276, 2277, 2278, 2279, 2280, 2281, 2282, 2283, 2284, 2285, 2286, 2287, 2288, 2289, 2290, 2291, 2292, 2293, 2294, 2295, 2296, 2297, 2298, 2299, 2300, 2301, 2302, 2303, 2304, 2305, 2306, 2307, 2308, 2309, 2310, 2311, 2312, 2313, 2314, 2315, 2316, 2317, 2318, 2319, 2320, 2321, 2322, 2323, 2324, 2325, 2326, 2327, 2328, 2329, 2330, 2331, 2332, 2333, 2334, 2335, 2336, 2337, 2338, 2339, 2340, 2341, 2342, 2343, 2344, 2345, 2346, 2347, 2348, 2349, 2350, 2351, 2352, 2353, 2354, 2355, 2356, 2357, 2358, 2359, 2360, 2361, 2362, 2363, 2364, 2365, 2366, 2367, 2368, 2369, 2370, 2371, 2372, 2373, 2374, 2375, 2376, 2377, 2378, 2379, 2380, 2381, 2382, 2383, 2384, 2385, 2386, 2387, 2388, 2389, 2390, 2391, 2392, 2393, 2394, 2395, 2396, 2397, 2398, 2399, 2400, 2401, 2402, 2403, 2404, 2405, 2406, 2407, 2408, 2409, 2410, 2411, 2412, 2413, 2414, 2415, 2416, 2417, 2418, 2419, 2420, 2421, 2422, 2423, 2424, 2425, 2426, 2427, 2428, 2429, 2430, 2431, 2432, 2433, 2434, 2435, 2436, 2437, 2438, 2439, 2440, 2441, 2442, 2443, 2444, 2445, 2446, 2447, 2448, 2449, 2450, 2451, 2452, 2453, 2454, 2455, 2456, 2457, 2458, 2459, 2460, 2461, 2462, 2463, 2464, 2465, 2466, 2467, 2468, 2469, 2470, 2471, 2472, 2473, 2474, 2475, 2476, 2477, 2478, 2479, 2480, 2481, 2482, 2483, 2484, 2485, 2486, 2487, 2488, 2489, 2490, 2491, 2492, 2493, 2494, 2495, 2496, 2497, 2498, 2499, 2500, 2501, 2502, 2503, 2504, 2505, 2506, 2507, 2508, 2509, 2510, 2511, 2512, 2513, 2514, 2515, 2516, 2517, 2518, 2519, 2520, 2521, 2522, 2523, 2524, 2525, 2526, 2527, 2528, 2529, 2530, 2531, 2532, 2533, 2534, 2535, 2536, 2537, 2538, 2539, 2540, 2541, 2542, 2543, 2544, 2545, 2546, 2547, 2548, 2549, 2550, 2551, 2552, 2553, 2554, 2555, 2556, 2557, 2558, 2559, 2560, 2561, 2562, 2563, 2564, 2565, 2566, 2567, 2568, 2569, 2570, 2571, 2572, 2573, 2574, 2575, 2576, 2577, 2578, 2579, 2580, 2581, 2582, 2583, 2584, 2585, 2586, 2587, 2588, 2589, 2590, 2591, 2592, 2593, 2594, 2595, 2596, 2597, 2598, 2599, 2600, 2601, 2602, 2603, 2604, 2605, 2606, 2607, 2608, 2609, 2610, 2611, 2612, 2613, 2614, 2615, 2616, 2617, 2618, 2619, 2620, 2621, 2622, 2623, 2624, 2625, 2626, 2627, 2628, 2629, 2630, 2631, 2632, 2633, 2634, 2635, 2636, 2637, 2638, 2639, 2640, 2641, 2642, 2643, 2644, 2645, 2646, 2647, 2648, 2649, 2650, 2651, 2652, 2653, 2654, 2655, 2656, 2657, 2658, 2659, 2660, 2661, 2662, 2663, 2664, 2665, 2666, 2667, 2668, 2669, 2670, 2671, 2672, 2673, 2674, 2675, 2676, 2677, 2678, 2679, 2680, 2681, 2682, 2683, 2684, 2685, 2686, 2687, 2688, 2689, 2690, 2691, 2692, 2693, 2694, 2695, 2696, 2697, 2698, 2699, 2700, 2701, 2702, 2703, 2704, 2705, 2706, 2707, 2708, 2709, 2710, 2711, 2712, 2713, 2714, 2715, 2716, 2717, 2718, 2719, 2720, 2721, 2722, 2723, 2724, 2725, 2726, 2727, 2728, 2729, 2730, 2731, 2732, 2733, 2734, 2735, 2736, 2737, 2738, 2739, 2740, 2741, 2742, 2743, 2744, 2745, 2746, 2747, 2748, 2749, 2750, 2751, 2752, 2753, 2754, 2755, 2756, 2757, 2758, 2759, 2760, 2761, 2762, 2763, 2764, 2765, 2766, 2767, 2768, 2769, 2770, 2771, 2772, 2773, 2774, 2775, 2776, 2777, 2778, 2779, 2780, 2781, 2782, 2783, 2784, 2785, 2786, 2787, 2788, 2789, 2790, 2791, 2792, 2793, 2794, 2795, 2796, 2797, 2798, 2799, 2800, 2801, 2802, 2803, 2804, 2805, 2806, 2807, 2808, 2809, 2810, 2811, 2812, 2813, 2814, 2815, 2816, 2817, 2818, 2819, 2820, 2821, 2822, 2823, 2824, 2825, 2826, 2827, 2828, 2829, 2830, 2831, 2832, 2833, 2834, 2835, 2836, 2837, 2838, 2839, 2840, 2841, 2842, 2843, 2844, 2845, 2846, 2847, 2848, 2849, 2850, 2851, 2852, 2853, 2854, 2855, 2856, 2857, 2858, 2859, 2860, 2861, 2862, 2863, 2864, 2865, 2866, 2867, 2868, 2869, 2870, 2871, 2872, 2873, 2874, 2875, 2876, 2877, 2878, 2879, 2880, 2881, 2882, 2883, 2884, 2885, 2886, 2887, 2888, 2889, 2890, 2891, 2892, 2893, 2894, 2895, 2896, 2897, 2898, 2899, 2900, 2901, 2902, 2903, 2904, 2905, 2906, 2907, 2908, 2909, 2910, 2911, 2912, 2913, 2914, 2915, 2916, 2917, 2918, 2919, 2920, 2921, 2922, 2923, 2924, 2925, 2926, 2927, 2928, 2929, 2930, 2931, 2932, 2933, 2934, 2935, 2936, 2937, 2938, 2939, 2940, 2941, 2942, 2943, 2944, 2945, 2946, 2947, 2948, 2949, 2950, 2951, 2952, 2953, 2954, 2955, 2956, 2957, 2958, 2959, 2960, 2961, 2962, 2963, 2964, 2965, 2966, 2967, 2968, 2969, 2970, 2971, 2972, 2973, 2974, 2975, 2976, 2977, 2978, 2979, 2980, 2981, 2982, 2983, 2984, 2985, 2986, 2987, 2988, 2989, 2990, 2991, 2992, 2993, 2994, 2995, 2996, 2997, 2998, 2999, 3000, 3001, 3002, 3003, 3004, 3005, 3006, 3007, 3008, 3009, 3010, 3011, 3012, 3013, 3014, 3015, 3016, 3017, 3018, 3019, 3020, 3021, 3022, 3023, 3024, 3025, 3026, 3027, 3028, 3029, 3030, 3031, 3032, 3033, 3034, 3035, 3036, 3037, 3038, 3039, 3040, 3041, 3042, 3043, 3044, 3045, 3046, 3047, 3048, 3049, 3050, 3051, 3052, 3053, 3054, 3055, 3056, 3057, 3058, 3059, 3060, 3061, 3062, 3063, 3064, 3065, 3066, 3067, 3068, 3069, 3070, 3071]\n"
     ]
    }
   ],
   "source": [
    "# Get the indexes where cumsum_explained_var > 0.95\n",
    "indexes = kpca_df[kpca_df['cumsum_explained_var'] > 0.95].index.tolist()\n",
    "\n",
    "print(\"Indexes where cumsum_explained_var > 0.95:\", indexes)"
   ]
  },
  {
   "cell_type": "code",
   "execution_count": 265,
   "metadata": {},
   "outputs": [
    {
     "name": "stdout",
     "output_type": "stream",
     "text": [
      "Indexes where cumsum_explained_var > 0.99: [737, 738, 739, 740, 741, 742, 743, 744, 745, 746, 747, 748, 749, 750, 751, 752, 753, 754, 755, 756, 757, 758, 759, 760, 761, 762, 763, 764, 765, 766, 767, 768, 769, 770, 771, 772, 773, 774, 775, 776, 777, 778, 779, 780, 781, 782, 783, 784, 785, 786, 787, 788, 789, 790, 791, 792, 793, 794, 795, 796, 797, 798, 799, 800, 801, 802, 803, 804, 805, 806, 807, 808, 809, 810, 811, 812, 813, 814, 815, 816, 817, 818, 819, 820, 821, 822, 823, 824, 825, 826, 827, 828, 829, 830, 831, 832, 833, 834, 835, 836, 837, 838, 839, 840, 841, 842, 843, 844, 845, 846, 847, 848, 849, 850, 851, 852, 853, 854, 855, 856, 857, 858, 859, 860, 861, 862, 863, 864, 865, 866, 867, 868, 869, 870, 871, 872, 873, 874, 875, 876, 877, 878, 879, 880, 881, 882, 883, 884, 885, 886, 887, 888, 889, 890, 891, 892, 893, 894, 895, 896, 897, 898, 899, 900, 901, 902, 903, 904, 905, 906, 907, 908, 909, 910, 911, 912, 913, 914, 915, 916, 917, 918, 919, 920, 921, 922, 923, 924, 925, 926, 927, 928, 929, 930, 931, 932, 933, 934, 935, 936, 937, 938, 939, 940, 941, 942, 943, 944, 945, 946, 947, 948, 949, 950, 951, 952, 953, 954, 955, 956, 957, 958, 959, 960, 961, 962, 963, 964, 965, 966, 967, 968, 969, 970, 971, 972, 973, 974, 975, 976, 977, 978, 979, 980, 981, 982, 983, 984, 985, 986, 987, 988, 989, 990, 991, 992, 993, 994, 995, 996, 997, 998, 999, 1000, 1001, 1002, 1003, 1004, 1005, 1006, 1007, 1008, 1009, 1010, 1011, 1012, 1013, 1014, 1015, 1016, 1017, 1018, 1019, 1020, 1021, 1022, 1023, 1024, 1025, 1026, 1027, 1028, 1029, 1030, 1031, 1032, 1033, 1034, 1035, 1036, 1037, 1038, 1039, 1040, 1041, 1042, 1043, 1044, 1045, 1046, 1047, 1048, 1049, 1050, 1051, 1052, 1053, 1054, 1055, 1056, 1057, 1058, 1059, 1060, 1061, 1062, 1063, 1064, 1065, 1066, 1067, 1068, 1069, 1070, 1071, 1072, 1073, 1074, 1075, 1076, 1077, 1078, 1079, 1080, 1081, 1082, 1083, 1084, 1085, 1086, 1087, 1088, 1089, 1090, 1091, 1092, 1093, 1094, 1095, 1096, 1097, 1098, 1099, 1100, 1101, 1102, 1103, 1104, 1105, 1106, 1107, 1108, 1109, 1110, 1111, 1112, 1113, 1114, 1115, 1116, 1117, 1118, 1119, 1120, 1121, 1122, 1123, 1124, 1125, 1126, 1127, 1128, 1129, 1130, 1131, 1132, 1133, 1134, 1135, 1136, 1137, 1138, 1139, 1140, 1141, 1142, 1143, 1144, 1145, 1146, 1147, 1148, 1149, 1150, 1151, 1152, 1153, 1154, 1155, 1156, 1157, 1158, 1159, 1160, 1161, 1162, 1163, 1164, 1165, 1166, 1167, 1168, 1169, 1170, 1171, 1172, 1173, 1174, 1175, 1176, 1177, 1178, 1179, 1180, 1181, 1182, 1183, 1184, 1185, 1186, 1187, 1188, 1189, 1190, 1191, 1192, 1193, 1194, 1195, 1196, 1197, 1198, 1199, 1200, 1201, 1202, 1203, 1204, 1205, 1206, 1207, 1208, 1209, 1210, 1211, 1212, 1213, 1214, 1215, 1216, 1217, 1218, 1219, 1220, 1221, 1222, 1223, 1224, 1225, 1226, 1227, 1228, 1229, 1230, 1231, 1232, 1233, 1234, 1235, 1236, 1237, 1238, 1239, 1240, 1241, 1242, 1243, 1244, 1245, 1246, 1247, 1248, 1249, 1250, 1251, 1252, 1253, 1254, 1255, 1256, 1257, 1258, 1259, 1260, 1261, 1262, 1263, 1264, 1265, 1266, 1267, 1268, 1269, 1270, 1271, 1272, 1273, 1274, 1275, 1276, 1277, 1278, 1279, 1280, 1281, 1282, 1283, 1284, 1285, 1286, 1287, 1288, 1289, 1290, 1291, 1292, 1293, 1294, 1295, 1296, 1297, 1298, 1299, 1300, 1301, 1302, 1303, 1304, 1305, 1306, 1307, 1308, 1309, 1310, 1311, 1312, 1313, 1314, 1315, 1316, 1317, 1318, 1319, 1320, 1321, 1322, 1323, 1324, 1325, 1326, 1327, 1328, 1329, 1330, 1331, 1332, 1333, 1334, 1335, 1336, 1337, 1338, 1339, 1340, 1341, 1342, 1343, 1344, 1345, 1346, 1347, 1348, 1349, 1350, 1351, 1352, 1353, 1354, 1355, 1356, 1357, 1358, 1359, 1360, 1361, 1362, 1363, 1364, 1365, 1366, 1367, 1368, 1369, 1370, 1371, 1372, 1373, 1374, 1375, 1376, 1377, 1378, 1379, 1380, 1381, 1382, 1383, 1384, 1385, 1386, 1387, 1388, 1389, 1390, 1391, 1392, 1393, 1394, 1395, 1396, 1397, 1398, 1399, 1400, 1401, 1402, 1403, 1404, 1405, 1406, 1407, 1408, 1409, 1410, 1411, 1412, 1413, 1414, 1415, 1416, 1417, 1418, 1419, 1420, 1421, 1422, 1423, 1424, 1425, 1426, 1427, 1428, 1429, 1430, 1431, 1432, 1433, 1434, 1435, 1436, 1437, 1438, 1439, 1440, 1441, 1442, 1443, 1444, 1445, 1446, 1447, 1448, 1449, 1450, 1451, 1452, 1453, 1454, 1455, 1456, 1457, 1458, 1459, 1460, 1461, 1462, 1463, 1464, 1465, 1466, 1467, 1468, 1469, 1470, 1471, 1472, 1473, 1474, 1475, 1476, 1477, 1478, 1479, 1480, 1481, 1482, 1483, 1484, 1485, 1486, 1487, 1488, 1489, 1490, 1491, 1492, 1493, 1494, 1495, 1496, 1497, 1498, 1499, 1500, 1501, 1502, 1503, 1504, 1505, 1506, 1507, 1508, 1509, 1510, 1511, 1512, 1513, 1514, 1515, 1516, 1517, 1518, 1519, 1520, 1521, 1522, 1523, 1524, 1525, 1526, 1527, 1528, 1529, 1530, 1531, 1532, 1533, 1534, 1535, 1536, 1537, 1538, 1539, 1540, 1541, 1542, 1543, 1544, 1545, 1546, 1547, 1548, 1549, 1550, 1551, 1552, 1553, 1554, 1555, 1556, 1557, 1558, 1559, 1560, 1561, 1562, 1563, 1564, 1565, 1566, 1567, 1568, 1569, 1570, 1571, 1572, 1573, 1574, 1575, 1576, 1577, 1578, 1579, 1580, 1581, 1582, 1583, 1584, 1585, 1586, 1587, 1588, 1589, 1590, 1591, 1592, 1593, 1594, 1595, 1596, 1597, 1598, 1599, 1600, 1601, 1602, 1603, 1604, 1605, 1606, 1607, 1608, 1609, 1610, 1611, 1612, 1613, 1614, 1615, 1616, 1617, 1618, 1619, 1620, 1621, 1622, 1623, 1624, 1625, 1626, 1627, 1628, 1629, 1630, 1631, 1632, 1633, 1634, 1635, 1636, 1637, 1638, 1639, 1640, 1641, 1642, 1643, 1644, 1645, 1646, 1647, 1648, 1649, 1650, 1651, 1652, 1653, 1654, 1655, 1656, 1657, 1658, 1659, 1660, 1661, 1662, 1663, 1664, 1665, 1666, 1667, 1668, 1669, 1670, 1671, 1672, 1673, 1674, 1675, 1676, 1677, 1678, 1679, 1680, 1681, 1682, 1683, 1684, 1685, 1686, 1687, 1688, 1689, 1690, 1691, 1692, 1693, 1694, 1695, 1696, 1697, 1698, 1699, 1700, 1701, 1702, 1703, 1704, 1705, 1706, 1707, 1708, 1709, 1710, 1711, 1712, 1713, 1714, 1715, 1716, 1717, 1718, 1719, 1720, 1721, 1722, 1723, 1724, 1725, 1726, 1727, 1728, 1729, 1730, 1731, 1732, 1733, 1734, 1735, 1736, 1737, 1738, 1739, 1740, 1741, 1742, 1743, 1744, 1745, 1746, 1747, 1748, 1749, 1750, 1751, 1752, 1753, 1754, 1755, 1756, 1757, 1758, 1759, 1760, 1761, 1762, 1763, 1764, 1765, 1766, 1767, 1768, 1769, 1770, 1771, 1772, 1773, 1774, 1775, 1776, 1777, 1778, 1779, 1780, 1781, 1782, 1783, 1784, 1785, 1786, 1787, 1788, 1789, 1790, 1791, 1792, 1793, 1794, 1795, 1796, 1797, 1798, 1799, 1800, 1801, 1802, 1803, 1804, 1805, 1806, 1807, 1808, 1809, 1810, 1811, 1812, 1813, 1814, 1815, 1816, 1817, 1818, 1819, 1820, 1821, 1822, 1823, 1824, 1825, 1826, 1827, 1828, 1829, 1830, 1831, 1832, 1833, 1834, 1835, 1836, 1837, 1838, 1839, 1840, 1841, 1842, 1843, 1844, 1845, 1846, 1847, 1848, 1849, 1850, 1851, 1852, 1853, 1854, 1855, 1856, 1857, 1858, 1859, 1860, 1861, 1862, 1863, 1864, 1865, 1866, 1867, 1868, 1869, 1870, 1871, 1872, 1873, 1874, 1875, 1876, 1877, 1878, 1879, 1880, 1881, 1882, 1883, 1884, 1885, 1886, 1887, 1888, 1889, 1890, 1891, 1892, 1893, 1894, 1895, 1896, 1897, 1898, 1899, 1900, 1901, 1902, 1903, 1904, 1905, 1906, 1907, 1908, 1909, 1910, 1911, 1912, 1913, 1914, 1915, 1916, 1917, 1918, 1919, 1920, 1921, 1922, 1923, 1924, 1925, 1926, 1927, 1928, 1929, 1930, 1931, 1932, 1933, 1934, 1935, 1936, 1937, 1938, 1939, 1940, 1941, 1942, 1943, 1944, 1945, 1946, 1947, 1948, 1949, 1950, 1951, 1952, 1953, 1954, 1955, 1956, 1957, 1958, 1959, 1960, 1961, 1962, 1963, 1964, 1965, 1966, 1967, 1968, 1969, 1970, 1971, 1972, 1973, 1974, 1975, 1976, 1977, 1978, 1979, 1980, 1981, 1982, 1983, 1984, 1985, 1986, 1987, 1988, 1989, 1990, 1991, 1992, 1993, 1994, 1995, 1996, 1997, 1998, 1999, 2000, 2001, 2002, 2003, 2004, 2005, 2006, 2007, 2008, 2009, 2010, 2011, 2012, 2013, 2014, 2015, 2016, 2017, 2018, 2019, 2020, 2021, 2022, 2023, 2024, 2025, 2026, 2027, 2028, 2029, 2030, 2031, 2032, 2033, 2034, 2035, 2036, 2037, 2038, 2039, 2040, 2041, 2042, 2043, 2044, 2045, 2046, 2047, 2048, 2049, 2050, 2051, 2052, 2053, 2054, 2055, 2056, 2057, 2058, 2059, 2060, 2061, 2062, 2063, 2064, 2065, 2066, 2067, 2068, 2069, 2070, 2071, 2072, 2073, 2074, 2075, 2076, 2077, 2078, 2079, 2080, 2081, 2082, 2083, 2084, 2085, 2086, 2087, 2088, 2089, 2090, 2091, 2092, 2093, 2094, 2095, 2096, 2097, 2098, 2099, 2100, 2101, 2102, 2103, 2104, 2105, 2106, 2107, 2108, 2109, 2110, 2111, 2112, 2113, 2114, 2115, 2116, 2117, 2118, 2119, 2120, 2121, 2122, 2123, 2124, 2125, 2126, 2127, 2128, 2129, 2130, 2131, 2132, 2133, 2134, 2135, 2136, 2137, 2138, 2139, 2140, 2141, 2142, 2143, 2144, 2145, 2146, 2147, 2148, 2149, 2150, 2151, 2152, 2153, 2154, 2155, 2156, 2157, 2158, 2159, 2160, 2161, 2162, 2163, 2164, 2165, 2166, 2167, 2168, 2169, 2170, 2171, 2172, 2173, 2174, 2175, 2176, 2177, 2178, 2179, 2180, 2181, 2182, 2183, 2184, 2185, 2186, 2187, 2188, 2189, 2190, 2191, 2192, 2193, 2194, 2195, 2196, 2197, 2198, 2199, 2200, 2201, 2202, 2203, 2204, 2205, 2206, 2207, 2208, 2209, 2210, 2211, 2212, 2213, 2214, 2215, 2216, 2217, 2218, 2219, 2220, 2221, 2222, 2223, 2224, 2225, 2226, 2227, 2228, 2229, 2230, 2231, 2232, 2233, 2234, 2235, 2236, 2237, 2238, 2239, 2240, 2241, 2242, 2243, 2244, 2245, 2246, 2247, 2248, 2249, 2250, 2251, 2252, 2253, 2254, 2255, 2256, 2257, 2258, 2259, 2260, 2261, 2262, 2263, 2264, 2265, 2266, 2267, 2268, 2269, 2270, 2271, 2272, 2273, 2274, 2275, 2276, 2277, 2278, 2279, 2280, 2281, 2282, 2283, 2284, 2285, 2286, 2287, 2288, 2289, 2290, 2291, 2292, 2293, 2294, 2295, 2296, 2297, 2298, 2299, 2300, 2301, 2302, 2303, 2304, 2305, 2306, 2307, 2308, 2309, 2310, 2311, 2312, 2313, 2314, 2315, 2316, 2317, 2318, 2319, 2320, 2321, 2322, 2323, 2324, 2325, 2326, 2327, 2328, 2329, 2330, 2331, 2332, 2333, 2334, 2335, 2336, 2337, 2338, 2339, 2340, 2341, 2342, 2343, 2344, 2345, 2346, 2347, 2348, 2349, 2350, 2351, 2352, 2353, 2354, 2355, 2356, 2357, 2358, 2359, 2360, 2361, 2362, 2363, 2364, 2365, 2366, 2367, 2368, 2369, 2370, 2371, 2372, 2373, 2374, 2375, 2376, 2377, 2378, 2379, 2380, 2381, 2382, 2383, 2384, 2385, 2386, 2387, 2388, 2389, 2390, 2391, 2392, 2393, 2394, 2395, 2396, 2397, 2398, 2399, 2400, 2401, 2402, 2403, 2404, 2405, 2406, 2407, 2408, 2409, 2410, 2411, 2412, 2413, 2414, 2415, 2416, 2417, 2418, 2419, 2420, 2421, 2422, 2423, 2424, 2425, 2426, 2427, 2428, 2429, 2430, 2431, 2432, 2433, 2434, 2435, 2436, 2437, 2438, 2439, 2440, 2441, 2442, 2443, 2444, 2445, 2446, 2447, 2448, 2449, 2450, 2451, 2452, 2453, 2454, 2455, 2456, 2457, 2458, 2459, 2460, 2461, 2462, 2463, 2464, 2465, 2466, 2467, 2468, 2469, 2470, 2471, 2472, 2473, 2474, 2475, 2476, 2477, 2478, 2479, 2480, 2481, 2482, 2483, 2484, 2485, 2486, 2487, 2488, 2489, 2490, 2491, 2492, 2493, 2494, 2495, 2496, 2497, 2498, 2499, 2500, 2501, 2502, 2503, 2504, 2505, 2506, 2507, 2508, 2509, 2510, 2511, 2512, 2513, 2514, 2515, 2516, 2517, 2518, 2519, 2520, 2521, 2522, 2523, 2524, 2525, 2526, 2527, 2528, 2529, 2530, 2531, 2532, 2533, 2534, 2535, 2536, 2537, 2538, 2539, 2540, 2541, 2542, 2543, 2544, 2545, 2546, 2547, 2548, 2549, 2550, 2551, 2552, 2553, 2554, 2555, 2556, 2557, 2558, 2559, 2560, 2561, 2562, 2563, 2564, 2565, 2566, 2567, 2568, 2569, 2570, 2571, 2572, 2573, 2574, 2575, 2576, 2577, 2578, 2579, 2580, 2581, 2582, 2583, 2584, 2585, 2586, 2587, 2588, 2589, 2590, 2591, 2592, 2593, 2594, 2595, 2596, 2597, 2598, 2599, 2600, 2601, 2602, 2603, 2604, 2605, 2606, 2607, 2608, 2609, 2610, 2611, 2612, 2613, 2614, 2615, 2616, 2617, 2618, 2619, 2620, 2621, 2622, 2623, 2624, 2625, 2626, 2627, 2628, 2629, 2630, 2631, 2632, 2633, 2634, 2635, 2636, 2637, 2638, 2639, 2640, 2641, 2642, 2643, 2644, 2645, 2646, 2647, 2648, 2649, 2650, 2651, 2652, 2653, 2654, 2655, 2656, 2657, 2658, 2659, 2660, 2661, 2662, 2663, 2664, 2665, 2666, 2667, 2668, 2669, 2670, 2671, 2672, 2673, 2674, 2675, 2676, 2677, 2678, 2679, 2680, 2681, 2682, 2683, 2684, 2685, 2686, 2687, 2688, 2689, 2690, 2691, 2692, 2693, 2694, 2695, 2696, 2697, 2698, 2699, 2700, 2701, 2702, 2703, 2704, 2705, 2706, 2707, 2708, 2709, 2710, 2711, 2712, 2713, 2714, 2715, 2716, 2717, 2718, 2719, 2720, 2721, 2722, 2723, 2724, 2725, 2726, 2727, 2728, 2729, 2730, 2731, 2732, 2733, 2734, 2735, 2736, 2737, 2738, 2739, 2740, 2741, 2742, 2743, 2744, 2745, 2746, 2747, 2748, 2749, 2750, 2751, 2752, 2753, 2754, 2755, 2756, 2757, 2758, 2759, 2760, 2761, 2762, 2763, 2764, 2765, 2766, 2767, 2768, 2769, 2770, 2771, 2772, 2773, 2774, 2775, 2776, 2777, 2778, 2779, 2780, 2781, 2782, 2783, 2784, 2785, 2786, 2787, 2788, 2789, 2790, 2791, 2792, 2793, 2794, 2795, 2796, 2797, 2798, 2799, 2800, 2801, 2802, 2803, 2804, 2805, 2806, 2807, 2808, 2809, 2810, 2811, 2812, 2813, 2814, 2815, 2816, 2817, 2818, 2819, 2820, 2821, 2822, 2823, 2824, 2825, 2826, 2827, 2828, 2829, 2830, 2831, 2832, 2833, 2834, 2835, 2836, 2837, 2838, 2839, 2840, 2841, 2842, 2843, 2844, 2845, 2846, 2847, 2848, 2849, 2850, 2851, 2852, 2853, 2854, 2855, 2856, 2857, 2858, 2859, 2860, 2861, 2862, 2863, 2864, 2865, 2866, 2867, 2868, 2869, 2870, 2871, 2872, 2873, 2874, 2875, 2876, 2877, 2878, 2879, 2880, 2881, 2882, 2883, 2884, 2885, 2886, 2887, 2888, 2889, 2890, 2891, 2892, 2893, 2894, 2895, 2896, 2897, 2898, 2899, 2900, 2901, 2902, 2903, 2904, 2905, 2906, 2907, 2908, 2909, 2910, 2911, 2912, 2913, 2914, 2915, 2916, 2917, 2918, 2919, 2920, 2921, 2922, 2923, 2924, 2925, 2926, 2927, 2928, 2929, 2930, 2931, 2932, 2933, 2934, 2935, 2936, 2937, 2938, 2939, 2940, 2941, 2942, 2943, 2944, 2945, 2946, 2947, 2948, 2949, 2950, 2951, 2952, 2953, 2954, 2955, 2956, 2957, 2958, 2959, 2960, 2961, 2962, 2963, 2964, 2965, 2966, 2967, 2968, 2969, 2970, 2971, 2972, 2973, 2974, 2975, 2976, 2977, 2978, 2979, 2980, 2981, 2982, 2983, 2984, 2985, 2986, 2987, 2988, 2989, 2990, 2991, 2992, 2993, 2994, 2995, 2996, 2997, 2998, 2999, 3000, 3001, 3002, 3003, 3004, 3005, 3006, 3007, 3008, 3009, 3010, 3011, 3012, 3013, 3014, 3015, 3016, 3017, 3018, 3019, 3020, 3021, 3022, 3023, 3024, 3025, 3026, 3027, 3028, 3029, 3030, 3031, 3032, 3033, 3034, 3035, 3036, 3037, 3038, 3039, 3040, 3041, 3042, 3043, 3044, 3045, 3046, 3047, 3048, 3049, 3050, 3051, 3052, 3053, 3054, 3055, 3056, 3057, 3058, 3059, 3060, 3061, 3062, 3063, 3064, 3065, 3066, 3067, 3068, 3069, 3070, 3071]\n"
     ]
    }
   ],
   "source": [
    "# Get the indexes where cumsum_explained_var > 0.99\n",
    "indexes = kpca_df[kpca_df['cumsum_explained_var'] > 0.99].index.tolist()\n",
    "\n",
    "print(\"Indexes where cumsum_explained_var > 0.99:\", indexes)"
   ]
  },
  {
   "cell_type": "markdown",
   "metadata": {},
   "source": [
    "n_componenets = 228, διατήρηση πληροφορίας μεγαλύτερη του 95%\n",
    "\n",
    "n_componenets = 737, διατήρηση πληροφορίας μεγαλύτερη του 99%"
   ]
  },
  {
   "cell_type": "markdown",
   "metadata": {},
   "source": [
    "95%"
   ]
  },
  {
   "cell_type": "code",
   "execution_count": 9,
   "metadata": {},
   "outputs": [
    {
     "name": "stdout",
     "output_type": "stream",
     "text": [
      " \n",
      " ---- STARTING custom KPCA ---- \n"
     ]
    },
    {
     "name": "stderr",
     "output_type": "stream",
     "text": [
      "c:\\Users\\dimos\\PyProjecks\\KPCA_LDA_v2\\utils_\\_kPCA.py:122: RuntimeWarning: Negative or near-zero eigenvalues encountered and removed: tensor([-0.0003])\n",
      "  warnings.warn(\n"
     ]
    },
    {
     "name": "stdout",
     "output_type": "stream",
     "text": [
      "The shape of train after xkpca  torch.Size([5000, 228])\n",
      "The shape of test after xkpca  torch.Size([1000, 228])\n",
      "---- KPCA took  10498  ms----\n"
     ]
    }
   ],
   "source": [
    "from utils_ import _kPCA\n",
    "import time \n",
    "\n",
    "startKpca = int(round(time.time() * 1000))\n",
    "\n",
    "print(\" \")\n",
    "print(\" ---- STARTING custom KPCA ---- \")\n",
    "\n",
    "kpca = _kPCA.KPCA(n_components=228, kernel_type='rbf', gamma=g)\n",
    "kpca.fit(x_train_t)\n",
    "X_kpca = kpca.transform(x_train_t)\n",
    "X_test_kpca = kpca.transform(x_test_t)\n",
    "\n",
    "print(\"The shape of train after xkpca \", X_kpca.shape )\n",
    "print(\"The shape of test after xkpca \", X_test_kpca.shape )\n",
    "\n",
    "# stop the kpca timer\n",
    "endKpca = int(round(time.time() * 1000))\n",
    "\n",
    "print(\"---- KPCA took \", (endKpca-startKpca), \" ms----\")"
   ]
  },
  {
   "cell_type": "code",
   "execution_count": 267,
   "metadata": {},
   "outputs": [
    {
     "name": "stdout",
     "output_type": "stream",
     "text": [
      "Accuracy: 28.50%\n"
     ]
    }
   ],
   "source": [
    "from sklearn.metrics import accuracy_score\n",
    "from utils_ import _models\n",
    "\n",
    "NC = _models.NearestCentroid()\n",
    "NC.fit(X_kpca, y_train_t)\n",
    "# Predict the labels for the test set \n",
    "y_pred = NC.predict(X_test_kpca)\n",
    "accuracy = accuracy_score(y_test, y_pred.numpy()) \n",
    "print(f\"Accuracy: {accuracy * 100:.2f}%\")"
   ]
  },
  {
   "cell_type": "code",
   "execution_count": 268,
   "metadata": {},
   "outputs": [
    {
     "name": "stdout",
     "output_type": "stream",
     "text": [
      "The best accuracy is 29.40% with n_neighbors = 20\n"
     ]
    }
   ],
   "source": [
    "from sklearn.neighbors import KNeighborsClassifier as KNN\n",
    "\n",
    "acc_KNN = []\n",
    "\n",
    "for k in range(1,30):\n",
    "    knn = KNN(n_neighbors=k, n_jobs=-1)\n",
    "\n",
    "    knn.fit(X_kpca.numpy(), y_train_m)\n",
    "    score = knn.score(X_test_kpca.numpy(), y_test)\n",
    "\n",
    "    acc_KNN.append(score)\n",
    "\n",
    "best_acc = max(acc_KNN)\n",
    "best_k = acc_KNN.index(best_acc)\n",
    "best_k_value = range(1,30)[best_k]\n",
    "\n",
    "print(f'The best accuracy is {best_acc*100:.2f}% with n_neighbors = {best_k_value}')"
   ]
  },
  {
   "cell_type": "markdown",
   "metadata": {},
   "source": [
    "99%"
   ]
  },
  {
   "cell_type": "code",
   "execution_count": 272,
   "metadata": {},
   "outputs": [
    {
     "name": "stdout",
     "output_type": "stream",
     "text": [
      " \n",
      " ---- STARTING custom KPCA ---- \n"
     ]
    },
    {
     "name": "stderr",
     "output_type": "stream",
     "text": [
      "c:\\Users\\dimos\\PyProjecks\\KPCA_LDA_v2\\utils_\\_kPCA2.py:133: RuntimeWarning: Negative or near-zero eigenvalues encountered and removed: tensor([-0.0003])\n",
      "  warnings.warn(\n"
     ]
    },
    {
     "name": "stdout",
     "output_type": "stream",
     "text": [
      "The shape of train after xkpca  torch.Size([5000, 737])\n",
      "The shape of test after xkpca  torch.Size([1000, 737])\n",
      "---- KPCA took  10238  ms----\n"
     ]
    }
   ],
   "source": [
    "from KPCA_LDA_v2.utils_ import _kPCA\n",
    "import time \n",
    "\n",
    "startKpca = int(round(time.time() * 1000))\n",
    "\n",
    "print(\" \")\n",
    "print(\" ---- STARTING custom KPCA ---- \")\n",
    "\n",
    "kpca = _kPCA.KPCA(n_components=737, kernel_type='rbf', gamma=g)\n",
    "kpca.fit(x_train_t)\n",
    "X_kpca = kpca.transform(x_train_t)\n",
    "X_test_kpca = kpca.transform(x_test_t)\n",
    "\n",
    "print(\"The shape of train after xkpca \", X_kpca.shape )\n",
    "print(\"The shape of test after xkpca \", X_test_kpca.shape )\n",
    "\n",
    "# stop the kpca timer\n",
    "endKpca = int(round(time.time() * 1000))\n",
    "\n",
    "print(\"---- KPCA took \", (endKpca-startKpca), \" ms----\")"
   ]
  },
  {
   "cell_type": "code",
   "execution_count": 273,
   "metadata": {},
   "outputs": [
    {
     "name": "stdout",
     "output_type": "stream",
     "text": [
      "Accuracy: 28.40%\n"
     ]
    }
   ],
   "source": [
    "from sklearn.metrics import accuracy_score\n",
    "from utils_ import _models\n",
    "\n",
    "NC = _models.NearestCentroid()\n",
    "NC.fit(X_kpca, y_train_t)\n",
    "# Predict the labels for the test set \n",
    "y_pred = NC.predict(X_test_kpca)\n",
    "accuracy = accuracy_score(y_test, y_pred.numpy()) \n",
    "print(f\"Accuracy: {accuracy * 100:.2f}%\")"
   ]
  },
  {
   "cell_type": "code",
   "execution_count": 274,
   "metadata": {},
   "outputs": [
    {
     "name": "stdout",
     "output_type": "stream",
     "text": [
      "The best accuracy is 28.10% with n_neighbors = 13\n"
     ]
    }
   ],
   "source": [
    "from sklearn.neighbors import KNeighborsClassifier as KNN\n",
    "\n",
    "acc_KNN = []\n",
    "\n",
    "for k in range(1,30):\n",
    "    knn = KNN(n_neighbors=k, n_jobs=-1)\n",
    "\n",
    "    knn.fit(X_kpca.numpy(), y_train_m)\n",
    "    score = knn.score(X_test_kpca.numpy(), y_test)\n",
    "\n",
    "    acc_KNN.append(score)\n",
    "\n",
    "best_acc = max(acc_KNN)\n",
    "best_k = acc_KNN.index(best_acc)\n",
    "best_k_value = range(1,30)[best_k]\n",
    "\n",
    "print(f'The best accuracy is {best_acc*100:.2f}% with n_neighbors = {best_k_value}')"
   ]
  },
  {
   "cell_type": "markdown",
   "metadata": {},
   "source": [
    "## kPCA+LDA"
   ]
  },
  {
   "cell_type": "markdown",
   "metadata": {},
   "source": [
    "95%"
   ]
  },
  {
   "cell_type": "code",
   "execution_count": 10,
   "metadata": {},
   "outputs": [
    {
     "name": "stderr",
     "output_type": "stream",
     "text": [
      "c:\\Users\\dimos\\PyProjecks\\KPCA_LDA_v2\\utils_\\_lda.py:138: RuntimeWarning: Negative or near-zero eigenvalues encountered and removed: tensor([-3.5528e+00, -1.5735e+00, -8.6599e-01, -4.4938e-01, -4.0893e-01,\n",
      "        -2.0894e-01, -1.6401e-01, -1.3673e-01, -9.7006e-02, -6.1901e-02,\n",
      "        -5.0693e-02, -3.7419e-02, -3.5516e-02, -2.4544e-02, -2.3158e-02,\n",
      "        -1.8318e-02, -1.4583e-02, -1.2259e-02, -1.0861e-02, -9.5671e-03,\n",
      "        -9.2126e-03, -8.6596e-03, -7.7000e-03, -7.5525e-03, -6.7438e-03,\n",
      "        -5.7444e-03, -5.3082e-03, -5.1262e-03, -4.7976e-03, -4.3645e-03,\n",
      "        -4.1340e-03, -3.5132e-03, -3.3564e-03, -3.2719e-03, -3.0545e-03,\n",
      "        -2.9216e-03, -2.8928e-03, -2.5744e-03, -2.3596e-03, -2.3061e-03,\n",
      "        -2.2056e-03, -2.0061e-03, -1.9048e-03, -1.7745e-03, -1.6841e-03,\n",
      "        -1.5955e-03, -1.5233e-03, -1.4786e-03, -1.3531e-03, -1.2572e-03,\n",
      "        -1.2471e-03, -1.1901e-03, -1.1711e-03, -1.1265e-03, -1.0607e-03,\n",
      "        -1.0251e-03, -9.0506e-04, -8.9073e-04, -8.7113e-04, -8.4997e-04,\n",
      "        -8.0498e-04, -7.9197e-04, -7.5380e-04, -7.1217e-04, -6.9584e-04,\n",
      "        -6.7275e-04, -6.5088e-04, -6.2461e-04, -5.8173e-04, -5.6854e-04,\n",
      "        -5.4306e-04, -5.3215e-04, -5.0923e-04, -4.9391e-04, -4.7487e-04,\n",
      "        -4.6400e-04, -4.5838e-04, -4.4151e-04, -4.3314e-04, -4.2813e-04,\n",
      "        -4.2269e-04, -4.0240e-04, -3.8316e-04, -3.7778e-04, -3.7096e-04,\n",
      "        -3.6175e-04, -3.5617e-04, -3.5105e-04, -3.4208e-04, -3.3771e-04,\n",
      "        -3.2412e-04, -3.1496e-04, -3.0968e-04, -2.9252e-04, -2.8506e-04,\n",
      "        -2.7409e-04, -2.6706e-04, -2.5810e-04, -2.5111e-04, -2.4559e-04,\n",
      "        -2.3904e-04, -2.3592e-04, -2.3402e-04, -2.2572e-04, -2.2452e-04,\n",
      "        -2.1848e-04, -2.1354e-04, -2.1189e-04, -2.0457e-04, -2.0234e-04,\n",
      "        -1.9357e-04, -1.9170e-04, -1.8812e-04, -1.7991e-04, -1.7682e-04,\n",
      "        -1.7420e-04, -1.7257e-04, -1.6151e-04, -1.6107e-04, -1.5618e-04,\n",
      "        -1.5546e-04, -1.5318e-04, -1.4893e-04, -1.4357e-04, -1.4300e-04,\n",
      "        -1.4144e-04, -1.3935e-04, -1.3872e-04, -1.3127e-04, -1.2774e-04,\n",
      "        -1.1834e-04, -1.1613e-04, -1.1529e-04, -1.1170e-04, -1.0751e-04,\n",
      "        -1.0392e-04, -1.0129e-04, -9.5563e-05, -9.4510e-05, -9.0922e-05,\n",
      "        -8.9009e-05, -8.4750e-05, -8.4339e-05, -8.3955e-05, -8.0733e-05,\n",
      "        -7.5473e-05, -7.5310e-05, -7.4818e-05, -7.3425e-05, -7.2389e-05,\n",
      "        -7.1555e-05, -7.1462e-05, -7.0484e-05, -6.8933e-05, -6.7063e-05,\n",
      "        -6.5091e-05, -6.4950e-05, -6.3908e-05, -6.2064e-05, -6.1866e-05,\n",
      "        -5.9594e-05, -5.7068e-05, -5.3783e-05, -5.3371e-05, -5.2652e-05,\n",
      "        -5.2044e-05, -5.0095e-05, -4.9403e-05, -4.8604e-05, -4.8356e-05,\n",
      "        -4.8231e-05, -4.5806e-05, -4.5523e-05, -4.5263e-05, -4.4997e-05,\n",
      "        -4.3650e-05, -4.0155e-05, -3.9656e-05, -3.8549e-05, -3.7069e-05,\n",
      "        -3.6218e-05, -3.5881e-05, -3.5311e-05, -3.3126e-05, -3.2751e-05,\n",
      "        -3.2420e-05, -3.2089e-05, -2.9664e-05, -2.9458e-05, -2.9339e-05,\n",
      "        -2.9303e-05, -2.7884e-05, -2.6932e-05, -2.6814e-05, -2.6403e-05,\n",
      "        -2.5527e-05, -2.4103e-05, -2.3690e-05, -2.3310e-05, -2.3137e-05,\n",
      "        -2.2602e-05, -2.1574e-05, -2.0911e-05, -2.0466e-05, -1.9541e-05,\n",
      "        -1.9471e-05, -1.9016e-05, -1.7342e-05, -1.6329e-05, -1.5490e-05,\n",
      "        -1.4674e-05, -1.4449e-05, -1.3296e-05, -1.2935e-05, -1.2575e-05,\n",
      "        -1.2080e-05, -1.0534e-05, -1.0017e-05, -7.6786e-06])\n",
      "  warnings.warn(\n"
     ]
    },
    {
     "data": {
      "text/plain": [
       "torch.Size([5000, 9])"
      ]
     },
     "execution_count": 10,
     "metadata": {},
     "output_type": "execute_result"
    }
   ],
   "source": [
    "from utils_ import _lda as lda\n",
    "\n",
    "LDA = lda.LDA()\n",
    "LDA.fit(X_kpca, y_train_t)\n",
    "X_lda = LDA.transform(X_kpca)\n",
    "X_test_lda = LDA.transform(X_test_kpca)\n",
    "X_lda.shape"
   ]
  },
  {
   "cell_type": "code",
   "execution_count": 270,
   "metadata": {},
   "outputs": [
    {
     "name": "stdout",
     "output_type": "stream",
     "text": [
      "Accuracy: 30.20%\n"
     ]
    }
   ],
   "source": [
    "from utils_ import _models\n",
    "from sklearn.metrics import accuracy_score\n",
    "\n",
    "NC = _models.NearestCentroid()\n",
    "NC.fit(X_lda, y_train_t)\n",
    "\n",
    "# Predict the labels for the test set \n",
    "y_pred = NC.predict(X_test_lda)\n",
    "accuracy = accuracy_score(y_test, y_pred.numpy()) \n",
    "print(f\"Accuracy: {accuracy * 100:.2f}%\")"
   ]
  },
  {
   "cell_type": "code",
   "execution_count": 271,
   "metadata": {},
   "outputs": [
    {
     "name": "stdout",
     "output_type": "stream",
     "text": [
      "The best accuracy is 35.70% with n_neighbors = 27\n"
     ]
    }
   ],
   "source": [
    "from sklearn.neighbors import KNeighborsClassifier as KNN\n",
    "\n",
    "acc_KNN = []\n",
    "\n",
    "for k in range(1,30):\n",
    "    knn = KNN(n_neighbors=k, n_jobs=-1)\n",
    "\n",
    "    knn.fit(X_lda.numpy(), y_train_m)\n",
    "    score = knn.score(X_test_lda.numpy(), y_test)\n",
    "\n",
    "    acc_KNN.append(score)\n",
    "\n",
    "best_acc = max(acc_KNN)\n",
    "best_k = acc_KNN.index(best_acc)\n",
    "best_k_value = range(1,30)[best_k]\n",
    "\n",
    "print(f'The best accuracy is {best_acc*100:.2f}% with n_neighbors = {best_k_value}')"
   ]
  },
  {
   "cell_type": "markdown",
   "metadata": {},
   "source": [
    "99%"
   ]
  },
  {
   "cell_type": "code",
   "execution_count": 275,
   "metadata": {},
   "outputs": [
    {
     "name": "stderr",
     "output_type": "stream",
     "text": [
      "c:\\Users\\dimos\\PyProjecks\\KPCA_LDA_v2\\utils_\\_lda.py:145: RuntimeWarning: Negative eigenvalues encountered and removed: tensor([-1.8760e+01, -9.1601e+00, -4.4852e+00, -2.2012e+00, -2.0446e+00,\n",
      "        -1.3265e+00, -1.0100e+00, -8.5354e-01, -4.9707e-01, -1.4285e-01,\n",
      "        -1.2610e-01, -1.0642e-01, -8.5703e-02, -7.1904e-02, -6.2371e-02,\n",
      "        -6.0576e-02, -5.3567e-02, -4.5264e-02, -4.3124e-02, -4.2783e-02,\n",
      "        -3.6109e-02, -3.4764e-02, -2.9631e-02, -2.6846e-02, -2.6032e-02,\n",
      "        -2.3359e-02, -2.1604e-02, -1.9856e-02, -1.7462e-02, -1.7204e-02,\n",
      "        -1.6237e-02, -1.5023e-02, -1.3797e-02, -1.2999e-02, -1.2567e-02,\n",
      "        -1.1875e-02, -1.1575e-02, -1.0292e-02, -9.5931e-03, -9.3491e-03,\n",
      "        -8.9775e-03, -8.7025e-03, -8.5283e-03, -8.0573e-03, -7.4938e-03,\n",
      "        -7.2275e-03, -6.6368e-03, -6.2694e-03, -6.1706e-03, -6.0713e-03,\n",
      "        -5.8208e-03, -5.5212e-03, -5.3413e-03, -5.0067e-03, -4.8712e-03,\n",
      "        -4.6338e-03, -4.5543e-03, -4.2505e-03, -4.2122e-03, -4.1311e-03,\n",
      "        -3.8747e-03, -3.8191e-03, -3.7688e-03, -3.5334e-03, -3.3845e-03,\n",
      "        -3.2921e-03, -3.2494e-03, -3.1591e-03, -3.1005e-03, -3.0516e-03,\n",
      "        -2.8561e-03, -2.8107e-03, -2.6910e-03, -2.5991e-03, -2.5347e-03,\n",
      "        -2.4925e-03, -2.4203e-03, -2.3731e-03, -2.2954e-03, -2.2424e-03,\n",
      "        -2.1883e-03, -2.0933e-03, -1.9988e-03, -1.9824e-03, -1.9419e-03,\n",
      "        -1.8929e-03, -1.8409e-03, -1.7643e-03, -1.7174e-03, -1.7031e-03,\n",
      "        -1.6838e-03, -1.5973e-03, -1.5865e-03, -1.5610e-03, -1.4909e-03,\n",
      "        -1.4597e-03, -1.4464e-03, -1.4168e-03, -1.3918e-03, -1.3589e-03,\n",
      "        -1.3015e-03, -1.2881e-03, -1.2459e-03, -1.2414e-03, -1.2157e-03,\n",
      "        -1.2064e-03, -1.1968e-03, -1.1373e-03, -1.1238e-03, -1.0707e-03,\n",
      "        -1.0551e-03, -1.0426e-03, -1.0247e-03, -1.0125e-03, -1.0121e-03,\n",
      "        -9.7650e-04, -9.6712e-04, -9.4928e-04, -9.3346e-04, -9.0168e-04,\n",
      "        -8.9897e-04, -8.4806e-04, -8.4280e-04, -8.3335e-04, -8.3166e-04,\n",
      "        -8.1547e-04, -7.9550e-04, -7.6880e-04, -7.4580e-04, -7.3982e-04,\n",
      "        -7.2516e-04, -7.1129e-04, -7.0333e-04, -6.9061e-04, -6.8991e-04,\n",
      "        -6.7415e-04, -6.5148e-04, -6.4711e-04, -6.2696e-04, -6.2636e-04,\n",
      "        -5.9690e-04, -5.9239e-04, -5.8707e-04, -5.8264e-04, -5.7271e-04,\n",
      "        -5.6797e-04, -5.5174e-04, -5.4845e-04, -5.4483e-04, -5.3160e-04,\n",
      "        -5.2729e-04, -5.1403e-04, -5.1022e-04, -5.0385e-04, -5.0321e-04,\n",
      "        -5.0003e-04, -4.9218e-04, -4.8155e-04, -4.8093e-04, -4.7709e-04,\n",
      "        -4.7462e-04, -4.6745e-04, -4.6510e-04, -4.5526e-04, -4.4993e-04,\n",
      "        -4.4685e-04, -4.4365e-04, -4.3978e-04, -4.3238e-04, -4.2947e-04,\n",
      "        -4.1822e-04, -4.1521e-04, -4.1329e-04, -3.9951e-04, -3.9690e-04,\n",
      "        -3.9579e-04, -3.8600e-04, -3.8433e-04, -3.7932e-04, -3.7598e-04,\n",
      "        -3.7170e-04, -3.6905e-04, -3.6663e-04, -3.5393e-04, -3.5096e-04,\n",
      "        -3.4456e-04, -3.4261e-04, -3.3966e-04, -3.3005e-04, -3.2983e-04,\n",
      "        -3.2874e-04, -3.2377e-04, -3.1835e-04, -3.1194e-04, -3.0998e-04,\n",
      "        -3.0670e-04, -3.0443e-04, -2.9845e-04, -2.9709e-04, -2.9498e-04,\n",
      "        -2.9024e-04, -2.8574e-04, -2.8462e-04, -2.8143e-04, -2.7710e-04,\n",
      "        -2.7687e-04, -2.7217e-04, -2.7021e-04, -2.6893e-04, -2.6404e-04,\n",
      "        -2.6394e-04, -2.5838e-04, -2.5626e-04, -2.5605e-04, -2.5220e-04,\n",
      "        -2.4914e-04, -2.4386e-04, -2.4363e-04, -2.4267e-04, -2.3555e-04,\n",
      "        -2.3334e-04, -2.3179e-04, -2.2709e-04, -2.2615e-04, -2.2486e-04,\n",
      "        -2.2450e-04, -2.2341e-04, -2.1664e-04, -2.1642e-04, -2.1498e-04,\n",
      "        -2.1252e-04, -2.1200e-04, -2.1048e-04, -2.0526e-04, -2.0512e-04,\n",
      "        -2.0356e-04, -2.0339e-04, -1.9631e-04, -1.9318e-04, -1.9146e-04,\n",
      "        -1.9103e-04, -1.9081e-04, -1.8949e-04, -1.8945e-04, -1.8326e-04,\n",
      "        -1.8270e-04, -1.8214e-04, -1.8050e-04, -1.8042e-04, -1.7859e-04,\n",
      "        -1.7701e-04, -1.7695e-04, -1.7428e-04, -1.7073e-04, -1.6941e-04,\n",
      "        -1.6938e-04, -1.6884e-04, -1.6873e-04, -1.6694e-04, -1.6651e-04,\n",
      "        -1.6588e-04, -1.6464e-04, -1.6342e-04, -1.6335e-04, -1.5787e-04,\n",
      "        -1.5640e-04, -1.5395e-04, -1.5124e-04, -1.4945e-04, -1.4917e-04,\n",
      "        -1.4682e-04, -1.4543e-04, -1.4330e-04, -1.4139e-04, -1.4042e-04,\n",
      "        -1.3711e-04, -1.3578e-04, -1.3576e-04, -1.3511e-04, -1.3308e-04,\n",
      "        -1.3207e-04, -1.3204e-04, -1.3111e-04, -1.2807e-04, -1.2656e-04,\n",
      "        -1.2608e-04, -1.2403e-04, -1.2372e-04, -1.2284e-04, -1.2113e-04,\n",
      "        -1.2070e-04, -1.2028e-04, -1.1963e-04, -1.1894e-04, -1.1770e-04,\n",
      "        -1.1571e-04, -1.1544e-04, -1.1452e-04, -1.1415e-04, -1.1290e-04,\n",
      "        -1.1244e-04, -1.1041e-04, -1.0935e-04, -1.0866e-04, -1.0506e-04,\n",
      "        -1.0388e-04, -1.0333e-04, -1.0322e-04, -1.0306e-04, -1.0235e-04,\n",
      "        -1.0200e-04, -9.9706e-05, -9.9497e-05, -9.8655e-05, -9.8181e-05,\n",
      "        -9.7500e-05, -9.6947e-05, -9.4602e-05, -9.4176e-05, -9.4133e-05,\n",
      "        -9.2778e-05, -9.1961e-05, -9.1119e-05, -9.0809e-05, -9.0362e-05,\n",
      "        -8.9621e-05, -8.9589e-05, -8.9152e-05, -8.8508e-05, -8.6726e-05,\n",
      "        -8.5951e-05, -8.4648e-05, -8.4620e-05, -8.3966e-05, -8.3953e-05,\n",
      "        -8.3693e-05, -8.2439e-05, -8.2387e-05, -8.2325e-05, -8.1972e-05,\n",
      "        -8.1854e-05, -8.0312e-05, -8.0169e-05, -7.8203e-05, -7.8144e-05,\n",
      "        -7.8014e-05, -7.6957e-05, -7.6400e-05, -7.5715e-05, -7.5270e-05,\n",
      "        -7.4905e-05, -7.4142e-05, -7.3924e-05, -7.3873e-05, -7.3010e-05,\n",
      "        -7.2528e-05, -7.1411e-05, -7.1179e-05, -7.0259e-05, -6.9526e-05,\n",
      "        -6.9166e-05, -6.9010e-05, -6.8491e-05, -6.8238e-05, -6.8043e-05,\n",
      "        -6.6701e-05, -6.6525e-05, -6.6076e-05, -6.5927e-05, -6.4049e-05,\n",
      "        -6.3726e-05, -6.3716e-05, -6.2885e-05, -6.2873e-05, -6.2203e-05,\n",
      "        -6.2097e-05, -6.1066e-05, -6.0980e-05, -6.0861e-05, -6.0770e-05,\n",
      "        -6.0717e-05, -6.0327e-05, -5.9693e-05, -5.9056e-05, -5.9051e-05,\n",
      "        -5.7926e-05, -5.7526e-05, -5.7446e-05, -5.6941e-05, -5.6671e-05,\n",
      "        -5.6289e-05, -5.5172e-05, -5.4788e-05, -5.4734e-05, -5.4697e-05,\n",
      "        -5.4671e-05, -5.4202e-05, -5.3597e-05, -5.3457e-05, -5.3160e-05,\n",
      "        -5.3082e-05, -5.2386e-05, -5.1921e-05, -5.1723e-05, -5.1062e-05,\n",
      "        -5.0823e-05, -5.0640e-05, -5.0432e-05, -5.0196e-05, -4.9950e-05,\n",
      "        -4.9877e-05, -4.9846e-05, -4.9280e-05, -4.8783e-05, -4.8648e-05,\n",
      "        -4.8231e-05, -4.7208e-05, -4.6869e-05, -4.6640e-05, -4.6478e-05,\n",
      "        -4.6195e-05, -4.5879e-05, -4.5018e-05, -4.4090e-05, -4.3802e-05,\n",
      "        -4.3790e-05, -4.3635e-05, -4.3427e-05, -4.3364e-05, -4.3118e-05,\n",
      "        -4.1887e-05, -4.1884e-05, -4.1022e-05, -4.0855e-05, -3.9867e-05,\n",
      "        -3.9842e-05, -3.9599e-05, -3.9487e-05, -3.9474e-05, -3.9310e-05,\n",
      "        -3.9289e-05, -3.9045e-05, -3.9012e-05, -3.8932e-05, -3.8884e-05,\n",
      "        -3.8860e-05, -3.8778e-05, -3.8317e-05, -3.7665e-05, -3.7659e-05,\n",
      "        -3.7014e-05, -3.6933e-05, -3.6876e-05, -3.6830e-05, -3.6776e-05,\n",
      "        -3.6672e-05, -3.6268e-05, -3.6133e-05, -3.6079e-05, -3.5982e-05,\n",
      "        -3.5229e-05, -3.5106e-05, -3.4865e-05, -3.4824e-05, -3.4814e-05,\n",
      "        -3.4741e-05, -3.4697e-05, -3.4547e-05, -3.4067e-05, -3.3804e-05,\n",
      "        -3.3663e-05, -3.3505e-05, -3.3353e-05, -3.3157e-05, -3.2762e-05,\n",
      "        -3.2756e-05, -3.2669e-05, -3.2222e-05, -3.2178e-05, -3.2019e-05,\n",
      "        -3.1790e-05, -3.1595e-05, -3.1595e-05, -3.1096e-05, -3.1011e-05,\n",
      "        -3.0974e-05, -3.0746e-05, -3.0712e-05, -3.0701e-05, -3.0329e-05,\n",
      "        -3.0304e-05, -3.0224e-05, -2.9499e-05, -2.9438e-05, -2.9420e-05,\n",
      "        -2.9349e-05, -2.8926e-05, -2.8818e-05, -2.8771e-05, -2.8542e-05,\n",
      "        -2.8515e-05, -2.8370e-05, -2.8204e-05, -2.8100e-05, -2.8044e-05,\n",
      "        -2.8033e-05, -2.7824e-05, -2.7792e-05, -2.7621e-05, -2.7579e-05,\n",
      "        -2.7321e-05, -2.6789e-05, -2.6659e-05, -2.6575e-05, -2.6544e-05,\n",
      "        -2.6527e-05, -2.6510e-05, -2.6503e-05, -2.6393e-05, -2.6323e-05,\n",
      "        -2.5942e-05, -2.5835e-05, -2.5569e-05, -2.5488e-05, -2.5446e-05,\n",
      "        -2.5393e-05, -2.5280e-05, -2.5101e-05, -2.5011e-05, -2.5001e-05,\n",
      "        -2.4610e-05, -2.4573e-05, -2.4467e-05, -2.4226e-05, -2.4073e-05,\n",
      "        -2.4010e-05, -2.3953e-05, -2.3868e-05, -2.3700e-05, -2.3691e-05,\n",
      "        -2.3457e-05, -2.3203e-05, -2.3176e-05, -2.2907e-05, -2.2797e-05,\n",
      "        -2.2706e-05, -2.2331e-05, -2.2232e-05, -2.1998e-05, -2.1816e-05,\n",
      "        -2.1516e-05, -2.1465e-05, -2.1410e-05, -2.1330e-05, -2.1314e-05,\n",
      "        -2.0725e-05, -2.0600e-05, -2.0591e-05, -2.0472e-05, -2.0466e-05,\n",
      "        -2.0402e-05, -2.0012e-05, -1.9941e-05, -1.9898e-05, -1.9882e-05,\n",
      "        -1.9710e-05, -1.9614e-05, -1.9430e-05, -1.9357e-05, -1.9078e-05,\n",
      "        -1.8951e-05, -1.8920e-05, -1.8737e-05, -1.8029e-05, -1.8026e-05,\n",
      "        -1.7722e-05, -1.7708e-05, -1.7706e-05, -1.7652e-05, -1.7557e-05,\n",
      "        -1.7491e-05, -1.7475e-05, -1.7286e-05, -1.7270e-05, -1.7224e-05,\n",
      "        -1.7218e-05, -1.6758e-05, -1.6669e-05, -1.6618e-05, -1.6586e-05,\n",
      "        -1.6546e-05, -1.6511e-05, -1.6257e-05, -1.6043e-05, -1.5981e-05,\n",
      "        -1.5921e-05, -1.5689e-05, -1.5653e-05, -1.5646e-05, -1.5545e-05,\n",
      "        -1.5524e-05, -1.5430e-05, -1.5357e-05, -1.4948e-05, -1.4741e-05,\n",
      "        -1.4604e-05, -1.4583e-05, -1.4578e-05, -1.4388e-05, -1.4367e-05,\n",
      "        -1.4270e-05, -1.4196e-05, -1.4130e-05, -1.4103e-05, -1.3872e-05,\n",
      "        -1.3740e-05, -1.3733e-05, -1.3609e-05, -1.3581e-05, -1.3488e-05,\n",
      "        -1.3261e-05, -1.3148e-05, -1.3051e-05, -1.2846e-05, -1.2844e-05,\n",
      "        -1.2529e-05, -1.2529e-05, -1.2400e-05, -1.2281e-05, -1.2036e-05,\n",
      "        -1.2020e-05, -1.1927e-05, -1.1865e-05, -1.1770e-05, -1.1610e-05,\n",
      "        -1.1476e-05, -1.1441e-05, -1.1395e-05, -1.1352e-05, -1.1147e-05,\n",
      "        -1.1052e-05, -1.0640e-05, -1.0502e-05, -1.0425e-05, -1.0406e-05,\n",
      "        -1.0297e-05, -1.0231e-05, -9.9627e-06, -9.8853e-06, -9.8467e-06,\n",
      "        -9.8260e-06, -9.7673e-06, -9.6954e-06, -9.6788e-06, -9.6207e-06,\n",
      "        -9.4614e-06, -9.4500e-06, -9.2741e-06, -9.2238e-06, -9.1958e-06,\n",
      "        -9.1381e-06, -9.0345e-06, -9.0025e-06, -8.9667e-06, -8.9365e-06,\n",
      "        -8.8888e-06, -8.8858e-06, -8.6367e-06, -8.4917e-06, -8.3685e-06,\n",
      "        -8.3433e-06, -8.1273e-06, -8.0989e-06, -7.9554e-06, -7.4819e-06,\n",
      "        -7.4508e-06, -7.4142e-06, -7.3954e-06, -7.2670e-06, -7.2490e-06,\n",
      "        -7.2141e-06, -7.1528e-06, -6.8952e-06, -6.7108e-06, -6.5394e-06,\n",
      "        -6.2424e-06, -6.1376e-06, -6.0449e-06, -5.8051e-06, -5.7875e-06,\n",
      "        -5.7443e-06, -5.4660e-06, -5.2823e-06, -5.1345e-06, -5.0811e-06,\n",
      "        -4.9874e-06, -4.9849e-06, -4.9665e-06, -4.8532e-06, -4.8447e-06,\n",
      "        -4.6473e-06, -4.6351e-06, -4.6114e-06, -4.5955e-06, -4.5906e-06,\n",
      "        -4.4363e-06, -4.2486e-06, -4.1932e-06, -3.8882e-06, -3.8826e-06,\n",
      "        -3.8652e-06, -3.1772e-06, -3.0839e-06, -2.8234e-06, -2.5049e-06,\n",
      "        -2.4334e-06, -1.9333e-06, -1.3832e-06, -1.0852e-06, -8.8345e-07,\n",
      "        -7.9400e-07, -4.7237e-07, -3.5057e-07])\n",
      "  warnings.warn(f\"Negative eigenvalues encountered and removed: {eigenvalues[eigenvalues < 0]}\", RuntimeWarning)\n"
     ]
    },
    {
     "data": {
      "text/plain": [
       "torch.Size([5000, 9])"
      ]
     },
     "execution_count": 275,
     "metadata": {},
     "output_type": "execute_result"
    }
   ],
   "source": [
    "from utils_ import _lda as lda\n",
    "\n",
    "LDA = lda.LDA()\n",
    "LDA.fit(X_kpca, y_train_t)\n",
    "X_lda = LDA.transform(X_kpca)\n",
    "X_test_lda = LDA.transform(X_test_kpca)\n",
    "X_lda.shape"
   ]
  },
  {
   "cell_type": "code",
   "execution_count": 276,
   "metadata": {},
   "outputs": [
    {
     "name": "stdout",
     "output_type": "stream",
     "text": [
      "Accuracy: 28.70%\n"
     ]
    }
   ],
   "source": [
    "from utils_ import _models\n",
    "from sklearn.metrics import accuracy_score\n",
    "\n",
    "NC = _models.NearestCentroid()\n",
    "NC.fit(X_lda, y_train_t)\n",
    "\n",
    "# Predict the labels for the test set \n",
    "y_pred = NC.predict(X_test_lda)\n",
    "accuracy = accuracy_score(y_test, y_pred.numpy()) \n",
    "print(f\"Accuracy: {accuracy * 100:.2f}%\")"
   ]
  },
  {
   "cell_type": "code",
   "execution_count": 277,
   "metadata": {},
   "outputs": [
    {
     "name": "stdout",
     "output_type": "stream",
     "text": [
      "The best accuracy is 36.40% with n_neighbors = 19\n"
     ]
    }
   ],
   "source": [
    "from sklearn.neighbors import KNeighborsClassifier as KNN\n",
    "\n",
    "acc_KNN = []\n",
    "\n",
    "for k in range(1,30):\n",
    "    knn = KNN(n_neighbors=k, n_jobs=-1)\n",
    "\n",
    "    knn.fit(X_lda.numpy(), y_train_m)\n",
    "    score = knn.score(X_test_lda.numpy(), y_test)\n",
    "\n",
    "    acc_KNN.append(score)\n",
    "\n",
    "best_acc = max(acc_KNN)\n",
    "best_k = acc_KNN.index(best_acc)\n",
    "best_k_value = range(1,30)[best_k]\n",
    "\n",
    "print(f'The best accuracy is {best_acc*100:.2f}% with n_neighbors = {best_k_value}')"
   ]
  },
  {
   "cell_type": "markdown",
   "metadata": {},
   "source": [
    "Για να δούμε τι γίνεται με το 95% της πληροφορίας στα svm"
   ]
  },
  {
   "cell_type": "code",
   "execution_count": 13,
   "metadata": {},
   "outputs": [
    {
     "name": "stdout",
     "output_type": "stream",
     "text": [
      "Fitting 5 folds for each of 16 candidates, totalling 80 fits\n",
      "[CV] END ........................C=2.5, gamma=80, kernel=rbf; total time=   0.4s\n",
      "[CV] END ........................C=2.5, gamma=80, kernel=rbf; total time=   0.4s\n",
      "[CV] END ........................C=2.5, gamma=80, kernel=rbf; total time=   0.4s\n",
      "[CV] END ........................C=2.5, gamma=80, kernel=rbf; total time=   0.4s\n",
      "[CV] END ........................C=2.5, gamma=80, kernel=rbf; total time=   0.4s\n",
      "[CV] END ........................C=2.5, gamma=85, kernel=rbf; total time=   0.4s\n",
      "[CV] END ........................C=2.5, gamma=85, kernel=rbf; total time=   0.4s\n",
      "[CV] END ........................C=2.5, gamma=85, kernel=rbf; total time=   0.4s\n",
      "[CV] END ........................C=2.5, gamma=85, kernel=rbf; total time=   0.4s\n",
      "[CV] END ........................C=2.5, gamma=85, kernel=rbf; total time=   0.4s\n",
      "[CV] END ........................C=2.5, gamma=90, kernel=rbf; total time=   0.4s\n",
      "[CV] END ........................C=2.5, gamma=90, kernel=rbf; total time=   0.4s\n",
      "[CV] END ........................C=2.5, gamma=90, kernel=rbf; total time=   0.4s\n",
      "[CV] END ........................C=2.5, gamma=90, kernel=rbf; total time=   0.4s\n",
      "[CV] END ........................C=2.5, gamma=90, kernel=rbf; total time=   0.4s\n",
      "[CV] END ........................C=2.5, gamma=95, kernel=rbf; total time=   0.4s\n",
      "[CV] END ........................C=2.5, gamma=95, kernel=rbf; total time=   0.4s\n",
      "[CV] END ........................C=2.5, gamma=95, kernel=rbf; total time=   0.4s\n",
      "[CV] END ........................C=2.5, gamma=95, kernel=rbf; total time=   0.4s\n",
      "[CV] END ........................C=2.5, gamma=95, kernel=rbf; total time=   0.4s\n",
      "[CV] END ..........................C=5, gamma=80, kernel=rbf; total time=   0.4s\n",
      "[CV] END ..........................C=5, gamma=80, kernel=rbf; total time=   0.4s\n",
      "[CV] END ..........................C=5, gamma=80, kernel=rbf; total time=   0.5s\n",
      "[CV] END ..........................C=5, gamma=80, kernel=rbf; total time=   0.4s\n",
      "[CV] END ..........................C=5, gamma=80, kernel=rbf; total time=   0.4s\n",
      "[CV] END ..........................C=5, gamma=85, kernel=rbf; total time=   0.4s\n",
      "[CV] END ..........................C=5, gamma=85, kernel=rbf; total time=   0.4s\n",
      "[CV] END ..........................C=5, gamma=85, kernel=rbf; total time=   0.4s\n",
      "[CV] END ..........................C=5, gamma=85, kernel=rbf; total time=   0.4s\n",
      "[CV] END ..........................C=5, gamma=85, kernel=rbf; total time=   0.4s\n",
      "[CV] END ..........................C=5, gamma=90, kernel=rbf; total time=   0.5s\n",
      "[CV] END ..........................C=5, gamma=90, kernel=rbf; total time=   0.4s\n",
      "[CV] END ..........................C=5, gamma=90, kernel=rbf; total time=   0.5s\n",
      "[CV] END ..........................C=5, gamma=90, kernel=rbf; total time=   0.4s\n",
      "[CV] END ..........................C=5, gamma=90, kernel=rbf; total time=   0.4s\n",
      "[CV] END ..........................C=5, gamma=95, kernel=rbf; total time=   0.5s\n",
      "[CV] END ..........................C=5, gamma=95, kernel=rbf; total time=   0.5s\n",
      "[CV] END ..........................C=5, gamma=95, kernel=rbf; total time=   0.4s\n",
      "[CV] END ..........................C=5, gamma=95, kernel=rbf; total time=   0.5s\n",
      "[CV] END ..........................C=5, gamma=95, kernel=rbf; total time=   0.4s\n",
      "[CV] END ........................C=7.5, gamma=80, kernel=rbf; total time=   0.5s\n",
      "[CV] END ........................C=7.5, gamma=80, kernel=rbf; total time=   0.5s\n",
      "[CV] END ........................C=7.5, gamma=80, kernel=rbf; total time=   0.5s\n",
      "[CV] END ........................C=7.5, gamma=80, kernel=rbf; total time=   0.5s\n",
      "[CV] END ........................C=7.5, gamma=80, kernel=rbf; total time=   0.5s\n",
      "[CV] END ........................C=7.5, gamma=85, kernel=rbf; total time=   0.5s\n",
      "[CV] END ........................C=7.5, gamma=85, kernel=rbf; total time=   0.4s\n",
      "[CV] END ........................C=7.5, gamma=85, kernel=rbf; total time=   0.4s\n",
      "[CV] END ........................C=7.5, gamma=85, kernel=rbf; total time=   0.4s\n",
      "[CV] END ........................C=7.5, gamma=85, kernel=rbf; total time=   0.4s\n",
      "[CV] END ........................C=7.5, gamma=90, kernel=rbf; total time=   0.5s\n",
      "[CV] END ........................C=7.5, gamma=90, kernel=rbf; total time=   0.5s\n",
      "[CV] END ........................C=7.5, gamma=90, kernel=rbf; total time=   0.5s\n",
      "[CV] END ........................C=7.5, gamma=90, kernel=rbf; total time=   0.5s\n",
      "[CV] END ........................C=7.5, gamma=90, kernel=rbf; total time=   0.5s\n",
      "[CV] END ........................C=7.5, gamma=95, kernel=rbf; total time=   0.5s\n",
      "[CV] END ........................C=7.5, gamma=95, kernel=rbf; total time=   0.5s\n",
      "[CV] END ........................C=7.5, gamma=95, kernel=rbf; total time=   0.5s\n",
      "[CV] END ........................C=7.5, gamma=95, kernel=rbf; total time=   0.5s\n",
      "[CV] END ........................C=7.5, gamma=95, kernel=rbf; total time=   0.5s\n",
      "[CV] END .........................C=10, gamma=80, kernel=rbf; total time=   0.5s\n",
      "[CV] END .........................C=10, gamma=80, kernel=rbf; total time=   0.5s\n",
      "[CV] END .........................C=10, gamma=80, kernel=rbf; total time=   0.5s\n",
      "[CV] END .........................C=10, gamma=80, kernel=rbf; total time=   0.4s\n",
      "[CV] END .........................C=10, gamma=80, kernel=rbf; total time=   0.4s\n",
      "[CV] END .........................C=10, gamma=85, kernel=rbf; total time=   0.5s\n",
      "[CV] END .........................C=10, gamma=85, kernel=rbf; total time=   0.4s\n",
      "[CV] END .........................C=10, gamma=85, kernel=rbf; total time=   0.5s\n",
      "[CV] END .........................C=10, gamma=85, kernel=rbf; total time=   0.5s\n",
      "[CV] END .........................C=10, gamma=85, kernel=rbf; total time=   0.5s\n",
      "[CV] END .........................C=10, gamma=90, kernel=rbf; total time=   0.5s\n",
      "[CV] END .........................C=10, gamma=90, kernel=rbf; total time=   0.6s\n",
      "[CV] END .........................C=10, gamma=90, kernel=rbf; total time=   0.5s\n",
      "[CV] END .........................C=10, gamma=90, kernel=rbf; total time=   0.4s\n",
      "[CV] END .........................C=10, gamma=90, kernel=rbf; total time=   0.4s\n",
      "[CV] END .........................C=10, gamma=95, kernel=rbf; total time=   0.5s\n",
      "[CV] END .........................C=10, gamma=95, kernel=rbf; total time=   0.5s\n",
      "[CV] END .........................C=10, gamma=95, kernel=rbf; total time=   0.5s\n",
      "[CV] END .........................C=10, gamma=95, kernel=rbf; total time=   0.4s\n",
      "[CV] END .........................C=10, gamma=95, kernel=rbf; total time=   0.4s\n",
      "Durratio: 44.13787007331848\n",
      "{'C': 5, 'gamma': 85, 'kernel': 'rbf'}\n"
     ]
    }
   ],
   "source": [
    "from sklearn.svm import SVC\n",
    "from sklearn.model_selection import GridSearchCV\n",
    "import time \n",
    "s_time=time.time()\n",
    "param_grid = [{'C':[2.5, 5, 7.5, 10], 'gamma':[80,85, 90, 95], 'kernel':['rbf']}]\n",
    "grid = GridSearchCV(SVC(), param_grid, verbose=2)\n",
    "grid.fit(X_lda.numpy(), y_train_m)\n",
    "y_pred = grid.predict(X_test_lda.numpy())\n",
    "f_time = time.time()\n",
    "print(f'Durratio: {f_time-s_time}')\n",
    "best_params = grid.best_params_\n",
    "print(best_params)"
   ]
  },
  {
   "cell_type": "code",
   "execution_count": 14,
   "metadata": {},
   "outputs": [
    {
     "name": "stdout",
     "output_type": "stream",
     "text": [
      "Accuracy: 0.381\n"
     ]
    }
   ],
   "source": [
    "from sklearn import metrics\n",
    "print(f'Accuracy: {metrics.accuracy_score(y_true=y_test, y_pred = y_pred)}')"
   ]
  },
  {
   "cell_type": "markdown",
   "metadata": {},
   "source": [
    "Για να δούμε τι γίνεται με το 99% της πληροφορίας στα svm"
   ]
  },
  {
   "cell_type": "code",
   "execution_count": 288,
   "metadata": {},
   "outputs": [
    {
     "name": "stdout",
     "output_type": "stream",
     "text": [
      "Fitting 5 folds for each of 20 candidates, totalling 100 fits\n",
      "[CV 1/5; 1/20] START C=2.5, gamma=65, kernel=rbf................................\n",
      "[CV 1/5; 1/20] END .C=2.5, gamma=65, kernel=rbf;, score=0.398 total time=   0.4s\n",
      "[CV 2/5; 1/20] START C=2.5, gamma=65, kernel=rbf................................\n",
      "[CV 2/5; 1/20] END .C=2.5, gamma=65, kernel=rbf;, score=0.417 total time=   0.4s\n",
      "[CV 3/5; 1/20] START C=2.5, gamma=65, kernel=rbf................................\n",
      "[CV 3/5; 1/20] END .C=2.5, gamma=65, kernel=rbf;, score=0.398 total time=   0.4s\n",
      "[CV 4/5; 1/20] START C=2.5, gamma=65, kernel=rbf................................\n",
      "[CV 4/5; 1/20] END .C=2.5, gamma=65, kernel=rbf;, score=0.416 total time=   0.4s\n",
      "[CV 5/5; 1/20] START C=2.5, gamma=65, kernel=rbf................................\n",
      "[CV 5/5; 1/20] END .C=2.5, gamma=65, kernel=rbf;, score=0.390 total time=   0.4s\n",
      "[CV 1/5; 2/20] START C=2.5, gamma=70, kernel=rbf................................\n",
      "[CV 1/5; 2/20] END .C=2.5, gamma=70, kernel=rbf;, score=0.397 total time=   0.4s\n",
      "[CV 2/5; 2/20] START C=2.5, gamma=70, kernel=rbf................................\n",
      "[CV 2/5; 2/20] END .C=2.5, gamma=70, kernel=rbf;, score=0.420 total time=   0.4s\n",
      "[CV 3/5; 2/20] START C=2.5, gamma=70, kernel=rbf................................\n",
      "[CV 3/5; 2/20] END .C=2.5, gamma=70, kernel=rbf;, score=0.401 total time=   0.4s\n",
      "[CV 4/5; 2/20] START C=2.5, gamma=70, kernel=rbf................................\n",
      "[CV 4/5; 2/20] END .C=2.5, gamma=70, kernel=rbf;, score=0.415 total time=   0.4s\n",
      "[CV 5/5; 2/20] START C=2.5, gamma=70, kernel=rbf................................\n",
      "[CV 5/5; 2/20] END .C=2.5, gamma=70, kernel=rbf;, score=0.390 total time=   0.4s\n",
      "[CV 1/5; 3/20] START C=2.5, gamma=75, kernel=rbf................................\n",
      "[CV 1/5; 3/20] END .C=2.5, gamma=75, kernel=rbf;, score=0.400 total time=   0.4s\n",
      "[CV 2/5; 3/20] START C=2.5, gamma=75, kernel=rbf................................\n",
      "[CV 2/5; 3/20] END .C=2.5, gamma=75, kernel=rbf;, score=0.415 total time=   0.4s\n",
      "[CV 3/5; 3/20] START C=2.5, gamma=75, kernel=rbf................................\n",
      "[CV 3/5; 3/20] END .C=2.5, gamma=75, kernel=rbf;, score=0.401 total time=   0.4s\n",
      "[CV 4/5; 3/20] START C=2.5, gamma=75, kernel=rbf................................\n",
      "[CV 4/5; 3/20] END .C=2.5, gamma=75, kernel=rbf;, score=0.409 total time=   0.4s\n",
      "[CV 5/5; 3/20] START C=2.5, gamma=75, kernel=rbf................................\n",
      "[CV 5/5; 3/20] END .C=2.5, gamma=75, kernel=rbf;, score=0.390 total time=   0.4s\n",
      "[CV 1/5; 4/20] START C=2.5, gamma=80, kernel=rbf................................\n",
      "[CV 1/5; 4/20] END .C=2.5, gamma=80, kernel=rbf;, score=0.401 total time=   0.4s\n",
      "[CV 2/5; 4/20] START C=2.5, gamma=80, kernel=rbf................................\n",
      "[CV 2/5; 4/20] END .C=2.5, gamma=80, kernel=rbf;, score=0.417 total time=   0.4s\n",
      "[CV 3/5; 4/20] START C=2.5, gamma=80, kernel=rbf................................\n",
      "[CV 3/5; 4/20] END .C=2.5, gamma=80, kernel=rbf;, score=0.401 total time=   0.4s\n",
      "[CV 4/5; 4/20] START C=2.5, gamma=80, kernel=rbf................................\n",
      "[CV 4/5; 4/20] END .C=2.5, gamma=80, kernel=rbf;, score=0.407 total time=   0.4s\n",
      "[CV 5/5; 4/20] START C=2.5, gamma=80, kernel=rbf................................\n",
      "[CV 5/5; 4/20] END .C=2.5, gamma=80, kernel=rbf;, score=0.387 total time=   0.4s\n",
      "[CV 1/5; 5/20] START C=2.5, gamma=85, kernel=rbf................................\n",
      "[CV 1/5; 5/20] END .C=2.5, gamma=85, kernel=rbf;, score=0.404 total time=   0.4s\n",
      "[CV 2/5; 5/20] START C=2.5, gamma=85, kernel=rbf................................\n",
      "[CV 2/5; 5/20] END .C=2.5, gamma=85, kernel=rbf;, score=0.417 total time=   0.4s\n",
      "[CV 3/5; 5/20] START C=2.5, gamma=85, kernel=rbf................................\n",
      "[CV 3/5; 5/20] END .C=2.5, gamma=85, kernel=rbf;, score=0.404 total time=   0.4s\n",
      "[CV 4/5; 5/20] START C=2.5, gamma=85, kernel=rbf................................\n",
      "[CV 4/5; 5/20] END .C=2.5, gamma=85, kernel=rbf;, score=0.407 total time=   0.4s\n",
      "[CV 5/5; 5/20] START C=2.5, gamma=85, kernel=rbf................................\n",
      "[CV 5/5; 5/20] END .C=2.5, gamma=85, kernel=rbf;, score=0.388 total time=   0.4s\n",
      "[CV 1/5; 6/20] START C=5, gamma=65, kernel=rbf..................................\n",
      "[CV 1/5; 6/20] END ...C=5, gamma=65, kernel=rbf;, score=0.410 total time=   0.4s\n",
      "[CV 2/5; 6/20] START C=5, gamma=65, kernel=rbf..................................\n",
      "[CV 2/5; 6/20] END ...C=5, gamma=65, kernel=rbf;, score=0.417 total time=   0.4s\n",
      "[CV 3/5; 6/20] START C=5, gamma=65, kernel=rbf..................................\n",
      "[CV 3/5; 6/20] END ...C=5, gamma=65, kernel=rbf;, score=0.402 total time=   0.4s\n",
      "[CV 4/5; 6/20] START C=5, gamma=65, kernel=rbf..................................\n",
      "[CV 4/5; 6/20] END ...C=5, gamma=65, kernel=rbf;, score=0.407 total time=   0.4s\n",
      "[CV 5/5; 6/20] START C=5, gamma=65, kernel=rbf..................................\n",
      "[CV 5/5; 6/20] END ...C=5, gamma=65, kernel=rbf;, score=0.383 total time=   0.4s\n",
      "[CV 1/5; 7/20] START C=5, gamma=70, kernel=rbf..................................\n",
      "[CV 1/5; 7/20] END ...C=5, gamma=70, kernel=rbf;, score=0.410 total time=   0.4s\n",
      "[CV 2/5; 7/20] START C=5, gamma=70, kernel=rbf..................................\n",
      "[CV 2/5; 7/20] END ...C=5, gamma=70, kernel=rbf;, score=0.419 total time=   0.4s\n",
      "[CV 3/5; 7/20] START C=5, gamma=70, kernel=rbf..................................\n",
      "[CV 3/5; 7/20] END ...C=5, gamma=70, kernel=rbf;, score=0.402 total time=   0.4s\n",
      "[CV 4/5; 7/20] START C=5, gamma=70, kernel=rbf..................................\n",
      "[CV 4/5; 7/20] END ...C=5, gamma=70, kernel=rbf;, score=0.408 total time=   0.4s\n",
      "[CV 5/5; 7/20] START C=5, gamma=70, kernel=rbf..................................\n",
      "[CV 5/5; 7/20] END ...C=5, gamma=70, kernel=rbf;, score=0.385 total time=   0.4s\n",
      "[CV 1/5; 8/20] START C=5, gamma=75, kernel=rbf..................................\n",
      "[CV 1/5; 8/20] END ...C=5, gamma=75, kernel=rbf;, score=0.416 total time=   0.4s\n",
      "[CV 2/5; 8/20] START C=5, gamma=75, kernel=rbf..................................\n",
      "[CV 2/5; 8/20] END ...C=5, gamma=75, kernel=rbf;, score=0.419 total time=   0.4s\n",
      "[CV 3/5; 8/20] START C=5, gamma=75, kernel=rbf..................................\n",
      "[CV 3/5; 8/20] END ...C=5, gamma=75, kernel=rbf;, score=0.404 total time=   0.4s\n",
      "[CV 4/5; 8/20] START C=5, gamma=75, kernel=rbf..................................\n",
      "[CV 4/5; 8/20] END ...C=5, gamma=75, kernel=rbf;, score=0.413 total time=   0.4s\n",
      "[CV 5/5; 8/20] START C=5, gamma=75, kernel=rbf..................................\n",
      "[CV 5/5; 8/20] END ...C=5, gamma=75, kernel=rbf;, score=0.384 total time=   0.4s\n",
      "[CV 1/5; 9/20] START C=5, gamma=80, kernel=rbf..................................\n",
      "[CV 1/5; 9/20] END ...C=5, gamma=80, kernel=rbf;, score=0.415 total time=   0.4s\n",
      "[CV 2/5; 9/20] START C=5, gamma=80, kernel=rbf..................................\n",
      "[CV 2/5; 9/20] END ...C=5, gamma=80, kernel=rbf;, score=0.420 total time=   0.4s\n",
      "[CV 3/5; 9/20] START C=5, gamma=80, kernel=rbf..................................\n",
      "[CV 3/5; 9/20] END ...C=5, gamma=80, kernel=rbf;, score=0.402 total time=   0.4s\n",
      "[CV 4/5; 9/20] START C=5, gamma=80, kernel=rbf..................................\n",
      "[CV 4/5; 9/20] END ...C=5, gamma=80, kernel=rbf;, score=0.409 total time=   0.4s\n",
      "[CV 5/5; 9/20] START C=5, gamma=80, kernel=rbf..................................\n",
      "[CV 5/5; 9/20] END ...C=5, gamma=80, kernel=rbf;, score=0.383 total time=   0.4s\n",
      "[CV 1/5; 10/20] START C=5, gamma=85, kernel=rbf.................................\n",
      "[CV 1/5; 10/20] END ..C=5, gamma=85, kernel=rbf;, score=0.413 total time=   0.4s\n",
      "[CV 2/5; 10/20] START C=5, gamma=85, kernel=rbf.................................\n",
      "[CV 2/5; 10/20] END ..C=5, gamma=85, kernel=rbf;, score=0.418 total time=   0.4s\n",
      "[CV 3/5; 10/20] START C=5, gamma=85, kernel=rbf.................................\n",
      "[CV 3/5; 10/20] END ..C=5, gamma=85, kernel=rbf;, score=0.402 total time=   0.4s\n",
      "[CV 4/5; 10/20] START C=5, gamma=85, kernel=rbf.................................\n",
      "[CV 4/5; 10/20] END ..C=5, gamma=85, kernel=rbf;, score=0.408 total time=   0.4s\n",
      "[CV 5/5; 10/20] START C=5, gamma=85, kernel=rbf.................................\n",
      "[CV 5/5; 10/20] END ..C=5, gamma=85, kernel=rbf;, score=0.387 total time=   0.4s\n",
      "[CV 1/5; 11/20] START C=7.5, gamma=65, kernel=rbf...............................\n",
      "[CV 1/5; 11/20] END C=7.5, gamma=65, kernel=rbf;, score=0.414 total time=   0.4s\n",
      "[CV 2/5; 11/20] START C=7.5, gamma=65, kernel=rbf...............................\n",
      "[CV 2/5; 11/20] END C=7.5, gamma=65, kernel=rbf;, score=0.423 total time=   0.4s\n",
      "[CV 3/5; 11/20] START C=7.5, gamma=65, kernel=rbf...............................\n",
      "[CV 3/5; 11/20] END C=7.5, gamma=65, kernel=rbf;, score=0.400 total time=   0.4s\n",
      "[CV 4/5; 11/20] START C=7.5, gamma=65, kernel=rbf...............................\n",
      "[CV 4/5; 11/20] END C=7.5, gamma=65, kernel=rbf;, score=0.411 total time=   0.4s\n",
      "[CV 5/5; 11/20] START C=7.5, gamma=65, kernel=rbf...............................\n",
      "[CV 5/5; 11/20] END C=7.5, gamma=65, kernel=rbf;, score=0.385 total time=   0.4s\n",
      "[CV 1/5; 12/20] START C=7.5, gamma=70, kernel=rbf...............................\n",
      "[CV 1/5; 12/20] END C=7.5, gamma=70, kernel=rbf;, score=0.416 total time=   0.4s\n",
      "[CV 2/5; 12/20] START C=7.5, gamma=70, kernel=rbf...............................\n",
      "[CV 2/5; 12/20] END C=7.5, gamma=70, kernel=rbf;, score=0.423 total time=   0.4s\n",
      "[CV 3/5; 12/20] START C=7.5, gamma=70, kernel=rbf...............................\n",
      "[CV 3/5; 12/20] END C=7.5, gamma=70, kernel=rbf;, score=0.401 total time=   0.4s\n",
      "[CV 4/5; 12/20] START C=7.5, gamma=70, kernel=rbf...............................\n",
      "[CV 4/5; 12/20] END C=7.5, gamma=70, kernel=rbf;, score=0.405 total time=   0.4s\n",
      "[CV 5/5; 12/20] START C=7.5, gamma=70, kernel=rbf...............................\n",
      "[CV 5/5; 12/20] END C=7.5, gamma=70, kernel=rbf;, score=0.386 total time=   0.4s\n",
      "[CV 1/5; 13/20] START C=7.5, gamma=75, kernel=rbf...............................\n",
      "[CV 1/5; 13/20] END C=7.5, gamma=75, kernel=rbf;, score=0.409 total time=   0.4s\n",
      "[CV 2/5; 13/20] START C=7.5, gamma=75, kernel=rbf...............................\n",
      "[CV 2/5; 13/20] END C=7.5, gamma=75, kernel=rbf;, score=0.422 total time=   0.4s\n",
      "[CV 3/5; 13/20] START C=7.5, gamma=75, kernel=rbf...............................\n",
      "[CV 3/5; 13/20] END C=7.5, gamma=75, kernel=rbf;, score=0.400 total time=   0.4s\n",
      "[CV 4/5; 13/20] START C=7.5, gamma=75, kernel=rbf...............................\n",
      "[CV 4/5; 13/20] END C=7.5, gamma=75, kernel=rbf;, score=0.403 total time=   0.4s\n",
      "[CV 5/5; 13/20] START C=7.5, gamma=75, kernel=rbf...............................\n",
      "[CV 5/5; 13/20] END C=7.5, gamma=75, kernel=rbf;, score=0.384 total time=   0.4s\n",
      "[CV 1/5; 14/20] START C=7.5, gamma=80, kernel=rbf...............................\n",
      "[CV 1/5; 14/20] END C=7.5, gamma=80, kernel=rbf;, score=0.409 total time=   0.4s\n",
      "[CV 2/5; 14/20] START C=7.5, gamma=80, kernel=rbf...............................\n",
      "[CV 2/5; 14/20] END C=7.5, gamma=80, kernel=rbf;, score=0.422 total time=   0.4s\n",
      "[CV 3/5; 14/20] START C=7.5, gamma=80, kernel=rbf...............................\n",
      "[CV 3/5; 14/20] END C=7.5, gamma=80, kernel=rbf;, score=0.398 total time=   0.4s\n",
      "[CV 4/5; 14/20] START C=7.5, gamma=80, kernel=rbf...............................\n",
      "[CV 4/5; 14/20] END C=7.5, gamma=80, kernel=rbf;, score=0.401 total time=   0.4s\n",
      "[CV 5/5; 14/20] START C=7.5, gamma=80, kernel=rbf...............................\n",
      "[CV 5/5; 14/20] END C=7.5, gamma=80, kernel=rbf;, score=0.385 total time=   0.4s\n",
      "[CV 1/5; 15/20] START C=7.5, gamma=85, kernel=rbf...............................\n",
      "[CV 1/5; 15/20] END C=7.5, gamma=85, kernel=rbf;, score=0.408 total time=   0.4s\n",
      "[CV 2/5; 15/20] START C=7.5, gamma=85, kernel=rbf...............................\n",
      "[CV 2/5; 15/20] END C=7.5, gamma=85, kernel=rbf;, score=0.423 total time=   0.4s\n",
      "[CV 3/5; 15/20] START C=7.5, gamma=85, kernel=rbf...............................\n",
      "[CV 3/5; 15/20] END C=7.5, gamma=85, kernel=rbf;, score=0.398 total time=   0.4s\n",
      "[CV 4/5; 15/20] START C=7.5, gamma=85, kernel=rbf...............................\n",
      "[CV 4/5; 15/20] END C=7.5, gamma=85, kernel=rbf;, score=0.399 total time=   0.4s\n",
      "[CV 5/5; 15/20] START C=7.5, gamma=85, kernel=rbf...............................\n",
      "[CV 5/5; 15/20] END C=7.5, gamma=85, kernel=rbf;, score=0.385 total time=   0.4s\n",
      "[CV 1/5; 16/20] START C=10, gamma=65, kernel=rbf................................\n",
      "[CV 1/5; 16/20] END .C=10, gamma=65, kernel=rbf;, score=0.408 total time=   0.4s\n",
      "[CV 2/5; 16/20] START C=10, gamma=65, kernel=rbf................................\n",
      "[CV 2/5; 16/20] END .C=10, gamma=65, kernel=rbf;, score=0.424 total time=   0.4s\n",
      "[CV 3/5; 16/20] START C=10, gamma=65, kernel=rbf................................\n",
      "[CV 3/5; 16/20] END .C=10, gamma=65, kernel=rbf;, score=0.402 total time=   0.4s\n",
      "[CV 4/5; 16/20] START C=10, gamma=65, kernel=rbf................................\n",
      "[CV 4/5; 16/20] END .C=10, gamma=65, kernel=rbf;, score=0.404 total time=   0.4s\n",
      "[CV 5/5; 16/20] START C=10, gamma=65, kernel=rbf................................\n",
      "[CV 5/5; 16/20] END .C=10, gamma=65, kernel=rbf;, score=0.390 total time=   0.4s\n",
      "[CV 1/5; 17/20] START C=10, gamma=70, kernel=rbf................................\n",
      "[CV 1/5; 17/20] END .C=10, gamma=70, kernel=rbf;, score=0.410 total time=   0.4s\n",
      "[CV 2/5; 17/20] START C=10, gamma=70, kernel=rbf................................\n",
      "[CV 2/5; 17/20] END .C=10, gamma=70, kernel=rbf;, score=0.424 total time=   0.4s\n",
      "[CV 3/5; 17/20] START C=10, gamma=70, kernel=rbf................................\n",
      "[CV 3/5; 17/20] END .C=10, gamma=70, kernel=rbf;, score=0.403 total time=   0.4s\n",
      "[CV 4/5; 17/20] START C=10, gamma=70, kernel=rbf................................\n",
      "[CV 4/5; 17/20] END .C=10, gamma=70, kernel=rbf;, score=0.397 total time=   0.4s\n",
      "[CV 5/5; 17/20] START C=10, gamma=70, kernel=rbf................................\n",
      "[CV 5/5; 17/20] END .C=10, gamma=70, kernel=rbf;, score=0.388 total time=   0.4s\n",
      "[CV 1/5; 18/20] START C=10, gamma=75, kernel=rbf................................\n",
      "[CV 1/5; 18/20] END .C=10, gamma=75, kernel=rbf;, score=0.408 total time=   0.4s\n",
      "[CV 2/5; 18/20] START C=10, gamma=75, kernel=rbf................................\n",
      "[CV 2/5; 18/20] END .C=10, gamma=75, kernel=rbf;, score=0.424 total time=   0.4s\n",
      "[CV 3/5; 18/20] START C=10, gamma=75, kernel=rbf................................\n",
      "[CV 3/5; 18/20] END .C=10, gamma=75, kernel=rbf;, score=0.403 total time=   0.4s\n",
      "[CV 4/5; 18/20] START C=10, gamma=75, kernel=rbf................................\n",
      "[CV 4/5; 18/20] END .C=10, gamma=75, kernel=rbf;, score=0.399 total time=   0.4s\n",
      "[CV 5/5; 18/20] START C=10, gamma=75, kernel=rbf................................\n",
      "[CV 5/5; 18/20] END .C=10, gamma=75, kernel=rbf;, score=0.389 total time=   0.4s\n",
      "[CV 1/5; 19/20] START C=10, gamma=80, kernel=rbf................................\n",
      "[CV 1/5; 19/20] END .C=10, gamma=80, kernel=rbf;, score=0.406 total time=   0.4s\n",
      "[CV 2/5; 19/20] START C=10, gamma=80, kernel=rbf................................\n",
      "[CV 2/5; 19/20] END .C=10, gamma=80, kernel=rbf;, score=0.421 total time=   0.4s\n",
      "[CV 3/5; 19/20] START C=10, gamma=80, kernel=rbf................................\n",
      "[CV 3/5; 19/20] END .C=10, gamma=80, kernel=rbf;, score=0.398 total time=   0.4s\n",
      "[CV 4/5; 19/20] START C=10, gamma=80, kernel=rbf................................\n",
      "[CV 4/5; 19/20] END .C=10, gamma=80, kernel=rbf;, score=0.396 total time=   0.4s\n",
      "[CV 5/5; 19/20] START C=10, gamma=80, kernel=rbf................................\n",
      "[CV 5/5; 19/20] END .C=10, gamma=80, kernel=rbf;, score=0.389 total time=   0.4s\n",
      "[CV 1/5; 20/20] START C=10, gamma=85, kernel=rbf................................\n",
      "[CV 1/5; 20/20] END .C=10, gamma=85, kernel=rbf;, score=0.403 total time=   0.4s\n",
      "[CV 2/5; 20/20] START C=10, gamma=85, kernel=rbf................................\n",
      "[CV 2/5; 20/20] END .C=10, gamma=85, kernel=rbf;, score=0.426 total time=   0.4s\n",
      "[CV 3/5; 20/20] START C=10, gamma=85, kernel=rbf................................\n",
      "[CV 3/5; 20/20] END .C=10, gamma=85, kernel=rbf;, score=0.395 total time=   0.4s\n",
      "[CV 4/5; 20/20] START C=10, gamma=85, kernel=rbf................................\n",
      "[CV 4/5; 20/20] END .C=10, gamma=85, kernel=rbf;, score=0.396 total time=   0.4s\n",
      "[CV 5/5; 20/20] START C=10, gamma=85, kernel=rbf................................\n",
      "[CV 5/5; 20/20] END .C=10, gamma=85, kernel=rbf;, score=0.390 total time=   0.4s\n",
      "Durratio: 52.667606592178345\n",
      "{'C': 5, 'gamma': 75, 'kernel': 'rbf'}\n"
     ]
    }
   ],
   "source": [
    "from sklearn.svm import SVC\n",
    "from sklearn.model_selection import GridSearchCV\n",
    "import time \n",
    "s_time=time.time()\n",
    "param_grid = [{'C':[2.5, 5, 7.5, 10], 'gamma':[65, 70,75,80,85], 'kernel':['rbf']}]\n",
    "grid = GridSearchCV(SVC(), param_grid, verbose=10)\n",
    "grid.fit(X_lda.numpy(), y_train_m)\n",
    "y_pred = grid.predict(X_test_lda.numpy())\n",
    "f_time = time.time()\n",
    "print(f'Durratio: {f_time-s_time}')\n",
    "best_params = grid.best_params_\n",
    "print(best_params)"
   ]
  },
  {
   "cell_type": "code",
   "execution_count": 289,
   "metadata": {},
   "outputs": [
    {
     "name": "stdout",
     "output_type": "stream",
     "text": [
      "Accuracy: 0.374\n"
     ]
    }
   ],
   "source": [
    "from sklearn import metrics\n",
    "print(f'Accuracy: {metrics.accuracy_score(y_true=y_test, y_pred = y_pred)}')"
   ]
  },
  {
   "cell_type": "markdown",
   "metadata": {},
   "source": [
    "### for me "
   ]
  },
  {
   "cell_type": "code",
   "execution_count": 126,
   "metadata": {},
   "outputs": [],
   "source": [
    "from sklearn.decomposition import KernelPCA\n",
    "transformer = KernelPCA(n_components=3072, kernel='rbf', gamma=g, remove_zero_eig=True)#, gamma=a\n",
    "X_transformed = transformer.fit_transform(x_train_m)"
   ]
  },
  {
   "cell_type": "code",
   "execution_count": 127,
   "metadata": {},
   "outputs": [],
   "source": [
    "eigenvalues = transformer.eigenvalues_\n",
    "explained_variance = eigenvalues / eigenvalues.sum()\n",
    "explained_variance_ratio = explained_variance / np.sum(explained_variance)\n",
    "cumulative_explained_variance = np.cumsum(explained_variance)"
   ]
  },
  {
   "cell_type": "code",
   "execution_count": 128,
   "metadata": {},
   "outputs": [
    {
     "data": {
      "image/png": "[encoded data removed]",
      "text/plain": [
       "<Figure size 640x480 with 1 Axes>"
      ]
     },
     "metadata": {},
     "output_type": "display_data"
    },
    {
     "data": {
      "text/plain": [
       "None"
      ]
     },
     "metadata": {},
     "output_type": "display_data"
    }
   ],
   "source": [
    "import seaborn as sns\n",
    "import matplotlib.pyplot as plt\n",
    "\n",
    "sns.set_theme(style='whitegrid')\n",
    "plt.plot(np.cumsum(explained_variance))\n",
    "plt.xlabel('num of components')\n",
    "plt.ylabel('cumulative explained variance')\n",
    "display(plt.show())"
   ]
  },
  {
   "cell_type": "code",
   "execution_count": 129,
   "metadata": {},
   "outputs": [],
   "source": [
    "import pandas as pd\n",
    "\n",
    "evr = explained_variance\n",
    "crv = np.cumsum(explained_variance)\n",
    "kpca_df  = pd.DataFrame()\n",
    "kpca_df['cumsum_explained_var'] = crv\n",
    "kpca_df['explainde_var_ratio'] = evr"
   ]
  },
  {
   "cell_type": "code",
   "execution_count": 130,
   "metadata": {},
   "outputs": [
    {
     "name": "stdout",
     "output_type": "stream",
     "text": [
      "Indexes where cumsum_explained_var > 0.95: [667, 668, 669, 670, 671, 672, 673, 674, 675, 676, 677, 678, 679, 680, 681, 682, 683, 684, 685, 686, 687, 688, 689, 690, 691, 692, 693, 694, 695, 696, 697, 698, 699, 700, 701, 702, 703, 704, 705, 706, 707, 708, 709, 710, 711, 712, 713, 714, 715, 716, 717, 718, 719, 720, 721, 722, 723, 724, 725, 726, 727, 728, 729, 730, 731, 732, 733, 734, 735, 736, 737, 738, 739, 740, 741, 742, 743, 744, 745, 746, 747, 748, 749, 750, 751, 752, 753, 754, 755, 756, 757, 758, 759, 760, 761, 762, 763, 764, 765, 766, 767, 768, 769, 770, 771, 772, 773, 774, 775, 776, 777, 778, 779, 780, 781, 782, 783, 784, 785, 786, 787, 788, 789, 790, 791, 792, 793, 794, 795, 796, 797, 798, 799, 800, 801, 802, 803, 804, 805, 806, 807, 808, 809, 810, 811, 812, 813, 814, 815, 816, 817, 818, 819, 820, 821, 822, 823, 824, 825, 826, 827, 828, 829, 830, 831, 832, 833, 834, 835, 836, 837, 838, 839, 840, 841, 842, 843, 844, 845, 846, 847, 848, 849, 850, 851, 852, 853, 854, 855, 856, 857, 858, 859, 860, 861, 862, 863, 864, 865, 866, 867, 868, 869, 870, 871, 872, 873, 874, 875, 876, 877, 878, 879, 880, 881, 882, 883, 884, 885, 886, 887, 888, 889, 890, 891, 892, 893, 894, 895, 896, 897, 898, 899, 900, 901, 902, 903, 904, 905, 906, 907, 908, 909, 910, 911, 912, 913, 914, 915, 916, 917, 918, 919, 920, 921, 922, 923, 924, 925, 926, 927, 928, 929, 930, 931, 932, 933, 934, 935, 936, 937, 938, 939, 940, 941, 942, 943, 944, 945, 946, 947, 948, 949, 950, 951, 952, 953, 954, 955, 956, 957, 958, 959, 960, 961, 962, 963, 964, 965, 966, 967, 968, 969, 970, 971, 972, 973, 974, 975, 976, 977, 978, 979, 980, 981, 982, 983, 984, 985, 986, 987, 988, 989, 990, 991, 992, 993, 994, 995, 996, 997, 998, 999, 1000, 1001, 1002, 1003, 1004, 1005, 1006, 1007, 1008, 1009, 1010, 1011, 1012, 1013, 1014, 1015, 1016, 1017, 1018, 1019, 1020, 1021, 1022, 1023, 1024, 1025, 1026, 1027, 1028, 1029, 1030, 1031, 1032, 1033, 1034, 1035, 1036, 1037, 1038, 1039, 1040, 1041, 1042, 1043, 1044, 1045, 1046, 1047, 1048, 1049, 1050, 1051, 1052, 1053, 1054, 1055, 1056, 1057, 1058, 1059, 1060, 1061, 1062, 1063, 1064, 1065, 1066, 1067, 1068, 1069, 1070, 1071, 1072, 1073, 1074, 1075, 1076, 1077, 1078, 1079, 1080, 1081, 1082, 1083, 1084, 1085, 1086, 1087, 1088, 1089, 1090, 1091, 1092, 1093, 1094, 1095, 1096, 1097, 1098, 1099, 1100, 1101, 1102, 1103, 1104, 1105, 1106, 1107, 1108, 1109, 1110, 1111, 1112, 1113, 1114, 1115, 1116, 1117, 1118, 1119, 1120, 1121, 1122, 1123, 1124, 1125, 1126, 1127, 1128, 1129, 1130, 1131, 1132, 1133, 1134, 1135, 1136, 1137, 1138, 1139, 1140, 1141, 1142, 1143, 1144, 1145, 1146, 1147, 1148, 1149, 1150, 1151, 1152, 1153, 1154, 1155, 1156, 1157, 1158, 1159, 1160, 1161, 1162, 1163, 1164, 1165, 1166, 1167, 1168, 1169, 1170, 1171, 1172, 1173, 1174, 1175, 1176, 1177, 1178, 1179, 1180, 1181, 1182, 1183, 1184, 1185, 1186, 1187, 1188, 1189, 1190, 1191, 1192, 1193, 1194, 1195, 1196, 1197, 1198, 1199, 1200, 1201, 1202, 1203, 1204, 1205, 1206, 1207, 1208, 1209, 1210, 1211, 1212, 1213, 1214, 1215, 1216, 1217, 1218, 1219, 1220, 1221, 1222, 1223, 1224, 1225, 1226, 1227, 1228, 1229, 1230, 1231, 1232, 1233, 1234, 1235, 1236, 1237, 1238, 1239, 1240, 1241, 1242, 1243, 1244, 1245, 1246, 1247, 1248, 1249, 1250, 1251, 1252, 1253, 1254, 1255, 1256, 1257, 1258, 1259, 1260, 1261, 1262, 1263, 1264, 1265, 1266, 1267, 1268, 1269, 1270, 1271, 1272, 1273, 1274, 1275, 1276, 1277, 1278, 1279, 1280, 1281, 1282, 1283, 1284, 1285, 1286, 1287, 1288, 1289, 1290, 1291, 1292, 1293, 1294, 1295, 1296, 1297, 1298, 1299, 1300, 1301, 1302, 1303, 1304, 1305, 1306, 1307, 1308, 1309, 1310, 1311, 1312, 1313, 1314, 1315, 1316, 1317, 1318, 1319, 1320, 1321, 1322, 1323, 1324, 1325, 1326, 1327, 1328, 1329, 1330, 1331, 1332, 1333, 1334, 1335, 1336, 1337, 1338, 1339, 1340, 1341, 1342, 1343, 1344, 1345, 1346, 1347, 1348, 1349, 1350, 1351, 1352, 1353, 1354, 1355, 1356, 1357, 1358, 1359, 1360, 1361, 1362, 1363, 1364, 1365, 1366, 1367, 1368, 1369, 1370, 1371, 1372, 1373, 1374, 1375, 1376, 1377, 1378, 1379, 1380, 1381, 1382, 1383, 1384, 1385, 1386, 1387, 1388, 1389, 1390, 1391, 1392, 1393, 1394, 1395, 1396, 1397, 1398, 1399, 1400, 1401, 1402, 1403, 1404, 1405, 1406, 1407, 1408, 1409, 1410, 1411, 1412, 1413, 1414, 1415, 1416, 1417, 1418, 1419, 1420, 1421, 1422, 1423, 1424, 1425, 1426, 1427, 1428, 1429, 1430, 1431, 1432, 1433, 1434, 1435, 1436, 1437, 1438, 1439, 1440, 1441, 1442, 1443, 1444, 1445, 1446, 1447, 1448, 1449, 1450, 1451, 1452, 1453, 1454, 1455, 1456, 1457, 1458, 1459, 1460, 1461, 1462, 1463, 1464, 1465, 1466, 1467, 1468, 1469, 1470, 1471, 1472, 1473, 1474, 1475, 1476, 1477, 1478, 1479, 1480, 1481, 1482, 1483, 1484, 1485, 1486, 1487, 1488, 1489, 1490, 1491, 1492, 1493, 1494, 1495, 1496, 1497, 1498, 1499, 1500, 1501, 1502, 1503, 1504, 1505, 1506, 1507, 1508, 1509, 1510, 1511, 1512, 1513, 1514, 1515, 1516, 1517, 1518, 1519, 1520, 1521, 1522, 1523, 1524, 1525, 1526, 1527, 1528, 1529, 1530, 1531, 1532, 1533, 1534, 1535, 1536, 1537, 1538, 1539, 1540, 1541, 1542, 1543, 1544, 1545, 1546, 1547, 1548, 1549, 1550, 1551, 1552, 1553, 1554, 1555, 1556, 1557, 1558, 1559, 1560, 1561, 1562, 1563, 1564, 1565, 1566, 1567, 1568, 1569, 1570, 1571, 1572, 1573, 1574, 1575, 1576, 1577, 1578, 1579, 1580, 1581, 1582, 1583, 1584, 1585, 1586, 1587, 1588, 1589, 1590, 1591, 1592, 1593, 1594, 1595, 1596, 1597, 1598, 1599, 1600, 1601, 1602, 1603, 1604, 1605, 1606, 1607, 1608, 1609, 1610, 1611, 1612, 1613, 1614, 1615, 1616, 1617, 1618, 1619, 1620, 1621, 1622, 1623, 1624, 1625, 1626, 1627, 1628, 1629, 1630, 1631, 1632, 1633, 1634, 1635, 1636, 1637, 1638, 1639, 1640, 1641, 1642, 1643, 1644, 1645, 1646, 1647, 1648, 1649, 1650, 1651, 1652, 1653, 1654, 1655, 1656, 1657, 1658, 1659, 1660, 1661, 1662, 1663, 1664, 1665, 1666, 1667, 1668, 1669, 1670, 1671, 1672, 1673, 1674, 1675, 1676, 1677, 1678, 1679, 1680, 1681, 1682, 1683, 1684, 1685, 1686, 1687, 1688, 1689, 1690, 1691, 1692, 1693, 1694, 1695, 1696, 1697, 1698, 1699, 1700, 1701, 1702, 1703, 1704, 1705, 1706, 1707, 1708, 1709, 1710, 1711, 1712, 1713, 1714, 1715, 1716, 1717, 1718, 1719, 1720, 1721, 1722, 1723, 1724, 1725, 1726, 1727, 1728, 1729, 1730, 1731, 1732, 1733, 1734, 1735, 1736, 1737, 1738, 1739, 1740, 1741, 1742, 1743, 1744, 1745, 1746, 1747, 1748, 1749, 1750, 1751, 1752, 1753, 1754, 1755, 1756, 1757, 1758, 1759, 1760, 1761, 1762, 1763, 1764, 1765, 1766, 1767, 1768, 1769, 1770, 1771, 1772, 1773, 1774, 1775, 1776, 1777, 1778, 1779, 1780, 1781, 1782, 1783, 1784, 1785, 1786, 1787, 1788, 1789, 1790, 1791, 1792, 1793, 1794, 1795, 1796, 1797, 1798, 1799, 1800, 1801, 1802, 1803, 1804, 1805, 1806, 1807, 1808, 1809, 1810, 1811, 1812, 1813, 1814, 1815, 1816, 1817, 1818, 1819, 1820, 1821, 1822, 1823, 1824, 1825, 1826, 1827, 1828, 1829, 1830, 1831, 1832, 1833, 1834, 1835, 1836, 1837, 1838, 1839, 1840, 1841, 1842, 1843, 1844, 1845, 1846, 1847, 1848, 1849, 1850, 1851, 1852, 1853, 1854, 1855, 1856, 1857, 1858, 1859, 1860, 1861, 1862, 1863, 1864, 1865, 1866, 1867, 1868, 1869, 1870, 1871, 1872, 1873, 1874, 1875, 1876, 1877, 1878, 1879, 1880, 1881, 1882, 1883, 1884, 1885, 1886, 1887, 1888, 1889, 1890, 1891, 1892, 1893, 1894, 1895, 1896, 1897, 1898, 1899, 1900, 1901, 1902, 1903, 1904, 1905, 1906, 1907, 1908, 1909, 1910, 1911, 1912, 1913, 1914, 1915, 1916, 1917, 1918, 1919, 1920, 1921, 1922, 1923, 1924, 1925, 1926, 1927, 1928, 1929, 1930, 1931, 1932, 1933, 1934, 1935, 1936, 1937, 1938, 1939, 1940, 1941, 1942, 1943, 1944, 1945, 1946, 1947, 1948, 1949, 1950, 1951, 1952, 1953, 1954, 1955, 1956, 1957, 1958, 1959, 1960, 1961, 1962, 1963, 1964, 1965, 1966, 1967, 1968, 1969, 1970, 1971, 1972, 1973, 1974, 1975, 1976, 1977, 1978, 1979, 1980, 1981, 1982, 1983, 1984, 1985, 1986, 1987, 1988, 1989, 1990, 1991, 1992, 1993, 1994, 1995, 1996, 1997, 1998, 1999, 2000, 2001, 2002, 2003, 2004, 2005, 2006, 2007, 2008, 2009, 2010, 2011, 2012, 2013, 2014, 2015, 2016, 2017, 2018, 2019, 2020, 2021, 2022, 2023, 2024, 2025, 2026, 2027, 2028, 2029, 2030, 2031, 2032, 2033, 2034, 2035, 2036, 2037, 2038, 2039, 2040, 2041, 2042, 2043, 2044, 2045, 2046, 2047, 2048, 2049, 2050, 2051, 2052, 2053, 2054, 2055, 2056, 2057, 2058, 2059, 2060, 2061, 2062, 2063, 2064, 2065, 2066, 2067, 2068, 2069, 2070, 2071, 2072, 2073, 2074, 2075, 2076, 2077, 2078, 2079, 2080, 2081, 2082, 2083, 2084, 2085, 2086, 2087, 2088, 2089, 2090, 2091, 2092, 2093, 2094, 2095, 2096, 2097, 2098, 2099, 2100, 2101, 2102, 2103, 2104, 2105, 2106, 2107, 2108, 2109, 2110, 2111, 2112, 2113, 2114, 2115, 2116, 2117, 2118, 2119, 2120, 2121, 2122, 2123, 2124, 2125, 2126, 2127, 2128, 2129, 2130, 2131, 2132, 2133, 2134, 2135, 2136, 2137, 2138, 2139, 2140, 2141, 2142, 2143, 2144, 2145, 2146, 2147, 2148, 2149, 2150, 2151, 2152, 2153, 2154, 2155, 2156, 2157, 2158, 2159, 2160, 2161, 2162, 2163, 2164, 2165, 2166, 2167, 2168, 2169, 2170, 2171, 2172, 2173, 2174, 2175, 2176, 2177, 2178, 2179, 2180, 2181, 2182, 2183, 2184, 2185, 2186, 2187, 2188, 2189, 2190, 2191, 2192, 2193, 2194, 2195, 2196, 2197, 2198, 2199, 2200, 2201, 2202, 2203, 2204, 2205, 2206, 2207, 2208, 2209, 2210, 2211, 2212, 2213, 2214, 2215, 2216, 2217, 2218, 2219, 2220, 2221, 2222, 2223, 2224, 2225, 2226, 2227, 2228, 2229, 2230, 2231, 2232, 2233, 2234, 2235, 2236, 2237, 2238, 2239, 2240, 2241, 2242, 2243, 2244, 2245, 2246, 2247, 2248, 2249, 2250, 2251, 2252, 2253, 2254, 2255, 2256, 2257, 2258, 2259, 2260, 2261, 2262, 2263, 2264, 2265, 2266, 2267, 2268, 2269, 2270, 2271, 2272, 2273, 2274, 2275, 2276, 2277, 2278, 2279, 2280, 2281, 2282, 2283, 2284, 2285, 2286, 2287, 2288, 2289, 2290, 2291, 2292, 2293, 2294, 2295, 2296, 2297, 2298, 2299, 2300, 2301, 2302, 2303, 2304, 2305, 2306, 2307, 2308, 2309, 2310, 2311, 2312, 2313, 2314, 2315, 2316, 2317, 2318, 2319, 2320, 2321, 2322, 2323, 2324, 2325, 2326, 2327, 2328, 2329, 2330, 2331, 2332, 2333, 2334, 2335, 2336, 2337, 2338, 2339, 2340, 2341, 2342, 2343, 2344, 2345, 2346, 2347, 2348, 2349, 2350, 2351, 2352, 2353, 2354, 2355, 2356, 2357, 2358, 2359, 2360, 2361, 2362, 2363, 2364, 2365, 2366, 2367, 2368, 2369, 2370, 2371, 2372, 2373, 2374, 2375, 2376, 2377, 2378, 2379, 2380, 2381, 2382, 2383, 2384, 2385, 2386, 2387, 2388, 2389, 2390, 2391, 2392, 2393, 2394, 2395, 2396, 2397, 2398, 2399, 2400, 2401, 2402, 2403, 2404, 2405, 2406, 2407, 2408, 2409, 2410, 2411, 2412, 2413, 2414, 2415, 2416, 2417, 2418, 2419, 2420, 2421, 2422, 2423, 2424, 2425, 2426, 2427, 2428, 2429, 2430, 2431, 2432, 2433, 2434, 2435, 2436, 2437, 2438, 2439, 2440, 2441, 2442, 2443, 2444, 2445, 2446, 2447, 2448, 2449, 2450, 2451, 2452, 2453, 2454, 2455, 2456, 2457, 2458, 2459, 2460, 2461, 2462, 2463, 2464, 2465, 2466, 2467, 2468, 2469, 2470, 2471, 2472, 2473, 2474, 2475, 2476, 2477, 2478, 2479, 2480, 2481, 2482, 2483, 2484, 2485, 2486, 2487, 2488, 2489, 2490, 2491, 2492, 2493, 2494, 2495, 2496, 2497, 2498, 2499, 2500, 2501, 2502, 2503, 2504, 2505, 2506, 2507, 2508, 2509, 2510, 2511, 2512, 2513, 2514, 2515, 2516, 2517, 2518, 2519, 2520, 2521, 2522, 2523, 2524, 2525, 2526, 2527, 2528, 2529, 2530, 2531, 2532, 2533, 2534, 2535, 2536, 2537, 2538, 2539, 2540, 2541, 2542, 2543, 2544, 2545, 2546, 2547, 2548, 2549, 2550, 2551, 2552, 2553, 2554, 2555, 2556, 2557, 2558, 2559, 2560, 2561, 2562, 2563, 2564, 2565, 2566, 2567, 2568, 2569, 2570, 2571, 2572, 2573, 2574, 2575, 2576, 2577, 2578, 2579, 2580, 2581, 2582, 2583, 2584, 2585, 2586, 2587, 2588, 2589, 2590, 2591, 2592, 2593, 2594, 2595, 2596, 2597, 2598, 2599, 2600, 2601, 2602, 2603, 2604, 2605, 2606, 2607, 2608, 2609, 2610, 2611, 2612, 2613, 2614, 2615, 2616, 2617, 2618, 2619, 2620, 2621, 2622, 2623, 2624, 2625, 2626, 2627, 2628, 2629, 2630, 2631, 2632, 2633, 2634, 2635, 2636, 2637, 2638, 2639, 2640, 2641, 2642, 2643, 2644, 2645, 2646, 2647, 2648, 2649, 2650, 2651, 2652, 2653, 2654, 2655, 2656, 2657, 2658, 2659, 2660, 2661, 2662, 2663, 2664, 2665, 2666, 2667, 2668, 2669, 2670, 2671, 2672, 2673, 2674, 2675, 2676, 2677, 2678, 2679, 2680, 2681, 2682, 2683, 2684, 2685, 2686, 2687, 2688, 2689, 2690, 2691, 2692, 2693, 2694, 2695, 2696, 2697, 2698, 2699, 2700, 2701, 2702, 2703, 2704, 2705, 2706, 2707, 2708, 2709, 2710, 2711, 2712, 2713, 2714, 2715, 2716, 2717, 2718, 2719, 2720, 2721, 2722, 2723, 2724, 2725, 2726, 2727, 2728, 2729, 2730, 2731, 2732, 2733, 2734, 2735, 2736, 2737, 2738, 2739, 2740, 2741, 2742, 2743, 2744, 2745, 2746, 2747, 2748, 2749, 2750, 2751, 2752, 2753, 2754, 2755, 2756, 2757, 2758, 2759, 2760, 2761, 2762, 2763, 2764, 2765, 2766, 2767, 2768, 2769, 2770, 2771, 2772, 2773, 2774, 2775, 2776, 2777, 2778, 2779, 2780, 2781, 2782, 2783, 2784, 2785, 2786, 2787, 2788, 2789, 2790, 2791, 2792, 2793, 2794, 2795, 2796, 2797, 2798, 2799, 2800, 2801, 2802, 2803, 2804, 2805, 2806, 2807, 2808, 2809, 2810, 2811, 2812, 2813, 2814, 2815, 2816, 2817, 2818, 2819, 2820, 2821, 2822, 2823, 2824, 2825, 2826, 2827, 2828, 2829, 2830, 2831, 2832, 2833, 2834, 2835, 2836, 2837, 2838, 2839, 2840, 2841, 2842, 2843, 2844, 2845, 2846, 2847, 2848, 2849, 2850, 2851, 2852, 2853, 2854, 2855, 2856, 2857, 2858, 2859, 2860, 2861, 2862, 2863, 2864, 2865, 2866, 2867, 2868, 2869, 2870, 2871, 2872, 2873, 2874, 2875, 2876, 2877, 2878, 2879, 2880, 2881, 2882, 2883, 2884, 2885, 2886, 2887, 2888, 2889, 2890, 2891, 2892, 2893, 2894, 2895, 2896, 2897, 2898, 2899, 2900, 2901, 2902, 2903, 2904, 2905, 2906, 2907, 2908, 2909, 2910, 2911, 2912, 2913, 2914, 2915, 2916, 2917, 2918, 2919, 2920, 2921, 2922, 2923, 2924, 2925, 2926, 2927, 2928, 2929, 2930, 2931, 2932, 2933, 2934, 2935, 2936, 2937, 2938, 2939, 2940, 2941, 2942, 2943, 2944, 2945, 2946, 2947, 2948, 2949, 2950, 2951, 2952, 2953, 2954, 2955, 2956, 2957, 2958, 2959, 2960, 2961, 2962, 2963, 2964, 2965, 2966, 2967, 2968, 2969, 2970, 2971, 2972, 2973, 2974, 2975, 2976, 2977, 2978, 2979, 2980, 2981, 2982, 2983, 2984, 2985, 2986, 2987, 2988, 2989, 2990, 2991, 2992, 2993, 2994, 2995, 2996, 2997, 2998, 2999, 3000, 3001, 3002, 3003, 3004, 3005, 3006, 3007, 3008, 3009, 3010, 3011, 3012, 3013, 3014, 3015, 3016, 3017, 3018, 3019, 3020, 3021, 3022, 3023, 3024, 3025, 3026, 3027, 3028, 3029, 3030, 3031, 3032, 3033, 3034, 3035, 3036, 3037, 3038, 3039, 3040, 3041, 3042, 3043, 3044, 3045, 3046, 3047, 3048, 3049, 3050, 3051, 3052, 3053, 3054, 3055, 3056, 3057, 3058, 3059, 3060, 3061, 3062, 3063, 3064, 3065, 3066, 3067, 3068, 3069, 3070, 3071]\n"
     ]
    }
   ],
   "source": [
    "# Get the indexes where cumsum_explained_var > 0.95\n",
    "indexes = kpca_df[kpca_df['cumsum_explained_var'] > 0.95].index.tolist()\n",
    "\n",
    "print(\"Indexes where cumsum_explained_var > 0.95:\", indexes)"
   ]
  },
  {
   "cell_type": "code",
   "execution_count": 131,
   "metadata": {},
   "outputs": [
    {
     "name": "stdout",
     "output_type": "stream",
     "text": [
      "Indexes where cumsum_explained_var > 0.95: [1984, 1985, 1986, 1987, 1988, 1989, 1990, 1991, 1992, 1993, 1994, 1995, 1996, 1997, 1998, 1999, 2000, 2001, 2002, 2003, 2004, 2005, 2006, 2007, 2008, 2009, 2010, 2011, 2012, 2013, 2014, 2015, 2016, 2017, 2018, 2019, 2020, 2021, 2022, 2023, 2024, 2025, 2026, 2027, 2028, 2029, 2030, 2031, 2032, 2033, 2034, 2035, 2036, 2037, 2038, 2039, 2040, 2041, 2042, 2043, 2044, 2045, 2046, 2047, 2048, 2049, 2050, 2051, 2052, 2053, 2054, 2055, 2056, 2057, 2058, 2059, 2060, 2061, 2062, 2063, 2064, 2065, 2066, 2067, 2068, 2069, 2070, 2071, 2072, 2073, 2074, 2075, 2076, 2077, 2078, 2079, 2080, 2081, 2082, 2083, 2084, 2085, 2086, 2087, 2088, 2089, 2090, 2091, 2092, 2093, 2094, 2095, 2096, 2097, 2098, 2099, 2100, 2101, 2102, 2103, 2104, 2105, 2106, 2107, 2108, 2109, 2110, 2111, 2112, 2113, 2114, 2115, 2116, 2117, 2118, 2119, 2120, 2121, 2122, 2123, 2124, 2125, 2126, 2127, 2128, 2129, 2130, 2131, 2132, 2133, 2134, 2135, 2136, 2137, 2138, 2139, 2140, 2141, 2142, 2143, 2144, 2145, 2146, 2147, 2148, 2149, 2150, 2151, 2152, 2153, 2154, 2155, 2156, 2157, 2158, 2159, 2160, 2161, 2162, 2163, 2164, 2165, 2166, 2167, 2168, 2169, 2170, 2171, 2172, 2173, 2174, 2175, 2176, 2177, 2178, 2179, 2180, 2181, 2182, 2183, 2184, 2185, 2186, 2187, 2188, 2189, 2190, 2191, 2192, 2193, 2194, 2195, 2196, 2197, 2198, 2199, 2200, 2201, 2202, 2203, 2204, 2205, 2206, 2207, 2208, 2209, 2210, 2211, 2212, 2213, 2214, 2215, 2216, 2217, 2218, 2219, 2220, 2221, 2222, 2223, 2224, 2225, 2226, 2227, 2228, 2229, 2230, 2231, 2232, 2233, 2234, 2235, 2236, 2237, 2238, 2239, 2240, 2241, 2242, 2243, 2244, 2245, 2246, 2247, 2248, 2249, 2250, 2251, 2252, 2253, 2254, 2255, 2256, 2257, 2258, 2259, 2260, 2261, 2262, 2263, 2264, 2265, 2266, 2267, 2268, 2269, 2270, 2271, 2272, 2273, 2274, 2275, 2276, 2277, 2278, 2279, 2280, 2281, 2282, 2283, 2284, 2285, 2286, 2287, 2288, 2289, 2290, 2291, 2292, 2293, 2294, 2295, 2296, 2297, 2298, 2299, 2300, 2301, 2302, 2303, 2304, 2305, 2306, 2307, 2308, 2309, 2310, 2311, 2312, 2313, 2314, 2315, 2316, 2317, 2318, 2319, 2320, 2321, 2322, 2323, 2324, 2325, 2326, 2327, 2328, 2329, 2330, 2331, 2332, 2333, 2334, 2335, 2336, 2337, 2338, 2339, 2340, 2341, 2342, 2343, 2344, 2345, 2346, 2347, 2348, 2349, 2350, 2351, 2352, 2353, 2354, 2355, 2356, 2357, 2358, 2359, 2360, 2361, 2362, 2363, 2364, 2365, 2366, 2367, 2368, 2369, 2370, 2371, 2372, 2373, 2374, 2375, 2376, 2377, 2378, 2379, 2380, 2381, 2382, 2383, 2384, 2385, 2386, 2387, 2388, 2389, 2390, 2391, 2392, 2393, 2394, 2395, 2396, 2397, 2398, 2399, 2400, 2401, 2402, 2403, 2404, 2405, 2406, 2407, 2408, 2409, 2410, 2411, 2412, 2413, 2414, 2415, 2416, 2417, 2418, 2419, 2420, 2421, 2422, 2423, 2424, 2425, 2426, 2427, 2428, 2429, 2430, 2431, 2432, 2433, 2434, 2435, 2436, 2437, 2438, 2439, 2440, 2441, 2442, 2443, 2444, 2445, 2446, 2447, 2448, 2449, 2450, 2451, 2452, 2453, 2454, 2455, 2456, 2457, 2458, 2459, 2460, 2461, 2462, 2463, 2464, 2465, 2466, 2467, 2468, 2469, 2470, 2471, 2472, 2473, 2474, 2475, 2476, 2477, 2478, 2479, 2480, 2481, 2482, 2483, 2484, 2485, 2486, 2487, 2488, 2489, 2490, 2491, 2492, 2493, 2494, 2495, 2496, 2497, 2498, 2499, 2500, 2501, 2502, 2503, 2504, 2505, 2506, 2507, 2508, 2509, 2510, 2511, 2512, 2513, 2514, 2515, 2516, 2517, 2518, 2519, 2520, 2521, 2522, 2523, 2524, 2525, 2526, 2527, 2528, 2529, 2530, 2531, 2532, 2533, 2534, 2535, 2536, 2537, 2538, 2539, 2540, 2541, 2542, 2543, 2544, 2545, 2546, 2547, 2548, 2549, 2550, 2551, 2552, 2553, 2554, 2555, 2556, 2557, 2558, 2559, 2560, 2561, 2562, 2563, 2564, 2565, 2566, 2567, 2568, 2569, 2570, 2571, 2572, 2573, 2574, 2575, 2576, 2577, 2578, 2579, 2580, 2581, 2582, 2583, 2584, 2585, 2586, 2587, 2588, 2589, 2590, 2591, 2592, 2593, 2594, 2595, 2596, 2597, 2598, 2599, 2600, 2601, 2602, 2603, 2604, 2605, 2606, 2607, 2608, 2609, 2610, 2611, 2612, 2613, 2614, 2615, 2616, 2617, 2618, 2619, 2620, 2621, 2622, 2623, 2624, 2625, 2626, 2627, 2628, 2629, 2630, 2631, 2632, 2633, 2634, 2635, 2636, 2637, 2638, 2639, 2640, 2641, 2642, 2643, 2644, 2645, 2646, 2647, 2648, 2649, 2650, 2651, 2652, 2653, 2654, 2655, 2656, 2657, 2658, 2659, 2660, 2661, 2662, 2663, 2664, 2665, 2666, 2667, 2668, 2669, 2670, 2671, 2672, 2673, 2674, 2675, 2676, 2677, 2678, 2679, 2680, 2681, 2682, 2683, 2684, 2685, 2686, 2687, 2688, 2689, 2690, 2691, 2692, 2693, 2694, 2695, 2696, 2697, 2698, 2699, 2700, 2701, 2702, 2703, 2704, 2705, 2706, 2707, 2708, 2709, 2710, 2711, 2712, 2713, 2714, 2715, 2716, 2717, 2718, 2719, 2720, 2721, 2722, 2723, 2724, 2725, 2726, 2727, 2728, 2729, 2730, 2731, 2732, 2733, 2734, 2735, 2736, 2737, 2738, 2739, 2740, 2741, 2742, 2743, 2744, 2745, 2746, 2747, 2748, 2749, 2750, 2751, 2752, 2753, 2754, 2755, 2756, 2757, 2758, 2759, 2760, 2761, 2762, 2763, 2764, 2765, 2766, 2767, 2768, 2769, 2770, 2771, 2772, 2773, 2774, 2775, 2776, 2777, 2778, 2779, 2780, 2781, 2782, 2783, 2784, 2785, 2786, 2787, 2788, 2789, 2790, 2791, 2792, 2793, 2794, 2795, 2796, 2797, 2798, 2799, 2800, 2801, 2802, 2803, 2804, 2805, 2806, 2807, 2808, 2809, 2810, 2811, 2812, 2813, 2814, 2815, 2816, 2817, 2818, 2819, 2820, 2821, 2822, 2823, 2824, 2825, 2826, 2827, 2828, 2829, 2830, 2831, 2832, 2833, 2834, 2835, 2836, 2837, 2838, 2839, 2840, 2841, 2842, 2843, 2844, 2845, 2846, 2847, 2848, 2849, 2850, 2851, 2852, 2853, 2854, 2855, 2856, 2857, 2858, 2859, 2860, 2861, 2862, 2863, 2864, 2865, 2866, 2867, 2868, 2869, 2870, 2871, 2872, 2873, 2874, 2875, 2876, 2877, 2878, 2879, 2880, 2881, 2882, 2883, 2884, 2885, 2886, 2887, 2888, 2889, 2890, 2891, 2892, 2893, 2894, 2895, 2896, 2897, 2898, 2899, 2900, 2901, 2902, 2903, 2904, 2905, 2906, 2907, 2908, 2909, 2910, 2911, 2912, 2913, 2914, 2915, 2916, 2917, 2918, 2919, 2920, 2921, 2922, 2923, 2924, 2925, 2926, 2927, 2928, 2929, 2930, 2931, 2932, 2933, 2934, 2935, 2936, 2937, 2938, 2939, 2940, 2941, 2942, 2943, 2944, 2945, 2946, 2947, 2948, 2949, 2950, 2951, 2952, 2953, 2954, 2955, 2956, 2957, 2958, 2959, 2960, 2961, 2962, 2963, 2964, 2965, 2966, 2967, 2968, 2969, 2970, 2971, 2972, 2973, 2974, 2975, 2976, 2977, 2978, 2979, 2980, 2981, 2982, 2983, 2984, 2985, 2986, 2987, 2988, 2989, 2990, 2991, 2992, 2993, 2994, 2995, 2996, 2997, 2998, 2999, 3000, 3001, 3002, 3003, 3004, 3005, 3006, 3007, 3008, 3009, 3010, 3011, 3012, 3013, 3014, 3015, 3016, 3017, 3018, 3019, 3020, 3021, 3022, 3023, 3024, 3025, 3026, 3027, 3028, 3029, 3030, 3031, 3032, 3033, 3034, 3035, 3036, 3037, 3038, 3039, 3040, 3041, 3042, 3043, 3044, 3045, 3046, 3047, 3048, 3049, 3050, 3051, 3052, 3053, 3054, 3055, 3056, 3057, 3058, 3059, 3060, 3061, 3062, 3063, 3064, 3065, 3066, 3067, 3068, 3069, 3070, 3071]\n"
     ]
    }
   ],
   "source": [
    "# Get the indexes where cumsum_explained_var > 0.99\n",
    "indexes = kpca_df[kpca_df['cumsum_explained_var'] > 0.99].index.tolist()\n",
    "\n",
    "print(\"Indexes where cumsum_explained_var > 0.95:\", indexes)"
   ]
  },
  {
   "cell_type": "code",
   "execution_count": 132,
   "metadata": {},
   "outputs": [
    {
     "name": "stdout",
     "output_type": "stream",
     "text": [
      "(5000, 2915) (1000, 2915)\n"
     ]
    }
   ],
   "source": [
    "from sklearn.decomposition import KernelPCA\n",
    "transformer = KernelPCA(n_components=2915, kernel='rbf', gamma=g)#, gamma=a\n",
    "X_transformed = transformer.fit_transform(x_train_m)\n",
    "X_test_kpca = transformer.transform(x_test)\n",
    "print(X_transformed.shape, X_test_kpca.shape)"
   ]
  },
  {
   "cell_type": "code",
   "execution_count": 133,
   "metadata": {},
   "outputs": [
    {
     "name": "stdout",
     "output_type": "stream",
     "text": [
      "Accuracy for Nearset Centroid is, acc = 29.5\n"
     ]
    }
   ],
   "source": [
    "from sklearn.neighbors import NearestCentroid\n",
    "\n",
    "clf = NearestCentroid()\n",
    "clf.fit(X_transformed, y_train_m)\n",
    "# print(f'Nearset Centroid training time: {f_t - s_t} sec')\n",
    "\n",
    "score = clf.score(X_test_kpca, y_test)\n",
    "# print(f'Nearset Centroid test time: {f_t - s_t} sec')\n",
    "\n",
    "print(f'Accuracy for Nearset Centroid is, acc = {round(score*100,2)}')"
   ]
  }
 ],
 "metadata": {
  "kernelspec": {
   "display_name": "Python 3",
   "language": "python",
   "name": "python3"
  },
  "language_info": {
   "codemirror_mode": {
    "name": "ipython",
    "version": 3
   },
   "file_extension": ".py",
   "mimetype": "text/x-python",
   "name": "python",
   "nbconvert_exporter": "python",
   "pygments_lexer": "ipython3",
   "version": "3.12.7"
  }
 },
 "nbformat": 4,
 "nbformat_minor": 2
}
